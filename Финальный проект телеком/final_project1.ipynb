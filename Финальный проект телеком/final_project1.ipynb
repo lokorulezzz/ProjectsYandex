{
 "cells": [
  {
   "cell_type": "markdown",
   "metadata": {},
   "source": [
    "Ссылка на дашборд\n",
    "https://public.tableau.com/app/profile/vitaliy5851/viz/_16394746596770/Dashboard1"
   ]
  },
  {
   "cell_type": "markdown",
   "metadata": {},
   "source": [
    "Ссылка на презентацию\n",
    "https://disk.yandex.ru/i/tM3clYluEGd3PA"
   ]
  },
  {
   "cell_type": "markdown",
   "metadata": {},
   "source": [
    "\n",
    "# Исследование на тему: \"Определение неэффективных операторов\""
   ]
  },
  {
   "cell_type": "markdown",
   "metadata": {},
   "source": [
    "Заказчиком данного исследования является компания \"Нупозвони\". Компания предоставляет услуги колл-центра. У каждого клиента есть какое-то количество операторов, которые занимаются обзвоном (входящие, исходящие либо смешанные звонки). Необходимо найти самых неэффективных операторов. Признаки низкой эффективности:\n",
    "\n",
    "- много пропущенных входящих вызовов,\n",
    "- долгое ожидание ответа при входящих внешних вызовах,\n",
    "- мало исходящих вызовов — в случае тех колл-центров, что специализируются на обзвонах, а не обработке входящих звонков."
   ]
  },
  {
   "cell_type": "markdown",
   "metadata": {},
   "source": [
    "**Цель исследования:**\n",
    "\n",
    "Определение неэффективных операторов и создание алгоритма для дальнейшей работы."
   ]
  },
  {
   "cell_type": "markdown",
   "metadata": {},
   "source": [
    "**Описание данных:**\n",
    "\n",
    "Датасеты описывают использование услуг «Нупозвони» — провайдера виртуальный телефонии. Его клиенты — колл-центры, которые: \n",
    "\n",
    "- распределяют входящие вызовы на операторов,\n",
    "- совершают исходящие вызовы силами операторов.\n",
    "\n",
    "Также операторы могут делать внутренние вызовы —  вызовы друг между другом внутри сети виртуальной телефонии.\n",
    "\n",
    "Колонки в `telecom_dataset.csv.zip`:\n",
    "\n",
    "- `user_id` — Идентификатор клиентского аккаунта в сервисе\n",
    "- `date` — Дата статистики\n",
    "- `direction` — Направление вызовов (out - исходящий вызов, in — входящий вызов)\n",
    "- `internal` — Является ли звонок внутренним звонком между операторами клиента\n",
    "- `operator_id` — Идентификатор оператора\n",
    "- `is_missed_call` — Является ли звонок пропущенным\n",
    "- `calls_count` — Количество звонков\n",
    "- `call_duration` — Длительность звонка (без учета времени ожидания)\n",
    "- `total_call_duration` — Длительность звонка (с учетом времени ожидания)\n",
    "\n",
    "Колонки в `telecom_clients.csv`:\n",
    "\n",
    "- `user_id` — Идентификатор клиентского аккаунта в сервисе\n",
    "- `tariff_plan` — Текущий тарифный план клиента\n",
    "- `date_start` — Дата регистрации клиентов в сервисе"
   ]
  },
  {
   "cell_type": "markdown",
   "metadata": {},
   "source": [
    "Этапы проведения исследования"
   ]
  },
  {
   "cell_type": "markdown",
   "metadata": {},
   "source": [
    "1. Открытие файлов с данными и изучение общей информации\n",
    "2. Предобработка данных \n",
    "    * Предобработка датафрейма telecom_dataset(проверка на наличие пропусков, дубликатов, аномальных данных и т.д.);\n",
    "    * Предобработка датафрейма telecom_clients (проверка на наличие пропусков, дубликатов, аномальных данных и т.д.);\n",
    "    * Первые выводы на основании анализа вышеуказанных данных;\n",
    "3. Исследовательский анализ данных. Алгоритм выявления неэффективных операторов.\n",
    "    * Разделение колл-центров(специализация на входящих звонках, исходящих, либо на обоих типах);\n",
    "    * Проведение анализа нагрузки на операторов;\n",
    "    * Исследование работы операторов по признакам низкой эффективности:\n",
    "        * много пропущенных входящих вызовов;\n",
    "        * долгое ожидания ответа при входящих внешних вызовах;\n",
    "        * мало исходящих вывозов — в случае тех колл-центров, что специализируются на обзвонах, а не обработке входящих звонков;\n",
    "4. Определение клиетов(колл-центров), потенциально заинтересованных в получении результатов данного исследования.\n",
    "5. Формулирование и проверка статистических гипотез\n",
    "    * Гипотеза 1:\n",
    "    Н0: Время ожидания звонка зависит от тарифного плана;\n",
    "    Н1: Время ожидания звонка не зависит от тарифного плана.\n",
    "    * Гипотеза 2:\n",
    "    Н0: Среднее время ожидания ответа оператора равно среднему времени ожидания ответа абонента;\n",
    "    Н1: Среднее время ожидания ответа оператора не равно среднему времени ожидания ответа абонента.\n",
    "6. Выводы и рекомендации\n",
    "\n"
   ]
  },
  {
   "cell_type": "markdown",
   "metadata": {},
   "source": [
    "## Открытие файлов с данными и изучение общей информации"
   ]
  },
  {
   "cell_type": "markdown",
   "metadata": {},
   "source": [
    "Для начала выгрузим все необходимые нам библиотеки"
   ]
  },
  {
   "cell_type": "code",
   "execution_count": 1,
   "metadata": {},
   "outputs": [],
   "source": [
    "import pandas as pd\n",
    "import numpy as np\n",
    "import matplotlib.pyplot as plt\n",
    "import seaborn as sns\n",
    "import plotly.express as px\n",
    "import math as mth\n",
    "from datetime import datetime, time\n",
    "from matplotlib import pyplot as plt\n",
    "from plotly import graph_objects as go\n",
    "from scipy import stats as st\n",
    "from scipy.stats.mstats import mode\n",
    "import scipy\n",
    "\n",
    "import warnings\n",
    "warnings.filterwarnings('ignore')"
   ]
  },
  {
   "cell_type": "markdown",
   "metadata": {},
   "source": [
    "Далее загрузим данные"
   ]
  },
  {
   "cell_type": "code",
   "execution_count": 2,
   "metadata": {},
   "outputs": [],
   "source": [
    "telecom_clients = pd.read_csv('/datasets/telecom_clients.csv')\n",
    "telecom_dataset = pd.read_csv('/datasets/telecom_dataset.csv')"
   ]
  },
  {
   "cell_type": "markdown",
   "metadata": {},
   "source": [
    "Изучим информацию по каждому из датасетов"
   ]
  },
  {
   "cell_type": "code",
   "execution_count": 3,
   "metadata": {},
   "outputs": [
    {
     "data": {
      "text/html": [
       "<div>\n",
       "<style scoped>\n",
       "    .dataframe tbody tr th:only-of-type {\n",
       "        vertical-align: middle;\n",
       "    }\n",
       "\n",
       "    .dataframe tbody tr th {\n",
       "        vertical-align: top;\n",
       "    }\n",
       "\n",
       "    .dataframe thead th {\n",
       "        text-align: right;\n",
       "    }\n",
       "</style>\n",
       "<table border=\"1\" class=\"dataframe\">\n",
       "  <thead>\n",
       "    <tr style=\"text-align: right;\">\n",
       "      <th></th>\n",
       "      <th>user_id</th>\n",
       "      <th>tariff_plan</th>\n",
       "      <th>date_start</th>\n",
       "    </tr>\n",
       "  </thead>\n",
       "  <tbody>\n",
       "    <tr>\n",
       "      <td>0</td>\n",
       "      <td>166713</td>\n",
       "      <td>A</td>\n",
       "      <td>2019-08-15</td>\n",
       "    </tr>\n",
       "    <tr>\n",
       "      <td>1</td>\n",
       "      <td>166901</td>\n",
       "      <td>A</td>\n",
       "      <td>2019-08-23</td>\n",
       "    </tr>\n",
       "    <tr>\n",
       "      <td>2</td>\n",
       "      <td>168527</td>\n",
       "      <td>A</td>\n",
       "      <td>2019-10-29</td>\n",
       "    </tr>\n",
       "    <tr>\n",
       "      <td>3</td>\n",
       "      <td>167097</td>\n",
       "      <td>A</td>\n",
       "      <td>2019-09-01</td>\n",
       "    </tr>\n",
       "    <tr>\n",
       "      <td>4</td>\n",
       "      <td>168193</td>\n",
       "      <td>A</td>\n",
       "      <td>2019-10-16</td>\n",
       "    </tr>\n",
       "    <tr>\n",
       "      <td>...</td>\n",
       "      <td>...</td>\n",
       "      <td>...</td>\n",
       "      <td>...</td>\n",
       "    </tr>\n",
       "    <tr>\n",
       "      <td>727</td>\n",
       "      <td>166554</td>\n",
       "      <td>B</td>\n",
       "      <td>2019-08-08</td>\n",
       "    </tr>\n",
       "    <tr>\n",
       "      <td>728</td>\n",
       "      <td>166911</td>\n",
       "      <td>B</td>\n",
       "      <td>2019-08-23</td>\n",
       "    </tr>\n",
       "    <tr>\n",
       "      <td>729</td>\n",
       "      <td>167012</td>\n",
       "      <td>B</td>\n",
       "      <td>2019-08-28</td>\n",
       "    </tr>\n",
       "    <tr>\n",
       "      <td>730</td>\n",
       "      <td>166867</td>\n",
       "      <td>B</td>\n",
       "      <td>2019-08-22</td>\n",
       "    </tr>\n",
       "    <tr>\n",
       "      <td>731</td>\n",
       "      <td>166565</td>\n",
       "      <td>B</td>\n",
       "      <td>2019-08-08</td>\n",
       "    </tr>\n",
       "  </tbody>\n",
       "</table>\n",
       "<p>732 rows × 3 columns</p>\n",
       "</div>"
      ],
      "text/plain": [
       "     user_id tariff_plan  date_start\n",
       "0     166713           A  2019-08-15\n",
       "1     166901           A  2019-08-23\n",
       "2     168527           A  2019-10-29\n",
       "3     167097           A  2019-09-01\n",
       "4     168193           A  2019-10-16\n",
       "..       ...         ...         ...\n",
       "727   166554           B  2019-08-08\n",
       "728   166911           B  2019-08-23\n",
       "729   167012           B  2019-08-28\n",
       "730   166867           B  2019-08-22\n",
       "731   166565           B  2019-08-08\n",
       "\n",
       "[732 rows x 3 columns]"
      ]
     },
     "execution_count": 3,
     "metadata": {},
     "output_type": "execute_result"
    }
   ],
   "source": [
    "telecom_clients"
   ]
  },
  {
   "cell_type": "code",
   "execution_count": 4,
   "metadata": {},
   "outputs": [
    {
     "name": "stdout",
     "output_type": "stream",
     "text": [
      "<class 'pandas.core.frame.DataFrame'>\n",
      "RangeIndex: 732 entries, 0 to 731\n",
      "Data columns (total 3 columns):\n",
      "user_id        732 non-null int64\n",
      "tariff_plan    732 non-null object\n",
      "date_start     732 non-null object\n",
      "dtypes: int64(1), object(2)\n",
      "memory usage: 17.3+ KB\n"
     ]
    }
   ],
   "source": [
    "telecom_clients.info()"
   ]
  },
  {
   "cell_type": "markdown",
   "metadata": {},
   "source": [
    "В датасете содержится информация о 732 клиентах с указанием тарифного плана и даты регистрации. Следует обратить внимание, что пропущенные данные отсутствуют. Кроме того столбец с датой реистрации необходимо в последствии перевести в формат даты. Все названия одного регистра, приведение не требуется"
   ]
  },
  {
   "cell_type": "code",
   "execution_count": 5,
   "metadata": {},
   "outputs": [
    {
     "data": {
      "text/html": [
       "<div>\n",
       "<style scoped>\n",
       "    .dataframe tbody tr th:only-of-type {\n",
       "        vertical-align: middle;\n",
       "    }\n",
       "\n",
       "    .dataframe tbody tr th {\n",
       "        vertical-align: top;\n",
       "    }\n",
       "\n",
       "    .dataframe thead th {\n",
       "        text-align: right;\n",
       "    }\n",
       "</style>\n",
       "<table border=\"1\" class=\"dataframe\">\n",
       "  <thead>\n",
       "    <tr style=\"text-align: right;\">\n",
       "      <th></th>\n",
       "      <th>user_id</th>\n",
       "      <th>date</th>\n",
       "      <th>direction</th>\n",
       "      <th>internal</th>\n",
       "      <th>operator_id</th>\n",
       "      <th>is_missed_call</th>\n",
       "      <th>calls_count</th>\n",
       "      <th>call_duration</th>\n",
       "      <th>total_call_duration</th>\n",
       "    </tr>\n",
       "  </thead>\n",
       "  <tbody>\n",
       "    <tr>\n",
       "      <td>0</td>\n",
       "      <td>166377</td>\n",
       "      <td>2019-08-04 00:00:00+03:00</td>\n",
       "      <td>in</td>\n",
       "      <td>False</td>\n",
       "      <td>NaN</td>\n",
       "      <td>True</td>\n",
       "      <td>2</td>\n",
       "      <td>0</td>\n",
       "      <td>4</td>\n",
       "    </tr>\n",
       "    <tr>\n",
       "      <td>1</td>\n",
       "      <td>166377</td>\n",
       "      <td>2019-08-05 00:00:00+03:00</td>\n",
       "      <td>out</td>\n",
       "      <td>True</td>\n",
       "      <td>880022.0</td>\n",
       "      <td>True</td>\n",
       "      <td>3</td>\n",
       "      <td>0</td>\n",
       "      <td>5</td>\n",
       "    </tr>\n",
       "    <tr>\n",
       "      <td>2</td>\n",
       "      <td>166377</td>\n",
       "      <td>2019-08-05 00:00:00+03:00</td>\n",
       "      <td>out</td>\n",
       "      <td>True</td>\n",
       "      <td>880020.0</td>\n",
       "      <td>True</td>\n",
       "      <td>1</td>\n",
       "      <td>0</td>\n",
       "      <td>1</td>\n",
       "    </tr>\n",
       "    <tr>\n",
       "      <td>3</td>\n",
       "      <td>166377</td>\n",
       "      <td>2019-08-05 00:00:00+03:00</td>\n",
       "      <td>out</td>\n",
       "      <td>True</td>\n",
       "      <td>880020.0</td>\n",
       "      <td>False</td>\n",
       "      <td>1</td>\n",
       "      <td>10</td>\n",
       "      <td>18</td>\n",
       "    </tr>\n",
       "    <tr>\n",
       "      <td>4</td>\n",
       "      <td>166377</td>\n",
       "      <td>2019-08-05 00:00:00+03:00</td>\n",
       "      <td>out</td>\n",
       "      <td>False</td>\n",
       "      <td>880022.0</td>\n",
       "      <td>True</td>\n",
       "      <td>3</td>\n",
       "      <td>0</td>\n",
       "      <td>25</td>\n",
       "    </tr>\n",
       "    <tr>\n",
       "      <td>...</td>\n",
       "      <td>...</td>\n",
       "      <td>...</td>\n",
       "      <td>...</td>\n",
       "      <td>...</td>\n",
       "      <td>...</td>\n",
       "      <td>...</td>\n",
       "      <td>...</td>\n",
       "      <td>...</td>\n",
       "      <td>...</td>\n",
       "    </tr>\n",
       "    <tr>\n",
       "      <td>53897</td>\n",
       "      <td>168606</td>\n",
       "      <td>2019-11-10 00:00:00+03:00</td>\n",
       "      <td>out</td>\n",
       "      <td>True</td>\n",
       "      <td>957922.0</td>\n",
       "      <td>True</td>\n",
       "      <td>1</td>\n",
       "      <td>0</td>\n",
       "      <td>38</td>\n",
       "    </tr>\n",
       "    <tr>\n",
       "      <td>53898</td>\n",
       "      <td>168606</td>\n",
       "      <td>2019-11-11 00:00:00+03:00</td>\n",
       "      <td>out</td>\n",
       "      <td>True</td>\n",
       "      <td>957922.0</td>\n",
       "      <td>False</td>\n",
       "      <td>2</td>\n",
       "      <td>479</td>\n",
       "      <td>501</td>\n",
       "    </tr>\n",
       "    <tr>\n",
       "      <td>53899</td>\n",
       "      <td>168606</td>\n",
       "      <td>2019-11-15 00:00:00+03:00</td>\n",
       "      <td>out</td>\n",
       "      <td>True</td>\n",
       "      <td>957922.0</td>\n",
       "      <td>False</td>\n",
       "      <td>4</td>\n",
       "      <td>3130</td>\n",
       "      <td>3190</td>\n",
       "    </tr>\n",
       "    <tr>\n",
       "      <td>53900</td>\n",
       "      <td>168606</td>\n",
       "      <td>2019-11-15 00:00:00+03:00</td>\n",
       "      <td>out</td>\n",
       "      <td>True</td>\n",
       "      <td>957922.0</td>\n",
       "      <td>False</td>\n",
       "      <td>4</td>\n",
       "      <td>3130</td>\n",
       "      <td>3190</td>\n",
       "    </tr>\n",
       "    <tr>\n",
       "      <td>53901</td>\n",
       "      <td>168606</td>\n",
       "      <td>2019-11-19 00:00:00+03:00</td>\n",
       "      <td>in</td>\n",
       "      <td>False</td>\n",
       "      <td>NaN</td>\n",
       "      <td>True</td>\n",
       "      <td>2</td>\n",
       "      <td>0</td>\n",
       "      <td>64</td>\n",
       "    </tr>\n",
       "  </tbody>\n",
       "</table>\n",
       "<p>53902 rows × 9 columns</p>\n",
       "</div>"
      ],
      "text/plain": [
       "       user_id                       date direction internal  operator_id  \\\n",
       "0       166377  2019-08-04 00:00:00+03:00        in    False          NaN   \n",
       "1       166377  2019-08-05 00:00:00+03:00       out     True     880022.0   \n",
       "2       166377  2019-08-05 00:00:00+03:00       out     True     880020.0   \n",
       "3       166377  2019-08-05 00:00:00+03:00       out     True     880020.0   \n",
       "4       166377  2019-08-05 00:00:00+03:00       out    False     880022.0   \n",
       "...        ...                        ...       ...      ...          ...   \n",
       "53897   168606  2019-11-10 00:00:00+03:00       out     True     957922.0   \n",
       "53898   168606  2019-11-11 00:00:00+03:00       out     True     957922.0   \n",
       "53899   168606  2019-11-15 00:00:00+03:00       out     True     957922.0   \n",
       "53900   168606  2019-11-15 00:00:00+03:00       out     True     957922.0   \n",
       "53901   168606  2019-11-19 00:00:00+03:00        in    False          NaN   \n",
       "\n",
       "       is_missed_call  calls_count  call_duration  total_call_duration  \n",
       "0                True            2              0                    4  \n",
       "1                True            3              0                    5  \n",
       "2                True            1              0                    1  \n",
       "3               False            1             10                   18  \n",
       "4                True            3              0                   25  \n",
       "...               ...          ...            ...                  ...  \n",
       "53897            True            1              0                   38  \n",
       "53898           False            2            479                  501  \n",
       "53899           False            4           3130                 3190  \n",
       "53900           False            4           3130                 3190  \n",
       "53901            True            2              0                   64  \n",
       "\n",
       "[53902 rows x 9 columns]"
      ]
     },
     "execution_count": 5,
     "metadata": {},
     "output_type": "execute_result"
    }
   ],
   "source": [
    "telecom_dataset"
   ]
  },
  {
   "cell_type": "code",
   "execution_count": 6,
   "metadata": {},
   "outputs": [
    {
     "name": "stdout",
     "output_type": "stream",
     "text": [
      "<class 'pandas.core.frame.DataFrame'>\n",
      "RangeIndex: 53902 entries, 0 to 53901\n",
      "Data columns (total 9 columns):\n",
      "user_id                53902 non-null int64\n",
      "date                   53902 non-null object\n",
      "direction              53902 non-null object\n",
      "internal               53785 non-null object\n",
      "operator_id            45730 non-null float64\n",
      "is_missed_call         53902 non-null bool\n",
      "calls_count            53902 non-null int64\n",
      "call_duration          53902 non-null int64\n",
      "total_call_duration    53902 non-null int64\n",
      "dtypes: bool(1), float64(1), int64(4), object(3)\n",
      "memory usage: 3.3+ MB\n"
     ]
    }
   ],
   "source": [
    "telecom_dataset.info()"
   ]
  },
  {
   "cell_type": "markdown",
   "metadata": {},
   "source": [
    "Второй датасет представляется собой 53902 наблюдения. Кроме того датасет требует работы над собой."
   ]
  },
  {
   "cell_type": "markdown",
   "metadata": {},
   "source": [
    "## Предобработка данных"
   ]
  },
  {
   "cell_type": "markdown",
   "metadata": {},
   "source": [
    "### Предобработка датафрейма telecom_dataset(проверка на наличие пропусков, дубликатов, аномальных данных и т.д.);"
   ]
  },
  {
   "cell_type": "code",
   "execution_count": 7,
   "metadata": {},
   "outputs": [
    {
     "data": {
      "text/plain": [
       "user_id                   0\n",
       "date                      0\n",
       "direction                 0\n",
       "internal                117\n",
       "operator_id            8172\n",
       "is_missed_call            0\n",
       "calls_count               0\n",
       "call_duration             0\n",
       "total_call_duration       0\n",
       "dtype: int64"
      ]
     },
     "execution_count": 7,
     "metadata": {},
     "output_type": "execute_result"
    }
   ],
   "source": [
    "telecom_dataset.isnull().sum()"
   ]
  },
  {
   "cell_type": "markdown",
   "metadata": {},
   "source": [
    "Уберем из датасета пропуски по столбцу `internal`, т.к. они составляют около 0,2%"
   ]
  },
  {
   "cell_type": "code",
   "execution_count": 8,
   "metadata": {},
   "outputs": [],
   "source": [
    "telecom_dataset['internal'] = telecom_dataset['internal'].astype('bool')"
   ]
  },
  {
   "cell_type": "code",
   "execution_count": 9,
   "metadata": {},
   "outputs": [
    {
     "name": "stdout",
     "output_type": "stream",
     "text": [
      "<class 'pandas.core.frame.DataFrame'>\n",
      "RangeIndex: 53902 entries, 0 to 53901\n",
      "Data columns (total 9 columns):\n",
      "user_id                53902 non-null int64\n",
      "date                   53902 non-null object\n",
      "direction              53902 non-null object\n",
      "internal               53902 non-null bool\n",
      "operator_id            45730 non-null float64\n",
      "is_missed_call         53902 non-null bool\n",
      "calls_count            53902 non-null int64\n",
      "call_duration          53902 non-null int64\n",
      "total_call_duration    53902 non-null int64\n",
      "dtypes: bool(2), float64(1), int64(4), object(2)\n",
      "memory usage: 3.0+ MB\n"
     ]
    }
   ],
   "source": [
    "telecom_dataset.info()"
   ]
  },
  {
   "cell_type": "markdown",
   "metadata": {},
   "source": [
    "В столбце с id оператора огромное количество пропусков, попробуем понять почему так"
   ]
  },
  {
   "cell_type": "code",
   "execution_count": 10,
   "metadata": {},
   "outputs": [],
   "source": [
    "nan_operator = telecom_dataset[telecom_dataset['operator_id'].isnull()]"
   ]
  },
  {
   "cell_type": "code",
   "execution_count": 11,
   "metadata": {},
   "outputs": [
    {
     "data": {
      "text/html": [
       "<div>\n",
       "<style scoped>\n",
       "    .dataframe tbody tr th:only-of-type {\n",
       "        vertical-align: middle;\n",
       "    }\n",
       "\n",
       "    .dataframe tbody tr th {\n",
       "        vertical-align: top;\n",
       "    }\n",
       "\n",
       "    .dataframe thead th {\n",
       "        text-align: right;\n",
       "    }\n",
       "</style>\n",
       "<table border=\"1\" class=\"dataframe\">\n",
       "  <thead>\n",
       "    <tr style=\"text-align: right;\">\n",
       "      <th></th>\n",
       "      <th>user_id</th>\n",
       "      <th>date</th>\n",
       "      <th>direction</th>\n",
       "      <th>internal</th>\n",
       "      <th>operator_id</th>\n",
       "      <th>is_missed_call</th>\n",
       "      <th>calls_count</th>\n",
       "      <th>call_duration</th>\n",
       "      <th>total_call_duration</th>\n",
       "    </tr>\n",
       "  </thead>\n",
       "  <tbody>\n",
       "    <tr>\n",
       "      <td>0</td>\n",
       "      <td>166377</td>\n",
       "      <td>2019-08-04 00:00:00+03:00</td>\n",
       "      <td>in</td>\n",
       "      <td>False</td>\n",
       "      <td>NaN</td>\n",
       "      <td>True</td>\n",
       "      <td>2</td>\n",
       "      <td>0</td>\n",
       "      <td>4</td>\n",
       "    </tr>\n",
       "    <tr>\n",
       "      <td>7</td>\n",
       "      <td>166377</td>\n",
       "      <td>2019-08-05 00:00:00+03:00</td>\n",
       "      <td>in</td>\n",
       "      <td>False</td>\n",
       "      <td>NaN</td>\n",
       "      <td>True</td>\n",
       "      <td>6</td>\n",
       "      <td>0</td>\n",
       "      <td>35</td>\n",
       "    </tr>\n",
       "    <tr>\n",
       "      <td>9</td>\n",
       "      <td>166377</td>\n",
       "      <td>2019-08-06 00:00:00+03:00</td>\n",
       "      <td>in</td>\n",
       "      <td>False</td>\n",
       "      <td>NaN</td>\n",
       "      <td>True</td>\n",
       "      <td>4</td>\n",
       "      <td>0</td>\n",
       "      <td>62</td>\n",
       "    </tr>\n",
       "    <tr>\n",
       "      <td>17</td>\n",
       "      <td>166377</td>\n",
       "      <td>2019-08-07 00:00:00+03:00</td>\n",
       "      <td>in</td>\n",
       "      <td>False</td>\n",
       "      <td>NaN</td>\n",
       "      <td>True</td>\n",
       "      <td>2</td>\n",
       "      <td>0</td>\n",
       "      <td>24</td>\n",
       "    </tr>\n",
       "    <tr>\n",
       "      <td>27</td>\n",
       "      <td>166377</td>\n",
       "      <td>2019-08-12 00:00:00+03:00</td>\n",
       "      <td>in</td>\n",
       "      <td>False</td>\n",
       "      <td>NaN</td>\n",
       "      <td>True</td>\n",
       "      <td>2</td>\n",
       "      <td>0</td>\n",
       "      <td>34</td>\n",
       "    </tr>\n",
       "    <tr>\n",
       "      <td>...</td>\n",
       "      <td>...</td>\n",
       "      <td>...</td>\n",
       "      <td>...</td>\n",
       "      <td>...</td>\n",
       "      <td>...</td>\n",
       "      <td>...</td>\n",
       "      <td>...</td>\n",
       "      <td>...</td>\n",
       "      <td>...</td>\n",
       "    </tr>\n",
       "    <tr>\n",
       "      <td>53876</td>\n",
       "      <td>168601</td>\n",
       "      <td>2019-11-27 00:00:00+03:00</td>\n",
       "      <td>in</td>\n",
       "      <td>False</td>\n",
       "      <td>NaN</td>\n",
       "      <td>True</td>\n",
       "      <td>2</td>\n",
       "      <td>0</td>\n",
       "      <td>39</td>\n",
       "    </tr>\n",
       "    <tr>\n",
       "      <td>53880</td>\n",
       "      <td>168601</td>\n",
       "      <td>2019-11-28 00:00:00+03:00</td>\n",
       "      <td>in</td>\n",
       "      <td>False</td>\n",
       "      <td>NaN</td>\n",
       "      <td>True</td>\n",
       "      <td>1</td>\n",
       "      <td>0</td>\n",
       "      <td>19</td>\n",
       "    </tr>\n",
       "    <tr>\n",
       "      <td>53889</td>\n",
       "      <td>168603</td>\n",
       "      <td>2019-11-28 00:00:00+03:00</td>\n",
       "      <td>in</td>\n",
       "      <td>False</td>\n",
       "      <td>NaN</td>\n",
       "      <td>True</td>\n",
       "      <td>1</td>\n",
       "      <td>0</td>\n",
       "      <td>30</td>\n",
       "    </tr>\n",
       "    <tr>\n",
       "      <td>53893</td>\n",
       "      <td>168606</td>\n",
       "      <td>2019-11-08 00:00:00+03:00</td>\n",
       "      <td>in</td>\n",
       "      <td>False</td>\n",
       "      <td>NaN</td>\n",
       "      <td>True</td>\n",
       "      <td>6</td>\n",
       "      <td>0</td>\n",
       "      <td>121</td>\n",
       "    </tr>\n",
       "    <tr>\n",
       "      <td>53901</td>\n",
       "      <td>168606</td>\n",
       "      <td>2019-11-19 00:00:00+03:00</td>\n",
       "      <td>in</td>\n",
       "      <td>False</td>\n",
       "      <td>NaN</td>\n",
       "      <td>True</td>\n",
       "      <td>2</td>\n",
       "      <td>0</td>\n",
       "      <td>64</td>\n",
       "    </tr>\n",
       "  </tbody>\n",
       "</table>\n",
       "<p>8172 rows × 9 columns</p>\n",
       "</div>"
      ],
      "text/plain": [
       "       user_id                       date direction  internal  operator_id  \\\n",
       "0       166377  2019-08-04 00:00:00+03:00        in     False          NaN   \n",
       "7       166377  2019-08-05 00:00:00+03:00        in     False          NaN   \n",
       "9       166377  2019-08-06 00:00:00+03:00        in     False          NaN   \n",
       "17      166377  2019-08-07 00:00:00+03:00        in     False          NaN   \n",
       "27      166377  2019-08-12 00:00:00+03:00        in     False          NaN   \n",
       "...        ...                        ...       ...       ...          ...   \n",
       "53876   168601  2019-11-27 00:00:00+03:00        in     False          NaN   \n",
       "53880   168601  2019-11-28 00:00:00+03:00        in     False          NaN   \n",
       "53889   168603  2019-11-28 00:00:00+03:00        in     False          NaN   \n",
       "53893   168606  2019-11-08 00:00:00+03:00        in     False          NaN   \n",
       "53901   168606  2019-11-19 00:00:00+03:00        in     False          NaN   \n",
       "\n",
       "       is_missed_call  calls_count  call_duration  total_call_duration  \n",
       "0                True            2              0                    4  \n",
       "7                True            6              0                   35  \n",
       "9                True            4              0                   62  \n",
       "17               True            2              0                   24  \n",
       "27               True            2              0                   34  \n",
       "...               ...          ...            ...                  ...  \n",
       "53876            True            2              0                   39  \n",
       "53880            True            1              0                   19  \n",
       "53889            True            1              0                   30  \n",
       "53893            True            6              0                  121  \n",
       "53901            True            2              0                   64  \n",
       "\n",
       "[8172 rows x 9 columns]"
      ]
     },
     "execution_count": 11,
     "metadata": {},
     "output_type": "execute_result"
    }
   ],
   "source": [
    "nan_operator"
   ]
  },
  {
   "cell_type": "markdown",
   "metadata": {},
   "source": [
    "Посмотрим распределение пропусков по столбцам"
   ]
  },
  {
   "cell_type": "code",
   "execution_count": 12,
   "metadata": {},
   "outputs": [
    {
     "data": {
      "text/plain": [
       "array(['in', 'out'], dtype=object)"
      ]
     },
     "execution_count": 12,
     "metadata": {},
     "output_type": "execute_result"
    }
   ],
   "source": [
    "nan_operator['direction'].unique()"
   ]
  },
  {
   "cell_type": "code",
   "execution_count": 13,
   "metadata": {},
   "outputs": [
    {
     "data": {
      "text/plain": [
       "user_id                7972\n",
       "date                   7972\n",
       "direction              7972\n",
       "internal               7972\n",
       "operator_id               0\n",
       "is_missed_call         7972\n",
       "calls_count            7972\n",
       "call_duration          7972\n",
       "total_call_duration    7972\n",
       "dtype: int64"
      ]
     },
     "execution_count": 13,
     "metadata": {},
     "output_type": "execute_result"
    }
   ],
   "source": [
    "nan_operator[nan_operator['direction']=='in'].count()"
   ]
  },
  {
   "cell_type": "code",
   "execution_count": 14,
   "metadata": {},
   "outputs": [
    {
     "data": {
      "text/plain": [
       "user_id                200\n",
       "date                   200\n",
       "direction              200\n",
       "internal               200\n",
       "operator_id              0\n",
       "is_missed_call         200\n",
       "calls_count            200\n",
       "call_duration          200\n",
       "total_call_duration    200\n",
       "dtype: int64"
      ]
     },
     "execution_count": 14,
     "metadata": {},
     "output_type": "execute_result"
    }
   ],
   "source": [
    "nan_operator[nan_operator['direction']=='out'].count()"
   ]
  },
  {
   "cell_type": "markdown",
   "metadata": {},
   "source": [
    "7972 из 8172 являются входящими звонками. Это около 97,5%"
   ]
  },
  {
   "cell_type": "code",
   "execution_count": 15,
   "metadata": {},
   "outputs": [
    {
     "data": {
      "text/html": [
       "<div>\n",
       "<style scoped>\n",
       "    .dataframe tbody tr th:only-of-type {\n",
       "        vertical-align: middle;\n",
       "    }\n",
       "\n",
       "    .dataframe tbody tr th {\n",
       "        vertical-align: top;\n",
       "    }\n",
       "\n",
       "    .dataframe thead th {\n",
       "        text-align: right;\n",
       "    }\n",
       "</style>\n",
       "<table border=\"1\" class=\"dataframe\">\n",
       "  <thead>\n",
       "    <tr style=\"text-align: right;\">\n",
       "      <th></th>\n",
       "      <th>user_id</th>\n",
       "      <th>date</th>\n",
       "      <th>direction</th>\n",
       "      <th>internal</th>\n",
       "      <th>operator_id</th>\n",
       "      <th>is_missed_call</th>\n",
       "      <th>calls_count</th>\n",
       "      <th>call_duration</th>\n",
       "      <th>total_call_duration</th>\n",
       "    </tr>\n",
       "  </thead>\n",
       "  <tbody>\n",
       "    <tr>\n",
       "      <td>455</td>\n",
       "      <td>166377</td>\n",
       "      <td>2019-11-06 00:00:00+03:00</td>\n",
       "      <td>out</td>\n",
       "      <td>False</td>\n",
       "      <td>NaN</td>\n",
       "      <td>True</td>\n",
       "      <td>1</td>\n",
       "      <td>0</td>\n",
       "      <td>1</td>\n",
       "    </tr>\n",
       "    <tr>\n",
       "      <td>2402</td>\n",
       "      <td>166407</td>\n",
       "      <td>2019-10-10 00:00:00+03:00</td>\n",
       "      <td>out</td>\n",
       "      <td>True</td>\n",
       "      <td>NaN</td>\n",
       "      <td>True</td>\n",
       "      <td>1</td>\n",
       "      <td>0</td>\n",
       "      <td>0</td>\n",
       "    </tr>\n",
       "    <tr>\n",
       "      <td>3241</td>\n",
       "      <td>166485</td>\n",
       "      <td>2019-10-15 00:00:00+03:00</td>\n",
       "      <td>out</td>\n",
       "      <td>True</td>\n",
       "      <td>NaN</td>\n",
       "      <td>True</td>\n",
       "      <td>2</td>\n",
       "      <td>0</td>\n",
       "      <td>8</td>\n",
       "    </tr>\n",
       "    <tr>\n",
       "      <td>3271</td>\n",
       "      <td>166485</td>\n",
       "      <td>2019-10-18 00:00:00+03:00</td>\n",
       "      <td>out</td>\n",
       "      <td>True</td>\n",
       "      <td>NaN</td>\n",
       "      <td>True</td>\n",
       "      <td>3</td>\n",
       "      <td>0</td>\n",
       "      <td>11</td>\n",
       "    </tr>\n",
       "    <tr>\n",
       "      <td>3276</td>\n",
       "      <td>166485</td>\n",
       "      <td>2019-10-18 00:00:00+03:00</td>\n",
       "      <td>out</td>\n",
       "      <td>True</td>\n",
       "      <td>NaN</td>\n",
       "      <td>True</td>\n",
       "      <td>3</td>\n",
       "      <td>0</td>\n",
       "      <td>11</td>\n",
       "    </tr>\n",
       "    <tr>\n",
       "      <td>...</td>\n",
       "      <td>...</td>\n",
       "      <td>...</td>\n",
       "      <td>...</td>\n",
       "      <td>...</td>\n",
       "      <td>...</td>\n",
       "      <td>...</td>\n",
       "      <td>...</td>\n",
       "      <td>...</td>\n",
       "      <td>...</td>\n",
       "    </tr>\n",
       "    <tr>\n",
       "      <td>53095</td>\n",
       "      <td>168361</td>\n",
       "      <td>2019-11-27 00:00:00+03:00</td>\n",
       "      <td>out</td>\n",
       "      <td>False</td>\n",
       "      <td>NaN</td>\n",
       "      <td>True</td>\n",
       "      <td>3</td>\n",
       "      <td>0</td>\n",
       "      <td>2</td>\n",
       "    </tr>\n",
       "    <tr>\n",
       "      <td>53247</td>\n",
       "      <td>168412</td>\n",
       "      <td>2019-11-07 00:00:00+03:00</td>\n",
       "      <td>out</td>\n",
       "      <td>False</td>\n",
       "      <td>NaN</td>\n",
       "      <td>True</td>\n",
       "      <td>1</td>\n",
       "      <td>0</td>\n",
       "      <td>0</td>\n",
       "    </tr>\n",
       "    <tr>\n",
       "      <td>53381</td>\n",
       "      <td>168412</td>\n",
       "      <td>2019-11-22 00:00:00+03:00</td>\n",
       "      <td>out</td>\n",
       "      <td>False</td>\n",
       "      <td>NaN</td>\n",
       "      <td>True</td>\n",
       "      <td>1</td>\n",
       "      <td>0</td>\n",
       "      <td>0</td>\n",
       "    </tr>\n",
       "    <tr>\n",
       "      <td>53400</td>\n",
       "      <td>168412</td>\n",
       "      <td>2019-11-25 00:00:00+03:00</td>\n",
       "      <td>out</td>\n",
       "      <td>False</td>\n",
       "      <td>NaN</td>\n",
       "      <td>True</td>\n",
       "      <td>1</td>\n",
       "      <td>0</td>\n",
       "      <td>1</td>\n",
       "    </tr>\n",
       "    <tr>\n",
       "      <td>53417</td>\n",
       "      <td>168412</td>\n",
       "      <td>2019-11-26 00:00:00+03:00</td>\n",
       "      <td>out</td>\n",
       "      <td>False</td>\n",
       "      <td>NaN</td>\n",
       "      <td>True</td>\n",
       "      <td>1</td>\n",
       "      <td>0</td>\n",
       "      <td>0</td>\n",
       "    </tr>\n",
       "  </tbody>\n",
       "</table>\n",
       "<p>200 rows × 9 columns</p>\n",
       "</div>"
      ],
      "text/plain": [
       "       user_id                       date direction  internal  operator_id  \\\n",
       "455     166377  2019-11-06 00:00:00+03:00       out     False          NaN   \n",
       "2402    166407  2019-10-10 00:00:00+03:00       out      True          NaN   \n",
       "3241    166485  2019-10-15 00:00:00+03:00       out      True          NaN   \n",
       "3271    166485  2019-10-18 00:00:00+03:00       out      True          NaN   \n",
       "3276    166485  2019-10-18 00:00:00+03:00       out      True          NaN   \n",
       "...        ...                        ...       ...       ...          ...   \n",
       "53095   168361  2019-11-27 00:00:00+03:00       out     False          NaN   \n",
       "53247   168412  2019-11-07 00:00:00+03:00       out     False          NaN   \n",
       "53381   168412  2019-11-22 00:00:00+03:00       out     False          NaN   \n",
       "53400   168412  2019-11-25 00:00:00+03:00       out     False          NaN   \n",
       "53417   168412  2019-11-26 00:00:00+03:00       out     False          NaN   \n",
       "\n",
       "       is_missed_call  calls_count  call_duration  total_call_duration  \n",
       "455              True            1              0                    1  \n",
       "2402             True            1              0                    0  \n",
       "3241             True            2              0                    8  \n",
       "3271             True            3              0                   11  \n",
       "3276             True            3              0                   11  \n",
       "...               ...          ...            ...                  ...  \n",
       "53095            True            3              0                    2  \n",
       "53247            True            1              0                    0  \n",
       "53381            True            1              0                    0  \n",
       "53400            True            1              0                    1  \n",
       "53417            True            1              0                    0  \n",
       "\n",
       "[200 rows x 9 columns]"
      ]
     },
     "execution_count": 15,
     "metadata": {},
     "output_type": "execute_result"
    }
   ],
   "source": [
    "nan_out = nan_operator[nan_operator['direction']=='out']\n",
    "nan_out"
   ]
  },
  {
   "cell_type": "markdown",
   "metadata": {},
   "source": [
    "Рассмотрим подробнее в этой выборке пропущенные исходящие звонки"
   ]
  },
  {
   "cell_type": "code",
   "execution_count": 122,
   "metadata": {},
   "outputs": [
    {
     "data": {
      "text/html": [
       "<div>\n",
       "<style scoped>\n",
       "    .dataframe tbody tr th:only-of-type {\n",
       "        vertical-align: middle;\n",
       "    }\n",
       "\n",
       "    .dataframe tbody tr th {\n",
       "        vertical-align: top;\n",
       "    }\n",
       "\n",
       "    .dataframe thead th {\n",
       "        text-align: right;\n",
       "    }\n",
       "</style>\n",
       "<table border=\"1\" class=\"dataframe\">\n",
       "  <thead>\n",
       "    <tr style=\"text-align: right;\">\n",
       "      <th></th>\n",
       "      <th>user_id</th>\n",
       "    </tr>\n",
       "    <tr>\n",
       "      <th>direction</th>\n",
       "      <th></th>\n",
       "    </tr>\n",
       "  </thead>\n",
       "  <tbody>\n",
       "    <tr>\n",
       "      <td>in</td>\n",
       "      <td>7972</td>\n",
       "    </tr>\n",
       "    <tr>\n",
       "      <td>out</td>\n",
       "      <td>200</td>\n",
       "    </tr>\n",
       "  </tbody>\n",
       "</table>\n",
       "</div>"
      ],
      "text/plain": [
       "           user_id\n",
       "direction         \n",
       "in            7972\n",
       "out            200"
      ]
     },
     "execution_count": 122,
     "metadata": {},
     "output_type": "execute_result"
    }
   ],
   "source": [
    "nan_operator.pivot_table(\n",
    "    index='direction',\n",
    "    values='user_id',\n",
    "    aggfunc='count'\n",
    ")"
   ]
  },
  {
   "cell_type": "code",
   "execution_count": 16,
   "metadata": {},
   "outputs": [
    {
     "data": {
      "text/plain": [
       "user_id                151\n",
       "date                   151\n",
       "direction              151\n",
       "internal               151\n",
       "operator_id              0\n",
       "is_missed_call         151\n",
       "calls_count            151\n",
       "call_duration          151\n",
       "total_call_duration    151\n",
       "dtype: int64"
      ]
     },
     "execution_count": 16,
     "metadata": {},
     "output_type": "execute_result"
    }
   ],
   "source": [
    "nan_out[nan_out['is_missed_call']==True].count()"
   ]
  },
  {
   "cell_type": "code",
   "execution_count": 17,
   "metadata": {
    "scrolled": true
   },
   "outputs": [
    {
     "data": {
      "text/html": [
       "<div>\n",
       "<style scoped>\n",
       "    .dataframe tbody tr th:only-of-type {\n",
       "        vertical-align: middle;\n",
       "    }\n",
       "\n",
       "    .dataframe tbody tr th {\n",
       "        vertical-align: top;\n",
       "    }\n",
       "\n",
       "    .dataframe thead th {\n",
       "        text-align: right;\n",
       "    }\n",
       "</style>\n",
       "<table border=\"1\" class=\"dataframe\">\n",
       "  <thead>\n",
       "    <tr style=\"text-align: right;\">\n",
       "      <th></th>\n",
       "      <th>user_id</th>\n",
       "      <th>date</th>\n",
       "      <th>direction</th>\n",
       "      <th>internal</th>\n",
       "      <th>operator_id</th>\n",
       "      <th>is_missed_call</th>\n",
       "      <th>calls_count</th>\n",
       "      <th>call_duration</th>\n",
       "      <th>total_call_duration</th>\n",
       "    </tr>\n",
       "  </thead>\n",
       "  <tbody>\n",
       "    <tr>\n",
       "      <td>4089</td>\n",
       "      <td>166503</td>\n",
       "      <td>2019-09-26 00:00:00+03:00</td>\n",
       "      <td>out</td>\n",
       "      <td>False</td>\n",
       "      <td>NaN</td>\n",
       "      <td>False</td>\n",
       "      <td>1</td>\n",
       "      <td>213</td>\n",
       "      <td>220</td>\n",
       "    </tr>\n",
       "    <tr>\n",
       "      <td>4198</td>\n",
       "      <td>166503</td>\n",
       "      <td>2019-10-21 00:00:00+03:00</td>\n",
       "      <td>out</td>\n",
       "      <td>True</td>\n",
       "      <td>NaN</td>\n",
       "      <td>False</td>\n",
       "      <td>2</td>\n",
       "      <td>382</td>\n",
       "      <td>397</td>\n",
       "    </tr>\n",
       "    <tr>\n",
       "      <td>43756</td>\n",
       "      <td>168018</td>\n",
       "      <td>2019-11-05 00:00:00+03:00</td>\n",
       "      <td>out</td>\n",
       "      <td>False</td>\n",
       "      <td>NaN</td>\n",
       "      <td>False</td>\n",
       "      <td>1</td>\n",
       "      <td>978</td>\n",
       "      <td>984</td>\n",
       "    </tr>\n",
       "    <tr>\n",
       "      <td>43806</td>\n",
       "      <td>168018</td>\n",
       "      <td>2019-11-13 00:00:00+03:00</td>\n",
       "      <td>out</td>\n",
       "      <td>False</td>\n",
       "      <td>NaN</td>\n",
       "      <td>False</td>\n",
       "      <td>1</td>\n",
       "      <td>585</td>\n",
       "      <td>598</td>\n",
       "    </tr>\n",
       "    <tr>\n",
       "      <td>43850</td>\n",
       "      <td>168018</td>\n",
       "      <td>2019-11-26 00:00:00+03:00</td>\n",
       "      <td>out</td>\n",
       "      <td>False</td>\n",
       "      <td>NaN</td>\n",
       "      <td>False</td>\n",
       "      <td>1</td>\n",
       "      <td>229</td>\n",
       "      <td>246</td>\n",
       "    </tr>\n",
       "    <tr>\n",
       "      <td>50038</td>\n",
       "      <td>168252</td>\n",
       "      <td>2019-10-17 00:00:00+03:00</td>\n",
       "      <td>out</td>\n",
       "      <td>False</td>\n",
       "      <td>NaN</td>\n",
       "      <td>False</td>\n",
       "      <td>1</td>\n",
       "      <td>69</td>\n",
       "      <td>79</td>\n",
       "    </tr>\n",
       "    <tr>\n",
       "      <td>50048</td>\n",
       "      <td>168252</td>\n",
       "      <td>2019-10-18 00:00:00+03:00</td>\n",
       "      <td>out</td>\n",
       "      <td>False</td>\n",
       "      <td>NaN</td>\n",
       "      <td>False</td>\n",
       "      <td>1</td>\n",
       "      <td>170</td>\n",
       "      <td>177</td>\n",
       "    </tr>\n",
       "    <tr>\n",
       "      <td>50058</td>\n",
       "      <td>168252</td>\n",
       "      <td>2019-10-18 00:00:00+03:00</td>\n",
       "      <td>out</td>\n",
       "      <td>False</td>\n",
       "      <td>NaN</td>\n",
       "      <td>False</td>\n",
       "      <td>1</td>\n",
       "      <td>170</td>\n",
       "      <td>177</td>\n",
       "    </tr>\n",
       "    <tr>\n",
       "      <td>50072</td>\n",
       "      <td>168252</td>\n",
       "      <td>2019-10-21 00:00:00+03:00</td>\n",
       "      <td>out</td>\n",
       "      <td>False</td>\n",
       "      <td>NaN</td>\n",
       "      <td>False</td>\n",
       "      <td>1</td>\n",
       "      <td>60</td>\n",
       "      <td>68</td>\n",
       "    </tr>\n",
       "    <tr>\n",
       "      <td>50094</td>\n",
       "      <td>168252</td>\n",
       "      <td>2019-10-23 00:00:00+03:00</td>\n",
       "      <td>out</td>\n",
       "      <td>False</td>\n",
       "      <td>NaN</td>\n",
       "      <td>False</td>\n",
       "      <td>1</td>\n",
       "      <td>81</td>\n",
       "      <td>100</td>\n",
       "    </tr>\n",
       "    <tr>\n",
       "      <td>50129</td>\n",
       "      <td>168252</td>\n",
       "      <td>2019-10-27 00:00:00+03:00</td>\n",
       "      <td>out</td>\n",
       "      <td>False</td>\n",
       "      <td>NaN</td>\n",
       "      <td>False</td>\n",
       "      <td>1</td>\n",
       "      <td>578</td>\n",
       "      <td>590</td>\n",
       "    </tr>\n",
       "    <tr>\n",
       "      <td>50183</td>\n",
       "      <td>168252</td>\n",
       "      <td>2019-10-30 00:00:00+03:00</td>\n",
       "      <td>out</td>\n",
       "      <td>False</td>\n",
       "      <td>NaN</td>\n",
       "      <td>False</td>\n",
       "      <td>1</td>\n",
       "      <td>951</td>\n",
       "      <td>967</td>\n",
       "    </tr>\n",
       "    <tr>\n",
       "      <td>50198</td>\n",
       "      <td>168252</td>\n",
       "      <td>2019-10-30 00:00:00+03:00</td>\n",
       "      <td>out</td>\n",
       "      <td>False</td>\n",
       "      <td>NaN</td>\n",
       "      <td>False</td>\n",
       "      <td>1</td>\n",
       "      <td>951</td>\n",
       "      <td>967</td>\n",
       "    </tr>\n",
       "    <tr>\n",
       "      <td>50220</td>\n",
       "      <td>168252</td>\n",
       "      <td>2019-10-31 00:00:00+03:00</td>\n",
       "      <td>out</td>\n",
       "      <td>False</td>\n",
       "      <td>NaN</td>\n",
       "      <td>False</td>\n",
       "      <td>2</td>\n",
       "      <td>2084</td>\n",
       "      <td>2110</td>\n",
       "    </tr>\n",
       "    <tr>\n",
       "      <td>50232</td>\n",
       "      <td>168252</td>\n",
       "      <td>2019-11-01 00:00:00+03:00</td>\n",
       "      <td>out</td>\n",
       "      <td>False</td>\n",
       "      <td>NaN</td>\n",
       "      <td>False</td>\n",
       "      <td>2</td>\n",
       "      <td>1442</td>\n",
       "      <td>1481</td>\n",
       "    </tr>\n",
       "    <tr>\n",
       "      <td>50243</td>\n",
       "      <td>168252</td>\n",
       "      <td>2019-11-02 00:00:00+03:00</td>\n",
       "      <td>out</td>\n",
       "      <td>False</td>\n",
       "      <td>NaN</td>\n",
       "      <td>False</td>\n",
       "      <td>2</td>\n",
       "      <td>1113</td>\n",
       "      <td>1148</td>\n",
       "    </tr>\n",
       "    <tr>\n",
       "      <td>50267</td>\n",
       "      <td>168252</td>\n",
       "      <td>2019-11-04 00:00:00+03:00</td>\n",
       "      <td>out</td>\n",
       "      <td>False</td>\n",
       "      <td>NaN</td>\n",
       "      <td>False</td>\n",
       "      <td>2</td>\n",
       "      <td>1235</td>\n",
       "      <td>1260</td>\n",
       "    </tr>\n",
       "    <tr>\n",
       "      <td>50279</td>\n",
       "      <td>168252</td>\n",
       "      <td>2019-11-05 00:00:00+03:00</td>\n",
       "      <td>out</td>\n",
       "      <td>False</td>\n",
       "      <td>NaN</td>\n",
       "      <td>False</td>\n",
       "      <td>3</td>\n",
       "      <td>2128</td>\n",
       "      <td>2184</td>\n",
       "    </tr>\n",
       "    <tr>\n",
       "      <td>50307</td>\n",
       "      <td>168252</td>\n",
       "      <td>2019-11-06 00:00:00+03:00</td>\n",
       "      <td>out</td>\n",
       "      <td>False</td>\n",
       "      <td>NaN</td>\n",
       "      <td>False</td>\n",
       "      <td>5</td>\n",
       "      <td>3225</td>\n",
       "      <td>3287</td>\n",
       "    </tr>\n",
       "    <tr>\n",
       "      <td>50334</td>\n",
       "      <td>168252</td>\n",
       "      <td>2019-11-07 00:00:00+03:00</td>\n",
       "      <td>out</td>\n",
       "      <td>False</td>\n",
       "      <td>NaN</td>\n",
       "      <td>False</td>\n",
       "      <td>11</td>\n",
       "      <td>5545</td>\n",
       "      <td>5708</td>\n",
       "    </tr>\n",
       "    <tr>\n",
       "      <td>50354</td>\n",
       "      <td>168252</td>\n",
       "      <td>2019-11-08 00:00:00+03:00</td>\n",
       "      <td>out</td>\n",
       "      <td>False</td>\n",
       "      <td>NaN</td>\n",
       "      <td>False</td>\n",
       "      <td>13</td>\n",
       "      <td>7390</td>\n",
       "      <td>7564</td>\n",
       "    </tr>\n",
       "    <tr>\n",
       "      <td>50392</td>\n",
       "      <td>168252</td>\n",
       "      <td>2019-11-09 00:00:00+03:00</td>\n",
       "      <td>out</td>\n",
       "      <td>False</td>\n",
       "      <td>NaN</td>\n",
       "      <td>False</td>\n",
       "      <td>3</td>\n",
       "      <td>1640</td>\n",
       "      <td>1682</td>\n",
       "    </tr>\n",
       "    <tr>\n",
       "      <td>50399</td>\n",
       "      <td>168252</td>\n",
       "      <td>2019-11-10 00:00:00+03:00</td>\n",
       "      <td>out</td>\n",
       "      <td>False</td>\n",
       "      <td>NaN</td>\n",
       "      <td>False</td>\n",
       "      <td>3</td>\n",
       "      <td>3678</td>\n",
       "      <td>3724</td>\n",
       "    </tr>\n",
       "    <tr>\n",
       "      <td>50421</td>\n",
       "      <td>168252</td>\n",
       "      <td>2019-11-11 00:00:00+03:00</td>\n",
       "      <td>out</td>\n",
       "      <td>False</td>\n",
       "      <td>NaN</td>\n",
       "      <td>False</td>\n",
       "      <td>11</td>\n",
       "      <td>6492</td>\n",
       "      <td>6670</td>\n",
       "    </tr>\n",
       "    <tr>\n",
       "      <td>50460</td>\n",
       "      <td>168252</td>\n",
       "      <td>2019-11-12 00:00:00+03:00</td>\n",
       "      <td>out</td>\n",
       "      <td>True</td>\n",
       "      <td>NaN</td>\n",
       "      <td>False</td>\n",
       "      <td>1</td>\n",
       "      <td>49</td>\n",
       "      <td>59</td>\n",
       "    </tr>\n",
       "    <tr>\n",
       "      <td>50465</td>\n",
       "      <td>168252</td>\n",
       "      <td>2019-11-12 00:00:00+03:00</td>\n",
       "      <td>out</td>\n",
       "      <td>False</td>\n",
       "      <td>NaN</td>\n",
       "      <td>False</td>\n",
       "      <td>12</td>\n",
       "      <td>8890</td>\n",
       "      <td>9054</td>\n",
       "    </tr>\n",
       "    <tr>\n",
       "      <td>50471</td>\n",
       "      <td>168252</td>\n",
       "      <td>2019-11-12 00:00:00+03:00</td>\n",
       "      <td>out</td>\n",
       "      <td>False</td>\n",
       "      <td>NaN</td>\n",
       "      <td>False</td>\n",
       "      <td>12</td>\n",
       "      <td>8890</td>\n",
       "      <td>9054</td>\n",
       "    </tr>\n",
       "    <tr>\n",
       "      <td>50489</td>\n",
       "      <td>168252</td>\n",
       "      <td>2019-11-13 00:00:00+03:00</td>\n",
       "      <td>out</td>\n",
       "      <td>False</td>\n",
       "      <td>NaN</td>\n",
       "      <td>False</td>\n",
       "      <td>20</td>\n",
       "      <td>10412</td>\n",
       "      <td>10705</td>\n",
       "    </tr>\n",
       "    <tr>\n",
       "      <td>50503</td>\n",
       "      <td>168252</td>\n",
       "      <td>2019-11-14 00:00:00+03:00</td>\n",
       "      <td>out</td>\n",
       "      <td>True</td>\n",
       "      <td>NaN</td>\n",
       "      <td>False</td>\n",
       "      <td>1</td>\n",
       "      <td>56</td>\n",
       "      <td>62</td>\n",
       "    </tr>\n",
       "    <tr>\n",
       "      <td>50512</td>\n",
       "      <td>168252</td>\n",
       "      <td>2019-11-14 00:00:00+03:00</td>\n",
       "      <td>out</td>\n",
       "      <td>False</td>\n",
       "      <td>NaN</td>\n",
       "      <td>False</td>\n",
       "      <td>1</td>\n",
       "      <td>369</td>\n",
       "      <td>385</td>\n",
       "    </tr>\n",
       "    <tr>\n",
       "      <td>50536</td>\n",
       "      <td>168252</td>\n",
       "      <td>2019-11-15 00:00:00+03:00</td>\n",
       "      <td>out</td>\n",
       "      <td>False</td>\n",
       "      <td>NaN</td>\n",
       "      <td>False</td>\n",
       "      <td>16</td>\n",
       "      <td>8164</td>\n",
       "      <td>8366</td>\n",
       "    </tr>\n",
       "    <tr>\n",
       "      <td>50549</td>\n",
       "      <td>168252</td>\n",
       "      <td>2019-11-16 00:00:00+03:00</td>\n",
       "      <td>out</td>\n",
       "      <td>False</td>\n",
       "      <td>NaN</td>\n",
       "      <td>False</td>\n",
       "      <td>4</td>\n",
       "      <td>2613</td>\n",
       "      <td>2675</td>\n",
       "    </tr>\n",
       "    <tr>\n",
       "      <td>50571</td>\n",
       "      <td>168252</td>\n",
       "      <td>2019-11-17 00:00:00+03:00</td>\n",
       "      <td>out</td>\n",
       "      <td>False</td>\n",
       "      <td>NaN</td>\n",
       "      <td>False</td>\n",
       "      <td>3</td>\n",
       "      <td>1524</td>\n",
       "      <td>1559</td>\n",
       "    </tr>\n",
       "    <tr>\n",
       "      <td>50593</td>\n",
       "      <td>168252</td>\n",
       "      <td>2019-11-18 00:00:00+03:00</td>\n",
       "      <td>out</td>\n",
       "      <td>False</td>\n",
       "      <td>NaN</td>\n",
       "      <td>False</td>\n",
       "      <td>12</td>\n",
       "      <td>4954</td>\n",
       "      <td>5132</td>\n",
       "    </tr>\n",
       "    <tr>\n",
       "      <td>50595</td>\n",
       "      <td>168252</td>\n",
       "      <td>2019-11-18 00:00:00+03:00</td>\n",
       "      <td>out</td>\n",
       "      <td>True</td>\n",
       "      <td>NaN</td>\n",
       "      <td>False</td>\n",
       "      <td>1</td>\n",
       "      <td>46</td>\n",
       "      <td>55</td>\n",
       "    </tr>\n",
       "    <tr>\n",
       "      <td>50603</td>\n",
       "      <td>168252</td>\n",
       "      <td>2019-11-18 00:00:00+03:00</td>\n",
       "      <td>out</td>\n",
       "      <td>True</td>\n",
       "      <td>NaN</td>\n",
       "      <td>False</td>\n",
       "      <td>1</td>\n",
       "      <td>46</td>\n",
       "      <td>55</td>\n",
       "    </tr>\n",
       "    <tr>\n",
       "      <td>50614</td>\n",
       "      <td>168252</td>\n",
       "      <td>2019-11-19 00:00:00+03:00</td>\n",
       "      <td>out</td>\n",
       "      <td>False</td>\n",
       "      <td>NaN</td>\n",
       "      <td>False</td>\n",
       "      <td>14</td>\n",
       "      <td>6429</td>\n",
       "      <td>6633</td>\n",
       "    </tr>\n",
       "    <tr>\n",
       "      <td>50649</td>\n",
       "      <td>168252</td>\n",
       "      <td>2019-11-20 00:00:00+03:00</td>\n",
       "      <td>out</td>\n",
       "      <td>False</td>\n",
       "      <td>NaN</td>\n",
       "      <td>False</td>\n",
       "      <td>17</td>\n",
       "      <td>7799</td>\n",
       "      <td>7999</td>\n",
       "    </tr>\n",
       "    <tr>\n",
       "      <td>50689</td>\n",
       "      <td>168252</td>\n",
       "      <td>2019-11-21 00:00:00+03:00</td>\n",
       "      <td>out</td>\n",
       "      <td>True</td>\n",
       "      <td>NaN</td>\n",
       "      <td>False</td>\n",
       "      <td>1</td>\n",
       "      <td>53</td>\n",
       "      <td>62</td>\n",
       "    </tr>\n",
       "    <tr>\n",
       "      <td>50711</td>\n",
       "      <td>168252</td>\n",
       "      <td>2019-11-21 00:00:00+03:00</td>\n",
       "      <td>out</td>\n",
       "      <td>False</td>\n",
       "      <td>NaN</td>\n",
       "      <td>False</td>\n",
       "      <td>22</td>\n",
       "      <td>10506</td>\n",
       "      <td>10893</td>\n",
       "    </tr>\n",
       "    <tr>\n",
       "      <td>50753</td>\n",
       "      <td>168252</td>\n",
       "      <td>2019-11-22 00:00:00+03:00</td>\n",
       "      <td>out</td>\n",
       "      <td>False</td>\n",
       "      <td>NaN</td>\n",
       "      <td>False</td>\n",
       "      <td>34</td>\n",
       "      <td>19737</td>\n",
       "      <td>20221</td>\n",
       "    </tr>\n",
       "    <tr>\n",
       "      <td>50783</td>\n",
       "      <td>168252</td>\n",
       "      <td>2019-11-23 00:00:00+03:00</td>\n",
       "      <td>out</td>\n",
       "      <td>False</td>\n",
       "      <td>NaN</td>\n",
       "      <td>False</td>\n",
       "      <td>5</td>\n",
       "      <td>2126</td>\n",
       "      <td>2185</td>\n",
       "    </tr>\n",
       "    <tr>\n",
       "      <td>50787</td>\n",
       "      <td>168252</td>\n",
       "      <td>2019-11-24 00:00:00+03:00</td>\n",
       "      <td>out</td>\n",
       "      <td>False</td>\n",
       "      <td>NaN</td>\n",
       "      <td>False</td>\n",
       "      <td>5</td>\n",
       "      <td>2906</td>\n",
       "      <td>2977</td>\n",
       "    </tr>\n",
       "    <tr>\n",
       "      <td>50815</td>\n",
       "      <td>168252</td>\n",
       "      <td>2019-11-25 00:00:00+03:00</td>\n",
       "      <td>out</td>\n",
       "      <td>False</td>\n",
       "      <td>NaN</td>\n",
       "      <td>False</td>\n",
       "      <td>11</td>\n",
       "      <td>6287</td>\n",
       "      <td>6432</td>\n",
       "    </tr>\n",
       "    <tr>\n",
       "      <td>50858</td>\n",
       "      <td>168252</td>\n",
       "      <td>2019-11-26 00:00:00+03:00</td>\n",
       "      <td>out</td>\n",
       "      <td>False</td>\n",
       "      <td>NaN</td>\n",
       "      <td>False</td>\n",
       "      <td>19</td>\n",
       "      <td>12591</td>\n",
       "      <td>12870</td>\n",
       "    </tr>\n",
       "    <tr>\n",
       "      <td>50863</td>\n",
       "      <td>168252</td>\n",
       "      <td>2019-11-26 00:00:00+03:00</td>\n",
       "      <td>out</td>\n",
       "      <td>True</td>\n",
       "      <td>NaN</td>\n",
       "      <td>False</td>\n",
       "      <td>1</td>\n",
       "      <td>72</td>\n",
       "      <td>90</td>\n",
       "    </tr>\n",
       "    <tr>\n",
       "      <td>50911</td>\n",
       "      <td>168252</td>\n",
       "      <td>2019-11-27 00:00:00+03:00</td>\n",
       "      <td>out</td>\n",
       "      <td>False</td>\n",
       "      <td>NaN</td>\n",
       "      <td>False</td>\n",
       "      <td>27</td>\n",
       "      <td>17925</td>\n",
       "      <td>18283</td>\n",
       "    </tr>\n",
       "    <tr>\n",
       "      <td>50955</td>\n",
       "      <td>168252</td>\n",
       "      <td>2019-11-28 00:00:00+03:00</td>\n",
       "      <td>out</td>\n",
       "      <td>False</td>\n",
       "      <td>NaN</td>\n",
       "      <td>False</td>\n",
       "      <td>22</td>\n",
       "      <td>11904</td>\n",
       "      <td>12211</td>\n",
       "    </tr>\n",
       "    <tr>\n",
       "      <td>50956</td>\n",
       "      <td>168252</td>\n",
       "      <td>2019-11-28 00:00:00+03:00</td>\n",
       "      <td>out</td>\n",
       "      <td>True</td>\n",
       "      <td>NaN</td>\n",
       "      <td>False</td>\n",
       "      <td>1</td>\n",
       "      <td>159</td>\n",
       "      <td>168</td>\n",
       "    </tr>\n",
       "  </tbody>\n",
       "</table>\n",
       "</div>"
      ],
      "text/plain": [
       "       user_id                       date direction  internal  operator_id  \\\n",
       "4089    166503  2019-09-26 00:00:00+03:00       out     False          NaN   \n",
       "4198    166503  2019-10-21 00:00:00+03:00       out      True          NaN   \n",
       "43756   168018  2019-11-05 00:00:00+03:00       out     False          NaN   \n",
       "43806   168018  2019-11-13 00:00:00+03:00       out     False          NaN   \n",
       "43850   168018  2019-11-26 00:00:00+03:00       out     False          NaN   \n",
       "50038   168252  2019-10-17 00:00:00+03:00       out     False          NaN   \n",
       "50048   168252  2019-10-18 00:00:00+03:00       out     False          NaN   \n",
       "50058   168252  2019-10-18 00:00:00+03:00       out     False          NaN   \n",
       "50072   168252  2019-10-21 00:00:00+03:00       out     False          NaN   \n",
       "50094   168252  2019-10-23 00:00:00+03:00       out     False          NaN   \n",
       "50129   168252  2019-10-27 00:00:00+03:00       out     False          NaN   \n",
       "50183   168252  2019-10-30 00:00:00+03:00       out     False          NaN   \n",
       "50198   168252  2019-10-30 00:00:00+03:00       out     False          NaN   \n",
       "50220   168252  2019-10-31 00:00:00+03:00       out     False          NaN   \n",
       "50232   168252  2019-11-01 00:00:00+03:00       out     False          NaN   \n",
       "50243   168252  2019-11-02 00:00:00+03:00       out     False          NaN   \n",
       "50267   168252  2019-11-04 00:00:00+03:00       out     False          NaN   \n",
       "50279   168252  2019-11-05 00:00:00+03:00       out     False          NaN   \n",
       "50307   168252  2019-11-06 00:00:00+03:00       out     False          NaN   \n",
       "50334   168252  2019-11-07 00:00:00+03:00       out     False          NaN   \n",
       "50354   168252  2019-11-08 00:00:00+03:00       out     False          NaN   \n",
       "50392   168252  2019-11-09 00:00:00+03:00       out     False          NaN   \n",
       "50399   168252  2019-11-10 00:00:00+03:00       out     False          NaN   \n",
       "50421   168252  2019-11-11 00:00:00+03:00       out     False          NaN   \n",
       "50460   168252  2019-11-12 00:00:00+03:00       out      True          NaN   \n",
       "50465   168252  2019-11-12 00:00:00+03:00       out     False          NaN   \n",
       "50471   168252  2019-11-12 00:00:00+03:00       out     False          NaN   \n",
       "50489   168252  2019-11-13 00:00:00+03:00       out     False          NaN   \n",
       "50503   168252  2019-11-14 00:00:00+03:00       out      True          NaN   \n",
       "50512   168252  2019-11-14 00:00:00+03:00       out     False          NaN   \n",
       "50536   168252  2019-11-15 00:00:00+03:00       out     False          NaN   \n",
       "50549   168252  2019-11-16 00:00:00+03:00       out     False          NaN   \n",
       "50571   168252  2019-11-17 00:00:00+03:00       out     False          NaN   \n",
       "50593   168252  2019-11-18 00:00:00+03:00       out     False          NaN   \n",
       "50595   168252  2019-11-18 00:00:00+03:00       out      True          NaN   \n",
       "50603   168252  2019-11-18 00:00:00+03:00       out      True          NaN   \n",
       "50614   168252  2019-11-19 00:00:00+03:00       out     False          NaN   \n",
       "50649   168252  2019-11-20 00:00:00+03:00       out     False          NaN   \n",
       "50689   168252  2019-11-21 00:00:00+03:00       out      True          NaN   \n",
       "50711   168252  2019-11-21 00:00:00+03:00       out     False          NaN   \n",
       "50753   168252  2019-11-22 00:00:00+03:00       out     False          NaN   \n",
       "50783   168252  2019-11-23 00:00:00+03:00       out     False          NaN   \n",
       "50787   168252  2019-11-24 00:00:00+03:00       out     False          NaN   \n",
       "50815   168252  2019-11-25 00:00:00+03:00       out     False          NaN   \n",
       "50858   168252  2019-11-26 00:00:00+03:00       out     False          NaN   \n",
       "50863   168252  2019-11-26 00:00:00+03:00       out      True          NaN   \n",
       "50911   168252  2019-11-27 00:00:00+03:00       out     False          NaN   \n",
       "50955   168252  2019-11-28 00:00:00+03:00       out     False          NaN   \n",
       "50956   168252  2019-11-28 00:00:00+03:00       out      True          NaN   \n",
       "\n",
       "       is_missed_call  calls_count  call_duration  total_call_duration  \n",
       "4089            False            1            213                  220  \n",
       "4198            False            2            382                  397  \n",
       "43756           False            1            978                  984  \n",
       "43806           False            1            585                  598  \n",
       "43850           False            1            229                  246  \n",
       "50038           False            1             69                   79  \n",
       "50048           False            1            170                  177  \n",
       "50058           False            1            170                  177  \n",
       "50072           False            1             60                   68  \n",
       "50094           False            1             81                  100  \n",
       "50129           False            1            578                  590  \n",
       "50183           False            1            951                  967  \n",
       "50198           False            1            951                  967  \n",
       "50220           False            2           2084                 2110  \n",
       "50232           False            2           1442                 1481  \n",
       "50243           False            2           1113                 1148  \n",
       "50267           False            2           1235                 1260  \n",
       "50279           False            3           2128                 2184  \n",
       "50307           False            5           3225                 3287  \n",
       "50334           False           11           5545                 5708  \n",
       "50354           False           13           7390                 7564  \n",
       "50392           False            3           1640                 1682  \n",
       "50399           False            3           3678                 3724  \n",
       "50421           False           11           6492                 6670  \n",
       "50460           False            1             49                   59  \n",
       "50465           False           12           8890                 9054  \n",
       "50471           False           12           8890                 9054  \n",
       "50489           False           20          10412                10705  \n",
       "50503           False            1             56                   62  \n",
       "50512           False            1            369                  385  \n",
       "50536           False           16           8164                 8366  \n",
       "50549           False            4           2613                 2675  \n",
       "50571           False            3           1524                 1559  \n",
       "50593           False           12           4954                 5132  \n",
       "50595           False            1             46                   55  \n",
       "50603           False            1             46                   55  \n",
       "50614           False           14           6429                 6633  \n",
       "50649           False           17           7799                 7999  \n",
       "50689           False            1             53                   62  \n",
       "50711           False           22          10506                10893  \n",
       "50753           False           34          19737                20221  \n",
       "50783           False            5           2126                 2185  \n",
       "50787           False            5           2906                 2977  \n",
       "50815           False           11           6287                 6432  \n",
       "50858           False           19          12591                12870  \n",
       "50863           False            1             72                   90  \n",
       "50911           False           27          17925                18283  \n",
       "50955           False           22          11904                12211  \n",
       "50956           False            1            159                  168  "
      ]
     },
     "execution_count": 17,
     "metadata": {},
     "output_type": "execute_result"
    }
   ],
   "source": [
    "out_call_false = nan_out[nan_out['is_missed_call']==False]\n",
    "out_call_false"
   ]
  },
  {
   "cell_type": "code",
   "execution_count": 18,
   "metadata": {},
   "outputs": [
    {
     "data": {
      "text/plain": [
       "168252    44\n",
       "168018     3\n",
       "166503     2\n",
       "Name: user_id, dtype: int64"
      ]
     },
     "execution_count": 18,
     "metadata": {},
     "output_type": "execute_result"
    }
   ],
   "source": [
    "out_call_false['user_id'].value_counts()"
   ]
  },
  {
   "cell_type": "markdown",
   "metadata": {},
   "source": [
    "44 из 49 пропущенных исходящих звонков приходится на клиента 168252"
   ]
  },
  {
   "cell_type": "markdown",
   "metadata": {},
   "source": [
    "Теперь перейдем к основному \"куску\" данных с пропусками - входящие звонки"
   ]
  },
  {
   "cell_type": "code",
   "execution_count": 19,
   "metadata": {},
   "outputs": [
    {
     "data": {
      "text/html": [
       "<div>\n",
       "<style scoped>\n",
       "    .dataframe tbody tr th:only-of-type {\n",
       "        vertical-align: middle;\n",
       "    }\n",
       "\n",
       "    .dataframe tbody tr th {\n",
       "        vertical-align: top;\n",
       "    }\n",
       "\n",
       "    .dataframe thead th {\n",
       "        text-align: right;\n",
       "    }\n",
       "</style>\n",
       "<table border=\"1\" class=\"dataframe\">\n",
       "  <thead>\n",
       "    <tr style=\"text-align: right;\">\n",
       "      <th></th>\n",
       "      <th>user_id</th>\n",
       "      <th>date</th>\n",
       "      <th>direction</th>\n",
       "      <th>internal</th>\n",
       "      <th>operator_id</th>\n",
       "      <th>is_missed_call</th>\n",
       "      <th>calls_count</th>\n",
       "      <th>call_duration</th>\n",
       "      <th>total_call_duration</th>\n",
       "    </tr>\n",
       "  </thead>\n",
       "  <tbody>\n",
       "    <tr>\n",
       "      <td>0</td>\n",
       "      <td>166377</td>\n",
       "      <td>2019-08-04 00:00:00+03:00</td>\n",
       "      <td>in</td>\n",
       "      <td>False</td>\n",
       "      <td>NaN</td>\n",
       "      <td>True</td>\n",
       "      <td>2</td>\n",
       "      <td>0</td>\n",
       "      <td>4</td>\n",
       "    </tr>\n",
       "    <tr>\n",
       "      <td>7</td>\n",
       "      <td>166377</td>\n",
       "      <td>2019-08-05 00:00:00+03:00</td>\n",
       "      <td>in</td>\n",
       "      <td>False</td>\n",
       "      <td>NaN</td>\n",
       "      <td>True</td>\n",
       "      <td>6</td>\n",
       "      <td>0</td>\n",
       "      <td>35</td>\n",
       "    </tr>\n",
       "    <tr>\n",
       "      <td>9</td>\n",
       "      <td>166377</td>\n",
       "      <td>2019-08-06 00:00:00+03:00</td>\n",
       "      <td>in</td>\n",
       "      <td>False</td>\n",
       "      <td>NaN</td>\n",
       "      <td>True</td>\n",
       "      <td>4</td>\n",
       "      <td>0</td>\n",
       "      <td>62</td>\n",
       "    </tr>\n",
       "    <tr>\n",
       "      <td>17</td>\n",
       "      <td>166377</td>\n",
       "      <td>2019-08-07 00:00:00+03:00</td>\n",
       "      <td>in</td>\n",
       "      <td>False</td>\n",
       "      <td>NaN</td>\n",
       "      <td>True</td>\n",
       "      <td>2</td>\n",
       "      <td>0</td>\n",
       "      <td>24</td>\n",
       "    </tr>\n",
       "    <tr>\n",
       "      <td>27</td>\n",
       "      <td>166377</td>\n",
       "      <td>2019-08-12 00:00:00+03:00</td>\n",
       "      <td>in</td>\n",
       "      <td>False</td>\n",
       "      <td>NaN</td>\n",
       "      <td>True</td>\n",
       "      <td>2</td>\n",
       "      <td>0</td>\n",
       "      <td>34</td>\n",
       "    </tr>\n",
       "    <tr>\n",
       "      <td>...</td>\n",
       "      <td>...</td>\n",
       "      <td>...</td>\n",
       "      <td>...</td>\n",
       "      <td>...</td>\n",
       "      <td>...</td>\n",
       "      <td>...</td>\n",
       "      <td>...</td>\n",
       "      <td>...</td>\n",
       "      <td>...</td>\n",
       "    </tr>\n",
       "    <tr>\n",
       "      <td>53876</td>\n",
       "      <td>168601</td>\n",
       "      <td>2019-11-27 00:00:00+03:00</td>\n",
       "      <td>in</td>\n",
       "      <td>False</td>\n",
       "      <td>NaN</td>\n",
       "      <td>True</td>\n",
       "      <td>2</td>\n",
       "      <td>0</td>\n",
       "      <td>39</td>\n",
       "    </tr>\n",
       "    <tr>\n",
       "      <td>53880</td>\n",
       "      <td>168601</td>\n",
       "      <td>2019-11-28 00:00:00+03:00</td>\n",
       "      <td>in</td>\n",
       "      <td>False</td>\n",
       "      <td>NaN</td>\n",
       "      <td>True</td>\n",
       "      <td>1</td>\n",
       "      <td>0</td>\n",
       "      <td>19</td>\n",
       "    </tr>\n",
       "    <tr>\n",
       "      <td>53889</td>\n",
       "      <td>168603</td>\n",
       "      <td>2019-11-28 00:00:00+03:00</td>\n",
       "      <td>in</td>\n",
       "      <td>False</td>\n",
       "      <td>NaN</td>\n",
       "      <td>True</td>\n",
       "      <td>1</td>\n",
       "      <td>0</td>\n",
       "      <td>30</td>\n",
       "    </tr>\n",
       "    <tr>\n",
       "      <td>53893</td>\n",
       "      <td>168606</td>\n",
       "      <td>2019-11-08 00:00:00+03:00</td>\n",
       "      <td>in</td>\n",
       "      <td>False</td>\n",
       "      <td>NaN</td>\n",
       "      <td>True</td>\n",
       "      <td>6</td>\n",
       "      <td>0</td>\n",
       "      <td>121</td>\n",
       "    </tr>\n",
       "    <tr>\n",
       "      <td>53901</td>\n",
       "      <td>168606</td>\n",
       "      <td>2019-11-19 00:00:00+03:00</td>\n",
       "      <td>in</td>\n",
       "      <td>False</td>\n",
       "      <td>NaN</td>\n",
       "      <td>True</td>\n",
       "      <td>2</td>\n",
       "      <td>0</td>\n",
       "      <td>64</td>\n",
       "    </tr>\n",
       "  </tbody>\n",
       "</table>\n",
       "<p>7972 rows × 9 columns</p>\n",
       "</div>"
      ],
      "text/plain": [
       "       user_id                       date direction  internal  operator_id  \\\n",
       "0       166377  2019-08-04 00:00:00+03:00        in     False          NaN   \n",
       "7       166377  2019-08-05 00:00:00+03:00        in     False          NaN   \n",
       "9       166377  2019-08-06 00:00:00+03:00        in     False          NaN   \n",
       "17      166377  2019-08-07 00:00:00+03:00        in     False          NaN   \n",
       "27      166377  2019-08-12 00:00:00+03:00        in     False          NaN   \n",
       "...        ...                        ...       ...       ...          ...   \n",
       "53876   168601  2019-11-27 00:00:00+03:00        in     False          NaN   \n",
       "53880   168601  2019-11-28 00:00:00+03:00        in     False          NaN   \n",
       "53889   168603  2019-11-28 00:00:00+03:00        in     False          NaN   \n",
       "53893   168606  2019-11-08 00:00:00+03:00        in     False          NaN   \n",
       "53901   168606  2019-11-19 00:00:00+03:00        in     False          NaN   \n",
       "\n",
       "       is_missed_call  calls_count  call_duration  total_call_duration  \n",
       "0                True            2              0                    4  \n",
       "7                True            6              0                   35  \n",
       "9                True            4              0                   62  \n",
       "17               True            2              0                   24  \n",
       "27               True            2              0                   34  \n",
       "...               ...          ...            ...                  ...  \n",
       "53876            True            2              0                   39  \n",
       "53880            True            1              0                   19  \n",
       "53889            True            1              0                   30  \n",
       "53893            True            6              0                  121  \n",
       "53901            True            2              0                   64  \n",
       "\n",
       "[7972 rows x 9 columns]"
      ]
     },
     "execution_count": 19,
     "metadata": {},
     "output_type": "execute_result"
    }
   ],
   "source": [
    "nan_in = nan_operator[nan_operator['direction']=='in']\n",
    "nan_in"
   ]
  },
  {
   "cell_type": "markdown",
   "metadata": {},
   "source": [
    "Как и в случае с исходящими звонками рассмотрим пропущенные звонки."
   ]
  },
  {
   "cell_type": "code",
   "execution_count": 20,
   "metadata": {},
   "outputs": [
    {
     "data": {
      "text/plain": [
       "True     7899\n",
       "False      73\n",
       "Name: is_missed_call, dtype: int64"
      ]
     },
     "execution_count": 20,
     "metadata": {},
     "output_type": "execute_result"
    }
   ],
   "source": [
    "nan_in['is_missed_call'].value_counts()"
   ]
  },
  {
   "cell_type": "markdown",
   "metadata": {},
   "source": [
    "Как мы видим львиная доля из данных с неопределившимся оператором - пропущенные звонки. Предварительно можно сделать вывод, что имеет место быть проблема с идентификацией таких звонков, возможно система не способна его воспринимать и данные теряются.  "
   ]
  },
  {
   "cell_type": "markdown",
   "metadata": {},
   "source": [
    "Попробуем высчитать долю пропущенных входящих звонков от общего количества. "
   ]
  },
  {
   "cell_type": "code",
   "execution_count": 21,
   "metadata": {},
   "outputs": [
    {
     "data": {
      "text/plain": [
       "False    30334\n",
       "True     23568\n",
       "Name: is_missed_call, dtype: int64"
      ]
     },
     "execution_count": 21,
     "metadata": {},
     "output_type": "execute_result"
    }
   ],
   "source": [
    "telecom_dataset['is_missed_call'].value_counts()"
   ]
  },
  {
   "cell_type": "markdown",
   "metadata": {},
   "source": [
    "7899 из 23568(26%) пропущенных звонков не идентифицируют оператора. Это много и этому стоит уделить внимание. "
   ]
  },
  {
   "cell_type": "markdown",
   "metadata": {},
   "source": [
    "По итогам предварительного изучения и обработки данных можно сделать вывод о том, что в в 98,5% процентах случаев пропуск значений связан с пропущенным звонком. Техническим специалистам необходимо обратить на эту проблему свое внимание и в максимально сжатые сроки исправить эту ошибку. \n",
    "Значения с пропусками составляют около 15% всего датасета, поэтому мы не можем удалить эти данные. В нашем исследования возьмем допущение, заполнив эти пропуски самым часто встречающимся id оператора по каждому клиенту, так мы сможем и сохранить данные и не повлиять на их суть. "
   ]
  },
  {
   "cell_type": "code",
   "execution_count": 22,
   "metadata": {},
   "outputs": [
    {
     "name": "stdout",
     "output_type": "stream",
     "text": [
      "<class 'pandas.core.frame.DataFrame'>\n",
      "RangeIndex: 53902 entries, 0 to 53901\n",
      "Data columns (total 9 columns):\n",
      "user_id                53902 non-null int64\n",
      "date                   53902 non-null object\n",
      "direction              53902 non-null object\n",
      "internal               53902 non-null bool\n",
      "operator_id            53902 non-null float64\n",
      "is_missed_call         53902 non-null bool\n",
      "calls_count            53902 non-null int64\n",
      "call_duration          53902 non-null int64\n",
      "total_call_duration    53902 non-null int64\n",
      "dtypes: bool(2), float64(1), int64(4), object(2)\n",
      "memory usage: 3.0+ MB\n"
     ]
    }
   ],
   "source": [
    "mode =  telecom_dataset['operator_id'].mode()[0]\n",
    "telecom_dataset['operator_id'] = telecom_dataset.groupby('user_id')\\\n",
    "['operator_id'].apply(lambda x: x.fillna(x.value_counts()\\\n",
    "                                         .idxmax() if x.value_counts().max() >=1 else mode , inplace = False))\n",
    "telecom_dataset.info()"
   ]
  },
  {
   "cell_type": "markdown",
   "metadata": {},
   "source": [
    "Заменим тип столбца operator_id на int64"
   ]
  },
  {
   "cell_type": "code",
   "execution_count": 23,
   "metadata": {},
   "outputs": [],
   "source": [
    "telecom_dataset['operator_id'] = telecom_dataset['operator_id'].astype('int64')"
   ]
  },
  {
   "cell_type": "markdown",
   "metadata": {},
   "source": [
    "Далее проверим датасет на дубликаты и избавимся от них "
   ]
  },
  {
   "cell_type": "code",
   "execution_count": 24,
   "metadata": {},
   "outputs": [
    {
     "data": {
      "text/plain": [
       "4902"
      ]
     },
     "execution_count": 24,
     "metadata": {},
     "output_type": "execute_result"
    }
   ],
   "source": [
    "telecom_dataset.duplicated().sum()"
   ]
  },
  {
   "cell_type": "code",
   "execution_count": 25,
   "metadata": {},
   "outputs": [],
   "source": [
    "telecom_dataset = telecom_dataset.drop_duplicates().reset_index(drop=True)"
   ]
  },
  {
   "cell_type": "markdown",
   "metadata": {},
   "source": [
    "Далее приведем столбец с датой в удобный для исследования формат"
   ]
  },
  {
   "cell_type": "code",
   "execution_count": 26,
   "metadata": {},
   "outputs": [],
   "source": [
    "telecom_dataset['date'] = pd.to_datetime(telecom_dataset['date'])\n",
    "telecom_dataset['date'] = telecom_dataset['date'].dt.date"
   ]
  },
  {
   "cell_type": "code",
   "execution_count": 27,
   "metadata": {},
   "outputs": [],
   "source": [
    "telecom_dataset['date'] = pd.to_datetime(telecom_dataset['date'])"
   ]
  },
  {
   "cell_type": "code",
   "execution_count": 28,
   "metadata": {},
   "outputs": [
    {
     "name": "stdout",
     "output_type": "stream",
     "text": [
      "<class 'pandas.core.frame.DataFrame'>\n",
      "RangeIndex: 49000 entries, 0 to 48999\n",
      "Data columns (total 9 columns):\n",
      "user_id                49000 non-null int64\n",
      "date                   49000 non-null datetime64[ns]\n",
      "direction              49000 non-null object\n",
      "internal               49000 non-null bool\n",
      "operator_id            49000 non-null int64\n",
      "is_missed_call         49000 non-null bool\n",
      "calls_count            49000 non-null int64\n",
      "call_duration          49000 non-null int64\n",
      "total_call_duration    49000 non-null int64\n",
      "dtypes: bool(2), datetime64[ns](1), int64(5), object(1)\n",
      "memory usage: 2.7+ MB\n"
     ]
    }
   ],
   "source": [
    "telecom_dataset.info()"
   ]
  },
  {
   "cell_type": "code",
   "execution_count": 29,
   "metadata": {},
   "outputs": [
    {
     "data": {
      "text/html": [
       "<div>\n",
       "<style scoped>\n",
       "    .dataframe tbody tr th:only-of-type {\n",
       "        vertical-align: middle;\n",
       "    }\n",
       "\n",
       "    .dataframe tbody tr th {\n",
       "        vertical-align: top;\n",
       "    }\n",
       "\n",
       "    .dataframe thead th {\n",
       "        text-align: right;\n",
       "    }\n",
       "</style>\n",
       "<table border=\"1\" class=\"dataframe\">\n",
       "  <thead>\n",
       "    <tr style=\"text-align: right;\">\n",
       "      <th></th>\n",
       "      <th>user_id</th>\n",
       "      <th>date</th>\n",
       "      <th>direction</th>\n",
       "      <th>internal</th>\n",
       "      <th>operator_id</th>\n",
       "      <th>is_missed_call</th>\n",
       "      <th>calls_count</th>\n",
       "      <th>call_duration</th>\n",
       "      <th>total_call_duration</th>\n",
       "    </tr>\n",
       "  </thead>\n",
       "  <tbody>\n",
       "    <tr>\n",
       "      <td>0</td>\n",
       "      <td>166377</td>\n",
       "      <td>2019-08-04</td>\n",
       "      <td>in</td>\n",
       "      <td>False</td>\n",
       "      <td>880028</td>\n",
       "      <td>True</td>\n",
       "      <td>2</td>\n",
       "      <td>0</td>\n",
       "      <td>4</td>\n",
       "    </tr>\n",
       "    <tr>\n",
       "      <td>1</td>\n",
       "      <td>166377</td>\n",
       "      <td>2019-08-05</td>\n",
       "      <td>out</td>\n",
       "      <td>True</td>\n",
       "      <td>880022</td>\n",
       "      <td>True</td>\n",
       "      <td>3</td>\n",
       "      <td>0</td>\n",
       "      <td>5</td>\n",
       "    </tr>\n",
       "    <tr>\n",
       "      <td>2</td>\n",
       "      <td>166377</td>\n",
       "      <td>2019-08-05</td>\n",
       "      <td>out</td>\n",
       "      <td>True</td>\n",
       "      <td>880020</td>\n",
       "      <td>True</td>\n",
       "      <td>1</td>\n",
       "      <td>0</td>\n",
       "      <td>1</td>\n",
       "    </tr>\n",
       "    <tr>\n",
       "      <td>3</td>\n",
       "      <td>166377</td>\n",
       "      <td>2019-08-05</td>\n",
       "      <td>out</td>\n",
       "      <td>True</td>\n",
       "      <td>880020</td>\n",
       "      <td>False</td>\n",
       "      <td>1</td>\n",
       "      <td>10</td>\n",
       "      <td>18</td>\n",
       "    </tr>\n",
       "    <tr>\n",
       "      <td>4</td>\n",
       "      <td>166377</td>\n",
       "      <td>2019-08-05</td>\n",
       "      <td>out</td>\n",
       "      <td>False</td>\n",
       "      <td>880022</td>\n",
       "      <td>True</td>\n",
       "      <td>3</td>\n",
       "      <td>0</td>\n",
       "      <td>25</td>\n",
       "    </tr>\n",
       "  </tbody>\n",
       "</table>\n",
       "</div>"
      ],
      "text/plain": [
       "   user_id       date direction  internal  operator_id  is_missed_call  \\\n",
       "0   166377 2019-08-04        in     False       880028            True   \n",
       "1   166377 2019-08-05       out      True       880022            True   \n",
       "2   166377 2019-08-05       out      True       880020            True   \n",
       "3   166377 2019-08-05       out      True       880020           False   \n",
       "4   166377 2019-08-05       out     False       880022            True   \n",
       "\n",
       "   calls_count  call_duration  total_call_duration  \n",
       "0            2              0                    4  \n",
       "1            3              0                    5  \n",
       "2            1              0                    1  \n",
       "3            1             10                   18  \n",
       "4            3              0                   25  "
      ]
     },
     "execution_count": 29,
     "metadata": {},
     "output_type": "execute_result"
    }
   ],
   "source": [
    "telecom_dataset.head(5)"
   ]
  },
  {
   "cell_type": "markdown",
   "metadata": {},
   "source": [
    "Добавим в датасет следующие расчетные столбцы: длительность ожидания ответа на звонки, длительность ожидания ответа на один звонок, длительность одного звонка с учетом времени ожидания и длительность одного звонка без учета времени ожидания."
   ]
  },
  {
   "cell_type": "code",
   "execution_count": 30,
   "metadata": {},
   "outputs": [],
   "source": [
    "telecom_dataset['waiting_time_answers'] = telecom_dataset['total_call_duration'] - telecom_dataset['call_duration']\n",
    "telecom_dataset['waiting_time_one_answer'] = telecom_dataset['waiting_time_answers'] / telecom_dataset['calls_count']\n",
    "telecom_dataset['one_call_duration_full'] = telecom_dataset['total_call_duration'] / telecom_dataset['calls_count']\n",
    "telecom_dataset['one_call_duration_clean'] = telecom_dataset['call_duration'] / telecom_dataset['calls_count']"
   ]
  },
  {
   "cell_type": "code",
   "execution_count": 31,
   "metadata": {},
   "outputs": [
    {
     "data": {
      "text/html": [
       "<div>\n",
       "<style scoped>\n",
       "    .dataframe tbody tr th:only-of-type {\n",
       "        vertical-align: middle;\n",
       "    }\n",
       "\n",
       "    .dataframe tbody tr th {\n",
       "        vertical-align: top;\n",
       "    }\n",
       "\n",
       "    .dataframe thead th {\n",
       "        text-align: right;\n",
       "    }\n",
       "</style>\n",
       "<table border=\"1\" class=\"dataframe\">\n",
       "  <thead>\n",
       "    <tr style=\"text-align: right;\">\n",
       "      <th></th>\n",
       "      <th>user_id</th>\n",
       "      <th>date</th>\n",
       "      <th>direction</th>\n",
       "      <th>internal</th>\n",
       "      <th>operator_id</th>\n",
       "      <th>is_missed_call</th>\n",
       "      <th>calls_count</th>\n",
       "      <th>call_duration</th>\n",
       "      <th>total_call_duration</th>\n",
       "      <th>waiting_time_answers</th>\n",
       "      <th>waiting_time_one_answer</th>\n",
       "      <th>one_call_duration_full</th>\n",
       "      <th>one_call_duration_clean</th>\n",
       "    </tr>\n",
       "  </thead>\n",
       "  <tbody>\n",
       "    <tr>\n",
       "      <td>0</td>\n",
       "      <td>166377</td>\n",
       "      <td>2019-08-04</td>\n",
       "      <td>in</td>\n",
       "      <td>False</td>\n",
       "      <td>880028</td>\n",
       "      <td>True</td>\n",
       "      <td>2</td>\n",
       "      <td>0</td>\n",
       "      <td>4</td>\n",
       "      <td>4</td>\n",
       "      <td>2.000000</td>\n",
       "      <td>2.000000</td>\n",
       "      <td>0.0</td>\n",
       "    </tr>\n",
       "    <tr>\n",
       "      <td>1</td>\n",
       "      <td>166377</td>\n",
       "      <td>2019-08-05</td>\n",
       "      <td>out</td>\n",
       "      <td>True</td>\n",
       "      <td>880022</td>\n",
       "      <td>True</td>\n",
       "      <td>3</td>\n",
       "      <td>0</td>\n",
       "      <td>5</td>\n",
       "      <td>5</td>\n",
       "      <td>1.666667</td>\n",
       "      <td>1.666667</td>\n",
       "      <td>0.0</td>\n",
       "    </tr>\n",
       "    <tr>\n",
       "      <td>2</td>\n",
       "      <td>166377</td>\n",
       "      <td>2019-08-05</td>\n",
       "      <td>out</td>\n",
       "      <td>True</td>\n",
       "      <td>880020</td>\n",
       "      <td>True</td>\n",
       "      <td>1</td>\n",
       "      <td>0</td>\n",
       "      <td>1</td>\n",
       "      <td>1</td>\n",
       "      <td>1.000000</td>\n",
       "      <td>1.000000</td>\n",
       "      <td>0.0</td>\n",
       "    </tr>\n",
       "    <tr>\n",
       "      <td>3</td>\n",
       "      <td>166377</td>\n",
       "      <td>2019-08-05</td>\n",
       "      <td>out</td>\n",
       "      <td>True</td>\n",
       "      <td>880020</td>\n",
       "      <td>False</td>\n",
       "      <td>1</td>\n",
       "      <td>10</td>\n",
       "      <td>18</td>\n",
       "      <td>8</td>\n",
       "      <td>8.000000</td>\n",
       "      <td>18.000000</td>\n",
       "      <td>10.0</td>\n",
       "    </tr>\n",
       "    <tr>\n",
       "      <td>4</td>\n",
       "      <td>166377</td>\n",
       "      <td>2019-08-05</td>\n",
       "      <td>out</td>\n",
       "      <td>False</td>\n",
       "      <td>880022</td>\n",
       "      <td>True</td>\n",
       "      <td>3</td>\n",
       "      <td>0</td>\n",
       "      <td>25</td>\n",
       "      <td>25</td>\n",
       "      <td>8.333333</td>\n",
       "      <td>8.333333</td>\n",
       "      <td>0.0</td>\n",
       "    </tr>\n",
       "  </tbody>\n",
       "</table>\n",
       "</div>"
      ],
      "text/plain": [
       "   user_id       date direction  internal  operator_id  is_missed_call  \\\n",
       "0   166377 2019-08-04        in     False       880028            True   \n",
       "1   166377 2019-08-05       out      True       880022            True   \n",
       "2   166377 2019-08-05       out      True       880020            True   \n",
       "3   166377 2019-08-05       out      True       880020           False   \n",
       "4   166377 2019-08-05       out     False       880022            True   \n",
       "\n",
       "   calls_count  call_duration  total_call_duration  waiting_time_answers  \\\n",
       "0            2              0                    4                     4   \n",
       "1            3              0                    5                     5   \n",
       "2            1              0                    1                     1   \n",
       "3            1             10                   18                     8   \n",
       "4            3              0                   25                    25   \n",
       "\n",
       "   waiting_time_one_answer  one_call_duration_full  one_call_duration_clean  \n",
       "0                 2.000000                2.000000                      0.0  \n",
       "1                 1.666667                1.666667                      0.0  \n",
       "2                 1.000000                1.000000                      0.0  \n",
       "3                 8.000000               18.000000                     10.0  \n",
       "4                 8.333333                8.333333                      0.0  "
      ]
     },
     "execution_count": 31,
     "metadata": {},
     "output_type": "execute_result"
    }
   ],
   "source": [
    "telecom_dataset.head(5)"
   ]
  },
  {
   "cell_type": "markdown",
   "metadata": {},
   "source": [
    "### Предобработка датафрейма telecom_clients (проверка на наличие пропусков, дубликатов, аномальных данных и т.д.)"
   ]
  },
  {
   "cell_type": "code",
   "execution_count": 32,
   "metadata": {},
   "outputs": [
    {
     "data": {
      "text/html": [
       "<div>\n",
       "<style scoped>\n",
       "    .dataframe tbody tr th:only-of-type {\n",
       "        vertical-align: middle;\n",
       "    }\n",
       "\n",
       "    .dataframe tbody tr th {\n",
       "        vertical-align: top;\n",
       "    }\n",
       "\n",
       "    .dataframe thead th {\n",
       "        text-align: right;\n",
       "    }\n",
       "</style>\n",
       "<table border=\"1\" class=\"dataframe\">\n",
       "  <thead>\n",
       "    <tr style=\"text-align: right;\">\n",
       "      <th></th>\n",
       "      <th>user_id</th>\n",
       "      <th>tariff_plan</th>\n",
       "      <th>date_start</th>\n",
       "    </tr>\n",
       "  </thead>\n",
       "  <tbody>\n",
       "    <tr>\n",
       "      <td>0</td>\n",
       "      <td>166713</td>\n",
       "      <td>A</td>\n",
       "      <td>2019-08-15</td>\n",
       "    </tr>\n",
       "    <tr>\n",
       "      <td>1</td>\n",
       "      <td>166901</td>\n",
       "      <td>A</td>\n",
       "      <td>2019-08-23</td>\n",
       "    </tr>\n",
       "    <tr>\n",
       "      <td>2</td>\n",
       "      <td>168527</td>\n",
       "      <td>A</td>\n",
       "      <td>2019-10-29</td>\n",
       "    </tr>\n",
       "    <tr>\n",
       "      <td>3</td>\n",
       "      <td>167097</td>\n",
       "      <td>A</td>\n",
       "      <td>2019-09-01</td>\n",
       "    </tr>\n",
       "    <tr>\n",
       "      <td>4</td>\n",
       "      <td>168193</td>\n",
       "      <td>A</td>\n",
       "      <td>2019-10-16</td>\n",
       "    </tr>\n",
       "  </tbody>\n",
       "</table>\n",
       "</div>"
      ],
      "text/plain": [
       "   user_id tariff_plan  date_start\n",
       "0   166713           A  2019-08-15\n",
       "1   166901           A  2019-08-23\n",
       "2   168527           A  2019-10-29\n",
       "3   167097           A  2019-09-01\n",
       "4   168193           A  2019-10-16"
      ]
     },
     "execution_count": 32,
     "metadata": {},
     "output_type": "execute_result"
    }
   ],
   "source": [
    "telecom_clients.head(5)"
   ]
  },
  {
   "cell_type": "code",
   "execution_count": 33,
   "metadata": {},
   "outputs": [
    {
     "data": {
      "text/plain": [
       "user_id        0\n",
       "tariff_plan    0\n",
       "date_start     0\n",
       "dtype: int64"
      ]
     },
     "execution_count": 33,
     "metadata": {},
     "output_type": "execute_result"
    }
   ],
   "source": [
    "telecom_clients.isnull().sum()"
   ]
  },
  {
   "cell_type": "code",
   "execution_count": 34,
   "metadata": {},
   "outputs": [
    {
     "data": {
      "text/plain": [
       "0"
      ]
     },
     "execution_count": 34,
     "metadata": {},
     "output_type": "execute_result"
    }
   ],
   "source": [
    "telecom_clients.duplicated().sum()"
   ]
  },
  {
   "cell_type": "markdown",
   "metadata": {},
   "source": [
    "Пропуски и дубликаты отсутствуют"
   ]
  },
  {
   "cell_type": "markdown",
   "metadata": {},
   "source": [
    "Исправим тип данных в колонке date_start"
   ]
  },
  {
   "cell_type": "code",
   "execution_count": 35,
   "metadata": {},
   "outputs": [],
   "source": [
    "telecom_clients['date_start'] = pd.to_datetime(telecom_clients['date_start'], format='%Y-%m-%d')"
   ]
  },
  {
   "cell_type": "code",
   "execution_count": 36,
   "metadata": {},
   "outputs": [
    {
     "name": "stdout",
     "output_type": "stream",
     "text": [
      "<class 'pandas.core.frame.DataFrame'>\n",
      "RangeIndex: 732 entries, 0 to 731\n",
      "Data columns (total 3 columns):\n",
      "user_id        732 non-null int64\n",
      "tariff_plan    732 non-null object\n",
      "date_start     732 non-null datetime64[ns]\n",
      "dtypes: datetime64[ns](1), int64(1), object(1)\n",
      "memory usage: 17.3+ KB\n"
     ]
    }
   ],
   "source": [
    "telecom_clients.info()"
   ]
  },
  {
   "cell_type": "markdown",
   "metadata": {},
   "source": [
    "Предобработка датасетов завершена. Для дальнейшей работы объединим оба датасета по столбцу `user_id`"
   ]
  },
  {
   "cell_type": "code",
   "execution_count": 37,
   "metadata": {},
   "outputs": [],
   "source": [
    "telecom_dataset = telecom_dataset.merge(telecom_clients, on = 'user_id')"
   ]
  },
  {
   "cell_type": "code",
   "execution_count": 38,
   "metadata": {},
   "outputs": [
    {
     "data": {
      "text/html": [
       "<div>\n",
       "<style scoped>\n",
       "    .dataframe tbody tr th:only-of-type {\n",
       "        vertical-align: middle;\n",
       "    }\n",
       "\n",
       "    .dataframe tbody tr th {\n",
       "        vertical-align: top;\n",
       "    }\n",
       "\n",
       "    .dataframe thead th {\n",
       "        text-align: right;\n",
       "    }\n",
       "</style>\n",
       "<table border=\"1\" class=\"dataframe\">\n",
       "  <thead>\n",
       "    <tr style=\"text-align: right;\">\n",
       "      <th></th>\n",
       "      <th>user_id</th>\n",
       "      <th>date</th>\n",
       "      <th>direction</th>\n",
       "      <th>internal</th>\n",
       "      <th>operator_id</th>\n",
       "      <th>is_missed_call</th>\n",
       "      <th>calls_count</th>\n",
       "      <th>call_duration</th>\n",
       "      <th>total_call_duration</th>\n",
       "      <th>waiting_time_answers</th>\n",
       "      <th>waiting_time_one_answer</th>\n",
       "      <th>one_call_duration_full</th>\n",
       "      <th>one_call_duration_clean</th>\n",
       "      <th>tariff_plan</th>\n",
       "      <th>date_start</th>\n",
       "    </tr>\n",
       "  </thead>\n",
       "  <tbody>\n",
       "    <tr>\n",
       "      <td>0</td>\n",
       "      <td>166377</td>\n",
       "      <td>2019-08-04</td>\n",
       "      <td>in</td>\n",
       "      <td>False</td>\n",
       "      <td>880028</td>\n",
       "      <td>True</td>\n",
       "      <td>2</td>\n",
       "      <td>0</td>\n",
       "      <td>4</td>\n",
       "      <td>4</td>\n",
       "      <td>2.000000</td>\n",
       "      <td>2.000000</td>\n",
       "      <td>0.0</td>\n",
       "      <td>B</td>\n",
       "      <td>2019-08-01</td>\n",
       "    </tr>\n",
       "    <tr>\n",
       "      <td>1</td>\n",
       "      <td>166377</td>\n",
       "      <td>2019-08-05</td>\n",
       "      <td>out</td>\n",
       "      <td>True</td>\n",
       "      <td>880022</td>\n",
       "      <td>True</td>\n",
       "      <td>3</td>\n",
       "      <td>0</td>\n",
       "      <td>5</td>\n",
       "      <td>5</td>\n",
       "      <td>1.666667</td>\n",
       "      <td>1.666667</td>\n",
       "      <td>0.0</td>\n",
       "      <td>B</td>\n",
       "      <td>2019-08-01</td>\n",
       "    </tr>\n",
       "    <tr>\n",
       "      <td>2</td>\n",
       "      <td>166377</td>\n",
       "      <td>2019-08-05</td>\n",
       "      <td>out</td>\n",
       "      <td>True</td>\n",
       "      <td>880020</td>\n",
       "      <td>True</td>\n",
       "      <td>1</td>\n",
       "      <td>0</td>\n",
       "      <td>1</td>\n",
       "      <td>1</td>\n",
       "      <td>1.000000</td>\n",
       "      <td>1.000000</td>\n",
       "      <td>0.0</td>\n",
       "      <td>B</td>\n",
       "      <td>2019-08-01</td>\n",
       "    </tr>\n",
       "    <tr>\n",
       "      <td>3</td>\n",
       "      <td>166377</td>\n",
       "      <td>2019-08-05</td>\n",
       "      <td>out</td>\n",
       "      <td>True</td>\n",
       "      <td>880020</td>\n",
       "      <td>False</td>\n",
       "      <td>1</td>\n",
       "      <td>10</td>\n",
       "      <td>18</td>\n",
       "      <td>8</td>\n",
       "      <td>8.000000</td>\n",
       "      <td>18.000000</td>\n",
       "      <td>10.0</td>\n",
       "      <td>B</td>\n",
       "      <td>2019-08-01</td>\n",
       "    </tr>\n",
       "    <tr>\n",
       "      <td>4</td>\n",
       "      <td>166377</td>\n",
       "      <td>2019-08-05</td>\n",
       "      <td>out</td>\n",
       "      <td>False</td>\n",
       "      <td>880022</td>\n",
       "      <td>True</td>\n",
       "      <td>3</td>\n",
       "      <td>0</td>\n",
       "      <td>25</td>\n",
       "      <td>25</td>\n",
       "      <td>8.333333</td>\n",
       "      <td>8.333333</td>\n",
       "      <td>0.0</td>\n",
       "      <td>B</td>\n",
       "      <td>2019-08-01</td>\n",
       "    </tr>\n",
       "  </tbody>\n",
       "</table>\n",
       "</div>"
      ],
      "text/plain": [
       "   user_id       date direction  internal  operator_id  is_missed_call  \\\n",
       "0   166377 2019-08-04        in     False       880028            True   \n",
       "1   166377 2019-08-05       out      True       880022            True   \n",
       "2   166377 2019-08-05       out      True       880020            True   \n",
       "3   166377 2019-08-05       out      True       880020           False   \n",
       "4   166377 2019-08-05       out     False       880022            True   \n",
       "\n",
       "   calls_count  call_duration  total_call_duration  waiting_time_answers  \\\n",
       "0            2              0                    4                     4   \n",
       "1            3              0                    5                     5   \n",
       "2            1              0                    1                     1   \n",
       "3            1             10                   18                     8   \n",
       "4            3              0                   25                    25   \n",
       "\n",
       "   waiting_time_one_answer  one_call_duration_full  one_call_duration_clean  \\\n",
       "0                 2.000000                2.000000                      0.0   \n",
       "1                 1.666667                1.666667                      0.0   \n",
       "2                 1.000000                1.000000                      0.0   \n",
       "3                 8.000000               18.000000                     10.0   \n",
       "4                 8.333333                8.333333                      0.0   \n",
       "\n",
       "  tariff_plan date_start  \n",
       "0           B 2019-08-01  \n",
       "1           B 2019-08-01  \n",
       "2           B 2019-08-01  \n",
       "3           B 2019-08-01  \n",
       "4           B 2019-08-01  "
      ]
     },
     "execution_count": 38,
     "metadata": {},
     "output_type": "execute_result"
    }
   ],
   "source": [
    "telecom_dataset.head(5)"
   ]
  },
  {
   "cell_type": "markdown",
   "metadata": {},
   "source": [
    "Попробуем найти аномалии в имеющихся данных. Для начала рассмотрим соотношения входящих и исходящих звонков"
   ]
  },
  {
   "cell_type": "code",
   "execution_count": 39,
   "metadata": {},
   "outputs": [
    {
     "data": {
      "text/plain": [
       "count     49000\n",
       "unique        2\n",
       "top         out\n",
       "freq      28998\n",
       "Name: direction, dtype: object"
      ]
     },
     "execution_count": 39,
     "metadata": {},
     "output_type": "execute_result"
    }
   ],
   "source": [
    "telecom_dataset['direction'].describe()"
   ]
  },
  {
   "cell_type": "code",
   "execution_count": 40,
   "metadata": {},
   "outputs": [
    {
     "data": {
      "text/plain": [
       "Text(0, 0.5, 'Количество')"
      ]
     },
     "execution_count": 40,
     "metadata": {},
     "output_type": "execute_result"
    },
    {
     "data": {
      "image/png": "[encoded data removed]",
      "text/plain": [
       "<Figure size 1152x648 with 1 Axes>"
      ]
     },
     "metadata": {
      "needs_background": "light"
     },
     "output_type": "display_data"
    }
   ],
   "source": [
    "ax = telecom_dataset['direction'].value_counts().plot(kind='bar', grid=True, figsize=(16,9))\n",
    "plt.title('Распределение входящих и исходящих звонков')\n",
    "plt.xlabel('Тип звонка')\n",
    "plt.ylabel('Количество')"
   ]
  },
  {
   "cell_type": "markdown",
   "metadata": {},
   "source": [
    "По графику выше видно, что исходящих звонокв больше чем входящих на 9000 или 18% от общего количества."
   ]
  },
  {
   "cell_type": "markdown",
   "metadata": {},
   "source": [
    "Рассмотрим распеределение количества звонков"
   ]
  },
  {
   "cell_type": "code",
   "execution_count": 41,
   "metadata": {},
   "outputs": [
    {
     "data": {
      "text/plain": [
       "count    49000.000000\n",
       "mean        16.463408\n",
       "std         63.605319\n",
       "min          1.000000\n",
       "25%          1.000000\n",
       "50%          4.000000\n",
       "75%         12.000000\n",
       "max       4817.000000\n",
       "Name: calls_count, dtype: float64"
      ]
     },
     "execution_count": 41,
     "metadata": {},
     "output_type": "execute_result"
    }
   ],
   "source": [
    "telecom_dataset['calls_count'].describe()"
   ]
  },
  {
   "cell_type": "markdown",
   "metadata": {},
   "source": [
    "Первым на что хочется обратить внимание это разница между средним (чуть больше 16 звонков) и медианным значением (4). В наших данных присутствуют выбросы. Собственно это видно из максимального значения - 4817. Рассмотрим статистическое распределение количества звонков по операторам по направлению вызова."
   ]
  },
  {
   "cell_type": "code",
   "execution_count": 42,
   "metadata": {},
   "outputs": [
    {
     "data": {
      "text/plain": [
       "count    28998.000000\n",
       "mean        20.996724\n",
       "std         70.428417\n",
       "min          1.000000\n",
       "25%          2.000000\n",
       "50%          5.000000\n",
       "75%         18.000000\n",
       "max       4817.000000\n",
       "Name: calls_count, dtype: float64"
      ]
     },
     "execution_count": 42,
     "metadata": {},
     "output_type": "execute_result"
    }
   ],
   "source": [
    "stat_out = telecom_dataset[telecom_dataset['direction']=='out']['calls_count']\n",
    "stat_out.describe()"
   ]
  },
  {
   "cell_type": "code",
   "execution_count": 43,
   "metadata": {},
   "outputs": [
    {
     "data": {
      "text/plain": [
       "count    20002.000000\n",
       "mean         9.891211\n",
       "std         51.448901\n",
       "min          1.000000\n",
       "25%          1.000000\n",
       "50%          3.000000\n",
       "75%          7.000000\n",
       "max       2168.000000\n",
       "Name: calls_count, dtype: float64"
      ]
     },
     "execution_count": 43,
     "metadata": {},
     "output_type": "execute_result"
    }
   ],
   "source": [
    "stat_in = telecom_dataset[telecom_dataset['direction']=='in']['calls_count']\n",
    "stat_in.describe()"
   ]
  },
  {
   "cell_type": "markdown",
   "metadata": {},
   "source": [
    "Наблюдается та же картина что и с общим количеством звонков."
   ]
  },
  {
   "cell_type": "markdown",
   "metadata": {},
   "source": [
    "Построим ящик с усами для общего количества звонков"
   ]
  },
  {
   "cell_type": "code",
   "execution_count": 44,
   "metadata": {},
   "outputs": [
    {
     "data": {
      "image/png": "[encoded data removed]",
      "text/plain": [
       "<Figure size 576x720 with 1 Axes>"
      ]
     },
     "metadata": {
      "needs_background": "light"
     },
     "output_type": "display_data"
    }
   ],
   "source": [
    "plt.figure(figsize=(8, 10))\n",
    "plt.ylim(0, 60)\n",
    "sns.boxplot(y=\"calls_count\", data = telecom_dataset)\n",
    "plt.title(\"Диаграмма размаха количества звонков\")\n",
    "plt.ylabel(\"Количество звонков\")\n",
    "plt.show()"
   ]
  },
  {
   "cell_type": "markdown",
   "metadata": {},
   "source": [
    "Согласно данным, которые мы видим на диаграмме ящик с усами, выбросы начинаются с 28 звонокв. Избавимся от выбросов и удалим строки из датафрейма, где количество звонков больше 28"
   ]
  },
  {
   "cell_type": "code",
   "execution_count": 45,
   "metadata": {},
   "outputs": [],
   "source": [
    "telecom_dataset = telecom_dataset.query('calls_count <= 28')"
   ]
  },
  {
   "cell_type": "code",
   "execution_count": 46,
   "metadata": {},
   "outputs": [
    {
     "name": "stdout",
     "output_type": "stream",
     "text": [
      "<class 'pandas.core.frame.DataFrame'>\n",
      "Int64Index: 42953 entries, 0 to 48999\n",
      "Data columns (total 15 columns):\n",
      "user_id                    42953 non-null int64\n",
      "date                       42953 non-null datetime64[ns]\n",
      "direction                  42953 non-null object\n",
      "internal                   42953 non-null bool\n",
      "operator_id                42953 non-null int64\n",
      "is_missed_call             42953 non-null bool\n",
      "calls_count                42953 non-null int64\n",
      "call_duration              42953 non-null int64\n",
      "total_call_duration        42953 non-null int64\n",
      "waiting_time_answers       42953 non-null int64\n",
      "waiting_time_one_answer    42953 non-null float64\n",
      "one_call_duration_full     42953 non-null float64\n",
      "one_call_duration_clean    42953 non-null float64\n",
      "tariff_plan                42953 non-null object\n",
      "date_start                 42953 non-null datetime64[ns]\n",
      "dtypes: bool(2), datetime64[ns](2), float64(3), int64(6), object(2)\n",
      "memory usage: 4.7+ MB\n"
     ]
    }
   ],
   "source": [
    "telecom_dataset.info()"
   ]
  },
  {
   "cell_type": "markdown",
   "metadata": {},
   "source": [
    "Рассмотрим значения длительности одного звонка без учета ожидания ответа при нулевой и не нулевой продолжительности звонка в разрезе пропущенных звонков. "
   ]
  },
  {
   "cell_type": "code",
   "execution_count": 47,
   "metadata": {},
   "outputs": [
    {
     "data": {
      "text/plain": [
       "True     18527\n",
       "False       17\n",
       "Name: is_missed_call, dtype: int64"
      ]
     },
     "execution_count": 47,
     "metadata": {},
     "output_type": "execute_result"
    }
   ],
   "source": [
    "telecom_dataset.query('one_call_duration_clean == 0')['is_missed_call'].value_counts()"
   ]
  },
  {
   "cell_type": "code",
   "execution_count": 48,
   "metadata": {},
   "outputs": [
    {
     "data": {
      "text/plain": [
       "False    24113\n",
       "True       296\n",
       "Name: is_missed_call, dtype: int64"
      ]
     },
     "execution_count": 48,
     "metadata": {},
     "output_type": "execute_result"
    }
   ],
   "source": [
    "telecom_dataset.query('one_call_duration_clean != 0')['is_missed_call'].value_counts()"
   ]
  },
  {
   "cell_type": "markdown",
   "metadata": {},
   "source": [
    "Таким образом мы нашли еще данные, являющиеся некорректными для исследования. 17 звонков не являются пропущенными, но длительность равна нулю и 296 звонков имеют ненулевую продолжительности, но обозначены как пропущенные. Удаляем и их. "
   ]
  },
  {
   "cell_type": "code",
   "execution_count": 49,
   "metadata": {},
   "outputs": [],
   "source": [
    "telecom_dataset = (telecom_dataset[(~(telecom_dataset['one_call_duration_clean'] == 0) & (telecom_dataset['is_missed_call'] == False)) |\n",
    "                  ((telecom_dataset['one_call_duration_clean'] == 0) & (telecom_dataset['is_missed_call'] == True))])"
   ]
  },
  {
   "cell_type": "code",
   "execution_count": 50,
   "metadata": {
    "scrolled": true
   },
   "outputs": [
    {
     "data": {
      "text/html": [
       "<div>\n",
       "<style scoped>\n",
       "    .dataframe tbody tr th:only-of-type {\n",
       "        vertical-align: middle;\n",
       "    }\n",
       "\n",
       "    .dataframe tbody tr th {\n",
       "        vertical-align: top;\n",
       "    }\n",
       "\n",
       "    .dataframe thead th {\n",
       "        text-align: right;\n",
       "    }\n",
       "</style>\n",
       "<table border=\"1\" class=\"dataframe\">\n",
       "  <thead>\n",
       "    <tr style=\"text-align: right;\">\n",
       "      <th></th>\n",
       "      <th>user_id</th>\n",
       "      <th>date</th>\n",
       "      <th>direction</th>\n",
       "      <th>internal</th>\n",
       "      <th>operator_id</th>\n",
       "      <th>is_missed_call</th>\n",
       "      <th>calls_count</th>\n",
       "      <th>call_duration</th>\n",
       "      <th>total_call_duration</th>\n",
       "      <th>waiting_time_answers</th>\n",
       "      <th>waiting_time_one_answer</th>\n",
       "      <th>one_call_duration_full</th>\n",
       "      <th>one_call_duration_clean</th>\n",
       "      <th>tariff_plan</th>\n",
       "      <th>date_start</th>\n",
       "    </tr>\n",
       "  </thead>\n",
       "  <tbody>\n",
       "    <tr>\n",
       "      <td>0</td>\n",
       "      <td>166377</td>\n",
       "      <td>2019-08-04</td>\n",
       "      <td>in</td>\n",
       "      <td>False</td>\n",
       "      <td>880028</td>\n",
       "      <td>True</td>\n",
       "      <td>2</td>\n",
       "      <td>0</td>\n",
       "      <td>4</td>\n",
       "      <td>4</td>\n",
       "      <td>2.000000</td>\n",
       "      <td>2.000000</td>\n",
       "      <td>0.00</td>\n",
       "      <td>B</td>\n",
       "      <td>2019-08-01</td>\n",
       "    </tr>\n",
       "    <tr>\n",
       "      <td>1</td>\n",
       "      <td>166377</td>\n",
       "      <td>2019-08-05</td>\n",
       "      <td>out</td>\n",
       "      <td>True</td>\n",
       "      <td>880022</td>\n",
       "      <td>True</td>\n",
       "      <td>3</td>\n",
       "      <td>0</td>\n",
       "      <td>5</td>\n",
       "      <td>5</td>\n",
       "      <td>1.666667</td>\n",
       "      <td>1.666667</td>\n",
       "      <td>0.00</td>\n",
       "      <td>B</td>\n",
       "      <td>2019-08-01</td>\n",
       "    </tr>\n",
       "    <tr>\n",
       "      <td>2</td>\n",
       "      <td>166377</td>\n",
       "      <td>2019-08-05</td>\n",
       "      <td>out</td>\n",
       "      <td>True</td>\n",
       "      <td>880020</td>\n",
       "      <td>True</td>\n",
       "      <td>1</td>\n",
       "      <td>0</td>\n",
       "      <td>1</td>\n",
       "      <td>1</td>\n",
       "      <td>1.000000</td>\n",
       "      <td>1.000000</td>\n",
       "      <td>0.00</td>\n",
       "      <td>B</td>\n",
       "      <td>2019-08-01</td>\n",
       "    </tr>\n",
       "    <tr>\n",
       "      <td>3</td>\n",
       "      <td>166377</td>\n",
       "      <td>2019-08-05</td>\n",
       "      <td>out</td>\n",
       "      <td>True</td>\n",
       "      <td>880020</td>\n",
       "      <td>False</td>\n",
       "      <td>1</td>\n",
       "      <td>10</td>\n",
       "      <td>18</td>\n",
       "      <td>8</td>\n",
       "      <td>8.000000</td>\n",
       "      <td>18.000000</td>\n",
       "      <td>10.00</td>\n",
       "      <td>B</td>\n",
       "      <td>2019-08-01</td>\n",
       "    </tr>\n",
       "    <tr>\n",
       "      <td>4</td>\n",
       "      <td>166377</td>\n",
       "      <td>2019-08-05</td>\n",
       "      <td>out</td>\n",
       "      <td>False</td>\n",
       "      <td>880022</td>\n",
       "      <td>True</td>\n",
       "      <td>3</td>\n",
       "      <td>0</td>\n",
       "      <td>25</td>\n",
       "      <td>25</td>\n",
       "      <td>8.333333</td>\n",
       "      <td>8.333333</td>\n",
       "      <td>0.00</td>\n",
       "      <td>B</td>\n",
       "      <td>2019-08-01</td>\n",
       "    </tr>\n",
       "    <tr>\n",
       "      <td>...</td>\n",
       "      <td>...</td>\n",
       "      <td>...</td>\n",
       "      <td>...</td>\n",
       "      <td>...</td>\n",
       "      <td>...</td>\n",
       "      <td>...</td>\n",
       "      <td>...</td>\n",
       "      <td>...</td>\n",
       "      <td>...</td>\n",
       "      <td>...</td>\n",
       "      <td>...</td>\n",
       "      <td>...</td>\n",
       "      <td>...</td>\n",
       "      <td>...</td>\n",
       "      <td>...</td>\n",
       "    </tr>\n",
       "    <tr>\n",
       "      <td>48994</td>\n",
       "      <td>168606</td>\n",
       "      <td>2019-11-09</td>\n",
       "      <td>out</td>\n",
       "      <td>False</td>\n",
       "      <td>957922</td>\n",
       "      <td>False</td>\n",
       "      <td>4</td>\n",
       "      <td>551</td>\n",
       "      <td>593</td>\n",
       "      <td>42</td>\n",
       "      <td>10.500000</td>\n",
       "      <td>148.250000</td>\n",
       "      <td>137.75</td>\n",
       "      <td>C</td>\n",
       "      <td>2019-10-31</td>\n",
       "    </tr>\n",
       "    <tr>\n",
       "      <td>48996</td>\n",
       "      <td>168606</td>\n",
       "      <td>2019-11-10</td>\n",
       "      <td>out</td>\n",
       "      <td>True</td>\n",
       "      <td>957922</td>\n",
       "      <td>True</td>\n",
       "      <td>1</td>\n",
       "      <td>0</td>\n",
       "      <td>38</td>\n",
       "      <td>38</td>\n",
       "      <td>38.000000</td>\n",
       "      <td>38.000000</td>\n",
       "      <td>0.00</td>\n",
       "      <td>C</td>\n",
       "      <td>2019-10-31</td>\n",
       "    </tr>\n",
       "    <tr>\n",
       "      <td>48997</td>\n",
       "      <td>168606</td>\n",
       "      <td>2019-11-11</td>\n",
       "      <td>out</td>\n",
       "      <td>True</td>\n",
       "      <td>957922</td>\n",
       "      <td>False</td>\n",
       "      <td>2</td>\n",
       "      <td>479</td>\n",
       "      <td>501</td>\n",
       "      <td>22</td>\n",
       "      <td>11.000000</td>\n",
       "      <td>250.500000</td>\n",
       "      <td>239.50</td>\n",
       "      <td>C</td>\n",
       "      <td>2019-10-31</td>\n",
       "    </tr>\n",
       "    <tr>\n",
       "      <td>48998</td>\n",
       "      <td>168606</td>\n",
       "      <td>2019-11-15</td>\n",
       "      <td>out</td>\n",
       "      <td>True</td>\n",
       "      <td>957922</td>\n",
       "      <td>False</td>\n",
       "      <td>4</td>\n",
       "      <td>3130</td>\n",
       "      <td>3190</td>\n",
       "      <td>60</td>\n",
       "      <td>15.000000</td>\n",
       "      <td>797.500000</td>\n",
       "      <td>782.50</td>\n",
       "      <td>C</td>\n",
       "      <td>2019-10-31</td>\n",
       "    </tr>\n",
       "    <tr>\n",
       "      <td>48999</td>\n",
       "      <td>168606</td>\n",
       "      <td>2019-11-19</td>\n",
       "      <td>in</td>\n",
       "      <td>False</td>\n",
       "      <td>957922</td>\n",
       "      <td>True</td>\n",
       "      <td>2</td>\n",
       "      <td>0</td>\n",
       "      <td>64</td>\n",
       "      <td>64</td>\n",
       "      <td>32.000000</td>\n",
       "      <td>32.000000</td>\n",
       "      <td>0.00</td>\n",
       "      <td>C</td>\n",
       "      <td>2019-10-31</td>\n",
       "    </tr>\n",
       "  </tbody>\n",
       "</table>\n",
       "<p>42640 rows × 15 columns</p>\n",
       "</div>"
      ],
      "text/plain": [
       "       user_id       date direction  internal  operator_id  is_missed_call  \\\n",
       "0       166377 2019-08-04        in     False       880028            True   \n",
       "1       166377 2019-08-05       out      True       880022            True   \n",
       "2       166377 2019-08-05       out      True       880020            True   \n",
       "3       166377 2019-08-05       out      True       880020           False   \n",
       "4       166377 2019-08-05       out     False       880022            True   \n",
       "...        ...        ...       ...       ...          ...             ...   \n",
       "48994   168606 2019-11-09       out     False       957922           False   \n",
       "48996   168606 2019-11-10       out      True       957922            True   \n",
       "48997   168606 2019-11-11       out      True       957922           False   \n",
       "48998   168606 2019-11-15       out      True       957922           False   \n",
       "48999   168606 2019-11-19        in     False       957922            True   \n",
       "\n",
       "       calls_count  call_duration  total_call_duration  waiting_time_answers  \\\n",
       "0                2              0                    4                     4   \n",
       "1                3              0                    5                     5   \n",
       "2                1              0                    1                     1   \n",
       "3                1             10                   18                     8   \n",
       "4                3              0                   25                    25   \n",
       "...            ...            ...                  ...                   ...   \n",
       "48994            4            551                  593                    42   \n",
       "48996            1              0                   38                    38   \n",
       "48997            2            479                  501                    22   \n",
       "48998            4           3130                 3190                    60   \n",
       "48999            2              0                   64                    64   \n",
       "\n",
       "       waiting_time_one_answer  one_call_duration_full  \\\n",
       "0                     2.000000                2.000000   \n",
       "1                     1.666667                1.666667   \n",
       "2                     1.000000                1.000000   \n",
       "3                     8.000000               18.000000   \n",
       "4                     8.333333                8.333333   \n",
       "...                        ...                     ...   \n",
       "48994                10.500000              148.250000   \n",
       "48996                38.000000               38.000000   \n",
       "48997                11.000000              250.500000   \n",
       "48998                15.000000              797.500000   \n",
       "48999                32.000000               32.000000   \n",
       "\n",
       "       one_call_duration_clean tariff_plan date_start  \n",
       "0                         0.00           B 2019-08-01  \n",
       "1                         0.00           B 2019-08-01  \n",
       "2                         0.00           B 2019-08-01  \n",
       "3                        10.00           B 2019-08-01  \n",
       "4                         0.00           B 2019-08-01  \n",
       "...                        ...         ...        ...  \n",
       "48994                   137.75           C 2019-10-31  \n",
       "48996                     0.00           C 2019-10-31  \n",
       "48997                   239.50           C 2019-10-31  \n",
       "48998                   782.50           C 2019-10-31  \n",
       "48999                     0.00           C 2019-10-31  \n",
       "\n",
       "[42640 rows x 15 columns]"
      ]
     },
     "execution_count": 50,
     "metadata": {},
     "output_type": "execute_result"
    }
   ],
   "source": [
    "telecom_dataset"
   ]
  },
  {
   "cell_type": "markdown",
   "metadata": {},
   "source": [
    "### Первые выводы на основании анализа данных"
   ]
  },
  {
   "cell_type": "markdown",
   "metadata": {},
   "source": [
    "В процессе предобработки данных мы выполнили следующие шаги:\n",
    "1. Изменили типы данных:\n",
    "* internal\n",
    "* operator_id\n",
    "* date\n",
    "* date_start\n",
    "2. Выявили пропущенные значения (8172 пропуска, что составляет около 15%). 97,5% - входящие вызовы, 2,5% - исходящие.\n",
    "По входящим вызовам было выявлено, что звонки с пропущенными данными оператора составляют около трети от всех пропущенных звонков. Была дана первая рекомендация разобраться техническим специалистам с данной аномалией. Строки с пропущенными значениями удалять не стали, а заполнили самыми часто встречающимся значением айди оператора по каждому клиенту.\n",
    "3. Объединили датасеты по клиенту и добавили колонки для последующего анализа.\n",
    "4. Были удалены заведомо ложные наблюдения (17 шт. - звонки не явл. пропущенными, но длительность равна нулю и 296 шт. -  имеют ненулевую продолжительность, но обозначены как пропущенные)"
   ]
  },
  {
   "cell_type": "markdown",
   "metadata": {},
   "source": [
    "## Исследовательский анализ данных"
   ]
  },
  {
   "cell_type": "markdown",
   "metadata": {},
   "source": [
    "### Разделение колл-центров(специализация на входящих звонках, исходящих, либо на обоих типах)"
   ]
  },
  {
   "cell_type": "markdown",
   "metadata": {},
   "source": [
    "Для дальнейшей работы разделим операторов на следующие категории:\n",
    "1. колл-центры, работающие на обзвон\n",
    "2. колл-центры, работающие на приём звонков\n",
    "3. колл-центры,работающие в смешанном режиме"
   ]
  },
  {
   "cell_type": "markdown",
   "metadata": {},
   "source": [
    "Создадим сводную таблицу для категоризации"
   ]
  },
  {
   "cell_type": "code",
   "execution_count": 51,
   "metadata": {},
   "outputs": [
    {
     "data": {
      "text/html": [
       "<div>\n",
       "<style scoped>\n",
       "    .dataframe tbody tr th:only-of-type {\n",
       "        vertical-align: middle;\n",
       "    }\n",
       "\n",
       "    .dataframe tbody tr th {\n",
       "        vertical-align: top;\n",
       "    }\n",
       "\n",
       "    .dataframe thead th {\n",
       "        text-align: right;\n",
       "    }\n",
       "</style>\n",
       "<table border=\"1\" class=\"dataframe\">\n",
       "  <thead>\n",
       "    <tr style=\"text-align: right;\">\n",
       "      <th>direction</th>\n",
       "      <th>tariff_plan</th>\n",
       "      <th>user_id</th>\n",
       "      <th>operator_id</th>\n",
       "      <th>date</th>\n",
       "      <th>calls_count</th>\n",
       "      <th>in</th>\n",
       "      <th>out</th>\n",
       "    </tr>\n",
       "  </thead>\n",
       "  <tbody>\n",
       "    <tr>\n",
       "      <td>0</td>\n",
       "      <td>A</td>\n",
       "      <td>166407</td>\n",
       "      <td>888532</td>\n",
       "      <td>2019-08-20</td>\n",
       "      <td>1</td>\n",
       "      <td>NaN</td>\n",
       "      <td>16.0</td>\n",
       "    </tr>\n",
       "    <tr>\n",
       "      <td>1</td>\n",
       "      <td>A</td>\n",
       "      <td>166407</td>\n",
       "      <td>888532</td>\n",
       "      <td>2019-08-26</td>\n",
       "      <td>1</td>\n",
       "      <td>22.0</td>\n",
       "      <td>NaN</td>\n",
       "    </tr>\n",
       "    <tr>\n",
       "      <td>2</td>\n",
       "      <td>A</td>\n",
       "      <td>166407</td>\n",
       "      <td>888532</td>\n",
       "      <td>2019-09-09</td>\n",
       "      <td>6</td>\n",
       "      <td>NaN</td>\n",
       "      <td>22.0</td>\n",
       "    </tr>\n",
       "    <tr>\n",
       "      <td>3</td>\n",
       "      <td>A</td>\n",
       "      <td>166407</td>\n",
       "      <td>888532</td>\n",
       "      <td>2019-09-10</td>\n",
       "      <td>2</td>\n",
       "      <td>242.0</td>\n",
       "      <td>NaN</td>\n",
       "    </tr>\n",
       "    <tr>\n",
       "      <td>4</td>\n",
       "      <td>A</td>\n",
       "      <td>166407</td>\n",
       "      <td>888532</td>\n",
       "      <td>2019-09-11</td>\n",
       "      <td>1</td>\n",
       "      <td>39.0</td>\n",
       "      <td>NaN</td>\n",
       "    </tr>\n",
       "    <tr>\n",
       "      <td>...</td>\n",
       "      <td>...</td>\n",
       "      <td>...</td>\n",
       "      <td>...</td>\n",
       "      <td>...</td>\n",
       "      <td>...</td>\n",
       "      <td>...</td>\n",
       "      <td>...</td>\n",
       "    </tr>\n",
       "    <tr>\n",
       "      <td>38476</td>\n",
       "      <td>C</td>\n",
       "      <td>168606</td>\n",
       "      <td>957922</td>\n",
       "      <td>2019-11-09</td>\n",
       "      <td>4</td>\n",
       "      <td>NaN</td>\n",
       "      <td>593.0</td>\n",
       "    </tr>\n",
       "    <tr>\n",
       "      <td>38477</td>\n",
       "      <td>C</td>\n",
       "      <td>168606</td>\n",
       "      <td>957922</td>\n",
       "      <td>2019-11-10</td>\n",
       "      <td>1</td>\n",
       "      <td>NaN</td>\n",
       "      <td>38.0</td>\n",
       "    </tr>\n",
       "    <tr>\n",
       "      <td>38478</td>\n",
       "      <td>C</td>\n",
       "      <td>168606</td>\n",
       "      <td>957922</td>\n",
       "      <td>2019-11-11</td>\n",
       "      <td>2</td>\n",
       "      <td>NaN</td>\n",
       "      <td>501.0</td>\n",
       "    </tr>\n",
       "    <tr>\n",
       "      <td>38479</td>\n",
       "      <td>C</td>\n",
       "      <td>168606</td>\n",
       "      <td>957922</td>\n",
       "      <td>2019-11-15</td>\n",
       "      <td>4</td>\n",
       "      <td>NaN</td>\n",
       "      <td>3190.0</td>\n",
       "    </tr>\n",
       "    <tr>\n",
       "      <td>38480</td>\n",
       "      <td>C</td>\n",
       "      <td>168606</td>\n",
       "      <td>957922</td>\n",
       "      <td>2019-11-19</td>\n",
       "      <td>2</td>\n",
       "      <td>64.0</td>\n",
       "      <td>NaN</td>\n",
       "    </tr>\n",
       "  </tbody>\n",
       "</table>\n",
       "<p>38481 rows × 7 columns</p>\n",
       "</div>"
      ],
      "text/plain": [
       "direction tariff_plan  user_id  operator_id       date  calls_count     in  \\\n",
       "0                   A   166407       888532 2019-08-20            1    NaN   \n",
       "1                   A   166407       888532 2019-08-26            1   22.0   \n",
       "2                   A   166407       888532 2019-09-09            6    NaN   \n",
       "3                   A   166407       888532 2019-09-10            2  242.0   \n",
       "4                   A   166407       888532 2019-09-11            1   39.0   \n",
       "...               ...      ...          ...        ...          ...    ...   \n",
       "38476               C   168606       957922 2019-11-09            4    NaN   \n",
       "38477               C   168606       957922 2019-11-10            1    NaN   \n",
       "38478               C   168606       957922 2019-11-11            2    NaN   \n",
       "38479               C   168606       957922 2019-11-15            4    NaN   \n",
       "38480               C   168606       957922 2019-11-19            2   64.0   \n",
       "\n",
       "direction     out  \n",
       "0            16.0  \n",
       "1             NaN  \n",
       "2            22.0  \n",
       "3             NaN  \n",
       "4             NaN  \n",
       "...           ...  \n",
       "38476       593.0  \n",
       "38477        38.0  \n",
       "38478       501.0  \n",
       "38479      3190.0  \n",
       "38480         NaN  \n",
       "\n",
       "[38481 rows x 7 columns]"
      ]
     },
     "execution_count": 51,
     "metadata": {},
     "output_type": "execute_result"
    }
   ],
   "source": [
    "telecom_dataset_pivot = telecom_dataset.pivot_table(index=['tariff_plan','user_id', 'operator_id', 'date', 'calls_count'], columns='direction', values='total_call_duration', aggfunc='sum')\\\n",
    ".reset_index()\n",
    "telecom_dataset_pivot"
   ]
  },
  {
   "cell_type": "markdown",
   "metadata": {},
   "source": [
    "Заменим пропущенные значения на нули"
   ]
  },
  {
   "cell_type": "code",
   "execution_count": 52,
   "metadata": {},
   "outputs": [],
   "source": [
    "telecom_dataset_pivot = telecom_dataset_pivot.fillna(0)"
   ]
  },
  {
   "cell_type": "markdown",
   "metadata": {},
   "source": [
    "Определим столбцы с долями для входящих и исходящих звонков"
   ]
  },
  {
   "cell_type": "code",
   "execution_count": 53,
   "metadata": {},
   "outputs": [],
   "source": [
    "telecom_dataset_pivot['call_in_perc'] = telecom_dataset_pivot['in'] / (telecom_dataset_pivot['in'] + telecom_dataset_pivot['out']) * 100"
   ]
  },
  {
   "cell_type": "code",
   "execution_count": 54,
   "metadata": {},
   "outputs": [],
   "source": [
    "telecom_dataset_pivot['call_out_perc'] = telecom_dataset_pivot['out'] / (telecom_dataset_pivot['in'] + telecom_dataset_pivot['out']) * 100"
   ]
  },
  {
   "cell_type": "code",
   "execution_count": 55,
   "metadata": {},
   "outputs": [
    {
     "data": {
      "text/html": [
       "<div>\n",
       "<style scoped>\n",
       "    .dataframe tbody tr th:only-of-type {\n",
       "        vertical-align: middle;\n",
       "    }\n",
       "\n",
       "    .dataframe tbody tr th {\n",
       "        vertical-align: top;\n",
       "    }\n",
       "\n",
       "    .dataframe thead th {\n",
       "        text-align: right;\n",
       "    }\n",
       "</style>\n",
       "<table border=\"1\" class=\"dataframe\">\n",
       "  <thead>\n",
       "    <tr style=\"text-align: right;\">\n",
       "      <th>direction</th>\n",
       "      <th>tariff_plan</th>\n",
       "      <th>user_id</th>\n",
       "      <th>operator_id</th>\n",
       "      <th>date</th>\n",
       "      <th>calls_count</th>\n",
       "      <th>in</th>\n",
       "      <th>out</th>\n",
       "      <th>call_in_perc</th>\n",
       "      <th>call_out_perc</th>\n",
       "    </tr>\n",
       "  </thead>\n",
       "  <tbody>\n",
       "    <tr>\n",
       "      <td>0</td>\n",
       "      <td>A</td>\n",
       "      <td>166407</td>\n",
       "      <td>888532</td>\n",
       "      <td>2019-08-20</td>\n",
       "      <td>1</td>\n",
       "      <td>0.0</td>\n",
       "      <td>16.0</td>\n",
       "      <td>0.0</td>\n",
       "      <td>100.0</td>\n",
       "    </tr>\n",
       "    <tr>\n",
       "      <td>1</td>\n",
       "      <td>A</td>\n",
       "      <td>166407</td>\n",
       "      <td>888532</td>\n",
       "      <td>2019-08-26</td>\n",
       "      <td>1</td>\n",
       "      <td>22.0</td>\n",
       "      <td>0.0</td>\n",
       "      <td>100.0</td>\n",
       "      <td>0.0</td>\n",
       "    </tr>\n",
       "    <tr>\n",
       "      <td>2</td>\n",
       "      <td>A</td>\n",
       "      <td>166407</td>\n",
       "      <td>888532</td>\n",
       "      <td>2019-09-09</td>\n",
       "      <td>6</td>\n",
       "      <td>0.0</td>\n",
       "      <td>22.0</td>\n",
       "      <td>0.0</td>\n",
       "      <td>100.0</td>\n",
       "    </tr>\n",
       "    <tr>\n",
       "      <td>3</td>\n",
       "      <td>A</td>\n",
       "      <td>166407</td>\n",
       "      <td>888532</td>\n",
       "      <td>2019-09-10</td>\n",
       "      <td>2</td>\n",
       "      <td>242.0</td>\n",
       "      <td>0.0</td>\n",
       "      <td>100.0</td>\n",
       "      <td>0.0</td>\n",
       "    </tr>\n",
       "    <tr>\n",
       "      <td>4</td>\n",
       "      <td>A</td>\n",
       "      <td>166407</td>\n",
       "      <td>888532</td>\n",
       "      <td>2019-09-11</td>\n",
       "      <td>1</td>\n",
       "      <td>39.0</td>\n",
       "      <td>0.0</td>\n",
       "      <td>100.0</td>\n",
       "      <td>0.0</td>\n",
       "    </tr>\n",
       "  </tbody>\n",
       "</table>\n",
       "</div>"
      ],
      "text/plain": [
       "direction tariff_plan  user_id  operator_id       date  calls_count     in  \\\n",
       "0                   A   166407       888532 2019-08-20            1    0.0   \n",
       "1                   A   166407       888532 2019-08-26            1   22.0   \n",
       "2                   A   166407       888532 2019-09-09            6    0.0   \n",
       "3                   A   166407       888532 2019-09-10            2  242.0   \n",
       "4                   A   166407       888532 2019-09-11            1   39.0   \n",
       "\n",
       "direction   out  call_in_perc  call_out_perc  \n",
       "0          16.0           0.0          100.0  \n",
       "1           0.0         100.0            0.0  \n",
       "2          22.0           0.0          100.0  \n",
       "3           0.0         100.0            0.0  \n",
       "4           0.0         100.0            0.0  "
      ]
     },
     "execution_count": 55,
     "metadata": {},
     "output_type": "execute_result"
    }
   ],
   "source": [
    "telecom_dataset_pivot.head(5)"
   ]
  },
  {
   "cell_type": "markdown",
   "metadata": {},
   "source": [
    "Изучим распределение сумм времени звонков среди операторов, затраченных на входящие и исходящие вызовы."
   ]
  },
  {
   "cell_type": "code",
   "execution_count": 56,
   "metadata": {},
   "outputs": [
    {
     "data": {
      "text/plain": [
       "count    38481.000000\n",
       "mean       209.014527\n",
       "std        577.287260\n",
       "min          0.000000\n",
       "25%          0.000000\n",
       "50%          0.000000\n",
       "75%        115.000000\n",
       "max      15352.000000\n",
       "Name: in, dtype: float64"
      ]
     },
     "execution_count": 56,
     "metadata": {},
     "output_type": "execute_result"
    }
   ],
   "source": [
    "telecom_dataset_pivot['in'].describe()"
   ]
  },
  {
   "cell_type": "code",
   "execution_count": 57,
   "metadata": {},
   "outputs": [
    {
     "data": {
      "text/plain": [
       "count    38481.000000\n",
       "mean       354.467348\n",
       "std        879.795178\n",
       "min          0.000000\n",
       "25%          0.000000\n",
       "50%         22.000000\n",
       "75%        275.000000\n",
       "max      18283.000000\n",
       "Name: out, dtype: float64"
      ]
     },
     "execution_count": 57,
     "metadata": {},
     "output_type": "execute_result"
    }
   ],
   "source": [
    "telecom_dataset_pivot['out'].describe()"
   ]
  },
  {
   "cell_type": "markdown",
   "metadata": {},
   "source": [
    "Представляется наиболее приемлемым произвести категоризацию по 75 % перцентилю"
   ]
  },
  {
   "cell_type": "code",
   "execution_count": 58,
   "metadata": {},
   "outputs": [],
   "source": [
    "def quantile_call(column, percent):\n",
    "    count = 0\n",
    "    for i in telecom_dataset_pivot[column]:\n",
    "        if i >= percent:\n",
    "            count += 1\n",
    "        else:\n",
    "            continue\n",
    "    return count    "
   ]
  },
  {
   "cell_type": "code",
   "execution_count": 59,
   "metadata": {},
   "outputs": [
    {
     "data": {
      "text/plain": [
       "16450"
      ]
     },
     "execution_count": 59,
     "metadata": {},
     "output_type": "execute_result"
    }
   ],
   "source": [
    "quant_in = quantile_call('call_in_perc', 75)\n",
    "quant_in"
   ]
  },
  {
   "cell_type": "code",
   "execution_count": 60,
   "metadata": {},
   "outputs": [
    {
     "data": {
      "text/plain": [
       "20229"
      ]
     },
     "execution_count": 60,
     "metadata": {},
     "output_type": "execute_result"
    }
   ],
   "source": [
    "quant_out = quantile_call('call_out_perc', 75)\n",
    "quant_out"
   ]
  },
  {
   "cell_type": "code",
   "execution_count": 61,
   "metadata": {},
   "outputs": [
    {
     "data": {
      "text/plain": [
       "1802"
      ]
     },
     "execution_count": 61,
     "metadata": {},
     "output_type": "execute_result"
    }
   ],
   "source": [
    "mix = len(telecom_dataset_pivot) - quant_in - quant_out\n",
    "mix"
   ]
  },
  {
   "cell_type": "markdown",
   "metadata": {},
   "source": [
    "Добавим столбцы, определяющие направление звонка. "
   ]
  },
  {
   "cell_type": "code",
   "execution_count": 62,
   "metadata": {},
   "outputs": [],
   "source": [
    "telecom_dataset_pivot['incoming call'] = telecom_dataset_pivot['call_in_perc'] >= 75"
   ]
  },
  {
   "cell_type": "code",
   "execution_count": 63,
   "metadata": {},
   "outputs": [],
   "source": [
    "telecom_dataset_pivot['outgoing call'] = telecom_dataset_pivot['call_out_perc'] >= 75"
   ]
  },
  {
   "cell_type": "code",
   "execution_count": 64,
   "metadata": {},
   "outputs": [],
   "source": [
    "telecom_dataset_pivot['mixed challenge'] = 1 - telecom_dataset_pivot['incoming call'] - telecom_dataset_pivot['outgoing call'] "
   ]
  },
  {
   "cell_type": "code",
   "execution_count": 65,
   "metadata": {},
   "outputs": [],
   "source": [
    "telecom_dataset_pivot = telecom_dataset_pivot.replace(False, 0)\n",
    "    \n",
    "telecom_dataset_pivot = telecom_dataset_pivot.replace(True, 1)    "
   ]
  },
  {
   "cell_type": "code",
   "execution_count": 66,
   "metadata": {},
   "outputs": [
    {
     "data": {
      "text/html": [
       "<div>\n",
       "<style scoped>\n",
       "    .dataframe tbody tr th:only-of-type {\n",
       "        vertical-align: middle;\n",
       "    }\n",
       "\n",
       "    .dataframe tbody tr th {\n",
       "        vertical-align: top;\n",
       "    }\n",
       "\n",
       "    .dataframe thead th {\n",
       "        text-align: right;\n",
       "    }\n",
       "</style>\n",
       "<table border=\"1\" class=\"dataframe\">\n",
       "  <thead>\n",
       "    <tr style=\"text-align: right;\">\n",
       "      <th>direction</th>\n",
       "      <th>tariff_plan</th>\n",
       "      <th>user_id</th>\n",
       "      <th>operator_id</th>\n",
       "      <th>date</th>\n",
       "      <th>calls_count</th>\n",
       "      <th>in</th>\n",
       "      <th>out</th>\n",
       "      <th>call_in_perc</th>\n",
       "      <th>call_out_perc</th>\n",
       "      <th>incoming call</th>\n",
       "      <th>outgoing call</th>\n",
       "      <th>mixed challenge</th>\n",
       "    </tr>\n",
       "  </thead>\n",
       "  <tbody>\n",
       "    <tr>\n",
       "      <td>0</td>\n",
       "      <td>A</td>\n",
       "      <td>166407</td>\n",
       "      <td>888532</td>\n",
       "      <td>2019-08-20</td>\n",
       "      <td>1</td>\n",
       "      <td>0.0</td>\n",
       "      <td>16.0</td>\n",
       "      <td>0.0</td>\n",
       "      <td>100.0</td>\n",
       "      <td>0.0</td>\n",
       "      <td>1.0</td>\n",
       "      <td>0</td>\n",
       "    </tr>\n",
       "    <tr>\n",
       "      <td>1</td>\n",
       "      <td>A</td>\n",
       "      <td>166407</td>\n",
       "      <td>888532</td>\n",
       "      <td>2019-08-26</td>\n",
       "      <td>1</td>\n",
       "      <td>22.0</td>\n",
       "      <td>0.0</td>\n",
       "      <td>100.0</td>\n",
       "      <td>0.0</td>\n",
       "      <td>1.0</td>\n",
       "      <td>0.0</td>\n",
       "      <td>0</td>\n",
       "    </tr>\n",
       "    <tr>\n",
       "      <td>2</td>\n",
       "      <td>A</td>\n",
       "      <td>166407</td>\n",
       "      <td>888532</td>\n",
       "      <td>2019-09-09</td>\n",
       "      <td>6</td>\n",
       "      <td>0.0</td>\n",
       "      <td>22.0</td>\n",
       "      <td>0.0</td>\n",
       "      <td>100.0</td>\n",
       "      <td>0.0</td>\n",
       "      <td>1.0</td>\n",
       "      <td>0</td>\n",
       "    </tr>\n",
       "    <tr>\n",
       "      <td>3</td>\n",
       "      <td>A</td>\n",
       "      <td>166407</td>\n",
       "      <td>888532</td>\n",
       "      <td>2019-09-10</td>\n",
       "      <td>2</td>\n",
       "      <td>242.0</td>\n",
       "      <td>0.0</td>\n",
       "      <td>100.0</td>\n",
       "      <td>0.0</td>\n",
       "      <td>1.0</td>\n",
       "      <td>0.0</td>\n",
       "      <td>0</td>\n",
       "    </tr>\n",
       "    <tr>\n",
       "      <td>4</td>\n",
       "      <td>A</td>\n",
       "      <td>166407</td>\n",
       "      <td>888532</td>\n",
       "      <td>2019-09-11</td>\n",
       "      <td>1</td>\n",
       "      <td>39.0</td>\n",
       "      <td>0.0</td>\n",
       "      <td>100.0</td>\n",
       "      <td>0.0</td>\n",
       "      <td>1.0</td>\n",
       "      <td>0.0</td>\n",
       "      <td>0</td>\n",
       "    </tr>\n",
       "    <tr>\n",
       "      <td>...</td>\n",
       "      <td>...</td>\n",
       "      <td>...</td>\n",
       "      <td>...</td>\n",
       "      <td>...</td>\n",
       "      <td>...</td>\n",
       "      <td>...</td>\n",
       "      <td>...</td>\n",
       "      <td>...</td>\n",
       "      <td>...</td>\n",
       "      <td>...</td>\n",
       "      <td>...</td>\n",
       "      <td>...</td>\n",
       "    </tr>\n",
       "    <tr>\n",
       "      <td>38476</td>\n",
       "      <td>C</td>\n",
       "      <td>168606</td>\n",
       "      <td>957922</td>\n",
       "      <td>2019-11-09</td>\n",
       "      <td>4</td>\n",
       "      <td>0.0</td>\n",
       "      <td>593.0</td>\n",
       "      <td>0.0</td>\n",
       "      <td>100.0</td>\n",
       "      <td>0.0</td>\n",
       "      <td>1.0</td>\n",
       "      <td>0</td>\n",
       "    </tr>\n",
       "    <tr>\n",
       "      <td>38477</td>\n",
       "      <td>C</td>\n",
       "      <td>168606</td>\n",
       "      <td>957922</td>\n",
       "      <td>2019-11-10</td>\n",
       "      <td>1</td>\n",
       "      <td>0.0</td>\n",
       "      <td>38.0</td>\n",
       "      <td>0.0</td>\n",
       "      <td>100.0</td>\n",
       "      <td>0.0</td>\n",
       "      <td>1.0</td>\n",
       "      <td>0</td>\n",
       "    </tr>\n",
       "    <tr>\n",
       "      <td>38478</td>\n",
       "      <td>C</td>\n",
       "      <td>168606</td>\n",
       "      <td>957922</td>\n",
       "      <td>2019-11-11</td>\n",
       "      <td>2</td>\n",
       "      <td>0.0</td>\n",
       "      <td>501.0</td>\n",
       "      <td>0.0</td>\n",
       "      <td>100.0</td>\n",
       "      <td>0.0</td>\n",
       "      <td>1.0</td>\n",
       "      <td>0</td>\n",
       "    </tr>\n",
       "    <tr>\n",
       "      <td>38479</td>\n",
       "      <td>C</td>\n",
       "      <td>168606</td>\n",
       "      <td>957922</td>\n",
       "      <td>2019-11-15</td>\n",
       "      <td>4</td>\n",
       "      <td>0.0</td>\n",
       "      <td>3190.0</td>\n",
       "      <td>0.0</td>\n",
       "      <td>100.0</td>\n",
       "      <td>0.0</td>\n",
       "      <td>1.0</td>\n",
       "      <td>0</td>\n",
       "    </tr>\n",
       "    <tr>\n",
       "      <td>38480</td>\n",
       "      <td>C</td>\n",
       "      <td>168606</td>\n",
       "      <td>957922</td>\n",
       "      <td>2019-11-19</td>\n",
       "      <td>2</td>\n",
       "      <td>64.0</td>\n",
       "      <td>0.0</td>\n",
       "      <td>100.0</td>\n",
       "      <td>0.0</td>\n",
       "      <td>1.0</td>\n",
       "      <td>0.0</td>\n",
       "      <td>0</td>\n",
       "    </tr>\n",
       "  </tbody>\n",
       "</table>\n",
       "<p>38481 rows × 12 columns</p>\n",
       "</div>"
      ],
      "text/plain": [
       "direction tariff_plan  user_id  operator_id       date  calls_count     in  \\\n",
       "0                   A   166407       888532 2019-08-20            1    0.0   \n",
       "1                   A   166407       888532 2019-08-26            1   22.0   \n",
       "2                   A   166407       888532 2019-09-09            6    0.0   \n",
       "3                   A   166407       888532 2019-09-10            2  242.0   \n",
       "4                   A   166407       888532 2019-09-11            1   39.0   \n",
       "...               ...      ...          ...        ...          ...    ...   \n",
       "38476               C   168606       957922 2019-11-09            4    0.0   \n",
       "38477               C   168606       957922 2019-11-10            1    0.0   \n",
       "38478               C   168606       957922 2019-11-11            2    0.0   \n",
       "38479               C   168606       957922 2019-11-15            4    0.0   \n",
       "38480               C   168606       957922 2019-11-19            2   64.0   \n",
       "\n",
       "direction     out  call_in_perc  call_out_perc  incoming call  outgoing call  \\\n",
       "0            16.0           0.0          100.0            0.0            1.0   \n",
       "1             0.0         100.0            0.0            1.0            0.0   \n",
       "2            22.0           0.0          100.0            0.0            1.0   \n",
       "3             0.0         100.0            0.0            1.0            0.0   \n",
       "4             0.0         100.0            0.0            1.0            0.0   \n",
       "...           ...           ...            ...            ...            ...   \n",
       "38476       593.0           0.0          100.0            0.0            1.0   \n",
       "38477        38.0           0.0          100.0            0.0            1.0   \n",
       "38478       501.0           0.0          100.0            0.0            1.0   \n",
       "38479      3190.0           0.0          100.0            0.0            1.0   \n",
       "38480         0.0         100.0            0.0            1.0            0.0   \n",
       "\n",
       "direction  mixed challenge  \n",
       "0                        0  \n",
       "1                        0  \n",
       "2                        0  \n",
       "3                        0  \n",
       "4                        0  \n",
       "...                    ...  \n",
       "38476                    0  \n",
       "38477                    0  \n",
       "38478                    0  \n",
       "38479                    0  \n",
       "38480                    0  \n",
       "\n",
       "[38481 rows x 12 columns]"
      ]
     },
     "execution_count": 66,
     "metadata": {},
     "output_type": "execute_result"
    }
   ],
   "source": [
    "telecom_dataset_pivot"
   ]
  },
  {
   "cell_type": "code",
   "execution_count": 67,
   "metadata": {},
   "outputs": [
    {
     "data": {
      "text/html": [
       "<div>\n",
       "<style scoped>\n",
       "    .dataframe tbody tr th:only-of-type {\n",
       "        vertical-align: middle;\n",
       "    }\n",
       "\n",
       "    .dataframe tbody tr th {\n",
       "        vertical-align: top;\n",
       "    }\n",
       "\n",
       "    .dataframe thead th {\n",
       "        text-align: right;\n",
       "    }\n",
       "</style>\n",
       "<table border=\"1\" class=\"dataframe\">\n",
       "  <thead>\n",
       "    <tr style=\"text-align: right;\">\n",
       "      <th>direction</th>\n",
       "      <th>incoming call</th>\n",
       "      <th>outgoing call</th>\n",
       "      <th>mixed challenge</th>\n",
       "    </tr>\n",
       "  </thead>\n",
       "  <tbody>\n",
       "    <tr>\n",
       "      <td>0</td>\n",
       "      <td>0.0</td>\n",
       "      <td>1.0</td>\n",
       "      <td>0</td>\n",
       "    </tr>\n",
       "    <tr>\n",
       "      <td>1</td>\n",
       "      <td>1.0</td>\n",
       "      <td>0.0</td>\n",
       "      <td>0</td>\n",
       "    </tr>\n",
       "    <tr>\n",
       "      <td>2</td>\n",
       "      <td>0.0</td>\n",
       "      <td>1.0</td>\n",
       "      <td>0</td>\n",
       "    </tr>\n",
       "    <tr>\n",
       "      <td>3</td>\n",
       "      <td>1.0</td>\n",
       "      <td>0.0</td>\n",
       "      <td>0</td>\n",
       "    </tr>\n",
       "    <tr>\n",
       "      <td>4</td>\n",
       "      <td>1.0</td>\n",
       "      <td>0.0</td>\n",
       "      <td>0</td>\n",
       "    </tr>\n",
       "    <tr>\n",
       "      <td>...</td>\n",
       "      <td>...</td>\n",
       "      <td>...</td>\n",
       "      <td>...</td>\n",
       "    </tr>\n",
       "    <tr>\n",
       "      <td>38476</td>\n",
       "      <td>0.0</td>\n",
       "      <td>1.0</td>\n",
       "      <td>0</td>\n",
       "    </tr>\n",
       "    <tr>\n",
       "      <td>38477</td>\n",
       "      <td>0.0</td>\n",
       "      <td>1.0</td>\n",
       "      <td>0</td>\n",
       "    </tr>\n",
       "    <tr>\n",
       "      <td>38478</td>\n",
       "      <td>0.0</td>\n",
       "      <td>1.0</td>\n",
       "      <td>0</td>\n",
       "    </tr>\n",
       "    <tr>\n",
       "      <td>38479</td>\n",
       "      <td>0.0</td>\n",
       "      <td>1.0</td>\n",
       "      <td>0</td>\n",
       "    </tr>\n",
       "    <tr>\n",
       "      <td>38480</td>\n",
       "      <td>1.0</td>\n",
       "      <td>0.0</td>\n",
       "      <td>0</td>\n",
       "    </tr>\n",
       "  </tbody>\n",
       "</table>\n",
       "<p>38481 rows × 3 columns</p>\n",
       "</div>"
      ],
      "text/plain": [
       "direction  incoming call  outgoing call  mixed challenge\n",
       "0                    0.0            1.0                0\n",
       "1                    1.0            0.0                0\n",
       "2                    0.0            1.0                0\n",
       "3                    1.0            0.0                0\n",
       "4                    1.0            0.0                0\n",
       "...                  ...            ...              ...\n",
       "38476                0.0            1.0                0\n",
       "38477                0.0            1.0                0\n",
       "38478                0.0            1.0                0\n",
       "38479                0.0            1.0                0\n",
       "38480                1.0            0.0                0\n",
       "\n",
       "[38481 rows x 3 columns]"
      ]
     },
     "execution_count": 67,
     "metadata": {},
     "output_type": "execute_result"
    }
   ],
   "source": [
    "call_pivot = telecom_dataset_pivot[['incoming call', 'outgoing call', 'mixed challenge']]\n",
    "call_pivot"
   ]
  },
  {
   "cell_type": "code",
   "execution_count": 68,
   "metadata": {},
   "outputs": [
    {
     "data": {
      "text/plain": [
       "Text(0, 0.5, 'Количество')"
      ]
     },
     "execution_count": 68,
     "metadata": {},
     "output_type": "execute_result"
    },
    {
     "data": {
      "image/png": "[encoded data removed]",
      "text/plain": [
       "<Figure size 1152x648 with 1 Axes>"
      ]
     },
     "metadata": {
      "needs_background": "light"
     },
     "output_type": "display_data"
    }
   ],
   "source": [
    "ax = call_pivot.sum().plot(kind='bar', grid=True, figsize=(16,9))\n",
    "plt.title('Распределение входящих, исходящих и смешанных звонков')\n",
    "plt.xlabel('Направление звонка')\n",
    "plt.ylabel('Количество')"
   ]
  },
  {
   "cell_type": "markdown",
   "metadata": {},
   "source": [
    "Как мы видим из графика выше основная специализация - исходящие звонки.\n",
    "Сложилось следующее распределение:\n",
    "* специализация на входящих звонках - 16450;\n",
    "* специализация на исходящих звонках - 20229;\n",
    "* специализация на смешанных звонках - 1802"
   ]
  },
  {
   "cell_type": "markdown",
   "metadata": {},
   "source": [
    "Проверим является ли значимым фактор тарифа"
   ]
  },
  {
   "cell_type": "code",
   "execution_count": 69,
   "metadata": {},
   "outputs": [
    {
     "data": {
      "text/plain": [
       "C    14981\n",
       "B    14354\n",
       "A     9146\n",
       "Name: tariff_plan, dtype: int64"
      ]
     },
     "execution_count": 69,
     "metadata": {},
     "output_type": "execute_result"
    }
   ],
   "source": [
    "telecom_dataset_pivot['tariff_plan'].value_counts()"
   ]
  },
  {
   "cell_type": "code",
   "execution_count": 70,
   "metadata": {},
   "outputs": [],
   "source": [
    "def tariff_call_connection(call):\n",
    "    tariff = ['A', 'B', 'C']\n",
    "    for i in tariff:\n",
    "        \n",
    "        print(i, telecom_dataset_pivot[(telecom_dataset_pivot['tariff_plan']==i) & (telecom_dataset_pivot[call]==1)][call].sum())"
   ]
  },
  {
   "cell_type": "markdown",
   "metadata": {},
   "source": [
    "Входящие вызовы"
   ]
  },
  {
   "cell_type": "code",
   "execution_count": 71,
   "metadata": {},
   "outputs": [
    {
     "name": "stdout",
     "output_type": "stream",
     "text": [
      "A 3722.0\n",
      "B 5665.0\n",
      "C 7063.0\n"
     ]
    }
   ],
   "source": [
    "tariff_call_connection('incoming call')"
   ]
  },
  {
   "cell_type": "markdown",
   "metadata": {},
   "source": [
    "Исходящие вызовы"
   ]
  },
  {
   "cell_type": "code",
   "execution_count": 72,
   "metadata": {},
   "outputs": [
    {
     "name": "stdout",
     "output_type": "stream",
     "text": [
      "A 4992.0\n",
      "B 8101.0\n",
      "C 7136.0\n"
     ]
    }
   ],
   "source": [
    "tariff_call_connection('outgoing call')"
   ]
  },
  {
   "cell_type": "markdown",
   "metadata": {},
   "source": [
    "Смешанные вызовы"
   ]
  },
  {
   "cell_type": "code",
   "execution_count": 73,
   "metadata": {},
   "outputs": [
    {
     "name": "stdout",
     "output_type": "stream",
     "text": [
      "A 432\n",
      "B 588\n",
      "C 782\n"
     ]
    }
   ],
   "source": [
    "tariff_call_connection('mixed challenge')"
   ]
  },
  {
   "cell_type": "markdown",
   "metadata": {},
   "source": [
    "Как мы видим выбор тарифа не связан со специализацией"
   ]
  },
  {
   "cell_type": "markdown",
   "metadata": {},
   "source": [
    "### Проведение анализа нагрузки на операторов"
   ]
  },
  {
   "cell_type": "code",
   "execution_count": 74,
   "metadata": {},
   "outputs": [
    {
     "data": {
      "text/html": [
       "<div>\n",
       "<style scoped>\n",
       "    .dataframe tbody tr th:only-of-type {\n",
       "        vertical-align: middle;\n",
       "    }\n",
       "\n",
       "    .dataframe tbody tr th {\n",
       "        vertical-align: top;\n",
       "    }\n",
       "\n",
       "    .dataframe thead th {\n",
       "        text-align: right;\n",
       "    }\n",
       "</style>\n",
       "<table border=\"1\" class=\"dataframe\">\n",
       "  <thead>\n",
       "    <tr style=\"text-align: right;\">\n",
       "      <th>direction</th>\n",
       "      <th>tariff_plan</th>\n",
       "      <th>user_id</th>\n",
       "      <th>operator_id</th>\n",
       "      <th>date</th>\n",
       "      <th>calls_count</th>\n",
       "      <th>in</th>\n",
       "      <th>out</th>\n",
       "      <th>call_in_perc</th>\n",
       "      <th>call_out_perc</th>\n",
       "      <th>incoming call</th>\n",
       "      <th>outgoing call</th>\n",
       "      <th>mixed challenge</th>\n",
       "    </tr>\n",
       "  </thead>\n",
       "  <tbody>\n",
       "    <tr>\n",
       "      <td>0</td>\n",
       "      <td>A</td>\n",
       "      <td>166407</td>\n",
       "      <td>888532</td>\n",
       "      <td>2019-08-20</td>\n",
       "      <td>1</td>\n",
       "      <td>0.0</td>\n",
       "      <td>16.0</td>\n",
       "      <td>0.0</td>\n",
       "      <td>100.0</td>\n",
       "      <td>0.0</td>\n",
       "      <td>1.0</td>\n",
       "      <td>0</td>\n",
       "    </tr>\n",
       "    <tr>\n",
       "      <td>1</td>\n",
       "      <td>A</td>\n",
       "      <td>166407</td>\n",
       "      <td>888532</td>\n",
       "      <td>2019-08-26</td>\n",
       "      <td>1</td>\n",
       "      <td>22.0</td>\n",
       "      <td>0.0</td>\n",
       "      <td>100.0</td>\n",
       "      <td>0.0</td>\n",
       "      <td>1.0</td>\n",
       "      <td>0.0</td>\n",
       "      <td>0</td>\n",
       "    </tr>\n",
       "    <tr>\n",
       "      <td>2</td>\n",
       "      <td>A</td>\n",
       "      <td>166407</td>\n",
       "      <td>888532</td>\n",
       "      <td>2019-09-09</td>\n",
       "      <td>6</td>\n",
       "      <td>0.0</td>\n",
       "      <td>22.0</td>\n",
       "      <td>0.0</td>\n",
       "      <td>100.0</td>\n",
       "      <td>0.0</td>\n",
       "      <td>1.0</td>\n",
       "      <td>0</td>\n",
       "    </tr>\n",
       "    <tr>\n",
       "      <td>3</td>\n",
       "      <td>A</td>\n",
       "      <td>166407</td>\n",
       "      <td>888532</td>\n",
       "      <td>2019-09-10</td>\n",
       "      <td>2</td>\n",
       "      <td>242.0</td>\n",
       "      <td>0.0</td>\n",
       "      <td>100.0</td>\n",
       "      <td>0.0</td>\n",
       "      <td>1.0</td>\n",
       "      <td>0.0</td>\n",
       "      <td>0</td>\n",
       "    </tr>\n",
       "    <tr>\n",
       "      <td>4</td>\n",
       "      <td>A</td>\n",
       "      <td>166407</td>\n",
       "      <td>888532</td>\n",
       "      <td>2019-09-11</td>\n",
       "      <td>1</td>\n",
       "      <td>39.0</td>\n",
       "      <td>0.0</td>\n",
       "      <td>100.0</td>\n",
       "      <td>0.0</td>\n",
       "      <td>1.0</td>\n",
       "      <td>0.0</td>\n",
       "      <td>0</td>\n",
       "    </tr>\n",
       "  </tbody>\n",
       "</table>\n",
       "</div>"
      ],
      "text/plain": [
       "direction tariff_plan  user_id  operator_id       date  calls_count     in  \\\n",
       "0                   A   166407       888532 2019-08-20            1    0.0   \n",
       "1                   A   166407       888532 2019-08-26            1   22.0   \n",
       "2                   A   166407       888532 2019-09-09            6    0.0   \n",
       "3                   A   166407       888532 2019-09-10            2  242.0   \n",
       "4                   A   166407       888532 2019-09-11            1   39.0   \n",
       "\n",
       "direction   out  call_in_perc  call_out_perc  incoming call  outgoing call  \\\n",
       "0          16.0           0.0          100.0            0.0            1.0   \n",
       "1           0.0         100.0            0.0            1.0            0.0   \n",
       "2          22.0           0.0          100.0            0.0            1.0   \n",
       "3           0.0         100.0            0.0            1.0            0.0   \n",
       "4           0.0         100.0            0.0            1.0            0.0   \n",
       "\n",
       "direction  mixed challenge  \n",
       "0                        0  \n",
       "1                        0  \n",
       "2                        0  \n",
       "3                        0  \n",
       "4                        0  "
      ]
     },
     "execution_count": 74,
     "metadata": {},
     "output_type": "execute_result"
    }
   ],
   "source": [
    "telecom_dataset_pivot.head()"
   ]
  },
  {
   "cell_type": "markdown",
   "metadata": {},
   "source": [
    "Распределим операторов по трём категориям исходя из специализации работы колл-центра"
   ]
  },
  {
   "cell_type": "markdown",
   "metadata": {},
   "source": [
    "Входящие вызовы"
   ]
  },
  {
   "cell_type": "code",
   "execution_count": 75,
   "metadata": {},
   "outputs": [
    {
     "data": {
      "text/html": [
       "<div>\n",
       "<style scoped>\n",
       "    .dataframe tbody tr th:only-of-type {\n",
       "        vertical-align: middle;\n",
       "    }\n",
       "\n",
       "    .dataframe tbody tr th {\n",
       "        vertical-align: top;\n",
       "    }\n",
       "\n",
       "    .dataframe thead th {\n",
       "        text-align: right;\n",
       "    }\n",
       "</style>\n",
       "<table border=\"1\" class=\"dataframe\">\n",
       "  <thead>\n",
       "    <tr style=\"text-align: right;\">\n",
       "      <th>direction</th>\n",
       "      <th>user_id</th>\n",
       "      <th>operator_id</th>\n",
       "      <th>in</th>\n",
       "      <th>date</th>\n",
       "      <th>calls_count</th>\n",
       "    </tr>\n",
       "  </thead>\n",
       "  <tbody>\n",
       "    <tr>\n",
       "      <td>1</td>\n",
       "      <td>166407</td>\n",
       "      <td>888532</td>\n",
       "      <td>22.0</td>\n",
       "      <td>2019-08-26</td>\n",
       "      <td>1</td>\n",
       "    </tr>\n",
       "    <tr>\n",
       "      <td>3</td>\n",
       "      <td>166407</td>\n",
       "      <td>888532</td>\n",
       "      <td>242.0</td>\n",
       "      <td>2019-09-10</td>\n",
       "      <td>2</td>\n",
       "    </tr>\n",
       "    <tr>\n",
       "      <td>4</td>\n",
       "      <td>166407</td>\n",
       "      <td>888532</td>\n",
       "      <td>39.0</td>\n",
       "      <td>2019-09-11</td>\n",
       "      <td>1</td>\n",
       "    </tr>\n",
       "    <tr>\n",
       "      <td>27</td>\n",
       "      <td>166407</td>\n",
       "      <td>888532</td>\n",
       "      <td>802.0</td>\n",
       "      <td>2019-10-08</td>\n",
       "      <td>1</td>\n",
       "    </tr>\n",
       "    <tr>\n",
       "      <td>35</td>\n",
       "      <td>166407</td>\n",
       "      <td>888532</td>\n",
       "      <td>330.0</td>\n",
       "      <td>2019-10-16</td>\n",
       "      <td>1</td>\n",
       "    </tr>\n",
       "    <tr>\n",
       "      <td>...</td>\n",
       "      <td>...</td>\n",
       "      <td>...</td>\n",
       "      <td>...</td>\n",
       "      <td>...</td>\n",
       "      <td>...</td>\n",
       "    </tr>\n",
       "    <tr>\n",
       "      <td>38467</td>\n",
       "      <td>168601</td>\n",
       "      <td>952914</td>\n",
       "      <td>19.0</td>\n",
       "      <td>2019-11-28</td>\n",
       "      <td>1</td>\n",
       "    </tr>\n",
       "    <tr>\n",
       "      <td>38470</td>\n",
       "      <td>168601</td>\n",
       "      <td>952916</td>\n",
       "      <td>186.0</td>\n",
       "      <td>2019-11-12</td>\n",
       "      <td>1</td>\n",
       "    </tr>\n",
       "    <tr>\n",
       "      <td>38473</td>\n",
       "      <td>168606</td>\n",
       "      <td>957922</td>\n",
       "      <td>7.0</td>\n",
       "      <td>2019-11-08</td>\n",
       "      <td>1</td>\n",
       "    </tr>\n",
       "    <tr>\n",
       "      <td>38475</td>\n",
       "      <td>168606</td>\n",
       "      <td>957922</td>\n",
       "      <td>121.0</td>\n",
       "      <td>2019-11-08</td>\n",
       "      <td>6</td>\n",
       "    </tr>\n",
       "    <tr>\n",
       "      <td>38480</td>\n",
       "      <td>168606</td>\n",
       "      <td>957922</td>\n",
       "      <td>64.0</td>\n",
       "      <td>2019-11-19</td>\n",
       "      <td>2</td>\n",
       "    </tr>\n",
       "  </tbody>\n",
       "</table>\n",
       "<p>16450 rows × 5 columns</p>\n",
       "</div>"
      ],
      "text/plain": [
       "direction  user_id  operator_id     in       date  calls_count\n",
       "1           166407       888532   22.0 2019-08-26            1\n",
       "3           166407       888532  242.0 2019-09-10            2\n",
       "4           166407       888532   39.0 2019-09-11            1\n",
       "27          166407       888532  802.0 2019-10-08            1\n",
       "35          166407       888532  330.0 2019-10-16            1\n",
       "...            ...          ...    ...        ...          ...\n",
       "38467       168601       952914   19.0 2019-11-28            1\n",
       "38470       168601       952916  186.0 2019-11-12            1\n",
       "38473       168606       957922    7.0 2019-11-08            1\n",
       "38475       168606       957922  121.0 2019-11-08            6\n",
       "38480       168606       957922   64.0 2019-11-19            2\n",
       "\n",
       "[16450 rows x 5 columns]"
      ]
     },
     "execution_count": 75,
     "metadata": {},
     "output_type": "execute_result"
    }
   ],
   "source": [
    "incoming_df = telecom_dataset_pivot[telecom_dataset_pivot['incoming call']==1]\n",
    "incoming_df = incoming_df[['user_id', 'operator_id', 'in', 'date', 'calls_count']]\n",
    "incoming_df"
   ]
  },
  {
   "cell_type": "markdown",
   "metadata": {},
   "source": [
    "Исходящие вызовы"
   ]
  },
  {
   "cell_type": "code",
   "execution_count": 76,
   "metadata": {},
   "outputs": [
    {
     "data": {
      "text/html": [
       "<div>\n",
       "<style scoped>\n",
       "    .dataframe tbody tr th:only-of-type {\n",
       "        vertical-align: middle;\n",
       "    }\n",
       "\n",
       "    .dataframe tbody tr th {\n",
       "        vertical-align: top;\n",
       "    }\n",
       "\n",
       "    .dataframe thead th {\n",
       "        text-align: right;\n",
       "    }\n",
       "</style>\n",
       "<table border=\"1\" class=\"dataframe\">\n",
       "  <thead>\n",
       "    <tr style=\"text-align: right;\">\n",
       "      <th>direction</th>\n",
       "      <th>user_id</th>\n",
       "      <th>operator_id</th>\n",
       "      <th>out</th>\n",
       "      <th>date</th>\n",
       "      <th>calls_count</th>\n",
       "    </tr>\n",
       "  </thead>\n",
       "  <tbody>\n",
       "    <tr>\n",
       "      <td>0</td>\n",
       "      <td>166407</td>\n",
       "      <td>888532</td>\n",
       "      <td>16.0</td>\n",
       "      <td>2019-08-20</td>\n",
       "      <td>1</td>\n",
       "    </tr>\n",
       "    <tr>\n",
       "      <td>2</td>\n",
       "      <td>166407</td>\n",
       "      <td>888532</td>\n",
       "      <td>22.0</td>\n",
       "      <td>2019-09-09</td>\n",
       "      <td>6</td>\n",
       "    </tr>\n",
       "    <tr>\n",
       "      <td>5</td>\n",
       "      <td>166407</td>\n",
       "      <td>888532</td>\n",
       "      <td>162.0</td>\n",
       "      <td>2019-09-11</td>\n",
       "      <td>7</td>\n",
       "    </tr>\n",
       "    <tr>\n",
       "      <td>6</td>\n",
       "      <td>166407</td>\n",
       "      <td>888532</td>\n",
       "      <td>50.0</td>\n",
       "      <td>2019-09-13</td>\n",
       "      <td>1</td>\n",
       "    </tr>\n",
       "    <tr>\n",
       "      <td>7</td>\n",
       "      <td>166407</td>\n",
       "      <td>888532</td>\n",
       "      <td>21.0</td>\n",
       "      <td>2019-09-16</td>\n",
       "      <td>1</td>\n",
       "    </tr>\n",
       "    <tr>\n",
       "      <td>...</td>\n",
       "      <td>...</td>\n",
       "      <td>...</td>\n",
       "      <td>...</td>\n",
       "      <td>...</td>\n",
       "      <td>...</td>\n",
       "    </tr>\n",
       "    <tr>\n",
       "      <td>38472</td>\n",
       "      <td>168601</td>\n",
       "      <td>952916</td>\n",
       "      <td>232.0</td>\n",
       "      <td>2019-11-15</td>\n",
       "      <td>2</td>\n",
       "    </tr>\n",
       "    <tr>\n",
       "      <td>38476</td>\n",
       "      <td>168606</td>\n",
       "      <td>957922</td>\n",
       "      <td>593.0</td>\n",
       "      <td>2019-11-09</td>\n",
       "      <td>4</td>\n",
       "    </tr>\n",
       "    <tr>\n",
       "      <td>38477</td>\n",
       "      <td>168606</td>\n",
       "      <td>957922</td>\n",
       "      <td>38.0</td>\n",
       "      <td>2019-11-10</td>\n",
       "      <td>1</td>\n",
       "    </tr>\n",
       "    <tr>\n",
       "      <td>38478</td>\n",
       "      <td>168606</td>\n",
       "      <td>957922</td>\n",
       "      <td>501.0</td>\n",
       "      <td>2019-11-11</td>\n",
       "      <td>2</td>\n",
       "    </tr>\n",
       "    <tr>\n",
       "      <td>38479</td>\n",
       "      <td>168606</td>\n",
       "      <td>957922</td>\n",
       "      <td>3190.0</td>\n",
       "      <td>2019-11-15</td>\n",
       "      <td>4</td>\n",
       "    </tr>\n",
       "  </tbody>\n",
       "</table>\n",
       "<p>20229 rows × 5 columns</p>\n",
       "</div>"
      ],
      "text/plain": [
       "direction  user_id  operator_id     out       date  calls_count\n",
       "0           166407       888532    16.0 2019-08-20            1\n",
       "2           166407       888532    22.0 2019-09-09            6\n",
       "5           166407       888532   162.0 2019-09-11            7\n",
       "6           166407       888532    50.0 2019-09-13            1\n",
       "7           166407       888532    21.0 2019-09-16            1\n",
       "...            ...          ...     ...        ...          ...\n",
       "38472       168601       952916   232.0 2019-11-15            2\n",
       "38476       168606       957922   593.0 2019-11-09            4\n",
       "38477       168606       957922    38.0 2019-11-10            1\n",
       "38478       168606       957922   501.0 2019-11-11            2\n",
       "38479       168606       957922  3190.0 2019-11-15            4\n",
       "\n",
       "[20229 rows x 5 columns]"
      ]
     },
     "execution_count": 76,
     "metadata": {},
     "output_type": "execute_result"
    }
   ],
   "source": [
    "outgoing_df = telecom_dataset_pivot[telecom_dataset_pivot['outgoing call']==1]\n",
    "outgoing_df = outgoing_df[['user_id', 'operator_id', 'out', 'date', 'calls_count']]\n",
    "outgoing_df"
   ]
  },
  {
   "cell_type": "markdown",
   "metadata": {},
   "source": [
    "Смешанные вызовы"
   ]
  },
  {
   "cell_type": "code",
   "execution_count": 77,
   "metadata": {},
   "outputs": [
    {
     "data": {
      "text/html": [
       "<div>\n",
       "<style scoped>\n",
       "    .dataframe tbody tr th:only-of-type {\n",
       "        vertical-align: middle;\n",
       "    }\n",
       "\n",
       "    .dataframe tbody tr th {\n",
       "        vertical-align: top;\n",
       "    }\n",
       "\n",
       "    .dataframe thead th {\n",
       "        text-align: right;\n",
       "    }\n",
       "</style>\n",
       "<table border=\"1\" class=\"dataframe\">\n",
       "  <thead>\n",
       "    <tr style=\"text-align: right;\">\n",
       "      <th>direction</th>\n",
       "      <th>user_id</th>\n",
       "      <th>operator_id</th>\n",
       "      <th>in</th>\n",
       "      <th>out</th>\n",
       "      <th>date</th>\n",
       "      <th>calls_count</th>\n",
       "    </tr>\n",
       "  </thead>\n",
       "  <tbody>\n",
       "    <tr>\n",
       "      <td>39</td>\n",
       "      <td>166407</td>\n",
       "      <td>888532</td>\n",
       "      <td>187.0</td>\n",
       "      <td>89.0</td>\n",
       "      <td>2019-10-21</td>\n",
       "      <td>2</td>\n",
       "    </tr>\n",
       "    <tr>\n",
       "      <td>79</td>\n",
       "      <td>166407</td>\n",
       "      <td>888534</td>\n",
       "      <td>72.0</td>\n",
       "      <td>31.0</td>\n",
       "      <td>2019-09-11</td>\n",
       "      <td>1</td>\n",
       "    </tr>\n",
       "    <tr>\n",
       "      <td>88</td>\n",
       "      <td>166407</td>\n",
       "      <td>888534</td>\n",
       "      <td>57.0</td>\n",
       "      <td>37.0</td>\n",
       "      <td>2019-09-16</td>\n",
       "      <td>2</td>\n",
       "    </tr>\n",
       "    <tr>\n",
       "      <td>92</td>\n",
       "      <td>166407</td>\n",
       "      <td>888534</td>\n",
       "      <td>93.0</td>\n",
       "      <td>34.0</td>\n",
       "      <td>2019-09-18</td>\n",
       "      <td>2</td>\n",
       "    </tr>\n",
       "    <tr>\n",
       "      <td>95</td>\n",
       "      <td>166407</td>\n",
       "      <td>888534</td>\n",
       "      <td>32.0</td>\n",
       "      <td>22.0</td>\n",
       "      <td>2019-09-20</td>\n",
       "      <td>1</td>\n",
       "    </tr>\n",
       "    <tr>\n",
       "      <td>...</td>\n",
       "      <td>...</td>\n",
       "      <td>...</td>\n",
       "      <td>...</td>\n",
       "      <td>...</td>\n",
       "      <td>...</td>\n",
       "      <td>...</td>\n",
       "    </tr>\n",
       "    <tr>\n",
       "      <td>38347</td>\n",
       "      <td>168466</td>\n",
       "      <td>952114</td>\n",
       "      <td>9.0</td>\n",
       "      <td>11.0</td>\n",
       "      <td>2019-11-15</td>\n",
       "      <td>1</td>\n",
       "    </tr>\n",
       "    <tr>\n",
       "      <td>38351</td>\n",
       "      <td>168466</td>\n",
       "      <td>952114</td>\n",
       "      <td>0.0</td>\n",
       "      <td>0.0</td>\n",
       "      <td>2019-11-18</td>\n",
       "      <td>10</td>\n",
       "    </tr>\n",
       "    <tr>\n",
       "      <td>38415</td>\n",
       "      <td>168598</td>\n",
       "      <td>958394</td>\n",
       "      <td>0.0</td>\n",
       "      <td>0.0</td>\n",
       "      <td>2019-11-28</td>\n",
       "      <td>2</td>\n",
       "    </tr>\n",
       "    <tr>\n",
       "      <td>38450</td>\n",
       "      <td>168601</td>\n",
       "      <td>952914</td>\n",
       "      <td>0.0</td>\n",
       "      <td>0.0</td>\n",
       "      <td>2019-11-16</td>\n",
       "      <td>1</td>\n",
       "    </tr>\n",
       "    <tr>\n",
       "      <td>38474</td>\n",
       "      <td>168606</td>\n",
       "      <td>957922</td>\n",
       "      <td>705.0</td>\n",
       "      <td>368.0</td>\n",
       "      <td>2019-11-08</td>\n",
       "      <td>2</td>\n",
       "    </tr>\n",
       "  </tbody>\n",
       "</table>\n",
       "<p>1802 rows × 6 columns</p>\n",
       "</div>"
      ],
      "text/plain": [
       "direction  user_id  operator_id     in    out       date  calls_count\n",
       "39          166407       888532  187.0   89.0 2019-10-21            2\n",
       "79          166407       888534   72.0   31.0 2019-09-11            1\n",
       "88          166407       888534   57.0   37.0 2019-09-16            2\n",
       "92          166407       888534   93.0   34.0 2019-09-18            2\n",
       "95          166407       888534   32.0   22.0 2019-09-20            1\n",
       "...            ...          ...    ...    ...        ...          ...\n",
       "38347       168466       952114    9.0   11.0 2019-11-15            1\n",
       "38351       168466       952114    0.0    0.0 2019-11-18           10\n",
       "38415       168598       958394    0.0    0.0 2019-11-28            2\n",
       "38450       168601       952914    0.0    0.0 2019-11-16            1\n",
       "38474       168606       957922  705.0  368.0 2019-11-08            2\n",
       "\n",
       "[1802 rows x 6 columns]"
      ]
     },
     "execution_count": 77,
     "metadata": {},
     "output_type": "execute_result"
    }
   ],
   "source": [
    "mixed_df = telecom_dataset_pivot[telecom_dataset_pivot['mixed challenge']==1]\n",
    "mixed_df = mixed_df[['user_id', 'operator_id', 'in', 'out', 'date', 'calls_count']]\n",
    "mixed_df"
   ]
  },
  {
   "cell_type": "markdown",
   "metadata": {},
   "source": [
    "Рассмотрим пиковые дни для операторов, работающих с входяшими вызовами"
   ]
  },
  {
   "cell_type": "code",
   "execution_count": 78,
   "metadata": {},
   "outputs": [
    {
     "data": {
      "text/plain": [
       "date\n",
       "2019-11-20    15352.0\n",
       "2019-11-12    14181.0\n",
       "2019-11-14    13662.0\n",
       "2019-11-11    13557.0\n",
       "2019-11-13    13391.0\n",
       "2019-11-08     8998.0\n",
       "2019-11-23     8623.0\n",
       "2019-10-28     8228.0\n",
       "2019-11-18     7638.0\n",
       "2019-11-26     7537.0\n",
       "2019-11-01     7439.0\n",
       "2019-11-06     7322.0\n",
       "2019-09-16     7134.0\n",
       "2019-09-13     7108.0\n",
       "2019-09-23     6820.0\n",
       "2019-09-16     6766.0\n",
       "2019-11-25     6628.0\n",
       "2019-11-18     6596.0\n",
       "2019-11-15     6583.0\n",
       "2019-10-24     6420.0\n",
       "Name: in, dtype: float64"
      ]
     },
     "execution_count": 78,
     "metadata": {},
     "output_type": "execute_result"
    }
   ],
   "source": [
    "pik_date_in = incoming_df.set_index('date')['in'].sort_values(ascending=False).head(20)\n",
    "pik_date_in"
   ]
  },
  {
   "cell_type": "code",
   "execution_count": 79,
   "metadata": {},
   "outputs": [
    {
     "data": {
      "text/plain": [
       "Text(0, 0.5, 'Продолжительность переговоров')"
      ]
     },
     "execution_count": 79,
     "metadata": {},
     "output_type": "execute_result"
    },
    {
     "data": {
      "image/png": "[encoded data removed]",
      "text/plain": [
       "<Figure size 1440x720 with 1 Axes>"
      ]
     },
     "metadata": {
      "needs_background": "light"
     },
     "output_type": "display_data"
    }
   ],
   "source": [
    "pik_date_in.plot(\n",
    "    kind='bar',\n",
    "    grid=True,\n",
    "    figsize=(20, 10))\n",
    "\n",
    "plt.title('Пиковые дни работы операторов из колл-центров со входящими звонками')\n",
    "plt.xlabel('День работы оператора') \n",
    "plt.ylabel('Продолжительность переговоров')   "
   ]
  },
  {
   "cell_type": "markdown",
   "metadata": {},
   "source": [
    "Выделяются 5 самых пиковых дня работы операторов со входящими звонками:\n",
    "* 20 ноября\n",
    "* 12 ноября\n",
    "* 14 ноября\n",
    "* 11 ноября \n",
    "* 13 ноября"
   ]
  },
  {
   "cell_type": "markdown",
   "metadata": {},
   "source": [
    "Сделаем то же самое по количеству, а не по продолжительности"
   ]
  },
  {
   "cell_type": "code",
   "execution_count": 80,
   "metadata": {},
   "outputs": [
    {
     "data": {
      "text/plain": [
       "date\n",
       "2019-08-31     3061\n",
       "2019-09-30    13313\n",
       "2019-10-31    27996\n",
       "2019-11-30    36595\n",
       "Freq: M, Name: calls_count, dtype: int64"
      ]
     },
     "execution_count": 80,
     "metadata": {},
     "output_type": "execute_result"
    }
   ],
   "source": [
    "max_load_call_in_days = incoming_df.set_index('date').resample('M')['calls_count'].sum()\n",
    "max_load_call_in_days"
   ]
  },
  {
   "cell_type": "markdown",
   "metadata": {},
   "source": [
    "Максимальное количество звонков поступивших операторам от абонентов происходила:\n",
    "\n",
    "* 31 августа\n",
    "* 30 сентября\n",
    "* 31 октября\n",
    "* 30 ноября"
   ]
  },
  {
   "cell_type": "markdown",
   "metadata": {},
   "source": [
    "Опираясь на полученные данные выше мы видим, что загрузка операторов по времени не является причиной увеличенного количества звонков. Однако, мы обнаружили любопытный факт - максимальное количество входящих звонков приходится на последние дни месяца.Возможно это связано с окончанием платежного периода, отчетности  и т.д., иными словами причина в специфике компаний."
   ]
  },
  {
   "cell_type": "markdown",
   "metadata": {},
   "source": [
    "Проделаем те же самые трюки для исходящих звонков и смешанных."
   ]
  },
  {
   "cell_type": "code",
   "execution_count": 81,
   "metadata": {},
   "outputs": [
    {
     "data": {
      "text/plain": [
       "date\n",
       "2019-08-31     6037\n",
       "2019-09-30    24146\n",
       "2019-10-31    49204\n",
       "2019-11-30    68522\n",
       "Freq: M, Name: calls_count, dtype: int64"
      ]
     },
     "execution_count": 81,
     "metadata": {},
     "output_type": "execute_result"
    }
   ],
   "source": [
    "max_load_call_out_days = outgoing_df.set_index('date').resample('M')['calls_count'].sum()\n",
    "max_load_call_out_days"
   ]
  },
  {
   "cell_type": "code",
   "execution_count": 82,
   "metadata": {},
   "outputs": [
    {
     "data": {
      "text/plain": [
       "date\n",
       "2019-08-31     175\n",
       "2019-09-30     776\n",
       "2019-10-31    1571\n",
       "2019-11-30    2131\n",
       "Freq: M, Name: calls_count, dtype: int64"
      ]
     },
     "execution_count": 82,
     "metadata": {},
     "output_type": "execute_result"
    }
   ],
   "source": [
    "max_load_call_mix_days = mixed_df.set_index('date').resample('M')['calls_count'].sum()\n",
    "max_load_call_mix_days"
   ]
  },
  {
   "cell_type": "markdown",
   "metadata": {},
   "source": [
    "ОСНОВНОЙ ВЫВОД:\n",
    "* Вышеуказанные результаты отчетливо показывают и подтверждают, что для всех категорий пиковыми днями являются последние календарные дни месяца. "
   ]
  },
  {
   "cell_type": "markdown",
   "metadata": {},
   "source": [
    "### Исследовательский анализ данных. Алгоритм выявления неэффективных операторов."
   ]
  },
  {
   "cell_type": "markdown",
   "metadata": {},
   "source": [
    "У нас есть 3 признака низкой эффективности:\n",
    "* много пропущенных входящих вызовов;\n",
    "* долгое ожидания ответа при входящих внешних вызовах;\n",
    "* мало исходящих вывозов — в случае тех колл-центров, что специализируются на обзвонах, а не обработке входящих звонков;"
   ]
  },
  {
   "cell_type": "markdown",
   "metadata": {},
   "source": [
    "Для будущего построения алгоритма на данном этапе необходимо количественно определить \"много\" и \"мало\" наших вводных. Начнем по порядку. "
   ]
  },
  {
   "cell_type": "markdown",
   "metadata": {},
   "source": [
    "#### много пропущенных входящих вызовов"
   ]
  },
  {
   "cell_type": "code",
   "execution_count": 83,
   "metadata": {},
   "outputs": [
    {
     "data": {
      "text/html": [
       "<div>\n",
       "<style scoped>\n",
       "    .dataframe tbody tr th:only-of-type {\n",
       "        vertical-align: middle;\n",
       "    }\n",
       "\n",
       "    .dataframe tbody tr th {\n",
       "        vertical-align: top;\n",
       "    }\n",
       "\n",
       "    .dataframe thead th {\n",
       "        text-align: right;\n",
       "    }\n",
       "</style>\n",
       "<table border=\"1\" class=\"dataframe\">\n",
       "  <thead>\n",
       "    <tr style=\"text-align: right;\">\n",
       "      <th></th>\n",
       "      <th>user_id</th>\n",
       "      <th>date</th>\n",
       "      <th>direction</th>\n",
       "      <th>internal</th>\n",
       "      <th>operator_id</th>\n",
       "      <th>is_missed_call</th>\n",
       "      <th>calls_count</th>\n",
       "      <th>call_duration</th>\n",
       "      <th>total_call_duration</th>\n",
       "      <th>waiting_time_answers</th>\n",
       "      <th>waiting_time_one_answer</th>\n",
       "      <th>one_call_duration_full</th>\n",
       "      <th>one_call_duration_clean</th>\n",
       "      <th>tariff_plan</th>\n",
       "      <th>date_start</th>\n",
       "    </tr>\n",
       "  </thead>\n",
       "  <tbody>\n",
       "    <tr>\n",
       "      <td>0</td>\n",
       "      <td>166377</td>\n",
       "      <td>2019-08-04</td>\n",
       "      <td>in</td>\n",
       "      <td>False</td>\n",
       "      <td>880028</td>\n",
       "      <td>True</td>\n",
       "      <td>2</td>\n",
       "      <td>0</td>\n",
       "      <td>4</td>\n",
       "      <td>4</td>\n",
       "      <td>2.000000</td>\n",
       "      <td>2.000000</td>\n",
       "      <td>0.0</td>\n",
       "      <td>B</td>\n",
       "      <td>2019-08-01</td>\n",
       "    </tr>\n",
       "    <tr>\n",
       "      <td>7</td>\n",
       "      <td>166377</td>\n",
       "      <td>2019-08-05</td>\n",
       "      <td>in</td>\n",
       "      <td>False</td>\n",
       "      <td>880028</td>\n",
       "      <td>True</td>\n",
       "      <td>6</td>\n",
       "      <td>0</td>\n",
       "      <td>35</td>\n",
       "      <td>35</td>\n",
       "      <td>5.833333</td>\n",
       "      <td>5.833333</td>\n",
       "      <td>0.0</td>\n",
       "      <td>B</td>\n",
       "      <td>2019-08-01</td>\n",
       "    </tr>\n",
       "    <tr>\n",
       "      <td>8</td>\n",
       "      <td>166377</td>\n",
       "      <td>2019-08-06</td>\n",
       "      <td>in</td>\n",
       "      <td>False</td>\n",
       "      <td>880028</td>\n",
       "      <td>True</td>\n",
       "      <td>4</td>\n",
       "      <td>0</td>\n",
       "      <td>62</td>\n",
       "      <td>62</td>\n",
       "      <td>15.500000</td>\n",
       "      <td>15.500000</td>\n",
       "      <td>0.0</td>\n",
       "      <td>B</td>\n",
       "      <td>2019-08-01</td>\n",
       "    </tr>\n",
       "    <tr>\n",
       "      <td>16</td>\n",
       "      <td>166377</td>\n",
       "      <td>2019-08-07</td>\n",
       "      <td>in</td>\n",
       "      <td>False</td>\n",
       "      <td>880028</td>\n",
       "      <td>True</td>\n",
       "      <td>2</td>\n",
       "      <td>0</td>\n",
       "      <td>24</td>\n",
       "      <td>24</td>\n",
       "      <td>12.000000</td>\n",
       "      <td>12.000000</td>\n",
       "      <td>0.0</td>\n",
       "      <td>B</td>\n",
       "      <td>2019-08-01</td>\n",
       "    </tr>\n",
       "    <tr>\n",
       "      <td>26</td>\n",
       "      <td>166377</td>\n",
       "      <td>2019-08-12</td>\n",
       "      <td>in</td>\n",
       "      <td>False</td>\n",
       "      <td>880028</td>\n",
       "      <td>True</td>\n",
       "      <td>2</td>\n",
       "      <td>0</td>\n",
       "      <td>34</td>\n",
       "      <td>34</td>\n",
       "      <td>17.000000</td>\n",
       "      <td>17.000000</td>\n",
       "      <td>0.0</td>\n",
       "      <td>B</td>\n",
       "      <td>2019-08-01</td>\n",
       "    </tr>\n",
       "    <tr>\n",
       "      <td>...</td>\n",
       "      <td>...</td>\n",
       "      <td>...</td>\n",
       "      <td>...</td>\n",
       "      <td>...</td>\n",
       "      <td>...</td>\n",
       "      <td>...</td>\n",
       "      <td>...</td>\n",
       "      <td>...</td>\n",
       "      <td>...</td>\n",
       "      <td>...</td>\n",
       "      <td>...</td>\n",
       "      <td>...</td>\n",
       "      <td>...</td>\n",
       "      <td>...</td>\n",
       "      <td>...</td>\n",
       "    </tr>\n",
       "    <tr>\n",
       "      <td>48980</td>\n",
       "      <td>168601</td>\n",
       "      <td>2019-11-28</td>\n",
       "      <td>in</td>\n",
       "      <td>False</td>\n",
       "      <td>952914</td>\n",
       "      <td>True</td>\n",
       "      <td>1</td>\n",
       "      <td>0</td>\n",
       "      <td>19</td>\n",
       "      <td>19</td>\n",
       "      <td>19.000000</td>\n",
       "      <td>19.000000</td>\n",
       "      <td>0.0</td>\n",
       "      <td>C</td>\n",
       "      <td>2019-10-31</td>\n",
       "    </tr>\n",
       "    <tr>\n",
       "      <td>48988</td>\n",
       "      <td>168603</td>\n",
       "      <td>2019-11-28</td>\n",
       "      <td>in</td>\n",
       "      <td>False</td>\n",
       "      <td>959118</td>\n",
       "      <td>True</td>\n",
       "      <td>1</td>\n",
       "      <td>0</td>\n",
       "      <td>30</td>\n",
       "      <td>30</td>\n",
       "      <td>30.000000</td>\n",
       "      <td>30.000000</td>\n",
       "      <td>0.0</td>\n",
       "      <td>B</td>\n",
       "      <td>2019-10-31</td>\n",
       "    </tr>\n",
       "    <tr>\n",
       "      <td>48990</td>\n",
       "      <td>168606</td>\n",
       "      <td>2019-11-08</td>\n",
       "      <td>in</td>\n",
       "      <td>False</td>\n",
       "      <td>957922</td>\n",
       "      <td>True</td>\n",
       "      <td>1</td>\n",
       "      <td>0</td>\n",
       "      <td>7</td>\n",
       "      <td>7</td>\n",
       "      <td>7.000000</td>\n",
       "      <td>7.000000</td>\n",
       "      <td>0.0</td>\n",
       "      <td>C</td>\n",
       "      <td>2019-10-31</td>\n",
       "    </tr>\n",
       "    <tr>\n",
       "      <td>48992</td>\n",
       "      <td>168606</td>\n",
       "      <td>2019-11-08</td>\n",
       "      <td>in</td>\n",
       "      <td>False</td>\n",
       "      <td>957922</td>\n",
       "      <td>True</td>\n",
       "      <td>6</td>\n",
       "      <td>0</td>\n",
       "      <td>121</td>\n",
       "      <td>121</td>\n",
       "      <td>20.166667</td>\n",
       "      <td>20.166667</td>\n",
       "      <td>0.0</td>\n",
       "      <td>C</td>\n",
       "      <td>2019-10-31</td>\n",
       "    </tr>\n",
       "    <tr>\n",
       "      <td>48999</td>\n",
       "      <td>168606</td>\n",
       "      <td>2019-11-19</td>\n",
       "      <td>in</td>\n",
       "      <td>False</td>\n",
       "      <td>957922</td>\n",
       "      <td>True</td>\n",
       "      <td>2</td>\n",
       "      <td>0</td>\n",
       "      <td>64</td>\n",
       "      <td>64</td>\n",
       "      <td>32.000000</td>\n",
       "      <td>32.000000</td>\n",
       "      <td>0.0</td>\n",
       "      <td>C</td>\n",
       "      <td>2019-10-31</td>\n",
       "    </tr>\n",
       "  </tbody>\n",
       "</table>\n",
       "<p>7085 rows × 15 columns</p>\n",
       "</div>"
      ],
      "text/plain": [
       "       user_id       date direction  internal  operator_id  is_missed_call  \\\n",
       "0       166377 2019-08-04        in     False       880028            True   \n",
       "7       166377 2019-08-05        in     False       880028            True   \n",
       "8       166377 2019-08-06        in     False       880028            True   \n",
       "16      166377 2019-08-07        in     False       880028            True   \n",
       "26      166377 2019-08-12        in     False       880028            True   \n",
       "...        ...        ...       ...       ...          ...             ...   \n",
       "48980   168601 2019-11-28        in     False       952914            True   \n",
       "48988   168603 2019-11-28        in     False       959118            True   \n",
       "48990   168606 2019-11-08        in     False       957922            True   \n",
       "48992   168606 2019-11-08        in     False       957922            True   \n",
       "48999   168606 2019-11-19        in     False       957922            True   \n",
       "\n",
       "       calls_count  call_duration  total_call_duration  waiting_time_answers  \\\n",
       "0                2              0                    4                     4   \n",
       "7                6              0                   35                    35   \n",
       "8                4              0                   62                    62   \n",
       "16               2              0                   24                    24   \n",
       "26               2              0                   34                    34   \n",
       "...            ...            ...                  ...                   ...   \n",
       "48980            1              0                   19                    19   \n",
       "48988            1              0                   30                    30   \n",
       "48990            1              0                    7                     7   \n",
       "48992            6              0                  121                   121   \n",
       "48999            2              0                   64                    64   \n",
       "\n",
       "       waiting_time_one_answer  one_call_duration_full  \\\n",
       "0                     2.000000                2.000000   \n",
       "7                     5.833333                5.833333   \n",
       "8                    15.500000               15.500000   \n",
       "16                   12.000000               12.000000   \n",
       "26                   17.000000               17.000000   \n",
       "...                        ...                     ...   \n",
       "48980                19.000000               19.000000   \n",
       "48988                30.000000               30.000000   \n",
       "48990                 7.000000                7.000000   \n",
       "48992                20.166667               20.166667   \n",
       "48999                32.000000               32.000000   \n",
       "\n",
       "       one_call_duration_clean tariff_plan date_start  \n",
       "0                          0.0           B 2019-08-01  \n",
       "7                          0.0           B 2019-08-01  \n",
       "8                          0.0           B 2019-08-01  \n",
       "16                         0.0           B 2019-08-01  \n",
       "26                         0.0           B 2019-08-01  \n",
       "...                        ...         ...        ...  \n",
       "48980                      0.0           C 2019-10-31  \n",
       "48988                      0.0           B 2019-10-31  \n",
       "48990                      0.0           C 2019-10-31  \n",
       "48992                      0.0           C 2019-10-31  \n",
       "48999                      0.0           C 2019-10-31  \n",
       "\n",
       "[7085 rows x 15 columns]"
      ]
     },
     "execution_count": 83,
     "metadata": {},
     "output_type": "execute_result"
    }
   ],
   "source": [
    "incoming_missed_call = telecom_dataset[(telecom_dataset['direction']=='in') & (telecom_dataset['is_missed_call']==True)]\n",
    "incoming_missed_call"
   ]
  },
  {
   "cell_type": "code",
   "execution_count": 84,
   "metadata": {},
   "outputs": [
    {
     "data": {
      "text/html": [
       "<div>\n",
       "<style scoped>\n",
       "    .dataframe tbody tr th:only-of-type {\n",
       "        vertical-align: middle;\n",
       "    }\n",
       "\n",
       "    .dataframe tbody tr th {\n",
       "        vertical-align: top;\n",
       "    }\n",
       "\n",
       "    .dataframe thead th {\n",
       "        text-align: right;\n",
       "    }\n",
       "</style>\n",
       "<table border=\"1\" class=\"dataframe\">\n",
       "  <thead>\n",
       "    <tr style=\"text-align: right;\">\n",
       "      <th></th>\n",
       "      <th>operator_id</th>\n",
       "      <th>calls_count</th>\n",
       "    </tr>\n",
       "  </thead>\n",
       "  <tbody>\n",
       "    <tr>\n",
       "      <td>5</td>\n",
       "      <td>882686</td>\n",
       "      <td>920</td>\n",
       "    </tr>\n",
       "    <tr>\n",
       "      <td>28</td>\n",
       "      <td>890404</td>\n",
       "      <td>771</td>\n",
       "    </tr>\n",
       "    <tr>\n",
       "      <td>179</td>\n",
       "      <td>919552</td>\n",
       "      <td>612</td>\n",
       "    </tr>\n",
       "    <tr>\n",
       "      <td>180</td>\n",
       "      <td>919792</td>\n",
       "      <td>597</td>\n",
       "    </tr>\n",
       "    <tr>\n",
       "      <td>224</td>\n",
       "      <td>928888</td>\n",
       "      <td>595</td>\n",
       "    </tr>\n",
       "    <tr>\n",
       "      <td>...</td>\n",
       "      <td>...</td>\n",
       "      <td>...</td>\n",
       "    </tr>\n",
       "    <tr>\n",
       "      <td>248</td>\n",
       "      <td>934076</td>\n",
       "      <td>1</td>\n",
       "    </tr>\n",
       "    <tr>\n",
       "      <td>243</td>\n",
       "      <td>933070</td>\n",
       "      <td>1</td>\n",
       "    </tr>\n",
       "    <tr>\n",
       "      <td>60</td>\n",
       "      <td>896538</td>\n",
       "      <td>1</td>\n",
       "    </tr>\n",
       "    <tr>\n",
       "      <td>240</td>\n",
       "      <td>932460</td>\n",
       "      <td>1</td>\n",
       "    </tr>\n",
       "    <tr>\n",
       "      <td>46</td>\n",
       "      <td>894120</td>\n",
       "      <td>1</td>\n",
       "    </tr>\n",
       "  </tbody>\n",
       "</table>\n",
       "<p>380 rows × 2 columns</p>\n",
       "</div>"
      ],
      "text/plain": [
       "     operator_id  calls_count\n",
       "5         882686          920\n",
       "28        890404          771\n",
       "179       919552          612\n",
       "180       919792          597\n",
       "224       928888          595\n",
       "..           ...          ...\n",
       "248       934076            1\n",
       "243       933070            1\n",
       "60        896538            1\n",
       "240       932460            1\n",
       "46        894120            1\n",
       "\n",
       "[380 rows x 2 columns]"
      ]
     },
     "execution_count": 84,
     "metadata": {},
     "output_type": "execute_result"
    }
   ],
   "source": [
    "pivot_missed_call = incoming_missed_call.pivot_table(index='operator_id', values='calls_count', aggfunc='sum').reset_index()\\\n",
    ".sort_values(by='calls_count', ascending=False)\n",
    "pivot_missed_call"
   ]
  },
  {
   "cell_type": "code",
   "execution_count": 85,
   "metadata": {},
   "outputs": [
    {
     "data": {
      "text/plain": [
       "count    380.000000\n",
       "mean      77.973684\n",
       "std      130.516507\n",
       "min        1.000000\n",
       "25%        4.000000\n",
       "50%       23.000000\n",
       "75%       83.250000\n",
       "max      920.000000\n",
       "Name: calls_count, dtype: float64"
      ]
     },
     "execution_count": 85,
     "metadata": {},
     "output_type": "execute_result"
    }
   ],
   "source": [
    "pivot_missed_call['calls_count'].describe()"
   ]
  },
  {
   "cell_type": "markdown",
   "metadata": {},
   "source": [
    "Посмотрим, как отображается распределение пропусков входящих вызовов операторами на графике"
   ]
  },
  {
   "cell_type": "markdown",
   "metadata": {},
   "source": [
    "Построим ящик с усами"
   ]
  },
  {
   "cell_type": "code",
   "execution_count": 86,
   "metadata": {},
   "outputs": [
    {
     "data": {
      "image/png": "[encoded data removed]",
      "text/plain": [
       "<Figure size 576x720 with 1 Axes>"
      ]
     },
     "metadata": {
      "needs_background": "light"
     },
     "output_type": "display_data"
    }
   ],
   "source": [
    "plt.figure(figsize=(8, 10))\n",
    "sns.boxplot(y=\"calls_count\", data = pivot_missed_call)\n",
    "plt.title(\"Диаграмма размаха пропущенных звонков в общем количестве звонков по операторам\")\n",
    "plt.ylabel(\"Пропущенные звонки\")\n",
    "plt.show()"
   ]
  },
  {
   "cell_type": "markdown",
   "metadata": {},
   "source": [
    "Согласно диаграмме выбросы начинаются после значения 200. Чуть выше в 3 квантили (75%) мы получили значение 83. Сравним с 80% квантилью"
   ]
  },
  {
   "cell_type": "code",
   "execution_count": 87,
   "metadata": {},
   "outputs": [
    {
     "data": {
      "text/plain": [
       "113.19999999999999"
      ]
     },
     "execution_count": 87,
     "metadata": {},
     "output_type": "execute_result"
    }
   ],
   "source": [
    "pivot_missed_call['calls_count'].quantile(.8)"
   ]
  },
  {
   "cell_type": "markdown",
   "metadata": {},
   "source": [
    "Итак, мы можем выделить границы для операторов, попадающих под первый признак неэффективности - много пропущенных вызовов. \n",
    "Много мы характеризуем как явно превышающее третью квартиль, но меньше порога выбросов.В качестве такого ограничения возьмем восьмую квантиль."
   ]
  },
  {
   "cell_type": "code",
   "execution_count": 88,
   "metadata": {},
   "outputs": [
    {
     "data": {
      "text/html": [
       "<div>\n",
       "<style scoped>\n",
       "    .dataframe tbody tr th:only-of-type {\n",
       "        vertical-align: middle;\n",
       "    }\n",
       "\n",
       "    .dataframe tbody tr th {\n",
       "        vertical-align: top;\n",
       "    }\n",
       "\n",
       "    .dataframe thead th {\n",
       "        text-align: right;\n",
       "    }\n",
       "</style>\n",
       "<table border=\"1\" class=\"dataframe\">\n",
       "  <thead>\n",
       "    <tr style=\"text-align: right;\">\n",
       "      <th></th>\n",
       "      <th>operator_id</th>\n",
       "      <th>calls_count</th>\n",
       "    </tr>\n",
       "  </thead>\n",
       "  <tbody>\n",
       "    <tr>\n",
       "      <td>5</td>\n",
       "      <td>882686</td>\n",
       "      <td>920</td>\n",
       "    </tr>\n",
       "    <tr>\n",
       "      <td>28</td>\n",
       "      <td>890404</td>\n",
       "      <td>771</td>\n",
       "    </tr>\n",
       "    <tr>\n",
       "      <td>179</td>\n",
       "      <td>919552</td>\n",
       "      <td>612</td>\n",
       "    </tr>\n",
       "    <tr>\n",
       "      <td>180</td>\n",
       "      <td>919792</td>\n",
       "      <td>597</td>\n",
       "    </tr>\n",
       "    <tr>\n",
       "      <td>224</td>\n",
       "      <td>928888</td>\n",
       "      <td>595</td>\n",
       "    </tr>\n",
       "    <tr>\n",
       "      <td>...</td>\n",
       "      <td>...</td>\n",
       "      <td>...</td>\n",
       "    </tr>\n",
       "    <tr>\n",
       "      <td>208</td>\n",
       "      <td>925826</td>\n",
       "      <td>115</td>\n",
       "    </tr>\n",
       "    <tr>\n",
       "      <td>42</td>\n",
       "      <td>893402</td>\n",
       "      <td>115</td>\n",
       "    </tr>\n",
       "    <tr>\n",
       "      <td>96</td>\n",
       "      <td>902720</td>\n",
       "      <td>114</td>\n",
       "    </tr>\n",
       "    <tr>\n",
       "      <td>59</td>\n",
       "      <td>896536</td>\n",
       "      <td>114</td>\n",
       "    </tr>\n",
       "    <tr>\n",
       "      <td>54</td>\n",
       "      <td>895776</td>\n",
       "      <td>114</td>\n",
       "    </tr>\n",
       "  </tbody>\n",
       "</table>\n",
       "<p>76 rows × 2 columns</p>\n",
       "</div>"
      ],
      "text/plain": [
       "     operator_id  calls_count\n",
       "5         882686          920\n",
       "28        890404          771\n",
       "179       919552          612\n",
       "180       919792          597\n",
       "224       928888          595\n",
       "..           ...          ...\n",
       "208       925826          115\n",
       "42        893402          115\n",
       "96        902720          114\n",
       "59        896536          114\n",
       "54        895776          114\n",
       "\n",
       "[76 rows x 2 columns]"
      ]
     },
     "execution_count": 88,
     "metadata": {},
     "output_type": "execute_result"
    }
   ],
   "source": [
    "first_sign_of_inefficiency = pivot_missed_call.query('calls_count > calls_count.quantile(.8)')\n",
    "first_sign_of_inefficiency"
   ]
  },
  {
   "cell_type": "markdown",
   "metadata": {},
   "source": [
    "Итак, мы выделили 76 неэффективно работающих операторов по количеству пропущенных звонков."
   ]
  },
  {
   "cell_type": "code",
   "execution_count": 89,
   "metadata": {},
   "outputs": [
    {
     "data": {
      "image/png": "[encoded data removed]",
      "text/plain": [
       "<Figure size 1080x576 with 1 Axes>"
      ]
     },
     "metadata": {
      "needs_background": "light"
     },
     "output_type": "display_data"
    }
   ],
   "source": [
    "#график для презентации \n",
    "plt.figure(figsize=(15, 8))\n",
    "sns.distplot(first_sign_of_inefficiency['calls_count'])\n",
    "plt.title('Распределение пропусков входящих вызовов неэффективными операторами', size=12)\n",
    "plt.xlabel(\"Пропущенные звонки\")\n",
    "plt.ylabel(\"Частота значения\")\n",
    "plt.show()"
   ]
  },
  {
   "cell_type": "markdown",
   "metadata": {},
   "source": [
    "#### долгое ожидания ответа при входящих внешних вызовах"
   ]
  },
  {
   "cell_type": "code",
   "execution_count": 90,
   "metadata": {
    "scrolled": true
   },
   "outputs": [
    {
     "data": {
      "text/html": [
       "<div>\n",
       "<style scoped>\n",
       "    .dataframe tbody tr th:only-of-type {\n",
       "        vertical-align: middle;\n",
       "    }\n",
       "\n",
       "    .dataframe tbody tr th {\n",
       "        vertical-align: top;\n",
       "    }\n",
       "\n",
       "    .dataframe thead th {\n",
       "        text-align: right;\n",
       "    }\n",
       "</style>\n",
       "<table border=\"1\" class=\"dataframe\">\n",
       "  <thead>\n",
       "    <tr style=\"text-align: right;\">\n",
       "      <th></th>\n",
       "      <th>user_id</th>\n",
       "      <th>date</th>\n",
       "      <th>direction</th>\n",
       "      <th>internal</th>\n",
       "      <th>operator_id</th>\n",
       "      <th>is_missed_call</th>\n",
       "      <th>calls_count</th>\n",
       "      <th>call_duration</th>\n",
       "      <th>total_call_duration</th>\n",
       "      <th>waiting_time_answers</th>\n",
       "      <th>waiting_time_one_answer</th>\n",
       "      <th>one_call_duration_full</th>\n",
       "      <th>one_call_duration_clean</th>\n",
       "      <th>tariff_plan</th>\n",
       "      <th>date_start</th>\n",
       "    </tr>\n",
       "  </thead>\n",
       "  <tbody>\n",
       "    <tr>\n",
       "      <td>0</td>\n",
       "      <td>166377</td>\n",
       "      <td>2019-08-04</td>\n",
       "      <td>in</td>\n",
       "      <td>False</td>\n",
       "      <td>880028</td>\n",
       "      <td>True</td>\n",
       "      <td>2</td>\n",
       "      <td>0</td>\n",
       "      <td>4</td>\n",
       "      <td>4</td>\n",
       "      <td>2.000000</td>\n",
       "      <td>2.000000</td>\n",
       "      <td>0.0</td>\n",
       "      <td>B</td>\n",
       "      <td>2019-08-01</td>\n",
       "    </tr>\n",
       "    <tr>\n",
       "      <td>7</td>\n",
       "      <td>166377</td>\n",
       "      <td>2019-08-05</td>\n",
       "      <td>in</td>\n",
       "      <td>False</td>\n",
       "      <td>880028</td>\n",
       "      <td>True</td>\n",
       "      <td>6</td>\n",
       "      <td>0</td>\n",
       "      <td>35</td>\n",
       "      <td>35</td>\n",
       "      <td>5.833333</td>\n",
       "      <td>5.833333</td>\n",
       "      <td>0.0</td>\n",
       "      <td>B</td>\n",
       "      <td>2019-08-01</td>\n",
       "    </tr>\n",
       "    <tr>\n",
       "      <td>8</td>\n",
       "      <td>166377</td>\n",
       "      <td>2019-08-06</td>\n",
       "      <td>in</td>\n",
       "      <td>False</td>\n",
       "      <td>880028</td>\n",
       "      <td>True</td>\n",
       "      <td>4</td>\n",
       "      <td>0</td>\n",
       "      <td>62</td>\n",
       "      <td>62</td>\n",
       "      <td>15.500000</td>\n",
       "      <td>15.500000</td>\n",
       "      <td>0.0</td>\n",
       "      <td>B</td>\n",
       "      <td>2019-08-01</td>\n",
       "    </tr>\n",
       "    <tr>\n",
       "      <td>16</td>\n",
       "      <td>166377</td>\n",
       "      <td>2019-08-07</td>\n",
       "      <td>in</td>\n",
       "      <td>False</td>\n",
       "      <td>880028</td>\n",
       "      <td>True</td>\n",
       "      <td>2</td>\n",
       "      <td>0</td>\n",
       "      <td>24</td>\n",
       "      <td>24</td>\n",
       "      <td>12.000000</td>\n",
       "      <td>12.000000</td>\n",
       "      <td>0.0</td>\n",
       "      <td>B</td>\n",
       "      <td>2019-08-01</td>\n",
       "    </tr>\n",
       "    <tr>\n",
       "      <td>25</td>\n",
       "      <td>166377</td>\n",
       "      <td>2019-08-12</td>\n",
       "      <td>in</td>\n",
       "      <td>False</td>\n",
       "      <td>880028</td>\n",
       "      <td>False</td>\n",
       "      <td>1</td>\n",
       "      <td>407</td>\n",
       "      <td>411</td>\n",
       "      <td>4</td>\n",
       "      <td>4.000000</td>\n",
       "      <td>411.000000</td>\n",
       "      <td>407.0</td>\n",
       "      <td>B</td>\n",
       "      <td>2019-08-01</td>\n",
       "    </tr>\n",
       "    <tr>\n",
       "      <td>...</td>\n",
       "      <td>...</td>\n",
       "      <td>...</td>\n",
       "      <td>...</td>\n",
       "      <td>...</td>\n",
       "      <td>...</td>\n",
       "      <td>...</td>\n",
       "      <td>...</td>\n",
       "      <td>...</td>\n",
       "      <td>...</td>\n",
       "      <td>...</td>\n",
       "      <td>...</td>\n",
       "      <td>...</td>\n",
       "      <td>...</td>\n",
       "      <td>...</td>\n",
       "      <td>...</td>\n",
       "    </tr>\n",
       "    <tr>\n",
       "      <td>48988</td>\n",
       "      <td>168603</td>\n",
       "      <td>2019-11-28</td>\n",
       "      <td>in</td>\n",
       "      <td>False</td>\n",
       "      <td>959118</td>\n",
       "      <td>True</td>\n",
       "      <td>1</td>\n",
       "      <td>0</td>\n",
       "      <td>30</td>\n",
       "      <td>30</td>\n",
       "      <td>30.000000</td>\n",
       "      <td>30.000000</td>\n",
       "      <td>0.0</td>\n",
       "      <td>B</td>\n",
       "      <td>2019-10-31</td>\n",
       "    </tr>\n",
       "    <tr>\n",
       "      <td>48990</td>\n",
       "      <td>168606</td>\n",
       "      <td>2019-11-08</td>\n",
       "      <td>in</td>\n",
       "      <td>False</td>\n",
       "      <td>957922</td>\n",
       "      <td>True</td>\n",
       "      <td>1</td>\n",
       "      <td>0</td>\n",
       "      <td>7</td>\n",
       "      <td>7</td>\n",
       "      <td>7.000000</td>\n",
       "      <td>7.000000</td>\n",
       "      <td>0.0</td>\n",
       "      <td>C</td>\n",
       "      <td>2019-10-31</td>\n",
       "    </tr>\n",
       "    <tr>\n",
       "      <td>48992</td>\n",
       "      <td>168606</td>\n",
       "      <td>2019-11-08</td>\n",
       "      <td>in</td>\n",
       "      <td>False</td>\n",
       "      <td>957922</td>\n",
       "      <td>True</td>\n",
       "      <td>6</td>\n",
       "      <td>0</td>\n",
       "      <td>121</td>\n",
       "      <td>121</td>\n",
       "      <td>20.166667</td>\n",
       "      <td>20.166667</td>\n",
       "      <td>0.0</td>\n",
       "      <td>C</td>\n",
       "      <td>2019-10-31</td>\n",
       "    </tr>\n",
       "    <tr>\n",
       "      <td>48993</td>\n",
       "      <td>168606</td>\n",
       "      <td>2019-11-08</td>\n",
       "      <td>in</td>\n",
       "      <td>False</td>\n",
       "      <td>957922</td>\n",
       "      <td>False</td>\n",
       "      <td>2</td>\n",
       "      <td>686</td>\n",
       "      <td>705</td>\n",
       "      <td>19</td>\n",
       "      <td>9.500000</td>\n",
       "      <td>352.500000</td>\n",
       "      <td>343.0</td>\n",
       "      <td>C</td>\n",
       "      <td>2019-10-31</td>\n",
       "    </tr>\n",
       "    <tr>\n",
       "      <td>48999</td>\n",
       "      <td>168606</td>\n",
       "      <td>2019-11-19</td>\n",
       "      <td>in</td>\n",
       "      <td>False</td>\n",
       "      <td>957922</td>\n",
       "      <td>True</td>\n",
       "      <td>2</td>\n",
       "      <td>0</td>\n",
       "      <td>64</td>\n",
       "      <td>64</td>\n",
       "      <td>32.000000</td>\n",
       "      <td>32.000000</td>\n",
       "      <td>0.0</td>\n",
       "      <td>C</td>\n",
       "      <td>2019-10-31</td>\n",
       "    </tr>\n",
       "  </tbody>\n",
       "</table>\n",
       "<p>18571 rows × 15 columns</p>\n",
       "</div>"
      ],
      "text/plain": [
       "       user_id       date direction  internal  operator_id  is_missed_call  \\\n",
       "0       166377 2019-08-04        in     False       880028            True   \n",
       "7       166377 2019-08-05        in     False       880028            True   \n",
       "8       166377 2019-08-06        in     False       880028            True   \n",
       "16      166377 2019-08-07        in     False       880028            True   \n",
       "25      166377 2019-08-12        in     False       880028           False   \n",
       "...        ...        ...       ...       ...          ...             ...   \n",
       "48988   168603 2019-11-28        in     False       959118            True   \n",
       "48990   168606 2019-11-08        in     False       957922            True   \n",
       "48992   168606 2019-11-08        in     False       957922            True   \n",
       "48993   168606 2019-11-08        in     False       957922           False   \n",
       "48999   168606 2019-11-19        in     False       957922            True   \n",
       "\n",
       "       calls_count  call_duration  total_call_duration  waiting_time_answers  \\\n",
       "0                2              0                    4                     4   \n",
       "7                6              0                   35                    35   \n",
       "8                4              0                   62                    62   \n",
       "16               2              0                   24                    24   \n",
       "25               1            407                  411                     4   \n",
       "...            ...            ...                  ...                   ...   \n",
       "48988            1              0                   30                    30   \n",
       "48990            1              0                    7                     7   \n",
       "48992            6              0                  121                   121   \n",
       "48993            2            686                  705                    19   \n",
       "48999            2              0                   64                    64   \n",
       "\n",
       "       waiting_time_one_answer  one_call_duration_full  \\\n",
       "0                     2.000000                2.000000   \n",
       "7                     5.833333                5.833333   \n",
       "8                    15.500000               15.500000   \n",
       "16                   12.000000               12.000000   \n",
       "25                    4.000000              411.000000   \n",
       "...                        ...                     ...   \n",
       "48988                30.000000               30.000000   \n",
       "48990                 7.000000                7.000000   \n",
       "48992                20.166667               20.166667   \n",
       "48993                 9.500000              352.500000   \n",
       "48999                32.000000               32.000000   \n",
       "\n",
       "       one_call_duration_clean tariff_plan date_start  \n",
       "0                          0.0           B 2019-08-01  \n",
       "7                          0.0           B 2019-08-01  \n",
       "8                          0.0           B 2019-08-01  \n",
       "16                         0.0           B 2019-08-01  \n",
       "25                       407.0           B 2019-08-01  \n",
       "...                        ...         ...        ...  \n",
       "48988                      0.0           B 2019-10-31  \n",
       "48990                      0.0           C 2019-10-31  \n",
       "48992                      0.0           C 2019-10-31  \n",
       "48993                    343.0           C 2019-10-31  \n",
       "48999                      0.0           C 2019-10-31  \n",
       "\n",
       "[18571 rows x 15 columns]"
      ]
     },
     "execution_count": 90,
     "metadata": {},
     "output_type": "execute_result"
    }
   ],
   "source": [
    "incoming_waiting_call = telecom_dataset.query('direction==\"in\"')\n",
    "incoming_waiting_call"
   ]
  },
  {
   "cell_type": "code",
   "execution_count": 91,
   "metadata": {},
   "outputs": [
    {
     "data": {
      "text/html": [
       "<div>\n",
       "<style scoped>\n",
       "    .dataframe tbody tr th:only-of-type {\n",
       "        vertical-align: middle;\n",
       "    }\n",
       "\n",
       "    .dataframe tbody tr th {\n",
       "        vertical-align: top;\n",
       "    }\n",
       "\n",
       "    .dataframe thead th {\n",
       "        text-align: right;\n",
       "    }\n",
       "</style>\n",
       "<table border=\"1\" class=\"dataframe\">\n",
       "  <thead>\n",
       "    <tr style=\"text-align: right;\">\n",
       "      <th></th>\n",
       "      <th>operator_id</th>\n",
       "      <th>waiting_time_one_answer</th>\n",
       "    </tr>\n",
       "  </thead>\n",
       "  <tbody>\n",
       "    <tr>\n",
       "      <td>0</td>\n",
       "      <td>905842</td>\n",
       "      <td>115.500000</td>\n",
       "    </tr>\n",
       "    <tr>\n",
       "      <td>1</td>\n",
       "      <td>917680</td>\n",
       "      <td>100.000000</td>\n",
       "    </tr>\n",
       "    <tr>\n",
       "      <td>2</td>\n",
       "      <td>907174</td>\n",
       "      <td>65.187500</td>\n",
       "    </tr>\n",
       "    <tr>\n",
       "      <td>3</td>\n",
       "      <td>960296</td>\n",
       "      <td>63.000000</td>\n",
       "    </tr>\n",
       "    <tr>\n",
       "      <td>4</td>\n",
       "      <td>920930</td>\n",
       "      <td>62.000000</td>\n",
       "    </tr>\n",
       "    <tr>\n",
       "      <td>...</td>\n",
       "      <td>...</td>\n",
       "      <td>...</td>\n",
       "    </tr>\n",
       "    <tr>\n",
       "      <td>780</td>\n",
       "      <td>926872</td>\n",
       "      <td>0.947917</td>\n",
       "    </tr>\n",
       "    <tr>\n",
       "      <td>781</td>\n",
       "      <td>932672</td>\n",
       "      <td>0.900000</td>\n",
       "    </tr>\n",
       "    <tr>\n",
       "      <td>782</td>\n",
       "      <td>940430</td>\n",
       "      <td>0.869444</td>\n",
       "    </tr>\n",
       "    <tr>\n",
       "      <td>783</td>\n",
       "      <td>940442</td>\n",
       "      <td>0.678944</td>\n",
       "    </tr>\n",
       "    <tr>\n",
       "      <td>784</td>\n",
       "      <td>908718</td>\n",
       "      <td>0.285714</td>\n",
       "    </tr>\n",
       "  </tbody>\n",
       "</table>\n",
       "<p>785 rows × 2 columns</p>\n",
       "</div>"
      ],
      "text/plain": [
       "     operator_id  waiting_time_one_answer\n",
       "0         905842               115.500000\n",
       "1         917680               100.000000\n",
       "2         907174                65.187500\n",
       "3         960296                63.000000\n",
       "4         920930                62.000000\n",
       "..           ...                      ...\n",
       "780       926872                 0.947917\n",
       "781       932672                 0.900000\n",
       "782       940430                 0.869444\n",
       "783       940442                 0.678944\n",
       "784       908718                 0.285714\n",
       "\n",
       "[785 rows x 2 columns]"
      ]
     },
     "execution_count": 91,
     "metadata": {},
     "output_type": "execute_result"
    }
   ],
   "source": [
    "pivot_waiting_call = incoming_waiting_call.pivot_table(index='operator_id', values='waiting_time_one_answer')\\\n",
    ".sort_values(by='waiting_time_one_answer', ascending=False).reset_index()\n",
    "pivot_waiting_call"
   ]
  },
  {
   "cell_type": "code",
   "execution_count": 92,
   "metadata": {},
   "outputs": [
    {
     "data": {
      "text/html": [
       "<div>\n",
       "<style scoped>\n",
       "    .dataframe tbody tr th:only-of-type {\n",
       "        vertical-align: middle;\n",
       "    }\n",
       "\n",
       "    .dataframe tbody tr th {\n",
       "        vertical-align: top;\n",
       "    }\n",
       "\n",
       "    .dataframe thead th {\n",
       "        text-align: right;\n",
       "    }\n",
       "</style>\n",
       "<table border=\"1\" class=\"dataframe\">\n",
       "  <thead>\n",
       "    <tr style=\"text-align: right;\">\n",
       "      <th></th>\n",
       "      <th>operator_id</th>\n",
       "      <th>waiting_time_one_answer</th>\n",
       "    </tr>\n",
       "  </thead>\n",
       "  <tbody>\n",
       "    <tr>\n",
       "      <td>count</td>\n",
       "      <td>785.000000</td>\n",
       "      <td>785.000000</td>\n",
       "    </tr>\n",
       "    <tr>\n",
       "      <td>mean</td>\n",
       "      <td>923626.568153</td>\n",
       "      <td>17.798379</td>\n",
       "    </tr>\n",
       "    <tr>\n",
       "      <td>std</td>\n",
       "      <td>22500.314603</td>\n",
       "      <td>12.182831</td>\n",
       "    </tr>\n",
       "    <tr>\n",
       "      <td>min</td>\n",
       "      <td>879896.000000</td>\n",
       "      <td>0.285714</td>\n",
       "    </tr>\n",
       "    <tr>\n",
       "      <td>25%</td>\n",
       "      <td>905430.000000</td>\n",
       "      <td>9.866667</td>\n",
       "    </tr>\n",
       "    <tr>\n",
       "      <td>50%</td>\n",
       "      <td>924544.000000</td>\n",
       "      <td>15.000000</td>\n",
       "    </tr>\n",
       "    <tr>\n",
       "      <td>75%</td>\n",
       "      <td>940440.000000</td>\n",
       "      <td>22.646223</td>\n",
       "    </tr>\n",
       "    <tr>\n",
       "      <td>max</td>\n",
       "      <td>973286.000000</td>\n",
       "      <td>115.500000</td>\n",
       "    </tr>\n",
       "  </tbody>\n",
       "</table>\n",
       "</div>"
      ],
      "text/plain": [
       "         operator_id  waiting_time_one_answer\n",
       "count     785.000000               785.000000\n",
       "mean   923626.568153                17.798379\n",
       "std     22500.314603                12.182831\n",
       "min    879896.000000                 0.285714\n",
       "25%    905430.000000                 9.866667\n",
       "50%    924544.000000                15.000000\n",
       "75%    940440.000000                22.646223\n",
       "max    973286.000000               115.500000"
      ]
     },
     "execution_count": 92,
     "metadata": {},
     "output_type": "execute_result"
    }
   ],
   "source": [
    "pivot_waiting_call.describe()"
   ]
  },
  {
   "cell_type": "code",
   "execution_count": 93,
   "metadata": {},
   "outputs": [
    {
     "data": {
      "image/png": "[encoded data removed]",
      "text/plain": [
       "<Figure size 576x720 with 1 Axes>"
      ]
     },
     "metadata": {
      "needs_background": "light"
     },
     "output_type": "display_data"
    }
   ],
   "source": [
    "plt.figure(figsize=(8, 10))\n",
    "sns.boxplot(y=\"waiting_time_one_answer\", data = pivot_waiting_call)\n",
    "plt.title(\"Диаграмма размаха ожидания ответа при входящих внешних вызовах\")\n",
    "plt.ylabel(\"Ожидание вызова (в секундах)\")\n",
    "plt.show()"
   ]
  },
  {
   "cell_type": "code",
   "execution_count": 94,
   "metadata": {
    "scrolled": true
   },
   "outputs": [
    {
     "data": {
      "text/plain": [
       "25.0"
      ]
     },
     "execution_count": 94,
     "metadata": {},
     "output_type": "execute_result"
    }
   ],
   "source": [
    "pivot_waiting_call['waiting_time_one_answer'].quantile(.8)"
   ]
  },
  {
   "cell_type": "markdown",
   "metadata": {},
   "source": [
    "Выделим операторов попадающих под второй признак неэффективности - долгое ожидания ответа при входящих внешних вызовах. Определим понятие \"долгое\", как ожидание превышающее 25 секунд"
   ]
  },
  {
   "cell_type": "code",
   "execution_count": 95,
   "metadata": {},
   "outputs": [
    {
     "data": {
      "text/html": [
       "<div>\n",
       "<style scoped>\n",
       "    .dataframe tbody tr th:only-of-type {\n",
       "        vertical-align: middle;\n",
       "    }\n",
       "\n",
       "    .dataframe tbody tr th {\n",
       "        vertical-align: top;\n",
       "    }\n",
       "\n",
       "    .dataframe thead th {\n",
       "        text-align: right;\n",
       "    }\n",
       "</style>\n",
       "<table border=\"1\" class=\"dataframe\">\n",
       "  <thead>\n",
       "    <tr style=\"text-align: right;\">\n",
       "      <th></th>\n",
       "      <th>index</th>\n",
       "      <th>operator_id</th>\n",
       "      <th>waiting_time_one_answer</th>\n",
       "    </tr>\n",
       "  </thead>\n",
       "  <tbody>\n",
       "    <tr>\n",
       "      <td>0</td>\n",
       "      <td>0</td>\n",
       "      <td>905842</td>\n",
       "      <td>115.500000</td>\n",
       "    </tr>\n",
       "    <tr>\n",
       "      <td>1</td>\n",
       "      <td>1</td>\n",
       "      <td>917680</td>\n",
       "      <td>100.000000</td>\n",
       "    </tr>\n",
       "    <tr>\n",
       "      <td>2</td>\n",
       "      <td>2</td>\n",
       "      <td>907174</td>\n",
       "      <td>65.187500</td>\n",
       "    </tr>\n",
       "    <tr>\n",
       "      <td>3</td>\n",
       "      <td>3</td>\n",
       "      <td>960296</td>\n",
       "      <td>63.000000</td>\n",
       "    </tr>\n",
       "    <tr>\n",
       "      <td>4</td>\n",
       "      <td>4</td>\n",
       "      <td>920930</td>\n",
       "      <td>62.000000</td>\n",
       "    </tr>\n",
       "    <tr>\n",
       "      <td>...</td>\n",
       "      <td>...</td>\n",
       "      <td>...</td>\n",
       "      <td>...</td>\n",
       "    </tr>\n",
       "    <tr>\n",
       "      <td>148</td>\n",
       "      <td>148</td>\n",
       "      <td>933996</td>\n",
       "      <td>25.500000</td>\n",
       "    </tr>\n",
       "    <tr>\n",
       "      <td>149</td>\n",
       "      <td>149</td>\n",
       "      <td>969272</td>\n",
       "      <td>25.476786</td>\n",
       "    </tr>\n",
       "    <tr>\n",
       "      <td>150</td>\n",
       "      <td>150</td>\n",
       "      <td>912296</td>\n",
       "      <td>25.268506</td>\n",
       "    </tr>\n",
       "    <tr>\n",
       "      <td>151</td>\n",
       "      <td>151</td>\n",
       "      <td>933832</td>\n",
       "      <td>25.141333</td>\n",
       "    </tr>\n",
       "    <tr>\n",
       "      <td>152</td>\n",
       "      <td>152</td>\n",
       "      <td>902744</td>\n",
       "      <td>25.027655</td>\n",
       "    </tr>\n",
       "  </tbody>\n",
       "</table>\n",
       "<p>153 rows × 3 columns</p>\n",
       "</div>"
      ],
      "text/plain": [
       "     index  operator_id  waiting_time_one_answer\n",
       "0        0       905842               115.500000\n",
       "1        1       917680               100.000000\n",
       "2        2       907174                65.187500\n",
       "3        3       960296                63.000000\n",
       "4        4       920930                62.000000\n",
       "..     ...          ...                      ...\n",
       "148    148       933996                25.500000\n",
       "149    149       969272                25.476786\n",
       "150    150       912296                25.268506\n",
       "151    151       933832                25.141333\n",
       "152    152       902744                25.027655\n",
       "\n",
       "[153 rows x 3 columns]"
      ]
     },
     "execution_count": 95,
     "metadata": {},
     "output_type": "execute_result"
    }
   ],
   "source": [
    "second_sign_of_inefficiency = pivot_waiting_call[pivot_waiting_call['waiting_time_one_answer']>25].reset_index()\n",
    "second_sign_of_inefficiency"
   ]
  },
  {
   "cell_type": "markdown",
   "metadata": {},
   "source": [
    "По второму признаку неэффективности зафиксировано 153 оператора"
   ]
  },
  {
   "cell_type": "code",
   "execution_count": 96,
   "metadata": {},
   "outputs": [
    {
     "data": {
      "image/png": "[encoded data removed]",
      "text/plain": [
       "<Figure size 1080x576 with 1 Axes>"
      ]
     },
     "metadata": {
      "needs_background": "light"
     },
     "output_type": "display_data"
    }
   ],
   "source": [
    "# график для презентации\n",
    "plt.figure(figsize=(15, 8))\n",
    "sns.distplot(pivot_waiting_call['waiting_time_one_answer'])\n",
    "plt.title('Распределение ожидания ответа при входящих внешних вызовах', size=12)\n",
    "plt.xlabel(\"Время ожидания ответа\")\n",
    "plt.ylabel(\"Частота значения\")\n",
    "plt.show()"
   ]
  },
  {
   "cell_type": "markdown",
   "metadata": {},
   "source": [
    "#### мало исходящих вывозов — в случае тех колл-центров, что специализируются на обзвонах, а не обработке входящих звонков"
   ]
  },
  {
   "cell_type": "code",
   "execution_count": 97,
   "metadata": {
    "scrolled": true
   },
   "outputs": [
    {
     "data": {
      "text/html": [
       "<div>\n",
       "<style scoped>\n",
       "    .dataframe tbody tr th:only-of-type {\n",
       "        vertical-align: middle;\n",
       "    }\n",
       "\n",
       "    .dataframe tbody tr th {\n",
       "        vertical-align: top;\n",
       "    }\n",
       "\n",
       "    .dataframe thead th {\n",
       "        text-align: right;\n",
       "    }\n",
       "</style>\n",
       "<table border=\"1\" class=\"dataframe\">\n",
       "  <thead>\n",
       "    <tr style=\"text-align: right;\">\n",
       "      <th></th>\n",
       "      <th>user_id</th>\n",
       "      <th>date</th>\n",
       "      <th>direction</th>\n",
       "      <th>internal</th>\n",
       "      <th>operator_id</th>\n",
       "      <th>is_missed_call</th>\n",
       "      <th>calls_count</th>\n",
       "      <th>call_duration</th>\n",
       "      <th>total_call_duration</th>\n",
       "      <th>waiting_time_answers</th>\n",
       "      <th>waiting_time_one_answer</th>\n",
       "      <th>one_call_duration_full</th>\n",
       "      <th>one_call_duration_clean</th>\n",
       "      <th>tariff_plan</th>\n",
       "      <th>date_start</th>\n",
       "    </tr>\n",
       "  </thead>\n",
       "  <tbody>\n",
       "    <tr>\n",
       "      <td>1</td>\n",
       "      <td>166377</td>\n",
       "      <td>2019-08-05</td>\n",
       "      <td>out</td>\n",
       "      <td>True</td>\n",
       "      <td>880022</td>\n",
       "      <td>True</td>\n",
       "      <td>3</td>\n",
       "      <td>0</td>\n",
       "      <td>5</td>\n",
       "      <td>5</td>\n",
       "      <td>1.666667</td>\n",
       "      <td>1.666667</td>\n",
       "      <td>0.00</td>\n",
       "      <td>B</td>\n",
       "      <td>2019-08-01</td>\n",
       "    </tr>\n",
       "    <tr>\n",
       "      <td>2</td>\n",
       "      <td>166377</td>\n",
       "      <td>2019-08-05</td>\n",
       "      <td>out</td>\n",
       "      <td>True</td>\n",
       "      <td>880020</td>\n",
       "      <td>True</td>\n",
       "      <td>1</td>\n",
       "      <td>0</td>\n",
       "      <td>1</td>\n",
       "      <td>1</td>\n",
       "      <td>1.000000</td>\n",
       "      <td>1.000000</td>\n",
       "      <td>0.00</td>\n",
       "      <td>B</td>\n",
       "      <td>2019-08-01</td>\n",
       "    </tr>\n",
       "    <tr>\n",
       "      <td>3</td>\n",
       "      <td>166377</td>\n",
       "      <td>2019-08-05</td>\n",
       "      <td>out</td>\n",
       "      <td>True</td>\n",
       "      <td>880020</td>\n",
       "      <td>False</td>\n",
       "      <td>1</td>\n",
       "      <td>10</td>\n",
       "      <td>18</td>\n",
       "      <td>8</td>\n",
       "      <td>8.000000</td>\n",
       "      <td>18.000000</td>\n",
       "      <td>10.00</td>\n",
       "      <td>B</td>\n",
       "      <td>2019-08-01</td>\n",
       "    </tr>\n",
       "    <tr>\n",
       "      <td>4</td>\n",
       "      <td>166377</td>\n",
       "      <td>2019-08-05</td>\n",
       "      <td>out</td>\n",
       "      <td>False</td>\n",
       "      <td>880022</td>\n",
       "      <td>True</td>\n",
       "      <td>3</td>\n",
       "      <td>0</td>\n",
       "      <td>25</td>\n",
       "      <td>25</td>\n",
       "      <td>8.333333</td>\n",
       "      <td>8.333333</td>\n",
       "      <td>0.00</td>\n",
       "      <td>B</td>\n",
       "      <td>2019-08-01</td>\n",
       "    </tr>\n",
       "    <tr>\n",
       "      <td>5</td>\n",
       "      <td>166377</td>\n",
       "      <td>2019-08-05</td>\n",
       "      <td>out</td>\n",
       "      <td>False</td>\n",
       "      <td>880020</td>\n",
       "      <td>False</td>\n",
       "      <td>2</td>\n",
       "      <td>3</td>\n",
       "      <td>29</td>\n",
       "      <td>26</td>\n",
       "      <td>13.000000</td>\n",
       "      <td>14.500000</td>\n",
       "      <td>1.50</td>\n",
       "      <td>B</td>\n",
       "      <td>2019-08-01</td>\n",
       "    </tr>\n",
       "    <tr>\n",
       "      <td>...</td>\n",
       "      <td>...</td>\n",
       "      <td>...</td>\n",
       "      <td>...</td>\n",
       "      <td>...</td>\n",
       "      <td>...</td>\n",
       "      <td>...</td>\n",
       "      <td>...</td>\n",
       "      <td>...</td>\n",
       "      <td>...</td>\n",
       "      <td>...</td>\n",
       "      <td>...</td>\n",
       "      <td>...</td>\n",
       "      <td>...</td>\n",
       "      <td>...</td>\n",
       "      <td>...</td>\n",
       "    </tr>\n",
       "    <tr>\n",
       "      <td>48991</td>\n",
       "      <td>168606</td>\n",
       "      <td>2019-11-08</td>\n",
       "      <td>out</td>\n",
       "      <td>False</td>\n",
       "      <td>957922</td>\n",
       "      <td>False</td>\n",
       "      <td>2</td>\n",
       "      <td>255</td>\n",
       "      <td>328</td>\n",
       "      <td>73</td>\n",
       "      <td>36.500000</td>\n",
       "      <td>164.000000</td>\n",
       "      <td>127.50</td>\n",
       "      <td>C</td>\n",
       "      <td>2019-10-31</td>\n",
       "    </tr>\n",
       "    <tr>\n",
       "      <td>48994</td>\n",
       "      <td>168606</td>\n",
       "      <td>2019-11-09</td>\n",
       "      <td>out</td>\n",
       "      <td>False</td>\n",
       "      <td>957922</td>\n",
       "      <td>False</td>\n",
       "      <td>4</td>\n",
       "      <td>551</td>\n",
       "      <td>593</td>\n",
       "      <td>42</td>\n",
       "      <td>10.500000</td>\n",
       "      <td>148.250000</td>\n",
       "      <td>137.75</td>\n",
       "      <td>C</td>\n",
       "      <td>2019-10-31</td>\n",
       "    </tr>\n",
       "    <tr>\n",
       "      <td>48996</td>\n",
       "      <td>168606</td>\n",
       "      <td>2019-11-10</td>\n",
       "      <td>out</td>\n",
       "      <td>True</td>\n",
       "      <td>957922</td>\n",
       "      <td>True</td>\n",
       "      <td>1</td>\n",
       "      <td>0</td>\n",
       "      <td>38</td>\n",
       "      <td>38</td>\n",
       "      <td>38.000000</td>\n",
       "      <td>38.000000</td>\n",
       "      <td>0.00</td>\n",
       "      <td>C</td>\n",
       "      <td>2019-10-31</td>\n",
       "    </tr>\n",
       "    <tr>\n",
       "      <td>48997</td>\n",
       "      <td>168606</td>\n",
       "      <td>2019-11-11</td>\n",
       "      <td>out</td>\n",
       "      <td>True</td>\n",
       "      <td>957922</td>\n",
       "      <td>False</td>\n",
       "      <td>2</td>\n",
       "      <td>479</td>\n",
       "      <td>501</td>\n",
       "      <td>22</td>\n",
       "      <td>11.000000</td>\n",
       "      <td>250.500000</td>\n",
       "      <td>239.50</td>\n",
       "      <td>C</td>\n",
       "      <td>2019-10-31</td>\n",
       "    </tr>\n",
       "    <tr>\n",
       "      <td>48998</td>\n",
       "      <td>168606</td>\n",
       "      <td>2019-11-15</td>\n",
       "      <td>out</td>\n",
       "      <td>True</td>\n",
       "      <td>957922</td>\n",
       "      <td>False</td>\n",
       "      <td>4</td>\n",
       "      <td>3130</td>\n",
       "      <td>3190</td>\n",
       "      <td>60</td>\n",
       "      <td>15.000000</td>\n",
       "      <td>797.500000</td>\n",
       "      <td>782.50</td>\n",
       "      <td>C</td>\n",
       "      <td>2019-10-31</td>\n",
       "    </tr>\n",
       "  </tbody>\n",
       "</table>\n",
       "<p>24069 rows × 15 columns</p>\n",
       "</div>"
      ],
      "text/plain": [
       "       user_id       date direction  internal  operator_id  is_missed_call  \\\n",
       "1       166377 2019-08-05       out      True       880022            True   \n",
       "2       166377 2019-08-05       out      True       880020            True   \n",
       "3       166377 2019-08-05       out      True       880020           False   \n",
       "4       166377 2019-08-05       out     False       880022            True   \n",
       "5       166377 2019-08-05       out     False       880020           False   \n",
       "...        ...        ...       ...       ...          ...             ...   \n",
       "48991   168606 2019-11-08       out     False       957922           False   \n",
       "48994   168606 2019-11-09       out     False       957922           False   \n",
       "48996   168606 2019-11-10       out      True       957922            True   \n",
       "48997   168606 2019-11-11       out      True       957922           False   \n",
       "48998   168606 2019-11-15       out      True       957922           False   \n",
       "\n",
       "       calls_count  call_duration  total_call_duration  waiting_time_answers  \\\n",
       "1                3              0                    5                     5   \n",
       "2                1              0                    1                     1   \n",
       "3                1             10                   18                     8   \n",
       "4                3              0                   25                    25   \n",
       "5                2              3                   29                    26   \n",
       "...            ...            ...                  ...                   ...   \n",
       "48991            2            255                  328                    73   \n",
       "48994            4            551                  593                    42   \n",
       "48996            1              0                   38                    38   \n",
       "48997            2            479                  501                    22   \n",
       "48998            4           3130                 3190                    60   \n",
       "\n",
       "       waiting_time_one_answer  one_call_duration_full  \\\n",
       "1                     1.666667                1.666667   \n",
       "2                     1.000000                1.000000   \n",
       "3                     8.000000               18.000000   \n",
       "4                     8.333333                8.333333   \n",
       "5                    13.000000               14.500000   \n",
       "...                        ...                     ...   \n",
       "48991                36.500000              164.000000   \n",
       "48994                10.500000              148.250000   \n",
       "48996                38.000000               38.000000   \n",
       "48997                11.000000              250.500000   \n",
       "48998                15.000000              797.500000   \n",
       "\n",
       "       one_call_duration_clean tariff_plan date_start  \n",
       "1                         0.00           B 2019-08-01  \n",
       "2                         0.00           B 2019-08-01  \n",
       "3                        10.00           B 2019-08-01  \n",
       "4                         0.00           B 2019-08-01  \n",
       "5                         1.50           B 2019-08-01  \n",
       "...                        ...         ...        ...  \n",
       "48991                   127.50           C 2019-10-31  \n",
       "48994                   137.75           C 2019-10-31  \n",
       "48996                     0.00           C 2019-10-31  \n",
       "48997                   239.50           C 2019-10-31  \n",
       "48998                   782.50           C 2019-10-31  \n",
       "\n",
       "[24069 rows x 15 columns]"
      ]
     },
     "execution_count": 97,
     "metadata": {},
     "output_type": "execute_result"
    }
   ],
   "source": [
    "outgoing_few_calls = telecom_dataset[telecom_dataset['direction']=='out']\n",
    "outgoing_few_calls"
   ]
  },
  {
   "cell_type": "code",
   "execution_count": 98,
   "metadata": {
    "scrolled": true
   },
   "outputs": [
    {
     "data": {
      "text/html": [
       "<div>\n",
       "<style scoped>\n",
       "    .dataframe tbody tr th:only-of-type {\n",
       "        vertical-align: middle;\n",
       "    }\n",
       "\n",
       "    .dataframe tbody tr th {\n",
       "        vertical-align: top;\n",
       "    }\n",
       "\n",
       "    .dataframe thead th {\n",
       "        text-align: right;\n",
       "    }\n",
       "</style>\n",
       "<table border=\"1\" class=\"dataframe\">\n",
       "  <thead>\n",
       "    <tr style=\"text-align: right;\">\n",
       "      <th></th>\n",
       "      <th>operator_id</th>\n",
       "      <th>calls_count</th>\n",
       "    </tr>\n",
       "  </thead>\n",
       "  <tbody>\n",
       "    <tr>\n",
       "      <td>0</td>\n",
       "      <td>879896</td>\n",
       "      <td>447</td>\n",
       "    </tr>\n",
       "    <tr>\n",
       "      <td>1</td>\n",
       "      <td>879898</td>\n",
       "      <td>886</td>\n",
       "    </tr>\n",
       "    <tr>\n",
       "      <td>2</td>\n",
       "      <td>880020</td>\n",
       "      <td>38</td>\n",
       "    </tr>\n",
       "    <tr>\n",
       "      <td>3</td>\n",
       "      <td>880022</td>\n",
       "      <td>189</td>\n",
       "    </tr>\n",
       "    <tr>\n",
       "      <td>4</td>\n",
       "      <td>880026</td>\n",
       "      <td>1919</td>\n",
       "    </tr>\n",
       "    <tr>\n",
       "      <td>...</td>\n",
       "      <td>...</td>\n",
       "      <td>...</td>\n",
       "    </tr>\n",
       "    <tr>\n",
       "      <td>868</td>\n",
       "      <td>972408</td>\n",
       "      <td>6</td>\n",
       "    </tr>\n",
       "    <tr>\n",
       "      <td>869</td>\n",
       "      <td>972410</td>\n",
       "      <td>77</td>\n",
       "    </tr>\n",
       "    <tr>\n",
       "      <td>870</td>\n",
       "      <td>972412</td>\n",
       "      <td>60</td>\n",
       "    </tr>\n",
       "    <tr>\n",
       "      <td>871</td>\n",
       "      <td>972460</td>\n",
       "      <td>50</td>\n",
       "    </tr>\n",
       "    <tr>\n",
       "      <td>872</td>\n",
       "      <td>973120</td>\n",
       "      <td>3</td>\n",
       "    </tr>\n",
       "  </tbody>\n",
       "</table>\n",
       "<p>873 rows × 2 columns</p>\n",
       "</div>"
      ],
      "text/plain": [
       "     operator_id  calls_count\n",
       "0         879896          447\n",
       "1         879898          886\n",
       "2         880020           38\n",
       "3         880022          189\n",
       "4         880026         1919\n",
       "..           ...          ...\n",
       "868       972408            6\n",
       "869       972410           77\n",
       "870       972412           60\n",
       "871       972460           50\n",
       "872       973120            3\n",
       "\n",
       "[873 rows x 2 columns]"
      ]
     },
     "execution_count": 98,
     "metadata": {},
     "output_type": "execute_result"
    }
   ],
   "source": [
    "pivot_few_calls = outgoing_few_calls.pivot_table(index='operator_id', values='calls_count', aggfunc='sum').reset_index()\n",
    "pivot_few_calls"
   ]
  },
  {
   "cell_type": "code",
   "execution_count": 99,
   "metadata": {},
   "outputs": [
    {
     "data": {
      "text/html": [
       "<div>\n",
       "<style scoped>\n",
       "    .dataframe tbody tr th:only-of-type {\n",
       "        vertical-align: middle;\n",
       "    }\n",
       "\n",
       "    .dataframe tbody tr th {\n",
       "        vertical-align: top;\n",
       "    }\n",
       "\n",
       "    .dataframe thead th {\n",
       "        text-align: right;\n",
       "    }\n",
       "</style>\n",
       "<table border=\"1\" class=\"dataframe\">\n",
       "  <thead>\n",
       "    <tr style=\"text-align: right;\">\n",
       "      <th></th>\n",
       "      <th>operator_id</th>\n",
       "      <th>calls_count</th>\n",
       "    </tr>\n",
       "  </thead>\n",
       "  <tbody>\n",
       "    <tr>\n",
       "      <td>count</td>\n",
       "      <td>873.000000</td>\n",
       "      <td>873.000000</td>\n",
       "    </tr>\n",
       "    <tr>\n",
       "      <td>mean</td>\n",
       "      <td>925658.703322</td>\n",
       "      <td>180.499427</td>\n",
       "    </tr>\n",
       "    <tr>\n",
       "      <td>std</td>\n",
       "      <td>22936.762141</td>\n",
       "      <td>300.258838</td>\n",
       "    </tr>\n",
       "    <tr>\n",
       "      <td>min</td>\n",
       "      <td>879896.000000</td>\n",
       "      <td>1.000000</td>\n",
       "    </tr>\n",
       "    <tr>\n",
       "      <td>25%</td>\n",
       "      <td>906392.000000</td>\n",
       "      <td>10.000000</td>\n",
       "    </tr>\n",
       "    <tr>\n",
       "      <td>50%</td>\n",
       "      <td>924960.000000</td>\n",
       "      <td>52.000000</td>\n",
       "    </tr>\n",
       "    <tr>\n",
       "      <td>75%</td>\n",
       "      <td>944210.000000</td>\n",
       "      <td>224.000000</td>\n",
       "    </tr>\n",
       "    <tr>\n",
       "      <td>max</td>\n",
       "      <td>973120.000000</td>\n",
       "      <td>2127.000000</td>\n",
       "    </tr>\n",
       "  </tbody>\n",
       "</table>\n",
       "</div>"
      ],
      "text/plain": [
       "         operator_id  calls_count\n",
       "count     873.000000   873.000000\n",
       "mean   925658.703322   180.499427\n",
       "std     22936.762141   300.258838\n",
       "min    879896.000000     1.000000\n",
       "25%    906392.000000    10.000000\n",
       "50%    924960.000000    52.000000\n",
       "75%    944210.000000   224.000000\n",
       "max    973120.000000  2127.000000"
      ]
     },
     "execution_count": 99,
     "metadata": {},
     "output_type": "execute_result"
    }
   ],
   "source": [
    "pivot_few_calls.describe()"
   ]
  },
  {
   "cell_type": "code",
   "execution_count": 100,
   "metadata": {},
   "outputs": [
    {
     "data": {
      "image/png": "[encoded data removed]",
      "text/plain": [
       "<Figure size 576x864 with 1 Axes>"
      ]
     },
     "metadata": {
      "needs_background": "light"
     },
     "output_type": "display_data"
    }
   ],
   "source": [
    "plt.figure(figsize=(8, 12))\n",
    "sns.boxplot(y=\"calls_count\", data = pivot_few_calls.query('calls_count < calls_count.median()'))\n",
    "plt.title(\"Диаграмма размаха исходящих звонков\", size=15)\n",
    "plt.ylabel(\"Суммарное количество исходящих звонков за весь период\")\n",
    "plt.show()"
   ]
  },
  {
   "cell_type": "markdown",
   "metadata": {},
   "source": [
    "Выделим операторов попадающих под третий признак неэффективности - мало исходящих вызовов. Определим понятие \"мало\", как менее или равно 10 %, переданные в качестве аргумента методу quantile"
   ]
  },
  {
   "cell_type": "code",
   "execution_count": 101,
   "metadata": {},
   "outputs": [
    {
     "data": {
      "text/plain": [
       "2.0"
      ]
     },
     "execution_count": 101,
     "metadata": {},
     "output_type": "execute_result"
    }
   ],
   "source": [
    "pivot_few_calls['calls_count'].quantile(.1)"
   ]
  },
  {
   "cell_type": "code",
   "execution_count": 102,
   "metadata": {},
   "outputs": [
    {
     "data": {
      "text/html": [
       "<div>\n",
       "<style scoped>\n",
       "    .dataframe tbody tr th:only-of-type {\n",
       "        vertical-align: middle;\n",
       "    }\n",
       "\n",
       "    .dataframe tbody tr th {\n",
       "        vertical-align: top;\n",
       "    }\n",
       "\n",
       "    .dataframe thead th {\n",
       "        text-align: right;\n",
       "    }\n",
       "</style>\n",
       "<table border=\"1\" class=\"dataframe\">\n",
       "  <thead>\n",
       "    <tr style=\"text-align: right;\">\n",
       "      <th></th>\n",
       "      <th>operator_id</th>\n",
       "      <th>calls_count</th>\n",
       "    </tr>\n",
       "  </thead>\n",
       "  <tbody>\n",
       "    <tr>\n",
       "      <td>8</td>\n",
       "      <td>882478</td>\n",
       "      <td>1</td>\n",
       "    </tr>\n",
       "    <tr>\n",
       "      <td>13</td>\n",
       "      <td>883018</td>\n",
       "      <td>2</td>\n",
       "    </tr>\n",
       "    <tr>\n",
       "      <td>14</td>\n",
       "      <td>883898</td>\n",
       "      <td>1</td>\n",
       "    </tr>\n",
       "    <tr>\n",
       "      <td>45</td>\n",
       "      <td>890234</td>\n",
       "      <td>1</td>\n",
       "    </tr>\n",
       "    <tr>\n",
       "      <td>64</td>\n",
       "      <td>891192</td>\n",
       "      <td>1</td>\n",
       "    </tr>\n",
       "    <tr>\n",
       "      <td>...</td>\n",
       "      <td>...</td>\n",
       "      <td>...</td>\n",
       "    </tr>\n",
       "    <tr>\n",
       "      <td>854</td>\n",
       "      <td>969288</td>\n",
       "      <td>2</td>\n",
       "    </tr>\n",
       "    <tr>\n",
       "      <td>859</td>\n",
       "      <td>970240</td>\n",
       "      <td>1</td>\n",
       "    </tr>\n",
       "    <tr>\n",
       "      <td>861</td>\n",
       "      <td>970244</td>\n",
       "      <td>2</td>\n",
       "    </tr>\n",
       "    <tr>\n",
       "      <td>862</td>\n",
       "      <td>970250</td>\n",
       "      <td>1</td>\n",
       "    </tr>\n",
       "    <tr>\n",
       "      <td>865</td>\n",
       "      <td>970258</td>\n",
       "      <td>1</td>\n",
       "    </tr>\n",
       "  </tbody>\n",
       "</table>\n",
       "<p>93 rows × 2 columns</p>\n",
       "</div>"
      ],
      "text/plain": [
       "     operator_id  calls_count\n",
       "8         882478            1\n",
       "13        883018            2\n",
       "14        883898            1\n",
       "45        890234            1\n",
       "64        891192            1\n",
       "..           ...          ...\n",
       "854       969288            2\n",
       "859       970240            1\n",
       "861       970244            2\n",
       "862       970250            1\n",
       "865       970258            1\n",
       "\n",
       "[93 rows x 2 columns]"
      ]
     },
     "execution_count": 102,
     "metadata": {},
     "output_type": "execute_result"
    }
   ],
   "source": [
    "third_sign_of_inefficiency = pivot_few_calls[pivot_few_calls['calls_count']\\\n",
    "                                                 <=pivot_few_calls['calls_count']\\\n",
    "                                                 .quantile(.1)]\n",
    "third_sign_of_inefficiency"
   ]
  },
  {
   "cell_type": "markdown",
   "metadata": {},
   "source": [
    "По третьему признаку неэффективности зафиксировано 93 оператора (10 % от числа всех операторов с исходящими вызовами) - операторы совершившие в совокупной сложности от 1 до 2 звонков за весь период"
   ]
  },
  {
   "cell_type": "code",
   "execution_count": 103,
   "metadata": {},
   "outputs": [
    {
     "data": {
      "image/png": "[encoded data removed]",
      "text/plain": [
       "<Figure size 1080x576 with 1 Axes>"
      ]
     },
     "metadata": {
      "needs_background": "light"
     },
     "output_type": "display_data"
    }
   ],
   "source": [
    "#график для презентации\n",
    "plt.figure(figsize=(15, 8))\n",
    "sns.distplot(pivot_few_calls['calls_count'])\n",
    "plt.title('Распределение исходящих звонков по количеству за весь период', size=12)\n",
    "plt.xlabel(\"Суммарное количество исходящих звонков за весь период\")\n",
    "plt.ylabel(\"Частота значения\")\n",
    "plt.show()"
   ]
  },
  {
   "cell_type": "markdown",
   "metadata": {},
   "source": [
    "Теперь определим операторов, попадающих в несколько групп для идентификации и подсчета полного количества"
   ]
  },
  {
   "cell_type": "markdown",
   "metadata": {},
   "source": [
    "Для начала выделим тех операторов, которые входят в группу неэффективных по двум первым признакам"
   ]
  },
  {
   "cell_type": "code",
   "execution_count": 104,
   "metadata": {},
   "outputs": [
    {
     "data": {
      "text/html": [
       "<div>\n",
       "<style scoped>\n",
       "    .dataframe tbody tr th:only-of-type {\n",
       "        vertical-align: middle;\n",
       "    }\n",
       "\n",
       "    .dataframe tbody tr th {\n",
       "        vertical-align: top;\n",
       "    }\n",
       "\n",
       "    .dataframe thead th {\n",
       "        text-align: right;\n",
       "    }\n",
       "</style>\n",
       "<table border=\"1\" class=\"dataframe\">\n",
       "  <thead>\n",
       "    <tr style=\"text-align: right;\">\n",
       "      <th></th>\n",
       "      <th>operator_id</th>\n",
       "      <th>calls_count</th>\n",
       "      <th>index</th>\n",
       "      <th>waiting_time_one_answer</th>\n",
       "    </tr>\n",
       "  </thead>\n",
       "  <tbody>\n",
       "    <tr>\n",
       "      <td>0</td>\n",
       "      <td>919552</td>\n",
       "      <td>612</td>\n",
       "      <td>68</td>\n",
       "      <td>34.835725</td>\n",
       "    </tr>\n",
       "    <tr>\n",
       "      <td>1</td>\n",
       "      <td>919792</td>\n",
       "      <td>597</td>\n",
       "      <td>80</td>\n",
       "      <td>33.083651</td>\n",
       "    </tr>\n",
       "    <tr>\n",
       "      <td>2</td>\n",
       "      <td>902744</td>\n",
       "      <td>437</td>\n",
       "      <td>152</td>\n",
       "      <td>25.027655</td>\n",
       "    </tr>\n",
       "    <tr>\n",
       "      <td>3</td>\n",
       "      <td>924960</td>\n",
       "      <td>308</td>\n",
       "      <td>121</td>\n",
       "      <td>27.506334</td>\n",
       "    </tr>\n",
       "    <tr>\n",
       "      <td>4</td>\n",
       "      <td>887276</td>\n",
       "      <td>292</td>\n",
       "      <td>144</td>\n",
       "      <td>25.744289</td>\n",
       "    </tr>\n",
       "    <tr>\n",
       "      <td>5</td>\n",
       "      <td>944220</td>\n",
       "      <td>253</td>\n",
       "      <td>78</td>\n",
       "      <td>33.295919</td>\n",
       "    </tr>\n",
       "    <tr>\n",
       "      <td>6</td>\n",
       "      <td>894224</td>\n",
       "      <td>250</td>\n",
       "      <td>96</td>\n",
       "      <td>30.264258</td>\n",
       "    </tr>\n",
       "    <tr>\n",
       "      <td>7</td>\n",
       "      <td>899932</td>\n",
       "      <td>233</td>\n",
       "      <td>82</td>\n",
       "      <td>32.716512</td>\n",
       "    </tr>\n",
       "    <tr>\n",
       "      <td>8</td>\n",
       "      <td>892532</td>\n",
       "      <td>230</td>\n",
       "      <td>134</td>\n",
       "      <td>26.462563</td>\n",
       "    </tr>\n",
       "    <tr>\n",
       "      <td>9</td>\n",
       "      <td>906680</td>\n",
       "      <td>218</td>\n",
       "      <td>30</td>\n",
       "      <td>44.597599</td>\n",
       "    </tr>\n",
       "    <tr>\n",
       "      <td>10</td>\n",
       "      <td>901350</td>\n",
       "      <td>193</td>\n",
       "      <td>114</td>\n",
       "      <td>28.116905</td>\n",
       "    </tr>\n",
       "    <tr>\n",
       "      <td>11</td>\n",
       "      <td>948182</td>\n",
       "      <td>159</td>\n",
       "      <td>103</td>\n",
       "      <td>29.027253</td>\n",
       "    </tr>\n",
       "  </tbody>\n",
       "</table>\n",
       "</div>"
      ],
      "text/plain": [
       "    operator_id  calls_count  index  waiting_time_one_answer\n",
       "0        919552          612     68                34.835725\n",
       "1        919792          597     80                33.083651\n",
       "2        902744          437    152                25.027655\n",
       "3        924960          308    121                27.506334\n",
       "4        887276          292    144                25.744289\n",
       "5        944220          253     78                33.295919\n",
       "6        894224          250     96                30.264258\n",
       "7        899932          233     82                32.716512\n",
       "8        892532          230    134                26.462563\n",
       "9        906680          218     30                44.597599\n",
       "10       901350          193    114                28.116905\n",
       "11       948182          159    103                29.027253"
      ]
     },
     "execution_count": 104,
     "metadata": {},
     "output_type": "execute_result"
    }
   ],
   "source": [
    "inefficient_incoming_operators = first_sign_of_inefficiency.merge(second_sign_of_inefficiency, on='operator_id')\n",
    "inefficient_incoming_operators"
   ]
  },
  {
   "cell_type": "markdown",
   "metadata": {},
   "source": [
    "В итоговую таблицу по неэффективным операторам, принимающим входящие звонки попали 12 операторов"
   ]
  },
  {
   "cell_type": "code",
   "execution_count": 105,
   "metadata": {},
   "outputs": [
    {
     "data": {
      "text/html": [
       "<div>\n",
       "<style scoped>\n",
       "    .dataframe tbody tr th:only-of-type {\n",
       "        vertical-align: middle;\n",
       "    }\n",
       "\n",
       "    .dataframe tbody tr th {\n",
       "        vertical-align: top;\n",
       "    }\n",
       "\n",
       "    .dataframe thead th {\n",
       "        text-align: right;\n",
       "    }\n",
       "</style>\n",
       "<table border=\"1\" class=\"dataframe\">\n",
       "  <thead>\n",
       "    <tr style=\"text-align: right;\">\n",
       "      <th></th>\n",
       "      <th>operator_id</th>\n",
       "      <th>calls_count_x</th>\n",
       "      <th>user_id</th>\n",
       "      <th>out</th>\n",
       "      <th>date</th>\n",
       "      <th>calls_count_y</th>\n",
       "    </tr>\n",
       "  </thead>\n",
       "  <tbody>\n",
       "    <tr>\n",
       "      <td>0</td>\n",
       "      <td>883018</td>\n",
       "      <td>2</td>\n",
       "      <td>166507</td>\n",
       "      <td>15.0</td>\n",
       "      <td>2019-08-07</td>\n",
       "      <td>2</td>\n",
       "    </tr>\n",
       "    <tr>\n",
       "      <td>1</td>\n",
       "      <td>883898</td>\n",
       "      <td>1</td>\n",
       "      <td>166507</td>\n",
       "      <td>80.0</td>\n",
       "      <td>2019-08-07</td>\n",
       "      <td>1</td>\n",
       "    </tr>\n",
       "    <tr>\n",
       "      <td>2</td>\n",
       "      <td>890234</td>\n",
       "      <td>1</td>\n",
       "      <td>166520</td>\n",
       "      <td>97.0</td>\n",
       "      <td>2019-08-17</td>\n",
       "      <td>1</td>\n",
       "    </tr>\n",
       "    <tr>\n",
       "      <td>3</td>\n",
       "      <td>891192</td>\n",
       "      <td>1</td>\n",
       "      <td>166520</td>\n",
       "      <td>1338.0</td>\n",
       "      <td>2019-08-25</td>\n",
       "      <td>1</td>\n",
       "    </tr>\n",
       "    <tr>\n",
       "      <td>4</td>\n",
       "      <td>891250</td>\n",
       "      <td>2</td>\n",
       "      <td>166711</td>\n",
       "      <td>128.0</td>\n",
       "      <td>2019-08-20</td>\n",
       "      <td>2</td>\n",
       "    </tr>\n",
       "    <tr>\n",
       "      <td>...</td>\n",
       "      <td>...</td>\n",
       "      <td>...</td>\n",
       "      <td>...</td>\n",
       "      <td>...</td>\n",
       "      <td>...</td>\n",
       "      <td>...</td>\n",
       "    </tr>\n",
       "    <tr>\n",
       "      <td>68</td>\n",
       "      <td>969284</td>\n",
       "      <td>1</td>\n",
       "      <td>168336</td>\n",
       "      <td>4.0</td>\n",
       "      <td>2019-11-25</td>\n",
       "      <td>1</td>\n",
       "    </tr>\n",
       "    <tr>\n",
       "      <td>69</td>\n",
       "      <td>969288</td>\n",
       "      <td>2</td>\n",
       "      <td>168155</td>\n",
       "      <td>21.0</td>\n",
       "      <td>2019-11-24</td>\n",
       "      <td>2</td>\n",
       "    </tr>\n",
       "    <tr>\n",
       "      <td>70</td>\n",
       "      <td>970244</td>\n",
       "      <td>2</td>\n",
       "      <td>168225</td>\n",
       "      <td>23.0</td>\n",
       "      <td>2019-11-28</td>\n",
       "      <td>1</td>\n",
       "    </tr>\n",
       "    <tr>\n",
       "      <td>71</td>\n",
       "      <td>970250</td>\n",
       "      <td>1</td>\n",
       "      <td>168225</td>\n",
       "      <td>8.0</td>\n",
       "      <td>2019-11-28</td>\n",
       "      <td>1</td>\n",
       "    </tr>\n",
       "    <tr>\n",
       "      <td>72</td>\n",
       "      <td>970258</td>\n",
       "      <td>1</td>\n",
       "      <td>168225</td>\n",
       "      <td>11.0</td>\n",
       "      <td>2019-11-28</td>\n",
       "      <td>1</td>\n",
       "    </tr>\n",
       "  </tbody>\n",
       "</table>\n",
       "<p>73 rows × 6 columns</p>\n",
       "</div>"
      ],
      "text/plain": [
       "    operator_id  calls_count_x  user_id     out       date  calls_count_y\n",
       "0        883018              2   166507    15.0 2019-08-07              2\n",
       "1        883898              1   166507    80.0 2019-08-07              1\n",
       "2        890234              1   166520    97.0 2019-08-17              1\n",
       "3        891192              1   166520  1338.0 2019-08-25              1\n",
       "4        891250              2   166711   128.0 2019-08-20              2\n",
       "..          ...            ...      ...     ...        ...            ...\n",
       "68       969284              1   168336     4.0 2019-11-25              1\n",
       "69       969288              2   168155    21.0 2019-11-24              2\n",
       "70       970244              2   168225    23.0 2019-11-28              1\n",
       "71       970250              1   168225     8.0 2019-11-28              1\n",
       "72       970258              1   168225    11.0 2019-11-28              1\n",
       "\n",
       "[73 rows x 6 columns]"
      ]
     },
     "execution_count": 105,
     "metadata": {},
     "output_type": "execute_result"
    }
   ],
   "source": [
    "inefficient_outgoing_operators = third_sign_of_inefficiency.merge(outgoing_df, on='operator_id')\n",
    "inefficient_outgoing_operators"
   ]
  },
  {
   "cell_type": "code",
   "execution_count": 106,
   "metadata": {},
   "outputs": [
    {
     "data": {
      "text/plain": [
       "68"
      ]
     },
     "execution_count": 106,
     "metadata": {},
     "output_type": "execute_result"
    }
   ],
   "source": [
    "len(inefficient_outgoing_operators['operator_id'].unique())"
   ]
  },
  {
   "cell_type": "markdown",
   "metadata": {},
   "source": [
    "В итоговую таблицу неэффективных операторов с учётом вхождения их в категорию колл-центров, специализирующихся на обзвонах, попали 68 уникальных оператора"
   ]
  },
  {
   "cell_type": "markdown",
   "metadata": {},
   "source": [
    "## Определение клиетов(колл-центров), потенциально заинтересованных в получении результатов данного исследования"
   ]
  },
  {
   "cell_type": "markdown",
   "metadata": {},
   "source": [
    "Определим клиентов, потенциально заинтересованных в предложении услуг. Для этого создадим две переменные: с id неэффективных операторов входящих звонков и с id неэффективных операторов исходящих звонков"
   ]
  },
  {
   "cell_type": "code",
   "execution_count": 107,
   "metadata": {},
   "outputs": [],
   "source": [
    "inefficient_operator_id_in = inefficient_incoming_operators['operator_id']\n",
    "inefficient_operator_id_out = inefficient_outgoing_operators['operator_id'].unique()"
   ]
  },
  {
   "cell_type": "code",
   "execution_count": 108,
   "metadata": {},
   "outputs": [
    {
     "data": {
      "text/html": [
       "<div>\n",
       "<style scoped>\n",
       "    .dataframe tbody tr th:only-of-type {\n",
       "        vertical-align: middle;\n",
       "    }\n",
       "\n",
       "    .dataframe tbody tr th {\n",
       "        vertical-align: top;\n",
       "    }\n",
       "\n",
       "    .dataframe thead th {\n",
       "        text-align: right;\n",
       "    }\n",
       "</style>\n",
       "<table border=\"1\" class=\"dataframe\">\n",
       "  <thead>\n",
       "    <tr style=\"text-align: right;\">\n",
       "      <th></th>\n",
       "      <th>user_id</th>\n",
       "      <th>operator_id</th>\n",
       "      <th>calls_count</th>\n",
       "    </tr>\n",
       "  </thead>\n",
       "  <tbody>\n",
       "    <tr>\n",
       "      <td>32</td>\n",
       "      <td>167264</td>\n",
       "      <td>919552</td>\n",
       "      <td>1660</td>\n",
       "    </tr>\n",
       "    <tr>\n",
       "      <td>0</td>\n",
       "      <td>166485</td>\n",
       "      <td>887276</td>\n",
       "      <td>1627</td>\n",
       "    </tr>\n",
       "    <tr>\n",
       "      <td>37</td>\n",
       "      <td>167521</td>\n",
       "      <td>919792</td>\n",
       "      <td>1352</td>\n",
       "    </tr>\n",
       "    <tr>\n",
       "      <td>27</td>\n",
       "      <td>167125</td>\n",
       "      <td>902744</td>\n",
       "      <td>842</td>\n",
       "    </tr>\n",
       "    <tr>\n",
       "      <td>77</td>\n",
       "      <td>168416</td>\n",
       "      <td>948182</td>\n",
       "      <td>722</td>\n",
       "    </tr>\n",
       "    <tr>\n",
       "      <td>...</td>\n",
       "      <td>...</td>\n",
       "      <td>...</td>\n",
       "      <td>...</td>\n",
       "    </tr>\n",
       "    <tr>\n",
       "      <td>51</td>\n",
       "      <td>168062</td>\n",
       "      <td>947596</td>\n",
       "      <td>1</td>\n",
       "    </tr>\n",
       "    <tr>\n",
       "      <td>5</td>\n",
       "      <td>166520</td>\n",
       "      <td>891192</td>\n",
       "      <td>1</td>\n",
       "    </tr>\n",
       "    <tr>\n",
       "      <td>17</td>\n",
       "      <td>166884</td>\n",
       "      <td>917890</td>\n",
       "      <td>1</td>\n",
       "    </tr>\n",
       "    <tr>\n",
       "      <td>46</td>\n",
       "      <td>167626</td>\n",
       "      <td>934426</td>\n",
       "      <td>1</td>\n",
       "    </tr>\n",
       "    <tr>\n",
       "      <td>52</td>\n",
       "      <td>168073</td>\n",
       "      <td>941816</td>\n",
       "      <td>1</td>\n",
       "    </tr>\n",
       "  </tbody>\n",
       "</table>\n",
       "<p>80 rows × 3 columns</p>\n",
       "</div>"
      ],
      "text/plain": [
       "    user_id  operator_id  calls_count\n",
       "32   167264       919552         1660\n",
       "0    166485       887276         1627\n",
       "37   167521       919792         1352\n",
       "27   167125       902744          842\n",
       "77   168416       948182          722\n",
       "..      ...          ...          ...\n",
       "51   168062       947596            1\n",
       "5    166520       891192            1\n",
       "17   166884       917890            1\n",
       "46   167626       934426            1\n",
       "52   168073       941816            1\n",
       "\n",
       "[80 rows x 3 columns]"
      ]
     },
     "execution_count": 108,
     "metadata": {},
     "output_type": "execute_result"
    }
   ],
   "source": [
    "inefficient_operator_id_in\n",
    "inefficient_operator_id_out\n",
    "\n",
    "interested_clients = (telecom_dataset.query('operator_id in @inefficient_operator_id_in or operator_id in @inefficient_operator_id_out')\n",
    "                                   .pivot_table(index = ['user_id', 'operator_id'],\n",
    "                                                values = 'calls_count', aggfunc = 'sum')\n",
    "                                   .reset_index().sort_values(by = 'calls_count', ascending = False))\n",
    "interested_clients"
   ]
  },
  {
   "cell_type": "code",
   "execution_count": 109,
   "metadata": {},
   "outputs": [
    {
     "data": {
      "text/plain": [
       "array([167264, 166485, 167521, 167125, 168416, 167977, 167497, 166503,\n",
       "       167011, 166800, 166732, 166836, 168252, 167436, 167189, 166541,\n",
       "       167948, 166874, 167551, 167599, 167364, 168412, 168500, 167626,\n",
       "       166713, 167930, 167580, 168155, 168481, 168307, 166520, 168225,\n",
       "       167532, 166507, 166680, 167016, 166916, 167110, 166774, 166813,\n",
       "       167012, 166711, 167250, 166939, 167183, 168336, 168361, 167176,\n",
       "       168187, 168073, 167078, 168062, 166884])"
      ]
     },
     "execution_count": 109,
     "metadata": {},
     "output_type": "execute_result"
    }
   ],
   "source": [
    "interested_clients['user_id'].unique()"
   ]
  },
  {
   "cell_type": "code",
   "execution_count": 110,
   "metadata": {},
   "outputs": [
    {
     "data": {
      "text/plain": [
       "53"
      ]
     },
     "execution_count": 110,
     "metadata": {},
     "output_type": "execute_result"
    }
   ],
   "source": [
    "len(interested_clients['user_id'].unique())"
   ]
  },
  {
   "cell_type": "markdown",
   "metadata": {},
   "source": [
    "Получен список из 53 клиентов, кому было бы интересно и необходимо узнать список неэффективных операторо для принятия мер. Определим какое количество операторов имеет клиент. "
   ]
  },
  {
   "cell_type": "code",
   "execution_count": 111,
   "metadata": {
    "scrolled": true
   },
   "outputs": [
    {
     "name": "stdout",
     "output_type": "stream",
     "text": [
      "Количество неэффективных операторов клиента с id: 167264, равно 1, неэффективные операторы: [919552]\n",
      "Количество неэффективных операторов клиента с id: 166485, равно 1, неэффективные операторы: [887276]\n",
      "Количество неэффективных операторов клиента с id: 167521, равно 3, неэффективные операторы: [919792, 944246, 944560]\n",
      "Количество неэффективных операторов клиента с id: 167125, равно 1, неэффективные операторы: [902744]\n",
      "Количество неэффективных операторов клиента с id: 168416, равно 1, неэффективные операторы: [948182]\n",
      "Количество неэффективных операторов клиента с id: 167977, равно 1, неэффективные операторы: [944220]\n",
      "Количество неэффективных операторов клиента с id: 167497, равно 1, неэффективные операторы: [924960]\n",
      "Количество неэффективных операторов клиента с id: 166503, равно 1, неэффективные операторы: [906680]\n",
      "Количество неэффективных операторов клиента с id: 167011, равно 1, неэффективные операторы: [899932]\n",
      "Количество неэффективных операторов клиента с id: 166800, равно 1, неэффективные операторы: [892532]\n",
      "Количество неэффективных операторов клиента с id: 166732, равно 1, неэффективные операторы: [894224]\n",
      "Количество неэффективных операторов клиента с id: 166836, равно 1, неэффективные операторы: [901350]\n",
      "Количество неэффективных операторов клиента с id: 168252, равно 6, неэффективные операторы: [964666, 966686, 940814, 940842, 940848, 940610]\n",
      "Количество неэффективных операторов клиента с id: 167436, равно 2, неэффективные операторы: [914256, 914272]\n",
      "Количество неэффективных операторов клиента с id: 167189, равно 1, неэффективные операторы: [906076]\n",
      "Количество неэффективных операторов клиента с id: 166541, равно 1, неэффективные операторы: [908834]\n",
      "Количество неэффективных операторов клиента с id: 167948, равно 1, неэффективные операторы: [930326]\n",
      "Количество неэффективных операторов клиента с id: 166874, равно 1, неэффективные операторы: [895598]\n",
      "Количество неэффективных операторов клиента с id: 167551, равно 1, неэффективные операторы: [919214]\n",
      "Количество неэффективных операторов клиента с id: 167599, равно 1, неэффективные операторы: [954086]\n",
      "Количество неэффективных операторов клиента с id: 167364, равно 1, неэффективные операторы: [924572]\n",
      "Количество неэффективных операторов клиента с id: 168412, равно 1, неэффективные операторы: [952462]\n",
      "Количество неэффективных операторов клиента с id: 168500, равно 1, неэффективные операторы: [952196]\n",
      "Количество неэффективных операторов клиента с id: 167626, равно 2, неэффективные операторы: [919206, 934426]\n",
      "Количество неэффективных операторов клиента с id: 166713, равно 1, неэффективные операторы: [891918]\n",
      "Количество неэффективных операторов клиента с id: 167930, равно 2, неэффективные операторы: [930820, 930816]\n",
      "Количество неэффективных операторов клиента с id: 167580, равно 2, неэффективные операторы: [937366, 960666]\n",
      "Количество неэффективных операторов клиента с id: 168155, равно 1, неэффективные операторы: [969288]\n",
      "Количество неэффективных операторов клиента с id: 168481, равно 1, неэффективные операторы: [956292]\n",
      "Количество неэффективных операторов клиента с id: 168307, равно 1, неэффективные операторы: [945058]\n",
      "Количество неэффективных операторов клиента с id: 166520, равно 3, неэффективные операторы: [930510, 890234, 891192]\n",
      "Количество неэффективных операторов клиента с id: 168225, равно 3, неэффективные операторы: [970244, 970258, 970250]\n",
      "Количество неэффективных операторов клиента с id: 167532, равно 1, неэффективные операторы: [917858]\n",
      "Количество неэффективных операторов клиента с id: 166507, равно 2, неэффективные операторы: [883018, 883898]\n",
      "Количество неэффективных операторов клиента с id: 166680, равно 1, неэффективные операторы: [919418]\n",
      "Количество неэффективных операторов клиента с id: 167016, равно 1, неэффективные операторы: [962904]\n",
      "Количество неэффективных операторов клиента с id: 166916, равно 2, неэффективные операторы: [928282, 928284]\n",
      "Количество неэффективных операторов клиента с id: 167110, равно 1, неэффективные операторы: [907998]\n",
      "Количество неэффективных операторов клиента с id: 166774, равно 1, неэффективные операторы: [891976]\n",
      "Количество неэффективных операторов клиента с id: 166813, равно 1, неэффективные операторы: [954318]\n",
      "Количество неэффективных операторов клиента с id: 167012, равно 1, неэффективные операторы: [899076]\n",
      "Количество неэффективных операторов клиента с id: 166711, равно 1, неэффективные операторы: [891250]\n",
      "Количество неэффективных операторов клиента с id: 167250, равно 1, неэффективные операторы: [929542]\n",
      "Количество неэффективных операторов клиента с id: 166939, равно 2, неэффективные операторы: [955094, 955086]\n",
      "Количество неэффективных операторов клиента с id: 167183, равно 1, неэффективные операторы: [932246]\n",
      "Количество неэффективных операторов клиента с id: 168336, равно 2, неэффективные операторы: [969262, 969284]\n",
      "Количество неэффективных операторов клиента с id: 168361, равно 1, неэффективные операторы: [945274]\n",
      "Количество неэффективных операторов клиента с id: 167176, равно 1, неэффективные операторы: [905480]\n",
      "Количество неэффективных операторов клиента с id: 168187, равно 7, неэффективные операторы: [937872, 937778, 937772, 937770, 937720, 937716, 937710]\n",
      "Количество неэффективных операторов клиента с id: 168073, равно 3, неэффективные операторы: [954284, 941826, 941816]\n",
      "Количество неэффективных операторов клиента с id: 167078, равно 1, неэффективные операторы: [963716]\n",
      "Количество неэффективных операторов клиента с id: 168062, равно 1, неэффективные операторы: [947596]\n",
      "Количество неэффективных операторов клиента с id: 166884, равно 1, неэффективные операторы: [917890]\n"
     ]
    }
   ],
   "source": [
    "for i in interested_clients['user_id'].unique():\n",
    "    count = []\n",
    "    \n",
    "    for k, j in zip(interested_clients['user_id'],  interested_clients['operator_id']):\n",
    "        if i == k:\n",
    "            count.append(j)\n",
    "    print(f'Количество неэффективных операторов клиента с id: {i}, равно {len(count)}, неэффективные операторы: {count}')"
   ]
  },
  {
   "cell_type": "code",
   "execution_count": 112,
   "metadata": {},
   "outputs": [
    {
     "name": "stdout",
     "output_type": "stream",
     "text": [
      "Наиболее перспективные клиенты с id: [168252, 168187], имеющие более пяти операторов\n",
      "\n",
      "Перспективные клиенты с id: [167521, 166520, 168225, 168073], имеющие более двух операторов\n",
      "\n",
      "Наименее перспективные клиенты с id: [167264, 166485, 167125, 168416, 167977, 167497, 166503, 167011, 166800, 166732, 166836, 167436, 167189, 166541, 167948, 166874, 167551, 167599, 167364, 168412, 168500, 167626, 166713, 167930, 167580, 168155, 168481, 168307, 167532, 166507, 166680, 167016, 166916, 167110, 166774, 166813, 167012, 166711, 167250, 166939, 167183, 168336, 168361, 167176, 167078, 168062, 166884], имеющие 1-2 операторов и способные справиться с ситуацией самостоятельно\n"
     ]
    }
   ],
   "source": [
    "rank1 = []\n",
    "rank2 = []\n",
    "rank3 = []\n",
    "\n",
    "for i in interested_clients['user_id'].unique():\n",
    "    count = []\n",
    "    \n",
    "    for k, j in zip(interested_clients['user_id'],  interested_clients['operator_id']):\n",
    "        if i == k:\n",
    "            count.append(j)\n",
    "    if len(count) <= 2:\n",
    "        rank3.append(i)\n",
    "    elif 2 < len(count) < 5:\n",
    "        rank2.append(i)\n",
    "    else:\n",
    "        rank1.append(i)\n",
    "        \n",
    "    \n",
    "print(f'Наиболее перспективные клиенты с id: {rank1}, имеющие более пяти операторов') \n",
    "print()\n",
    "print(f'Перспективные клиенты с id: {rank2}, имеющие более двух операторов')\n",
    "print()\n",
    "print(f'Наименее перспективные клиенты с id: {rank3}, имеющие 1-2 операторов и способные справиться с ситуацией самостоятельно')"
   ]
  },
  {
   "cell_type": "markdown",
   "metadata": {},
   "source": [
    "Выводы\n",
    "* По первому признаку неэффективности (много пропущенных входящих вызовов) обнаружено 76 операторов с общим пропуском от 114 до 920 звонков;\n",
    "* По второму признаку неэффективности (долгое ожидание ответа при входящих внешних вызовах) выявлено 153 оператора со временем ожидания от 25 секунд до 115 секунд)\n",
    "* По третьему признаку неэффективности (мало исходящих вызовов) выявлено 93 оператора совершившие 1-2 звонка за весь рассматриваемый период.\n",
    "\n",
    "Объединив первые 2 признака мы выявили 12 операторов. По третьему признаку после определения операторов к кагорте колл-центров, заточенных на обзвонах осталось 68 неэффективных операторов. \n",
    "\n",
    "Потенциально заинтересованных клиентов мы получили - 53. И ранжировали их на наиболее перспективных с более 5 операторами (2 клиента), перспективных с более 2 операторами (4 клиента) и наимее перспективных имеющих 1-2 оператора (46 клиентов). "
   ]
  },
  {
   "cell_type": "markdown",
   "metadata": {},
   "source": [
    "## Формулирование и проверка статистических гипотез"
   ]
  },
  {
   "cell_type": "markdown",
   "metadata": {},
   "source": [
    "* Гипотеза 1:\n",
    "    - Н0: Время ожидания звонка зависит от тарифного плана;\n",
    "    - Н1: Время ожидания звонка не зависит от тарифного плана.\n",
    "* Гипотеза 2:\n",
    "    - Н0: Среднее время ожидания ответа оператора равно среднему времени ожидания ответа абонента;\n",
    "    - Н1: Среднее время ожидания ответа оператора не равно среднему времени ожидания ответа абонента."
   ]
  },
  {
   "cell_type": "markdown",
   "metadata": {},
   "source": [
    "Перед переходом к исследованию основных гипотез, проверим данные на нормальность распределения данных.\n",
    "\n",
    "- Н0: Данные распределены нормально\n",
    "- Н1: Данные не имеют нормального распределения."
   ]
  },
  {
   "cell_type": "code",
   "execution_count": 113,
   "metadata": {},
   "outputs": [
    {
     "name": "stdout",
     "output_type": "stream",
     "text": [
      "Statistics=0.766, p-value=0.000\n",
      "Отклонить гипотезу о нормальности\n"
     ]
    }
   ],
   "source": [
    "stat, p = scipy.stats.shapiro(telecom_dataset.query('tariff_plan == \"A\" and is_missed_call == False and internal == True')\\\n",
    "['waiting_time_one_answer'])\n",
    "                              \n",
    "print('Statistics=%.3f, p-value=%.3f' % (stat, p))\n",
    "alpha = 0.05\n",
    "                              \n",
    "if p > alpha:\n",
    "    print('Принять гипотезу о нормальности') \n",
    "                                 \n",
    "else:\n",
    "    print('Отклонить гипотезу о нормальности')         "
   ]
  },
  {
   "cell_type": "code",
   "execution_count": 114,
   "metadata": {},
   "outputs": [
    {
     "name": "stdout",
     "output_type": "stream",
     "text": [
      "Statistics=0.703, p-value=0.000\n",
      "Отклонить гипотезу о нормальности\n"
     ]
    }
   ],
   "source": [
    "stat, p = scipy.stats.shapiro(telecom_dataset.query('tariff_plan == \"B\" and is_missed_call == False and internal == True')\\\n",
    "['waiting_time_one_answer'])\n",
    "                              \n",
    "print('Statistics=%.3f, p-value=%.3f' % (stat, p))\n",
    "alpha = 0.05\n",
    "                              \n",
    "if p > alpha:\n",
    "    print('Принять гипотезу о нормальности') \n",
    "                                 \n",
    "else:\n",
    "    print('Отклонить гипотезу о нормальности')  "
   ]
  },
  {
   "cell_type": "code",
   "execution_count": 115,
   "metadata": {},
   "outputs": [
    {
     "name": "stdout",
     "output_type": "stream",
     "text": [
      "Statistics=0.737, p-value=0.000\n",
      "Отклонить гипотезу о нормальности\n"
     ]
    }
   ],
   "source": [
    "stat, p = scipy.stats.shapiro(telecom_dataset.query('tariff_plan == \"C\" and is_missed_call == False and internal == True')\\\n",
    "['waiting_time_one_answer'])\n",
    "                              \n",
    "print('Statistics=%.3f, p-value=%.3f' % (stat, p))\n",
    "alpha = 0.05\n",
    "                              \n",
    "if p > alpha:\n",
    "    print('Принять гипотезу о нормальности') \n",
    "                                 \n",
    "else:\n",
    "    print('Отклонить гипотезу о нормальности')  "
   ]
  },
  {
   "cell_type": "markdown",
   "metadata": {},
   "source": [
    "Отклоняем нулевую гипотезу \"Данные распределены нормально\""
   ]
  },
  {
   "cell_type": "markdown",
   "metadata": {},
   "source": [
    "Проверим, существуют ли статистически достоверные различия между выборками с разными тарифными планами. Для этого сравним попарно тарифные планы \"А\", \"В\" и \"С\" между собой. Если между выборками будут существовать различия по одним и тем же условиям, то и нулевая гипотеза заказчика о зависимости времени ожидания звонка от тарифного плана также будет справедливой.\n",
    "\n",
    "Сформулируем промежуточные гипотезы:\n",
    "\n",
    "Н0: время ожидания звонка тарифного плана \"А\" равно времени ожидания звонка тарифного плана \"В\"\n",
    "Н1: время ожидания звонка тарифного плана \"А\" не равно времени ожидания звонка тарифного плана \"В\""
   ]
  },
  {
   "cell_type": "code",
   "execution_count": 116,
   "metadata": {},
   "outputs": [
    {
     "name": "stdout",
     "output_type": "stream",
     "text": [
      "p-значение: 2.453173503880992e-134\n",
      "Отвергаем нулевую гипотезу\n"
     ]
    }
   ],
   "source": [
    "alpha = 0.05\n",
    "\n",
    "results = st.mannwhitneyu(\n",
    "    telecom_dataset.query('tariff_plan == \"A\" and is_missed_call == False and internal == True')['waiting_time_one_answer'], \n",
    "    telecom_dataset.query('tariff_plan == \"B\" and is_missed_call == False and internal == False')['waiting_time_one_answer'],\n",
    "    )\n",
    "\n",
    "print('p-значение:', results.pvalue)\n",
    "\n",
    "if (results.pvalue < alpha):\n",
    "    print(\"Отвергаем нулевую гипотезу\")\n",
    "else:\n",
    "    print(\"Не получилось отвергнуть нулевую гипотезу\")    "
   ]
  },
  {
   "cell_type": "markdown",
   "metadata": {},
   "source": [
    "Отвергаем нулевую гипотезу о том, что время ожидания звонка тарифного плана \"А\" равно времени ожидания звонка тарифного плана \"В\" "
   ]
  },
  {
   "cell_type": "markdown",
   "metadata": {},
   "source": [
    "Сравним тарифные планы \"В\" и \"С\".\n",
    "\n",
    "Сформулируем промежуточные гипотезы:\n",
    "\n",
    "Н0: время ожидания звонка тарифного плана \"В\" равно времени ожидания звонка тарифного плана \"С\"\n",
    "Н1: время ожидания звонка тарифного плана \"В\" не равно времени ожидания звонка тарифного плана \"С\""
   ]
  },
  {
   "cell_type": "code",
   "execution_count": 117,
   "metadata": {},
   "outputs": [
    {
     "name": "stdout",
     "output_type": "stream",
     "text": [
      "p-значение: 7.956580150605678e-181\n",
      "Отвергаем нулевую гипотезу\n"
     ]
    }
   ],
   "source": [
    "alpha = 0.05\n",
    "\n",
    "results = st.mannwhitneyu(\n",
    "    telecom_dataset.query('tariff_plan == \"B\" and is_missed_call == False and internal == True')['waiting_time_one_answer'], \n",
    "    telecom_dataset.query('tariff_plan == \"C\" and is_missed_call == False and internal == False')['waiting_time_one_answer'],\n",
    "    )\n",
    "\n",
    "print('p-значение:', results.pvalue)\n",
    "\n",
    "if (results.pvalue < alpha):\n",
    "    print(\"Отвергаем нулевую гипотезу\")\n",
    "else:\n",
    "    print(\"Не получилось отвергнуть нулевую гипотезу\")"
   ]
  },
  {
   "cell_type": "markdown",
   "metadata": {},
   "source": [
    "Отвергаем нулевую гипотезу о том, что время ожидания звонка тарифного плана \"B\" равно времени ожидания звонка тарифного плана \"C\""
   ]
  },
  {
   "cell_type": "markdown",
   "metadata": {},
   "source": [
    "Сравним последние два тарифных плана: \"А\" и \"С\".\n",
    "\n",
    "Сформулируем промежуточные гипотезы:\n",
    "\n",
    "Н0: время ожидания звонка тарифного плана \"А\" равно времени ожидания звонка тарифного плана \"С\"\n",
    "Н1: время ожидания звонка тарифного плана \"А\" не равно времени ожидания звонка тарифного плана \"С\""
   ]
  },
  {
   "cell_type": "code",
   "execution_count": 118,
   "metadata": {},
   "outputs": [
    {
     "name": "stdout",
     "output_type": "stream",
     "text": [
      "p-значение: 5.942055841795758e-109\n",
      "Отвергаем нулевую гипотезу\n"
     ]
    }
   ],
   "source": [
    "alpha = 0.05\n",
    "\n",
    "results = st.mannwhitneyu(\n",
    "    telecom_dataset.query('tariff_plan == \"A\" and is_missed_call == False and internal == True')['waiting_time_one_answer'], \n",
    "    telecom_dataset.query('tariff_plan == \"C\" and is_missed_call == False and internal == False')['waiting_time_one_answer'],\n",
    "    )\n",
    "\n",
    "print('p-значение:', results.pvalue)\n",
    "\n",
    "if (results.pvalue < alpha):\n",
    "    print(\"Отвергаем нулевую гипотезу\")\n",
    "else:\n",
    "    print(\"Не получилось отвергнуть нулевую гипотезу\")"
   ]
  },
  {
   "cell_type": "markdown",
   "metadata": {},
   "source": [
    "Отвергаем нулевую гипотезу о том, что время ожидания звонка тарифного плана \"A\" равно времени ожидания звонка тарифного плана \"C\""
   ]
  },
  {
   "cell_type": "markdown",
   "metadata": {},
   "source": [
    "Вывод по гипотезе 1: Время ожидания звонка зависит от тарифного плана. Нулевая гипотеза подтвердилась."
   ]
  },
  {
   "cell_type": "markdown",
   "metadata": {},
   "source": [
    "Проверим гипотезу 2\n",
    "\n",
    "- Н0: Среднее время ожидания ответа оператора равно среднему времени ожидания ответа абонента;\n",
    "- Н1: Среднее время ожидания ответа оператора не равно среднему времени ожидания ответа абонента;"
   ]
  },
  {
   "cell_type": "code",
   "execution_count": 119,
   "metadata": {},
   "outputs": [
    {
     "name": "stdout",
     "output_type": "stream",
     "text": [
      "p-значение: 2.840050424645523e-106\n",
      "Отвергаем нулевую гипотезу\n"
     ]
    }
   ],
   "source": [
    "alpha = 0.05\n",
    "\n",
    "results = st.ttest_ind(\n",
    "    telecom_dataset.query('direction == \"in\" and is_missed_call == False and internal == False')['waiting_time_one_answer'], \n",
    "    telecom_dataset.query('direction == \"out\" and is_missed_call == False and internal == False')['waiting_time_one_answer'],\\\n",
    "    equal_var = False)\n",
    "\n",
    "print('p-значение:', results.pvalue)\n",
    "\n",
    "if (results.pvalue < alpha):\n",
    "    print(\"Отвергаем нулевую гипотезу\")\n",
    "else:\n",
    "    print(\"Не получилось отвергнуть нулевую гипотезу\")"
   ]
  },
  {
   "cell_type": "markdown",
   "metadata": {},
   "source": [
    "Не удалось подтвердить гипотезу о равенстве среднего ожидания ответа на звонок между операторами и абонентами"
   ]
  },
  {
   "cell_type": "markdown",
   "metadata": {},
   "source": [
    "## Выводы и рекомендации"
   ]
  },
  {
   "cell_type": "markdown",
   "metadata": {},
   "source": [
    "Проведя исследование были получены следующие выводы:\n",
    "- 15% данных имеют пропущенные значения по столбцу id оператора. Анализ показал, что 97,5% приходится на входящие вызовы и 2,5% на исходящие. Почти 99% данных где пропущены данные - пропущенные звонки. Необходимо дать задание техническим специалистам проанализировать работу и внести корректировки для устранения данного недочета.\n",
    "- Были выделены 3 направления работы колл-центров(при этом доп. исследование показало, что зависимости между специализацией и тарифом нету):\n",
    "        * специализация на входящих звонках - 16450;\n",
    "        * специализация на исходящих звонках - 20229;\n",
    "        * специализация на смешанных звонках - 1802.\n",
    "- Были выделены пиковые дни работы операторов(по количеству звонков). Во всех случаях это последний календарный день месяца.\n",
    "- Были выявлены операторы, удовлетворяющие критериям неуспешности операторов:\n",
    "        - много пропущенных входящих вызовов - 76 операторов;\n",
    "        - долгое ожидания ответа при входящих внешних вызовах - 153 оператора;\n",
    "        - мало исходящих вызовов — в случае тех колл-центров, что специализируются на обзвонах, а не обработке входящих звонков - 93 оператора.\n",
    "- При объединении первых двух признаков, в итоговую таблицу по неэффективным операторам, принимающим входящие звонки попали 12 операторов. В итоговую таблицу неэффективных операторов с учётом вхождения их в категорию колл-центров, специализирующихся на обзвонах, попали 68 уникальных оператора.\n",
    "- При определении колл-центров, заинтересованных в результатах нашего исследования, было определено 53 клиента, которым было бы потенциально интересно ознакомиться с результатами исследования:\n",
    "        - Наиболее перспективные клиенты с id: [168252, 168187], имеющие более пяти операторов;\n",
    "        - Перспективные клиенты с id: [167521, 166520, 168225, 168073], имеющие более двух операторов;\n",
    "        - Наименее перспективные клиенты (остальные).\n",
    "- Были отвергнуты гипотезы об одинаковом времени ожидания в зависимости от выбора тарифа.\n",
    "- Были отвергнуты гипотезы о равенстве среднего ожидания ответа на звонок между операторами и абонентами.\n",
    "\n",
    "Итоговые рекомендации:\n",
    "1. Техническим специалистам поручить провести работу по устранению ошибок, приводящих к несохранению id оператора при пропущенном звонке;\n",
    "2. Провести переговоры с наиболее перспективными клиентами и перспективными клиентами на предмет получения результатов данного иследования, что может принести бОльшую прибыль. "
   ]
  }
 ],
 "metadata": {
  "ExecuteTimeLog": [
   {
    "duration": 2316,
    "start_time": "2021-12-13T12:21:18.426Z"
   },
   {
    "duration": 2909,
    "start_time": "2021-12-13T12:27:55.485Z"
   },
   {
    "duration": 321,
    "start_time": "2021-12-13T12:28:40.224Z"
   },
   {
    "duration": 6,
    "start_time": "2021-12-13T12:29:46.472Z"
   },
   {
    "duration": 300,
    "start_time": "2021-12-13T12:29:48.780Z"
   },
   {
    "duration": 28,
    "start_time": "2021-12-13T12:30:14.529Z"
   },
   {
    "duration": 8,
    "start_time": "2021-12-13T12:31:07.151Z"
   },
   {
    "duration": 22,
    "start_time": "2021-12-13T12:33:27.224Z"
   },
   {
    "duration": 18,
    "start_time": "2021-12-13T12:33:40.189Z"
   },
   {
    "duration": 17,
    "start_time": "2021-12-13T14:36:20.949Z"
   },
   {
    "duration": 8,
    "start_time": "2021-12-13T14:37:37.339Z"
   },
   {
    "duration": 14,
    "start_time": "2021-12-13T14:37:44.171Z"
   },
   {
    "duration": 26,
    "start_time": "2021-12-13T14:39:08.917Z"
   },
   {
    "duration": 347,
    "start_time": "2021-12-13T14:41:52.999Z"
   },
   {
    "duration": 8,
    "start_time": "2021-12-13T14:42:02.961Z"
   },
   {
    "duration": 24,
    "start_time": "2021-12-13T14:42:11.282Z"
   },
   {
    "duration": 7,
    "start_time": "2021-12-13T14:45:17.053Z"
   },
   {
    "duration": 12,
    "start_time": "2021-12-13T14:45:41.434Z"
   },
   {
    "duration": 11,
    "start_time": "2021-12-13T14:45:50.674Z"
   },
   {
    "duration": 44,
    "start_time": "2021-12-13T14:46:50.009Z"
   },
   {
    "duration": 11,
    "start_time": "2021-12-13T14:47:59.437Z"
   },
   {
    "duration": 28,
    "start_time": "2021-12-13T14:48:31.447Z"
   },
   {
    "duration": 8,
    "start_time": "2021-12-13T14:48:53.597Z"
   },
   {
    "duration": 28,
    "start_time": "2021-12-13T14:51:30.504Z"
   },
   {
    "duration": 8,
    "start_time": "2021-12-13T14:52:15.100Z"
   },
   {
    "duration": 8,
    "start_time": "2021-12-13T14:54:48.993Z"
   },
   {
    "duration": 881,
    "start_time": "2021-12-13T15:03:20.648Z"
   },
   {
    "duration": 5,
    "start_time": "2021-12-13T15:04:29.706Z"
   },
   {
    "duration": 30,
    "start_time": "2021-12-13T15:07:06.199Z"
   },
   {
    "duration": 280,
    "start_time": "2021-12-13T15:07:21.103Z"
   },
   {
    "duration": 35,
    "start_time": "2021-12-13T15:07:26.050Z"
   },
   {
    "duration": 55,
    "start_time": "2021-12-13T15:08:17.006Z"
   },
   {
    "duration": 25,
    "start_time": "2021-12-13T15:08:46.006Z"
   },
   {
    "duration": 12,
    "start_time": "2021-12-13T15:08:53.685Z"
   },
   {
    "duration": 15,
    "start_time": "2021-12-13T15:09:30.263Z"
   },
   {
    "duration": 15,
    "start_time": "2021-12-13T15:12:32.386Z"
   },
   {
    "duration": 20,
    "start_time": "2021-12-13T15:12:39.538Z"
   },
   {
    "duration": 264,
    "start_time": "2021-12-13T15:13:31.246Z"
   },
   {
    "duration": 12,
    "start_time": "2021-12-13T15:13:44.753Z"
   },
   {
    "duration": 276,
    "start_time": "2021-12-13T15:14:09.959Z"
   },
   {
    "duration": 8,
    "start_time": "2021-12-13T15:14:19.576Z"
   },
   {
    "duration": 10,
    "start_time": "2021-12-13T15:14:26.513Z"
   },
   {
    "duration": 9,
    "start_time": "2021-12-13T15:14:26.933Z"
   },
   {
    "duration": 7,
    "start_time": "2021-12-13T15:15:12.175Z"
   },
   {
    "duration": 7,
    "start_time": "2021-12-13T15:15:24.780Z"
   },
   {
    "duration": 23,
    "start_time": "2021-12-13T15:17:47.069Z"
   },
   {
    "duration": 23,
    "start_time": "2021-12-13T15:18:01.541Z"
   },
   {
    "duration": 17,
    "start_time": "2021-12-13T15:19:23.186Z"
   },
   {
    "duration": 484,
    "start_time": "2021-12-13T15:19:43.035Z"
   },
   {
    "duration": 581,
    "start_time": "2021-12-13T15:22:24.192Z"
   },
   {
    "duration": 22,
    "start_time": "2021-12-13T15:24:25.518Z"
   },
   {
    "duration": 8,
    "start_time": "2021-12-13T15:24:46.595Z"
   },
   {
    "duration": 14,
    "start_time": "2021-12-13T15:24:46.837Z"
   },
   {
    "duration": 14,
    "start_time": "2021-12-13T15:25:44.057Z"
   },
   {
    "duration": 238,
    "start_time": "2021-12-13T15:28:02.178Z"
   },
   {
    "duration": 48,
    "start_time": "2021-12-13T15:28:12.414Z"
   },
   {
    "duration": 21,
    "start_time": "2021-12-13T15:28:32.109Z"
   },
   {
    "duration": 729,
    "start_time": "2021-12-13T15:29:38.542Z"
   },
   {
    "duration": 329,
    "start_time": "2021-12-13T15:29:53.634Z"
   },
   {
    "duration": 17,
    "start_time": "2021-12-13T15:31:53.625Z"
   },
   {
    "duration": 20,
    "start_time": "2021-12-13T15:32:05.134Z"
   },
   {
    "duration": 21,
    "start_time": "2021-12-13T15:34:14.514Z"
   },
   {
    "duration": 13,
    "start_time": "2021-12-13T15:34:21.780Z"
   },
   {
    "duration": 269,
    "start_time": "2021-12-13T17:41:35.805Z"
   },
   {
    "duration": 16,
    "start_time": "2021-12-13T17:41:51.934Z"
   },
   {
    "duration": 39,
    "start_time": "2021-12-13T17:41:55.645Z"
   },
   {
    "duration": 100,
    "start_time": "2021-12-13T17:53:52.432Z"
   },
   {
    "duration": 8,
    "start_time": "2021-12-13T17:54:50.558Z"
   },
   {
    "duration": 9,
    "start_time": "2021-12-13T17:55:52.351Z"
   },
   {
    "duration": 56,
    "start_time": "2021-12-13T17:55:57.498Z"
   },
   {
    "duration": 21,
    "start_time": "2021-12-13T17:56:28.302Z"
   },
   {
    "duration": 15,
    "start_time": "2021-12-13T17:56:37.863Z"
   },
   {
    "duration": 8,
    "start_time": "2021-12-13T17:56:49.962Z"
   },
   {
    "duration": 20,
    "start_time": "2021-12-13T17:56:50.504Z"
   },
   {
    "duration": 14,
    "start_time": "2021-12-13T17:56:51.542Z"
   },
   {
    "duration": 2044,
    "start_time": "2021-12-13T17:56:59.323Z"
   },
   {
    "duration": 363,
    "start_time": "2021-12-13T17:57:01.370Z"
   },
   {
    "duration": 21,
    "start_time": "2021-12-13T17:57:01.737Z"
   },
   {
    "duration": 12,
    "start_time": "2021-12-13T17:57:01.762Z"
   },
   {
    "duration": 56,
    "start_time": "2021-12-13T17:57:01.777Z"
   },
   {
    "duration": 17,
    "start_time": "2021-12-13T17:57:01.835Z"
   },
   {
    "duration": 21,
    "start_time": "2021-12-13T17:57:01.855Z"
   },
   {
    "duration": 39,
    "start_time": "2021-12-13T17:57:01.878Z"
   },
   {
    "duration": 16,
    "start_time": "2021-12-13T17:57:01.922Z"
   },
   {
    "duration": 7,
    "start_time": "2021-12-13T17:57:01.941Z"
   },
   {
    "duration": 29,
    "start_time": "2021-12-13T17:57:01.950Z"
   },
   {
    "duration": 35,
    "start_time": "2021-12-13T17:57:01.982Z"
   },
   {
    "duration": 11,
    "start_time": "2021-12-13T17:57:02.020Z"
   },
   {
    "duration": 14,
    "start_time": "2021-12-13T17:57:02.033Z"
   },
   {
    "duration": 33,
    "start_time": "2021-12-13T17:57:02.049Z"
   },
   {
    "duration": 10,
    "start_time": "2021-12-13T17:57:02.118Z"
   },
   {
    "duration": 31,
    "start_time": "2021-12-13T17:57:02.130Z"
   },
   {
    "duration": 9,
    "start_time": "2021-12-13T17:57:02.164Z"
   },
   {
    "duration": 56,
    "start_time": "2021-12-13T17:57:02.175Z"
   },
   {
    "duration": 8,
    "start_time": "2021-12-13T17:57:02.233Z"
   },
   {
    "duration": 13,
    "start_time": "2021-12-13T17:57:02.244Z"
   },
   {
    "duration": 859,
    "start_time": "2021-12-13T17:57:02.259Z"
   },
   {
    "duration": 5,
    "start_time": "2021-12-13T17:57:03.121Z"
   },
   {
    "duration": 29,
    "start_time": "2021-12-13T17:57:03.128Z"
   },
   {
    "duration": 28,
    "start_time": "2021-12-13T17:57:03.160Z"
   },
   {
    "duration": 69,
    "start_time": "2021-12-13T17:57:03.190Z"
   },
   {
    "duration": 16,
    "start_time": "2021-12-13T17:57:03.264Z"
   },
   {
    "duration": 35,
    "start_time": "2021-12-13T17:57:03.283Z"
   },
   {
    "duration": 14,
    "start_time": "2021-12-13T17:57:03.321Z"
   },
   {
    "duration": 35,
    "start_time": "2021-12-13T17:57:03.337Z"
   },
   {
    "duration": 52,
    "start_time": "2021-12-13T17:57:03.374Z"
   },
   {
    "duration": 28,
    "start_time": "2021-12-13T17:57:03.429Z"
   },
   {
    "duration": 24,
    "start_time": "2021-12-13T17:57:03.460Z"
   },
   {
    "duration": 26,
    "start_time": "2021-12-13T17:57:03.487Z"
   },
   {
    "duration": 11,
    "start_time": "2021-12-13T17:57:03.515Z"
   },
   {
    "duration": 12,
    "start_time": "2021-12-13T17:57:03.529Z"
   },
   {
    "duration": 34,
    "start_time": "2021-12-13T17:57:03.544Z"
   },
   {
    "duration": 45,
    "start_time": "2021-12-13T17:57:03.580Z"
   },
   {
    "duration": 17,
    "start_time": "2021-12-13T17:57:03.627Z"
   },
   {
    "duration": 478,
    "start_time": "2021-12-13T17:57:03.646Z"
   },
   {
    "duration": 13,
    "start_time": "2021-12-13T17:57:04.127Z"
   },
   {
    "duration": 25,
    "start_time": "2021-12-13T17:57:04.142Z"
   },
   {
    "duration": 55,
    "start_time": "2021-12-13T17:57:04.170Z"
   },
   {
    "duration": 331,
    "start_time": "2021-12-13T17:57:04.227Z"
   },
   {
    "duration": 13,
    "start_time": "2021-12-13T17:57:04.561Z"
   },
   {
    "duration": 40,
    "start_time": "2021-12-13T17:57:04.577Z"
   },
   {
    "duration": 14,
    "start_time": "2021-12-13T17:57:04.620Z"
   },
   {
    "duration": 17,
    "start_time": "2021-12-13T17:57:04.636Z"
   },
   {
    "duration": 20,
    "start_time": "2021-12-13T17:57:04.655Z"
   },
   {
    "duration": 68,
    "start_time": "2021-12-13T17:57:04.678Z"
   },
   {
    "duration": 121,
    "start_time": "2021-12-13T17:57:04.748Z"
   },
   {
    "duration": 11,
    "start_time": "2021-12-13T17:57:04.872Z"
   },
   {
    "duration": 32,
    "start_time": "2021-12-13T17:57:04.885Z"
   },
   {
    "duration": 22,
    "start_time": "2021-12-13T17:57:04.920Z"
   },
   {
    "duration": 18,
    "start_time": "2021-12-13T17:57:04.945Z"
   },
   {
    "duration": 107,
    "start_time": "2021-12-13T17:58:48.719Z"
   },
   {
    "duration": 8,
    "start_time": "2021-12-13T17:58:50.372Z"
   },
   {
    "duration": 8,
    "start_time": "2021-12-13T17:58:51.286Z"
   },
   {
    "duration": 21,
    "start_time": "2021-12-13T17:58:51.774Z"
   },
   {
    "duration": 17,
    "start_time": "2021-12-13T17:58:55.838Z"
   },
   {
    "duration": 6,
    "start_time": "2021-12-13T17:59:24.935Z"
   },
   {
    "duration": 6,
    "start_time": "2021-12-13T17:59:32.723Z"
   },
   {
    "duration": 23,
    "start_time": "2021-12-13T17:59:33.715Z"
   },
   {
    "duration": 2159,
    "start_time": "2021-12-13T17:59:49.520Z"
   },
   {
    "duration": 348,
    "start_time": "2021-12-13T17:59:51.682Z"
   },
   {
    "duration": 21,
    "start_time": "2021-12-13T17:59:52.034Z"
   },
   {
    "duration": 9,
    "start_time": "2021-12-13T17:59:52.058Z"
   },
   {
    "duration": 50,
    "start_time": "2021-12-13T17:59:52.071Z"
   },
   {
    "duration": 17,
    "start_time": "2021-12-13T17:59:52.123Z"
   },
   {
    "duration": 18,
    "start_time": "2021-12-13T17:59:52.142Z"
   },
   {
    "duration": 6,
    "start_time": "2021-12-13T17:59:52.163Z"
   },
   {
    "duration": 51,
    "start_time": "2021-12-13T17:59:52.173Z"
   },
   {
    "duration": 7,
    "start_time": "2021-12-13T17:59:52.228Z"
   },
   {
    "duration": 23,
    "start_time": "2021-12-13T17:59:52.237Z"
   },
   {
    "duration": 6,
    "start_time": "2021-12-13T17:59:52.263Z"
   },
   {
    "duration": 50,
    "start_time": "2021-12-13T17:59:52.271Z"
   },
   {
    "duration": 10,
    "start_time": "2021-12-13T17:59:52.323Z"
   },
   {
    "duration": 27,
    "start_time": "2021-12-13T17:59:52.335Z"
   },
   {
    "duration": 10,
    "start_time": "2021-12-13T17:59:52.364Z"
   },
   {
    "duration": 67,
    "start_time": "2021-12-13T17:59:52.377Z"
   },
   {
    "duration": 9,
    "start_time": "2021-12-13T17:59:52.447Z"
   },
   {
    "duration": 59,
    "start_time": "2021-12-13T17:59:52.459Z"
   },
   {
    "duration": 8,
    "start_time": "2021-12-13T17:59:52.521Z"
   },
   {
    "duration": 9,
    "start_time": "2021-12-13T17:59:52.531Z"
   },
   {
    "duration": 982,
    "start_time": "2021-12-13T17:59:52.542Z"
   },
   {
    "duration": 5,
    "start_time": "2021-12-13T17:59:53.526Z"
   },
   {
    "duration": 32,
    "start_time": "2021-12-13T17:59:53.534Z"
   },
   {
    "duration": 51,
    "start_time": "2021-12-13T17:59:53.569Z"
   },
   {
    "duration": 42,
    "start_time": "2021-12-13T17:59:53.623Z"
   },
   {
    "duration": 17,
    "start_time": "2021-12-13T17:59:53.670Z"
   },
   {
    "duration": 35,
    "start_time": "2021-12-13T17:59:53.690Z"
   },
   {
    "duration": 15,
    "start_time": "2021-12-13T17:59:53.727Z"
   },
   {
    "duration": 15,
    "start_time": "2021-12-13T17:59:53.744Z"
   },
   {
    "duration": 20,
    "start_time": "2021-12-13T17:59:53.761Z"
   },
   {
    "duration": 11,
    "start_time": "2021-12-13T17:59:53.818Z"
   },
   {
    "duration": 8,
    "start_time": "2021-12-13T17:59:53.831Z"
   },
   {
    "duration": 11,
    "start_time": "2021-12-13T17:59:53.841Z"
   },
   {
    "duration": 8,
    "start_time": "2021-12-13T17:59:53.854Z"
   },
   {
    "duration": 10,
    "start_time": "2021-12-13T17:59:53.864Z"
   },
   {
    "duration": 61,
    "start_time": "2021-12-13T17:59:53.876Z"
   },
   {
    "duration": 22,
    "start_time": "2021-12-13T17:59:53.939Z"
   },
   {
    "duration": 17,
    "start_time": "2021-12-13T17:59:53.964Z"
   },
   {
    "duration": 513,
    "start_time": "2021-12-13T17:59:53.983Z"
   },
   {
    "duration": 21,
    "start_time": "2021-12-13T17:59:54.499Z"
   },
   {
    "duration": 27,
    "start_time": "2021-12-13T17:59:54.523Z"
   },
   {
    "duration": 19,
    "start_time": "2021-12-13T17:59:54.553Z"
   },
   {
    "duration": 365,
    "start_time": "2021-12-13T17:59:54.574Z"
   },
   {
    "duration": 12,
    "start_time": "2021-12-13T17:59:54.941Z"
   },
   {
    "duration": 15,
    "start_time": "2021-12-13T17:59:54.956Z"
   },
   {
    "duration": 50,
    "start_time": "2021-12-13T17:59:54.973Z"
   },
   {
    "duration": 14,
    "start_time": "2021-12-13T17:59:55.025Z"
   },
   {
    "duration": 14,
    "start_time": "2021-12-13T17:59:55.041Z"
   },
   {
    "duration": 66,
    "start_time": "2021-12-13T17:59:55.057Z"
   },
   {
    "duration": 120,
    "start_time": "2021-12-13T17:59:55.126Z"
   },
   {
    "duration": 9,
    "start_time": "2021-12-13T17:59:55.248Z"
   },
   {
    "duration": 7,
    "start_time": "2021-12-13T17:59:55.259Z"
   },
   {
    "duration": 8,
    "start_time": "2021-12-13T17:59:55.268Z"
   },
   {
    "duration": 55,
    "start_time": "2021-12-13T17:59:55.278Z"
   },
   {
    "duration": 18,
    "start_time": "2021-12-13T18:01:08.449Z"
   },
   {
    "duration": 11,
    "start_time": "2021-12-13T18:02:03.764Z"
   },
   {
    "duration": 13,
    "start_time": "2021-12-13T18:02:18.932Z"
   },
   {
    "duration": 5,
    "start_time": "2021-12-13T18:09:42.389Z"
   },
   {
    "duration": 13,
    "start_time": "2021-12-13T18:09:56.214Z"
   },
   {
    "duration": 13,
    "start_time": "2021-12-13T18:10:02.395Z"
   },
   {
    "duration": 528,
    "start_time": "2021-12-13T18:10:09.056Z"
   },
   {
    "duration": 5,
    "start_time": "2021-12-13T18:10:20.231Z"
   },
   {
    "duration": 331,
    "start_time": "2021-12-13T18:11:14.187Z"
   },
   {
    "duration": 241,
    "start_time": "2021-12-13T18:11:35.237Z"
   },
   {
    "duration": 257,
    "start_time": "2021-12-13T18:11:35.645Z"
   },
   {
    "duration": 5,
    "start_time": "2021-12-13T18:11:51.263Z"
   },
   {
    "duration": 6,
    "start_time": "2021-12-13T18:11:51.540Z"
   },
   {
    "duration": 29,
    "start_time": "2021-12-13T18:11:59.789Z"
   },
   {
    "duration": 548,
    "start_time": "2021-12-13T18:12:24.213Z"
   },
   {
    "duration": 681,
    "start_time": "2021-12-13T18:12:32.872Z"
   },
   {
    "duration": 6,
    "start_time": "2021-12-13T18:13:00.419Z"
   },
   {
    "duration": 31,
    "start_time": "2021-12-13T18:13:00.959Z"
   },
   {
    "duration": 702,
    "start_time": "2021-12-13T18:13:11.503Z"
   },
   {
    "duration": 41,
    "start_time": "2021-12-13T18:13:13.005Z"
   },
   {
    "duration": 293,
    "start_time": "2021-12-13T18:13:29.781Z"
   },
   {
    "duration": 16,
    "start_time": "2021-12-13T18:13:35.302Z"
   },
   {
    "duration": 475,
    "start_time": "2021-12-13T18:13:49.478Z"
   },
   {
    "duration": 11,
    "start_time": "2021-12-13T18:16:45.335Z"
   },
   {
    "duration": 5,
    "start_time": "2021-12-13T18:17:11.525Z"
   },
   {
    "duration": 23,
    "start_time": "2021-12-13T18:17:27.725Z"
   },
   {
    "duration": 23,
    "start_time": "2021-12-13T18:17:42.518Z"
   },
   {
    "duration": 20,
    "start_time": "2021-12-13T18:17:54.938Z"
   },
   {
    "duration": 21,
    "start_time": "2021-12-13T18:19:44.885Z"
   },
   {
    "duration": 26,
    "start_time": "2021-12-13T18:20:45.970Z"
   },
   {
    "duration": 25,
    "start_time": "2021-12-13T18:21:18.935Z"
   },
   {
    "duration": 24,
    "start_time": "2021-12-13T18:21:56.642Z"
   },
   {
    "duration": 12,
    "start_time": "2021-12-13T18:23:03.636Z"
   },
   {
    "duration": 13,
    "start_time": "2021-12-13T18:23:23.744Z"
   },
   {
    "duration": 824,
    "start_time": "2021-12-13T18:23:39.283Z"
   },
   {
    "duration": 22,
    "start_time": "2021-12-13T18:29:10.079Z"
   },
   {
    "duration": 19,
    "start_time": "2021-12-13T18:33:03.900Z"
   },
   {
    "duration": 16,
    "start_time": "2021-12-13T18:33:10.181Z"
   },
   {
    "duration": 241,
    "start_time": "2021-12-13T18:41:05.500Z"
   },
   {
    "duration": 41,
    "start_time": "2021-12-13T18:41:09.933Z"
   },
   {
    "duration": 24,
    "start_time": "2021-12-13T18:41:27.483Z"
   },
   {
    "duration": 10,
    "start_time": "2021-12-13T18:41:37.967Z"
   },
   {
    "duration": 530,
    "start_time": "2021-12-13T18:42:04.436Z"
   },
   {
    "duration": 77,
    "start_time": "2021-12-13T18:43:29.319Z"
   },
   {
    "duration": 345,
    "start_time": "2021-12-13T18:44:31.961Z"
   },
   {
    "duration": 7,
    "start_time": "2021-12-13T18:46:31.808Z"
   },
   {
    "duration": 16,
    "start_time": "2021-12-13T18:49:25.797Z"
   },
   {
    "duration": 40,
    "start_time": "2021-12-13T18:51:42.229Z"
   },
   {
    "duration": 23,
    "start_time": "2021-12-13T18:51:50.259Z"
   },
   {
    "duration": 23,
    "start_time": "2021-12-13T18:51:59.906Z"
   },
   {
    "duration": 319,
    "start_time": "2021-12-13T18:52:12.102Z"
   },
   {
    "duration": 8,
    "start_time": "2021-12-13T18:52:24.049Z"
   },
   {
    "duration": 18,
    "start_time": "2021-12-13T18:52:49.953Z"
   },
   {
    "duration": 79,
    "start_time": "2021-12-13T18:53:00.807Z"
   },
   {
    "duration": 41,
    "start_time": "2021-12-13T18:54:20.999Z"
   },
   {
    "duration": 23,
    "start_time": "2021-12-13T18:54:27.563Z"
   },
   {
    "duration": 22,
    "start_time": "2021-12-13T18:54:39.584Z"
   },
   {
    "duration": 342,
    "start_time": "2021-12-13T18:54:52.258Z"
   },
   {
    "duration": 450,
    "start_time": "2021-12-13T18:55:06.028Z"
   },
   {
    "duration": 10,
    "start_time": "2021-12-13T18:55:25.586Z"
   },
   {
    "duration": 8,
    "start_time": "2021-12-13T18:55:38.763Z"
   },
   {
    "duration": 15,
    "start_time": "2021-12-13T18:55:45.974Z"
   },
   {
    "duration": 16,
    "start_time": "2021-12-13T18:57:35.406Z"
   },
   {
    "duration": 251,
    "start_time": "2021-12-13T18:58:26.934Z"
   },
   {
    "duration": 26,
    "start_time": "2021-12-13T18:58:41.510Z"
   },
   {
    "duration": 6,
    "start_time": "2021-12-13T18:58:56.592Z"
   },
   {
    "duration": 5,
    "start_time": "2021-12-13T19:01:32.299Z"
   },
   {
    "duration": 253,
    "start_time": "2021-12-13T19:01:45.425Z"
   },
   {
    "duration": 32,
    "start_time": "2021-12-13T19:02:03.987Z"
   },
   {
    "duration": 6,
    "start_time": "2021-12-13T19:02:26.690Z"
   },
   {
    "duration": 6,
    "start_time": "2021-12-13T19:02:33.417Z"
   },
   {
    "duration": 15,
    "start_time": "2021-12-13T19:04:04.362Z"
   },
   {
    "duration": 14,
    "start_time": "2021-12-13T19:04:25.164Z"
   },
   {
    "duration": 274,
    "start_time": "2021-12-13T19:13:26.718Z"
   },
   {
    "duration": 1937,
    "start_time": "2021-12-13T19:14:10.176Z"
   },
   {
    "duration": 385,
    "start_time": "2021-12-13T19:14:12.116Z"
   },
   {
    "duration": 18,
    "start_time": "2021-12-13T19:14:12.504Z"
   },
   {
    "duration": 9,
    "start_time": "2021-12-13T19:14:12.525Z"
   },
   {
    "duration": 26,
    "start_time": "2021-12-13T19:14:12.537Z"
   },
   {
    "duration": 16,
    "start_time": "2021-12-13T19:14:12.565Z"
   },
   {
    "duration": 46,
    "start_time": "2021-12-13T19:14:12.584Z"
   },
   {
    "duration": 6,
    "start_time": "2021-12-13T19:14:12.633Z"
   },
   {
    "duration": 23,
    "start_time": "2021-12-13T19:14:12.642Z"
   },
   {
    "duration": 6,
    "start_time": "2021-12-13T19:14:12.668Z"
   },
   {
    "duration": 53,
    "start_time": "2021-12-13T19:14:12.676Z"
   },
   {
    "duration": 5,
    "start_time": "2021-12-13T19:14:12.732Z"
   },
   {
    "duration": 12,
    "start_time": "2021-12-13T19:14:12.740Z"
   },
   {
    "duration": 9,
    "start_time": "2021-12-13T19:14:12.755Z"
   },
   {
    "duration": 67,
    "start_time": "2021-12-13T19:14:12.766Z"
   },
   {
    "duration": 9,
    "start_time": "2021-12-13T19:14:12.836Z"
   },
   {
    "duration": 27,
    "start_time": "2021-12-13T19:14:12.848Z"
   },
   {
    "duration": 42,
    "start_time": "2021-12-13T19:14:12.877Z"
   },
   {
    "duration": 27,
    "start_time": "2021-12-13T19:14:12.921Z"
   },
   {
    "duration": 8,
    "start_time": "2021-12-13T19:14:12.951Z"
   },
   {
    "duration": 8,
    "start_time": "2021-12-13T19:14:12.962Z"
   },
   {
    "duration": 858,
    "start_time": "2021-12-13T19:14:12.972Z"
   },
   {
    "duration": 5,
    "start_time": "2021-12-13T19:14:13.837Z"
   },
   {
    "duration": 24,
    "start_time": "2021-12-13T19:14:13.845Z"
   },
   {
    "duration": 56,
    "start_time": "2021-12-13T19:14:13.871Z"
   },
   {
    "duration": 40,
    "start_time": "2021-12-13T19:14:13.929Z"
   },
   {
    "duration": 17,
    "start_time": "2021-12-13T19:14:13.972Z"
   },
   {
    "duration": 30,
    "start_time": "2021-12-13T19:14:13.991Z"
   },
   {
    "duration": 15,
    "start_time": "2021-12-13T19:14:14.023Z"
   },
   {
    "duration": 18,
    "start_time": "2021-12-13T19:14:14.040Z"
   },
   {
    "duration": 19,
    "start_time": "2021-12-13T19:14:14.060Z"
   },
   {
    "duration": 10,
    "start_time": "2021-12-13T19:14:14.117Z"
   },
   {
    "duration": 8,
    "start_time": "2021-12-13T19:14:14.129Z"
   },
   {
    "duration": 8,
    "start_time": "2021-12-13T19:14:14.139Z"
   },
   {
    "duration": 7,
    "start_time": "2021-12-13T19:14:14.149Z"
   },
   {
    "duration": 10,
    "start_time": "2021-12-13T19:14:14.158Z"
   },
   {
    "duration": 68,
    "start_time": "2021-12-13T19:14:14.170Z"
   },
   {
    "duration": 21,
    "start_time": "2021-12-13T19:14:14.240Z"
   },
   {
    "duration": 15,
    "start_time": "2021-12-13T19:14:14.263Z"
   },
   {
    "duration": 494,
    "start_time": "2021-12-13T19:14:14.281Z"
   },
   {
    "duration": 11,
    "start_time": "2021-12-13T19:14:14.777Z"
   },
   {
    "duration": 42,
    "start_time": "2021-12-13T19:14:14.791Z"
   },
   {
    "duration": 17,
    "start_time": "2021-12-13T19:14:14.835Z"
   },
   {
    "duration": 363,
    "start_time": "2021-12-13T19:14:14.854Z"
   },
   {
    "duration": 12,
    "start_time": "2021-12-13T19:14:15.219Z"
   },
   {
    "duration": 16,
    "start_time": "2021-12-13T19:14:15.234Z"
   },
   {
    "duration": 14,
    "start_time": "2021-12-13T19:14:15.252Z"
   },
   {
    "duration": 50,
    "start_time": "2021-12-13T19:14:15.268Z"
   },
   {
    "duration": 13,
    "start_time": "2021-12-13T19:14:15.321Z"
   },
   {
    "duration": 35,
    "start_time": "2021-12-13T19:14:15.336Z"
   },
   {
    "duration": 172,
    "start_time": "2021-12-13T19:14:15.374Z"
   },
   {
    "duration": 8,
    "start_time": "2021-12-13T19:14:15.549Z"
   },
   {
    "duration": 6,
    "start_time": "2021-12-13T19:14:15.559Z"
   },
   {
    "duration": 9,
    "start_time": "2021-12-13T19:14:15.567Z"
   },
   {
    "duration": 47,
    "start_time": "2021-12-13T19:14:15.579Z"
   },
   {
    "duration": 16,
    "start_time": "2021-12-13T19:14:15.628Z"
   },
   {
    "duration": 16,
    "start_time": "2021-12-13T19:14:15.647Z"
   },
   {
    "duration": 5,
    "start_time": "2021-12-13T19:14:15.666Z"
   },
   {
    "duration": 53,
    "start_time": "2021-12-13T19:14:15.673Z"
   },
   {
    "duration": 16,
    "start_time": "2021-12-13T19:14:15.728Z"
   },
   {
    "duration": 6,
    "start_time": "2021-12-13T19:14:15.747Z"
   },
   {
    "duration": 5,
    "start_time": "2021-12-13T19:14:15.756Z"
   },
   {
    "duration": 7,
    "start_time": "2021-12-13T19:14:15.763Z"
   },
   {
    "duration": 45,
    "start_time": "2021-12-13T19:14:15.772Z"
   },
   {
    "duration": 817,
    "start_time": "2021-12-13T19:14:15.820Z"
   },
   {
    "duration": 29,
    "start_time": "2021-12-13T19:14:16.639Z"
   },
   {
    "duration": 17,
    "start_time": "2021-12-13T19:14:16.670Z"
   },
   {
    "duration": 483,
    "start_time": "2021-12-13T19:14:16.721Z"
   },
   {
    "duration": 16,
    "start_time": "2021-12-13T19:14:17.208Z"
   },
   {
    "duration": 7,
    "start_time": "2021-12-13T19:14:17.226Z"
   },
   {
    "duration": 22,
    "start_time": "2021-12-13T19:14:17.235Z"
   },
   {
    "duration": 20,
    "start_time": "2021-12-13T19:14:17.260Z"
   },
   {
    "duration": 22,
    "start_time": "2021-12-13T19:14:17.317Z"
   },
   {
    "duration": 18,
    "start_time": "2021-12-13T19:14:17.341Z"
   },
   {
    "duration": 56,
    "start_time": "2021-12-13T19:14:17.361Z"
   },
   {
    "duration": 25,
    "start_time": "2021-12-13T19:14:17.420Z"
   },
   {
    "duration": 23,
    "start_time": "2021-12-13T19:14:17.447Z"
   },
   {
    "duration": 14,
    "start_time": "2021-12-13T19:14:17.472Z"
   },
   {
    "duration": 802,
    "start_time": "2021-12-13T19:14:17.518Z"
   },
   {
    "duration": 21,
    "start_time": "2021-12-13T19:14:18.322Z"
   },
   {
    "duration": 19,
    "start_time": "2021-12-13T19:14:18.345Z"
   },
   {
    "duration": 50,
    "start_time": "2021-12-13T19:14:18.366Z"
   },
   {
    "duration": 40,
    "start_time": "2021-12-13T19:14:18.418Z"
   },
   {
    "duration": 23,
    "start_time": "2021-12-13T19:14:18.460Z"
   },
   {
    "duration": 39,
    "start_time": "2021-12-13T19:14:18.486Z"
   },
   {
    "duration": 333,
    "start_time": "2021-12-13T19:14:18.528Z"
   },
   {
    "duration": 7,
    "start_time": "2021-12-13T19:14:18.864Z"
   },
   {
    "duration": 17,
    "start_time": "2021-12-13T19:14:18.874Z"
   },
   {
    "duration": 42,
    "start_time": "2021-12-13T19:14:18.918Z"
   },
   {
    "duration": 25,
    "start_time": "2021-12-13T19:14:18.963Z"
   },
   {
    "duration": 24,
    "start_time": "2021-12-13T19:14:19.018Z"
   },
   {
    "duration": 338,
    "start_time": "2021-12-13T19:14:19.045Z"
   },
   {
    "duration": 7,
    "start_time": "2021-12-13T19:14:19.385Z"
   },
   {
    "duration": 32,
    "start_time": "2021-12-13T19:14:19.394Z"
   },
   {
    "duration": 41,
    "start_time": "2021-12-13T19:14:19.428Z"
   },
   {
    "duration": 47,
    "start_time": "2021-12-13T19:14:19.471Z"
   },
   {
    "duration": 21,
    "start_time": "2021-12-13T19:14:19.521Z"
   },
   {
    "duration": 361,
    "start_time": "2021-12-13T19:14:19.545Z"
   },
   {
    "duration": 12,
    "start_time": "2021-12-13T19:14:19.909Z"
   },
   {
    "duration": 20,
    "start_time": "2021-12-13T19:14:19.923Z"
   },
   {
    "duration": 27,
    "start_time": "2021-12-13T19:14:19.945Z"
   },
   {
    "duration": 51,
    "start_time": "2021-12-13T19:14:19.974Z"
   },
   {
    "duration": 6,
    "start_time": "2021-12-13T19:14:20.028Z"
   },
   {
    "duration": 33,
    "start_time": "2021-12-13T19:14:20.036Z"
   },
   {
    "duration": 88,
    "start_time": "2021-12-13T19:14:20.072Z"
   },
   {
    "duration": 6,
    "start_time": "2021-12-13T19:14:20.162Z"
   },
   {
    "duration": 7,
    "start_time": "2021-12-13T19:14:20.170Z"
   },
   {
    "duration": 39,
    "start_time": "2021-12-13T19:14:20.180Z"
   },
   {
    "duration": 14,
    "start_time": "2021-12-13T19:14:20.222Z"
   },
   {
    "duration": 435,
    "start_time": "2021-12-13T19:14:20.239Z"
   },
   {
    "duration": 13,
    "start_time": "2021-12-13T19:14:49.506Z"
   },
   {
    "duration": 13,
    "start_time": "2021-12-13T19:15:32.201Z"
   },
   {
    "duration": 16,
    "start_time": "2021-12-13T19:15:38.156Z"
   },
   {
    "duration": 23,
    "start_time": "2021-12-13T19:18:27.372Z"
   },
   {
    "duration": 25,
    "start_time": "2021-12-13T19:20:06.127Z"
   },
   {
    "duration": 25,
    "start_time": "2021-12-13T19:21:03.407Z"
   },
   {
    "duration": 273,
    "start_time": "2021-12-13T19:23:13.490Z"
   },
   {
    "duration": 25,
    "start_time": "2021-12-13T19:23:25.114Z"
   },
   {
    "duration": 1590,
    "start_time": "2021-12-14T09:23:02.318Z"
   },
   {
    "duration": 304,
    "start_time": "2021-12-14T09:23:03.910Z"
   },
   {
    "duration": 14,
    "start_time": "2021-12-14T09:23:04.216Z"
   },
   {
    "duration": 7,
    "start_time": "2021-12-14T09:23:04.232Z"
   },
   {
    "duration": 23,
    "start_time": "2021-12-14T09:23:04.241Z"
   },
   {
    "duration": 13,
    "start_time": "2021-12-14T09:23:04.266Z"
   },
   {
    "duration": 12,
    "start_time": "2021-12-14T09:23:04.281Z"
   },
   {
    "duration": 4,
    "start_time": "2021-12-14T09:23:04.296Z"
   },
   {
    "duration": 31,
    "start_time": "2021-12-14T09:23:04.303Z"
   },
   {
    "duration": 5,
    "start_time": "2021-12-14T09:23:04.336Z"
   },
   {
    "duration": 33,
    "start_time": "2021-12-14T09:23:04.343Z"
   },
   {
    "duration": 4,
    "start_time": "2021-12-14T09:23:04.378Z"
   },
   {
    "duration": 11,
    "start_time": "2021-12-14T09:23:04.384Z"
   },
   {
    "duration": 9,
    "start_time": "2021-12-14T09:23:04.396Z"
   },
   {
    "duration": 19,
    "start_time": "2021-12-14T09:23:04.407Z"
   },
   {
    "duration": 37,
    "start_time": "2021-12-14T09:23:04.428Z"
   },
   {
    "duration": 18,
    "start_time": "2021-12-14T09:23:04.467Z"
   },
   {
    "duration": 7,
    "start_time": "2021-12-14T09:23:04.487Z"
   },
   {
    "duration": 20,
    "start_time": "2021-12-14T09:23:04.495Z"
   },
   {
    "duration": 6,
    "start_time": "2021-12-14T09:23:04.517Z"
   },
   {
    "duration": 40,
    "start_time": "2021-12-14T09:23:04.524Z"
   },
   {
    "duration": 454,
    "start_time": "2021-12-14T09:23:04.566Z"
   },
   {
    "duration": 4,
    "start_time": "2021-12-14T09:23:05.024Z"
   },
   {
    "duration": 52,
    "start_time": "2021-12-14T09:23:05.030Z"
   },
   {
    "duration": 33,
    "start_time": "2021-12-14T09:23:05.084Z"
   },
   {
    "duration": 42,
    "start_time": "2021-12-14T09:23:05.119Z"
   },
   {
    "duration": 14,
    "start_time": "2021-12-14T09:23:05.163Z"
   },
   {
    "duration": 17,
    "start_time": "2021-12-14T09:23:05.179Z"
   },
   {
    "duration": 10,
    "start_time": "2021-12-14T09:23:05.198Z"
   },
   {
    "duration": 24,
    "start_time": "2021-12-14T09:23:05.209Z"
   },
   {
    "duration": 12,
    "start_time": "2021-12-14T09:23:05.235Z"
   },
   {
    "duration": 15,
    "start_time": "2021-12-14T09:23:05.249Z"
   },
   {
    "duration": 6,
    "start_time": "2021-12-14T09:23:05.266Z"
   },
   {
    "duration": 8,
    "start_time": "2021-12-14T09:23:05.274Z"
   },
   {
    "duration": 7,
    "start_time": "2021-12-14T09:23:05.284Z"
   },
   {
    "duration": 10,
    "start_time": "2021-12-14T09:23:05.293Z"
   },
   {
    "duration": 27,
    "start_time": "2021-12-14T09:23:05.305Z"
   },
   {
    "duration": 33,
    "start_time": "2021-12-14T09:23:05.333Z"
   },
   {
    "duration": 12,
    "start_time": "2021-12-14T09:23:05.368Z"
   },
   {
    "duration": 290,
    "start_time": "2021-12-14T09:23:05.382Z"
   },
   {
    "duration": 10,
    "start_time": "2021-12-14T09:23:05.674Z"
   },
   {
    "duration": 19,
    "start_time": "2021-12-14T09:23:05.685Z"
   },
   {
    "duration": 13,
    "start_time": "2021-12-14T09:23:05.706Z"
   },
   {
    "duration": 220,
    "start_time": "2021-12-14T09:23:05.720Z"
   },
   {
    "duration": 9,
    "start_time": "2021-12-14T09:23:05.942Z"
   },
   {
    "duration": 15,
    "start_time": "2021-12-14T09:23:05.953Z"
   },
   {
    "duration": 12,
    "start_time": "2021-12-14T09:23:05.970Z"
   },
   {
    "duration": 10,
    "start_time": "2021-12-14T09:23:05.984Z"
   },
   {
    "duration": 10,
    "start_time": "2021-12-14T09:23:05.996Z"
   },
   {
    "duration": 56,
    "start_time": "2021-12-14T09:23:06.008Z"
   },
   {
    "duration": 70,
    "start_time": "2021-12-14T09:23:06.066Z"
   },
   {
    "duration": 25,
    "start_time": "2021-12-14T09:23:06.138Z"
   },
   {
    "duration": 6,
    "start_time": "2021-12-14T09:23:06.167Z"
   },
   {
    "duration": 23,
    "start_time": "2021-12-14T09:23:06.174Z"
   },
   {
    "duration": 13,
    "start_time": "2021-12-14T09:23:06.199Z"
   },
   {
    "duration": 17,
    "start_time": "2021-12-14T09:23:06.214Z"
   },
   {
    "duration": 10,
    "start_time": "2021-12-14T09:23:06.233Z"
   },
   {
    "duration": 18,
    "start_time": "2021-12-14T09:23:06.245Z"
   },
   {
    "duration": 10,
    "start_time": "2021-12-14T09:23:06.265Z"
   },
   {
    "duration": 20,
    "start_time": "2021-12-14T09:23:06.277Z"
   },
   {
    "duration": 8,
    "start_time": "2021-12-14T09:23:06.299Z"
   },
   {
    "duration": 5,
    "start_time": "2021-12-14T09:23:06.309Z"
   },
   {
    "duration": 13,
    "start_time": "2021-12-14T09:23:06.316Z"
   },
   {
    "duration": 9,
    "start_time": "2021-12-14T09:23:06.332Z"
   },
   {
    "duration": 503,
    "start_time": "2021-12-14T09:23:06.342Z"
   },
   {
    "duration": 30,
    "start_time": "2021-12-14T09:23:06.846Z"
   },
   {
    "duration": 13,
    "start_time": "2021-12-14T09:23:06.878Z"
   },
   {
    "duration": 298,
    "start_time": "2021-12-14T09:23:06.899Z"
   },
   {
    "duration": 8,
    "start_time": "2021-12-14T09:23:07.200Z"
   },
   {
    "duration": 6,
    "start_time": "2021-12-14T09:23:07.210Z"
   },
   {
    "duration": 23,
    "start_time": "2021-12-14T09:23:07.218Z"
   },
   {
    "duration": 17,
    "start_time": "2021-12-14T09:23:07.263Z"
   },
   {
    "duration": 17,
    "start_time": "2021-12-14T09:23:07.282Z"
   },
   {
    "duration": 15,
    "start_time": "2021-12-14T09:23:07.301Z"
   },
   {
    "duration": 46,
    "start_time": "2021-12-14T09:23:07.318Z"
   },
   {
    "duration": 17,
    "start_time": "2021-12-14T09:23:07.366Z"
   },
   {
    "duration": 15,
    "start_time": "2021-12-14T09:23:07.384Z"
   },
   {
    "duration": 10,
    "start_time": "2021-12-14T09:23:07.401Z"
   },
   {
    "duration": 504,
    "start_time": "2021-12-14T09:23:07.413Z"
   },
   {
    "duration": 16,
    "start_time": "2021-12-14T09:23:07.919Z"
   },
   {
    "duration": 37,
    "start_time": "2021-12-14T09:23:07.937Z"
   },
   {
    "duration": 12,
    "start_time": "2021-12-14T09:23:07.977Z"
   },
   {
    "duration": 27,
    "start_time": "2021-12-14T09:23:07.990Z"
   },
   {
    "duration": 46,
    "start_time": "2021-12-14T09:23:08.019Z"
   },
   {
    "duration": 8,
    "start_time": "2021-12-14T09:23:08.068Z"
   },
   {
    "duration": 230,
    "start_time": "2021-12-14T09:23:08.077Z"
   },
   {
    "duration": 6,
    "start_time": "2021-12-14T09:23:08.309Z"
   },
   {
    "duration": 23,
    "start_time": "2021-12-14T09:23:08.317Z"
   },
   {
    "duration": 35,
    "start_time": "2021-12-14T09:23:08.342Z"
   },
   {
    "duration": 19,
    "start_time": "2021-12-14T09:23:08.379Z"
   },
   {
    "duration": 20,
    "start_time": "2021-12-14T09:23:08.400Z"
   },
   {
    "duration": 213,
    "start_time": "2021-12-14T09:23:08.422Z"
   },
   {
    "duration": 5,
    "start_time": "2021-12-14T09:23:08.637Z"
   },
   {
    "duration": 22,
    "start_time": "2021-12-14T09:23:08.644Z"
   },
   {
    "duration": 25,
    "start_time": "2021-12-14T09:23:08.668Z"
   },
   {
    "duration": 28,
    "start_time": "2021-12-14T09:23:08.695Z"
   },
   {
    "duration": 38,
    "start_time": "2021-12-14T09:23:08.725Z"
   },
   {
    "duration": 277,
    "start_time": "2021-12-14T09:23:08.765Z"
   },
   {
    "duration": 22,
    "start_time": "2021-12-14T09:23:09.044Z"
   },
   {
    "duration": 26,
    "start_time": "2021-12-14T09:23:09.068Z"
   },
   {
    "duration": 36,
    "start_time": "2021-12-14T09:23:09.095Z"
   },
   {
    "duration": 28,
    "start_time": "2021-12-14T09:23:09.133Z"
   },
   {
    "duration": 4,
    "start_time": "2021-12-14T09:23:09.163Z"
   },
   {
    "duration": 6,
    "start_time": "2021-12-14T09:23:09.169Z"
   },
   {
    "duration": 24,
    "start_time": "2021-12-14T09:23:09.177Z"
   },
   {
    "duration": 4,
    "start_time": "2021-12-14T09:23:09.203Z"
   },
   {
    "duration": 7,
    "start_time": "2021-12-14T09:23:09.209Z"
   },
   {
    "duration": 15,
    "start_time": "2021-12-14T09:23:09.217Z"
   },
   {
    "duration": 36,
    "start_time": "2021-12-14T09:23:09.233Z"
   },
   {
    "duration": 13,
    "start_time": "2021-12-14T09:23:09.271Z"
   },
   {
    "duration": 12,
    "start_time": "2021-12-14T09:23:09.286Z"
   },
   {
    "duration": 14,
    "start_time": "2021-12-14T09:23:09.300Z"
   },
   {
    "duration": 18,
    "start_time": "2021-12-14T09:23:09.316Z"
   },
   {
    "duration": 18,
    "start_time": "2021-12-14T09:23:09.364Z"
   },
   {
    "duration": 19,
    "start_time": "2021-12-14T09:23:09.384Z"
   },
   {
    "duration": 21,
    "start_time": "2021-12-14T09:23:09.405Z"
   },
   {
    "duration": 278,
    "start_time": "2021-12-14T09:55:57.411Z"
   },
   {
    "duration": 413,
    "start_time": "2021-12-14T10:12:08.332Z"
   },
   {
    "duration": 323,
    "start_time": "2021-12-14T10:15:58.244Z"
   },
   {
    "duration": 79,
    "start_time": "2021-12-14T10:27:48.837Z"
   },
   {
    "duration": 1578,
    "start_time": "2021-12-14T10:28:12.693Z"
   },
   {
    "duration": 384,
    "start_time": "2021-12-14T10:28:14.274Z"
   },
   {
    "duration": 17,
    "start_time": "2021-12-14T10:28:14.661Z"
   },
   {
    "duration": 8,
    "start_time": "2021-12-14T10:28:14.680Z"
   },
   {
    "duration": 25,
    "start_time": "2021-12-14T10:28:14.690Z"
   },
   {
    "duration": 18,
    "start_time": "2021-12-14T10:28:14.717Z"
   },
   {
    "duration": 32,
    "start_time": "2021-12-14T10:28:14.737Z"
   },
   {
    "duration": 5,
    "start_time": "2021-12-14T10:28:14.772Z"
   },
   {
    "duration": 12,
    "start_time": "2021-12-14T10:28:14.779Z"
   },
   {
    "duration": 4,
    "start_time": "2021-12-14T10:28:14.793Z"
   },
   {
    "duration": 17,
    "start_time": "2021-12-14T10:28:14.799Z"
   },
   {
    "duration": 6,
    "start_time": "2021-12-14T10:28:14.818Z"
   },
   {
    "duration": 46,
    "start_time": "2021-12-14T10:28:14.825Z"
   },
   {
    "duration": 7,
    "start_time": "2021-12-14T10:28:14.872Z"
   },
   {
    "duration": 18,
    "start_time": "2021-12-14T10:28:14.881Z"
   },
   {
    "duration": 7,
    "start_time": "2021-12-14T10:28:14.901Z"
   },
   {
    "duration": 19,
    "start_time": "2021-12-14T10:28:14.909Z"
   },
   {
    "duration": 39,
    "start_time": "2021-12-14T10:28:14.929Z"
   },
   {
    "duration": 20,
    "start_time": "2021-12-14T10:28:14.969Z"
   },
   {
    "duration": 7,
    "start_time": "2021-12-14T10:28:14.991Z"
   },
   {
    "duration": 20,
    "start_time": "2021-12-14T10:28:15.000Z"
   },
   {
    "duration": 780,
    "start_time": "2021-12-14T10:28:15.022Z"
   },
   {
    "duration": 4,
    "start_time": "2021-12-14T10:28:15.808Z"
   },
   {
    "duration": 22,
    "start_time": "2021-12-14T10:28:15.816Z"
   },
   {
    "duration": 35,
    "start_time": "2021-12-14T10:28:15.840Z"
   },
   {
    "duration": 28,
    "start_time": "2021-12-14T10:28:15.876Z"
   },
   {
    "duration": 11,
    "start_time": "2021-12-14T10:28:15.906Z"
   },
   {
    "duration": 17,
    "start_time": "2021-12-14T10:28:15.918Z"
   },
   {
    "duration": 31,
    "start_time": "2021-12-14T10:28:15.937Z"
   },
   {
    "duration": 13,
    "start_time": "2021-12-14T10:28:15.970Z"
   },
   {
    "duration": 12,
    "start_time": "2021-12-14T10:28:15.985Z"
   },
   {
    "duration": 10,
    "start_time": "2021-12-14T10:28:15.999Z"
   },
   {
    "duration": 7,
    "start_time": "2021-12-14T10:28:16.011Z"
   },
   {
    "duration": 8,
    "start_time": "2021-12-14T10:28:16.020Z"
   },
   {
    "duration": 35,
    "start_time": "2021-12-14T10:28:16.029Z"
   },
   {
    "duration": 8,
    "start_time": "2021-12-14T10:28:16.066Z"
   },
   {
    "duration": 21,
    "start_time": "2021-12-14T10:28:16.076Z"
   },
   {
    "duration": 14,
    "start_time": "2021-12-14T10:28:16.099Z"
   },
   {
    "duration": 11,
    "start_time": "2021-12-14T10:28:16.114Z"
   },
   {
    "duration": 300,
    "start_time": "2021-12-14T10:28:16.127Z"
   },
   {
    "duration": 10,
    "start_time": "2021-12-14T10:28:16.429Z"
   },
   {
    "duration": 36,
    "start_time": "2021-12-14T10:28:16.440Z"
   },
   {
    "duration": 12,
    "start_time": "2021-12-14T10:28:16.478Z"
   },
   {
    "duration": 196,
    "start_time": "2021-12-14T10:28:16.492Z"
   },
   {
    "duration": 8,
    "start_time": "2021-12-14T10:28:16.690Z"
   },
   {
    "duration": 11,
    "start_time": "2021-12-14T10:28:16.700Z"
   },
   {
    "duration": 14,
    "start_time": "2021-12-14T10:28:16.713Z"
   },
   {
    "duration": 35,
    "start_time": "2021-12-14T10:28:16.729Z"
   },
   {
    "duration": 11,
    "start_time": "2021-12-14T10:28:16.766Z"
   },
   {
    "duration": 22,
    "start_time": "2021-12-14T10:28:16.779Z"
   },
   {
    "duration": 95,
    "start_time": "2021-12-14T10:28:16.803Z"
   },
   {
    "duration": 7,
    "start_time": "2021-12-14T10:28:16.900Z"
   },
   {
    "duration": 4,
    "start_time": "2021-12-14T10:28:16.909Z"
   },
   {
    "duration": 8,
    "start_time": "2021-12-14T10:28:16.915Z"
   },
   {
    "duration": 13,
    "start_time": "2021-12-14T10:28:16.924Z"
   },
   {
    "duration": 33,
    "start_time": "2021-12-14T10:28:16.938Z"
   },
   {
    "duration": 9,
    "start_time": "2021-12-14T10:28:16.973Z"
   },
   {
    "duration": 3,
    "start_time": "2021-12-14T10:28:16.984Z"
   },
   {
    "duration": 15,
    "start_time": "2021-12-14T10:28:16.989Z"
   },
   {
    "duration": 12,
    "start_time": "2021-12-14T10:28:17.006Z"
   },
   {
    "duration": 8,
    "start_time": "2021-12-14T10:28:17.020Z"
   },
   {
    "duration": 10,
    "start_time": "2021-12-14T10:28:17.030Z"
   },
   {
    "duration": 4,
    "start_time": "2021-12-14T10:28:17.064Z"
   },
   {
    "duration": 7,
    "start_time": "2021-12-14T10:28:17.070Z"
   },
   {
    "duration": 822,
    "start_time": "2021-12-14T10:28:17.079Z"
   },
   {
    "duration": 27,
    "start_time": "2021-12-14T10:28:17.903Z"
   },
   {
    "duration": 31,
    "start_time": "2021-12-14T10:28:17.932Z"
   },
   {
    "duration": 405,
    "start_time": "2021-12-14T10:28:17.972Z"
   },
   {
    "duration": 13,
    "start_time": "2021-12-14T10:28:18.380Z"
   },
   {
    "duration": 5,
    "start_time": "2021-12-14T10:28:18.395Z"
   },
   {
    "duration": 24,
    "start_time": "2021-12-14T10:28:18.402Z"
   },
   {
    "duration": 45,
    "start_time": "2021-12-14T10:28:18.428Z"
   },
   {
    "duration": 17,
    "start_time": "2021-12-14T10:28:18.476Z"
   },
   {
    "duration": 16,
    "start_time": "2021-12-14T10:28:18.495Z"
   },
   {
    "duration": 18,
    "start_time": "2021-12-14T10:28:18.513Z"
   },
   {
    "duration": 41,
    "start_time": "2021-12-14T10:28:18.533Z"
   },
   {
    "duration": 16,
    "start_time": "2021-12-14T10:28:18.577Z"
   },
   {
    "duration": 14,
    "start_time": "2021-12-14T10:28:18.595Z"
   },
   {
    "duration": 486,
    "start_time": "2021-12-14T10:28:18.611Z"
   },
   {
    "duration": 15,
    "start_time": "2021-12-14T10:28:19.099Z"
   },
   {
    "duration": 18,
    "start_time": "2021-12-14T10:28:19.116Z"
   },
   {
    "duration": 38,
    "start_time": "2021-12-14T10:28:19.135Z"
   },
   {
    "duration": 62,
    "start_time": "2021-12-14T10:28:19.175Z"
   },
   {
    "duration": 16,
    "start_time": "2021-12-14T10:28:19.239Z"
   },
   {
    "duration": 7,
    "start_time": "2021-12-14T10:28:19.257Z"
   },
   {
    "duration": 207,
    "start_time": "2021-12-14T10:28:19.265Z"
   },
   {
    "duration": 6,
    "start_time": "2021-12-14T10:28:19.474Z"
   },
   {
    "duration": 18,
    "start_time": "2021-12-14T10:28:19.481Z"
   },
   {
    "duration": 289,
    "start_time": "2021-12-14T10:28:19.501Z"
   },
   {
    "duration": 30,
    "start_time": "2021-12-14T10:28:19.793Z"
   },
   {
    "duration": 15,
    "start_time": "2021-12-14T10:28:19.825Z"
   },
   {
    "duration": 37,
    "start_time": "2021-12-14T10:28:19.842Z"
   },
   {
    "duration": 201,
    "start_time": "2021-12-14T10:28:19.881Z"
   },
   {
    "duration": 6,
    "start_time": "2021-12-14T10:28:20.084Z"
   },
   {
    "duration": 16,
    "start_time": "2021-12-14T10:28:20.092Z"
   },
   {
    "duration": 331,
    "start_time": "2021-12-14T10:28:20.110Z"
   },
   {
    "duration": 35,
    "start_time": "2021-12-14T10:28:20.443Z"
   },
   {
    "duration": 17,
    "start_time": "2021-12-14T10:28:20.480Z"
   },
   {
    "duration": 14,
    "start_time": "2021-12-14T10:28:20.499Z"
   },
   {
    "duration": 315,
    "start_time": "2021-12-14T10:28:20.515Z"
   },
   {
    "duration": 6,
    "start_time": "2021-12-14T10:28:20.831Z"
   },
   {
    "duration": 27,
    "start_time": "2021-12-14T10:28:20.839Z"
   },
   {
    "duration": 339,
    "start_time": "2021-12-14T10:28:20.867Z"
   },
   {
    "duration": 12,
    "start_time": "2021-12-14T10:28:21.208Z"
   },
   {
    "duration": 18,
    "start_time": "2021-12-14T10:28:21.222Z"
   },
   {
    "duration": 23,
    "start_time": "2021-12-14T10:28:21.242Z"
   },
   {
    "duration": 4,
    "start_time": "2021-12-14T10:28:21.267Z"
   },
   {
    "duration": 25,
    "start_time": "2021-12-14T10:28:21.273Z"
   },
   {
    "duration": 5,
    "start_time": "2021-12-14T10:28:21.300Z"
   },
   {
    "duration": 5,
    "start_time": "2021-12-14T10:28:21.307Z"
   },
   {
    "duration": 53,
    "start_time": "2021-12-14T10:28:21.314Z"
   },
   {
    "duration": 12,
    "start_time": "2021-12-14T10:28:21.369Z"
   },
   {
    "duration": 11,
    "start_time": "2021-12-14T10:28:21.383Z"
   },
   {
    "duration": 8,
    "start_time": "2021-12-14T10:28:21.396Z"
   },
   {
    "duration": 9,
    "start_time": "2021-12-14T10:28:21.405Z"
   },
   {
    "duration": 16,
    "start_time": "2021-12-14T10:28:21.416Z"
   },
   {
    "duration": 16,
    "start_time": "2021-12-14T10:28:21.464Z"
   },
   {
    "duration": 15,
    "start_time": "2021-12-14T10:28:21.482Z"
   },
   {
    "duration": 17,
    "start_time": "2021-12-14T10:28:21.498Z"
   },
   {
    "duration": 82,
    "start_time": "2021-12-14T10:30:31.898Z"
   },
   {
    "duration": 45541,
    "start_time": "2021-12-15T09:14:31.353Z"
   },
   {
    "duration": 88,
    "start_time": "2021-12-15T09:15:16.896Z"
   },
   {
    "duration": 13,
    "start_time": "2021-12-15T09:15:16.986Z"
   },
   {
    "duration": 9,
    "start_time": "2021-12-15T09:15:17.001Z"
   },
   {
    "duration": 20,
    "start_time": "2021-12-15T09:15:17.012Z"
   },
   {
    "duration": 13,
    "start_time": "2021-12-15T09:15:17.034Z"
   },
   {
    "duration": 10,
    "start_time": "2021-12-15T09:15:17.063Z"
   },
   {
    "duration": 4,
    "start_time": "2021-12-15T09:15:17.076Z"
   },
   {
    "duration": 18,
    "start_time": "2021-12-15T09:15:17.082Z"
   },
   {
    "duration": 5,
    "start_time": "2021-12-15T09:15:17.102Z"
   },
   {
    "duration": 18,
    "start_time": "2021-12-15T09:15:17.108Z"
   },
   {
    "duration": 5,
    "start_time": "2021-12-15T09:15:17.128Z"
   },
   {
    "duration": 34,
    "start_time": "2021-12-15T09:15:17.135Z"
   },
   {
    "duration": 7,
    "start_time": "2021-12-15T09:15:17.171Z"
   },
   {
    "duration": 21,
    "start_time": "2021-12-15T09:15:17.180Z"
   },
   {
    "duration": 7,
    "start_time": "2021-12-15T09:15:17.203Z"
   },
   {
    "duration": 22,
    "start_time": "2021-12-15T09:15:17.212Z"
   },
   {
    "duration": 32,
    "start_time": "2021-12-15T09:15:17.236Z"
   },
   {
    "duration": 19,
    "start_time": "2021-12-15T09:15:17.269Z"
   },
   {
    "duration": 5,
    "start_time": "2021-12-15T09:15:17.289Z"
   },
   {
    "duration": 14,
    "start_time": "2021-12-15T09:15:17.296Z"
   },
   {
    "duration": 464,
    "start_time": "2021-12-15T09:15:17.311Z"
   },
   {
    "duration": 4,
    "start_time": "2021-12-15T09:15:17.778Z"
   },
   {
    "duration": 18,
    "start_time": "2021-12-15T09:15:17.784Z"
   },
   {
    "duration": 19,
    "start_time": "2021-12-15T09:15:17.804Z"
   },
   {
    "duration": 50,
    "start_time": "2021-12-15T09:15:17.825Z"
   },
   {
    "duration": 10,
    "start_time": "2021-12-15T09:15:17.877Z"
   },
   {
    "duration": 11,
    "start_time": "2021-12-15T09:15:17.888Z"
   },
   {
    "duration": 9,
    "start_time": "2021-12-15T09:15:17.901Z"
   },
   {
    "duration": 13,
    "start_time": "2021-12-15T09:15:17.912Z"
   },
   {
    "duration": 11,
    "start_time": "2021-12-15T09:15:17.927Z"
   },
   {
    "duration": 7,
    "start_time": "2021-12-15T09:15:17.963Z"
   },
   {
    "duration": 7,
    "start_time": "2021-12-15T09:15:17.971Z"
   },
   {
    "duration": 8,
    "start_time": "2021-12-15T09:15:17.979Z"
   },
   {
    "duration": 7,
    "start_time": "2021-12-15T09:15:17.988Z"
   },
   {
    "duration": 8,
    "start_time": "2021-12-15T09:15:17.997Z"
   },
   {
    "duration": 20,
    "start_time": "2021-12-15T09:15:18.006Z"
   },
   {
    "duration": 36,
    "start_time": "2021-12-15T09:15:18.028Z"
   },
   {
    "duration": 12,
    "start_time": "2021-12-15T09:15:18.065Z"
   },
   {
    "duration": 269,
    "start_time": "2021-12-15T09:15:18.078Z"
   },
   {
    "duration": 17,
    "start_time": "2021-12-15T09:15:18.349Z"
   },
   {
    "duration": 18,
    "start_time": "2021-12-15T09:15:18.368Z"
   },
   {
    "duration": 13,
    "start_time": "2021-12-15T09:15:18.388Z"
   },
   {
    "duration": 200,
    "start_time": "2021-12-15T09:15:18.402Z"
   },
   {
    "duration": 8,
    "start_time": "2021-12-15T09:15:18.604Z"
   },
   {
    "duration": 10,
    "start_time": "2021-12-15T09:15:18.614Z"
   },
   {
    "duration": 8,
    "start_time": "2021-12-15T09:15:18.626Z"
   },
   {
    "duration": 34,
    "start_time": "2021-12-15T09:15:18.636Z"
   },
   {
    "duration": 7,
    "start_time": "2021-12-15T09:15:18.672Z"
   },
   {
    "duration": 21,
    "start_time": "2021-12-15T09:15:18.681Z"
   },
   {
    "duration": 89,
    "start_time": "2021-12-15T09:15:18.703Z"
   },
   {
    "duration": 6,
    "start_time": "2021-12-15T09:15:18.794Z"
   },
   {
    "duration": 4,
    "start_time": "2021-12-15T09:15:18.802Z"
   },
   {
    "duration": 5,
    "start_time": "2021-12-15T09:15:18.808Z"
   },
   {
    "duration": 11,
    "start_time": "2021-12-15T09:15:18.814Z"
   },
   {
    "duration": 11,
    "start_time": "2021-12-15T09:15:18.827Z"
   },
   {
    "duration": 28,
    "start_time": "2021-12-15T09:15:18.839Z"
   },
   {
    "duration": 3,
    "start_time": "2021-12-15T09:15:18.869Z"
   },
   {
    "duration": 12,
    "start_time": "2021-12-15T09:15:18.873Z"
   },
   {
    "duration": 14,
    "start_time": "2021-12-15T09:15:18.886Z"
   },
   {
    "duration": 14,
    "start_time": "2021-12-15T09:15:18.901Z"
   },
   {
    "duration": 9,
    "start_time": "2021-12-15T09:15:18.916Z"
   },
   {
    "duration": 6,
    "start_time": "2021-12-15T09:15:18.927Z"
   },
   {
    "duration": 28,
    "start_time": "2021-12-15T09:15:18.935Z"
   },
   {
    "duration": 495,
    "start_time": "2021-12-15T09:15:18.965Z"
   },
   {
    "duration": 25,
    "start_time": "2021-12-15T09:15:19.464Z"
   },
   {
    "duration": 15,
    "start_time": "2021-12-15T09:15:19.491Z"
   },
   {
    "duration": 315,
    "start_time": "2021-12-15T09:15:19.511Z"
   },
   {
    "duration": 9,
    "start_time": "2021-12-15T09:15:19.829Z"
   },
   {
    "duration": 6,
    "start_time": "2021-12-15T09:15:19.840Z"
   },
   {
    "duration": 31,
    "start_time": "2021-12-15T09:15:19.847Z"
   },
   {
    "duration": 16,
    "start_time": "2021-12-15T09:15:19.880Z"
   },
   {
    "duration": 14,
    "start_time": "2021-12-15T09:15:19.898Z"
   },
   {
    "duration": 13,
    "start_time": "2021-12-15T09:15:19.914Z"
   },
   {
    "duration": 47,
    "start_time": "2021-12-15T09:15:19.929Z"
   },
   {
    "duration": 16,
    "start_time": "2021-12-15T09:15:19.977Z"
   },
   {
    "duration": 16,
    "start_time": "2021-12-15T09:15:19.995Z"
   },
   {
    "duration": 10,
    "start_time": "2021-12-15T09:15:20.012Z"
   },
   {
    "duration": 495,
    "start_time": "2021-12-15T09:15:20.024Z"
   },
   {
    "duration": 16,
    "start_time": "2021-12-15T09:15:20.521Z"
   },
   {
    "duration": 31,
    "start_time": "2021-12-15T09:15:20.539Z"
   },
   {
    "duration": 12,
    "start_time": "2021-12-15T09:15:20.572Z"
   },
   {
    "duration": 25,
    "start_time": "2021-12-15T09:15:20.585Z"
   },
   {
    "duration": 16,
    "start_time": "2021-12-15T09:15:20.612Z"
   },
   {
    "duration": 34,
    "start_time": "2021-12-15T09:15:20.630Z"
   },
   {
    "duration": 190,
    "start_time": "2021-12-15T09:15:20.666Z"
   },
   {
    "duration": 7,
    "start_time": "2021-12-15T09:15:20.858Z"
   },
   {
    "duration": 15,
    "start_time": "2021-12-15T09:15:20.867Z"
   },
   {
    "duration": 271,
    "start_time": "2021-12-15T09:15:20.883Z"
   },
   {
    "duration": 30,
    "start_time": "2021-12-15T09:15:21.156Z"
   },
   {
    "duration": 15,
    "start_time": "2021-12-15T09:15:21.188Z"
   },
   {
    "duration": 13,
    "start_time": "2021-12-15T09:15:21.204Z"
   },
   {
    "duration": 207,
    "start_time": "2021-12-15T09:15:21.218Z"
   },
   {
    "duration": 5,
    "start_time": "2021-12-15T09:15:21.427Z"
   },
   {
    "duration": 12,
    "start_time": "2021-12-15T09:15:21.433Z"
   },
   {
    "duration": 327,
    "start_time": "2021-12-15T09:15:21.447Z"
   },
   {
    "duration": 25,
    "start_time": "2021-12-15T09:15:21.776Z"
   },
   {
    "duration": 13,
    "start_time": "2021-12-15T09:15:21.803Z"
   },
   {
    "duration": 13,
    "start_time": "2021-12-15T09:15:21.818Z"
   },
   {
    "duration": 307,
    "start_time": "2021-12-15T09:15:21.832Z"
   },
   {
    "duration": 5,
    "start_time": "2021-12-15T09:15:22.140Z"
   },
   {
    "duration": 27,
    "start_time": "2021-12-15T09:15:22.147Z"
   },
   {
    "duration": 328,
    "start_time": "2021-12-15T09:15:22.176Z"
   },
   {
    "duration": 11,
    "start_time": "2021-12-15T09:15:22.506Z"
   },
   {
    "duration": 15,
    "start_time": "2021-12-15T09:15:22.518Z"
   },
   {
    "duration": 4,
    "start_time": "2021-12-15T09:15:22.535Z"
   },
   {
    "duration": 25,
    "start_time": "2021-12-15T09:15:22.540Z"
   },
   {
    "duration": 23,
    "start_time": "2021-12-15T09:15:22.566Z"
   },
   {
    "duration": 4,
    "start_time": "2021-12-15T09:15:22.591Z"
   },
   {
    "duration": 7,
    "start_time": "2021-12-15T09:15:22.597Z"
   },
   {
    "duration": 25,
    "start_time": "2021-12-15T09:15:22.606Z"
   },
   {
    "duration": 32,
    "start_time": "2021-12-15T09:15:22.633Z"
   },
   {
    "duration": 15,
    "start_time": "2021-12-15T09:15:22.667Z"
   },
   {
    "duration": 8,
    "start_time": "2021-12-15T09:15:22.684Z"
   },
   {
    "duration": 10,
    "start_time": "2021-12-15T09:15:22.693Z"
   },
   {
    "duration": 14,
    "start_time": "2021-12-15T09:15:22.705Z"
   },
   {
    "duration": 13,
    "start_time": "2021-12-15T09:15:22.721Z"
   },
   {
    "duration": 37,
    "start_time": "2021-12-15T09:15:22.735Z"
   },
   {
    "duration": 15,
    "start_time": "2021-12-15T09:15:22.774Z"
   },
   {
    "duration": 16,
    "start_time": "2021-12-15T09:17:35.168Z"
   },
   {
    "duration": 373,
    "start_time": "2021-12-15T09:18:07.389Z"
   },
   {
    "duration": 13,
    "start_time": "2021-12-15T09:18:12.513Z"
   },
   {
    "duration": 18,
    "start_time": "2021-12-15T09:23:26.968Z"
   }
  ],
  "kernelspec": {
   "display_name": "Python 3",
   "language": "python",
   "name": "python3"
  },
  "language_info": {
   "codemirror_mode": {
    "name": "ipython",
    "version": 3
   },
   "file_extension": ".py",
   "mimetype": "text/x-python",
   "name": "python",
   "nbconvert_exporter": "python",
   "pygments_lexer": "ipython3",
   "version": "3.7.8"
  },
  "toc": {
   "base_numbering": 1,
   "nav_menu": {},
   "number_sections": true,
   "sideBar": true,
   "skip_h1_title": true,
   "title_cell": "Table of Contents",
   "title_sidebar": "Contents",
   "toc_cell": false,
   "toc_position": {
    "height": "calc(100% - 180px)",
    "left": "10px",
    "top": "150px",
    "width": "297px"
   },
   "toc_section_display": true,
   "toc_window_display": true
  }
 },
 "nbformat": 4,
 "nbformat_minor": 2
}
