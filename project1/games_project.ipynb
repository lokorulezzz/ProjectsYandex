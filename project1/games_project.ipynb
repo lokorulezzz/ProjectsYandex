{
 "cells": [
  {
   "cell_type": "markdown",
   "metadata": {},
   "source": [
    "# Сборный проект Интернет-магазин «Стримчик»"
   ]
  },
  {
   "cell_type": "markdown",
   "metadata": {},
   "source": [
    "## Открытие файла и изучение общей информации"
   ]
  },
  {
   "cell_type": "code",
   "execution_count": 1,
   "metadata": {},
   "outputs": [
    {
     "data": {
      "text/html": [
       "<div>\n",
       "<style scoped>\n",
       "    .dataframe tbody tr th:only-of-type {\n",
       "        vertical-align: middle;\n",
       "    }\n",
       "\n",
       "    .dataframe tbody tr th {\n",
       "        vertical-align: top;\n",
       "    }\n",
       "\n",
       "    .dataframe thead th {\n",
       "        text-align: right;\n",
       "    }\n",
       "</style>\n",
       "<table border=\"1\" class=\"dataframe\">\n",
       "  <thead>\n",
       "    <tr style=\"text-align: right;\">\n",
       "      <th></th>\n",
       "      <th>Name</th>\n",
       "      <th>Platform</th>\n",
       "      <th>Year_of_Release</th>\n",
       "      <th>Genre</th>\n",
       "      <th>NA_sales</th>\n",
       "      <th>EU_sales</th>\n",
       "      <th>JP_sales</th>\n",
       "      <th>Other_sales</th>\n",
       "      <th>Critic_Score</th>\n",
       "      <th>User_Score</th>\n",
       "      <th>Rating</th>\n",
       "    </tr>\n",
       "  </thead>\n",
       "  <tbody>\n",
       "    <tr>\n",
       "      <td>0</td>\n",
       "      <td>Wii Sports</td>\n",
       "      <td>Wii</td>\n",
       "      <td>2006.0</td>\n",
       "      <td>Sports</td>\n",
       "      <td>41.36</td>\n",
       "      <td>28.96</td>\n",
       "      <td>3.77</td>\n",
       "      <td>8.45</td>\n",
       "      <td>76.0</td>\n",
       "      <td>8</td>\n",
       "      <td>E</td>\n",
       "    </tr>\n",
       "    <tr>\n",
       "      <td>1</td>\n",
       "      <td>Super Mario Bros.</td>\n",
       "      <td>NES</td>\n",
       "      <td>1985.0</td>\n",
       "      <td>Platform</td>\n",
       "      <td>29.08</td>\n",
       "      <td>3.58</td>\n",
       "      <td>6.81</td>\n",
       "      <td>0.77</td>\n",
       "      <td>NaN</td>\n",
       "      <td>NaN</td>\n",
       "      <td>NaN</td>\n",
       "    </tr>\n",
       "    <tr>\n",
       "      <td>2</td>\n",
       "      <td>Mario Kart Wii</td>\n",
       "      <td>Wii</td>\n",
       "      <td>2008.0</td>\n",
       "      <td>Racing</td>\n",
       "      <td>15.68</td>\n",
       "      <td>12.76</td>\n",
       "      <td>3.79</td>\n",
       "      <td>3.29</td>\n",
       "      <td>82.0</td>\n",
       "      <td>8.3</td>\n",
       "      <td>E</td>\n",
       "    </tr>\n",
       "    <tr>\n",
       "      <td>3</td>\n",
       "      <td>Wii Sports Resort</td>\n",
       "      <td>Wii</td>\n",
       "      <td>2009.0</td>\n",
       "      <td>Sports</td>\n",
       "      <td>15.61</td>\n",
       "      <td>10.93</td>\n",
       "      <td>3.28</td>\n",
       "      <td>2.95</td>\n",
       "      <td>80.0</td>\n",
       "      <td>8</td>\n",
       "      <td>E</td>\n",
       "    </tr>\n",
       "    <tr>\n",
       "      <td>4</td>\n",
       "      <td>Pokemon Red/Pokemon Blue</td>\n",
       "      <td>GB</td>\n",
       "      <td>1996.0</td>\n",
       "      <td>Role-Playing</td>\n",
       "      <td>11.27</td>\n",
       "      <td>8.89</td>\n",
       "      <td>10.22</td>\n",
       "      <td>1.00</td>\n",
       "      <td>NaN</td>\n",
       "      <td>NaN</td>\n",
       "      <td>NaN</td>\n",
       "    </tr>\n",
       "    <tr>\n",
       "      <td>...</td>\n",
       "      <td>...</td>\n",
       "      <td>...</td>\n",
       "      <td>...</td>\n",
       "      <td>...</td>\n",
       "      <td>...</td>\n",
       "      <td>...</td>\n",
       "      <td>...</td>\n",
       "      <td>...</td>\n",
       "      <td>...</td>\n",
       "      <td>...</td>\n",
       "      <td>...</td>\n",
       "    </tr>\n",
       "    <tr>\n",
       "      <td>16710</td>\n",
       "      <td>Samurai Warriors: Sanada Maru</td>\n",
       "      <td>PS3</td>\n",
       "      <td>2016.0</td>\n",
       "      <td>Action</td>\n",
       "      <td>0.00</td>\n",
       "      <td>0.00</td>\n",
       "      <td>0.01</td>\n",
       "      <td>0.00</td>\n",
       "      <td>NaN</td>\n",
       "      <td>NaN</td>\n",
       "      <td>NaN</td>\n",
       "    </tr>\n",
       "    <tr>\n",
       "      <td>16711</td>\n",
       "      <td>LMA Manager 2007</td>\n",
       "      <td>X360</td>\n",
       "      <td>2006.0</td>\n",
       "      <td>Sports</td>\n",
       "      <td>0.00</td>\n",
       "      <td>0.01</td>\n",
       "      <td>0.00</td>\n",
       "      <td>0.00</td>\n",
       "      <td>NaN</td>\n",
       "      <td>NaN</td>\n",
       "      <td>NaN</td>\n",
       "    </tr>\n",
       "    <tr>\n",
       "      <td>16712</td>\n",
       "      <td>Haitaka no Psychedelica</td>\n",
       "      <td>PSV</td>\n",
       "      <td>2016.0</td>\n",
       "      <td>Adventure</td>\n",
       "      <td>0.00</td>\n",
       "      <td>0.00</td>\n",
       "      <td>0.01</td>\n",
       "      <td>0.00</td>\n",
       "      <td>NaN</td>\n",
       "      <td>NaN</td>\n",
       "      <td>NaN</td>\n",
       "    </tr>\n",
       "    <tr>\n",
       "      <td>16713</td>\n",
       "      <td>Spirits &amp; Spells</td>\n",
       "      <td>GBA</td>\n",
       "      <td>2003.0</td>\n",
       "      <td>Platform</td>\n",
       "      <td>0.01</td>\n",
       "      <td>0.00</td>\n",
       "      <td>0.00</td>\n",
       "      <td>0.00</td>\n",
       "      <td>NaN</td>\n",
       "      <td>NaN</td>\n",
       "      <td>NaN</td>\n",
       "    </tr>\n",
       "    <tr>\n",
       "      <td>16714</td>\n",
       "      <td>Winning Post 8 2016</td>\n",
       "      <td>PSV</td>\n",
       "      <td>2016.0</td>\n",
       "      <td>Simulation</td>\n",
       "      <td>0.00</td>\n",
       "      <td>0.00</td>\n",
       "      <td>0.01</td>\n",
       "      <td>0.00</td>\n",
       "      <td>NaN</td>\n",
       "      <td>NaN</td>\n",
       "      <td>NaN</td>\n",
       "    </tr>\n",
       "  </tbody>\n",
       "</table>\n",
       "<p>16715 rows × 11 columns</p>\n",
       "</div>"
      ],
      "text/plain": [
       "                                Name Platform  Year_of_Release         Genre  \\\n",
       "0                         Wii Sports      Wii           2006.0        Sports   \n",
       "1                  Super Mario Bros.      NES           1985.0      Platform   \n",
       "2                     Mario Kart Wii      Wii           2008.0        Racing   \n",
       "3                  Wii Sports Resort      Wii           2009.0        Sports   \n",
       "4           Pokemon Red/Pokemon Blue       GB           1996.0  Role-Playing   \n",
       "...                              ...      ...              ...           ...   \n",
       "16710  Samurai Warriors: Sanada Maru      PS3           2016.0        Action   \n",
       "16711               LMA Manager 2007     X360           2006.0        Sports   \n",
       "16712        Haitaka no Psychedelica      PSV           2016.0     Adventure   \n",
       "16713               Spirits & Spells      GBA           2003.0      Platform   \n",
       "16714            Winning Post 8 2016      PSV           2016.0    Simulation   \n",
       "\n",
       "       NA_sales  EU_sales  JP_sales  Other_sales  Critic_Score User_Score  \\\n",
       "0         41.36     28.96      3.77         8.45          76.0          8   \n",
       "1         29.08      3.58      6.81         0.77           NaN        NaN   \n",
       "2         15.68     12.76      3.79         3.29          82.0        8.3   \n",
       "3         15.61     10.93      3.28         2.95          80.0          8   \n",
       "4         11.27      8.89     10.22         1.00           NaN        NaN   \n",
       "...         ...       ...       ...          ...           ...        ...   \n",
       "16710      0.00      0.00      0.01         0.00           NaN        NaN   \n",
       "16711      0.00      0.01      0.00         0.00           NaN        NaN   \n",
       "16712      0.00      0.00      0.01         0.00           NaN        NaN   \n",
       "16713      0.01      0.00      0.00         0.00           NaN        NaN   \n",
       "16714      0.00      0.00      0.01         0.00           NaN        NaN   \n",
       "\n",
       "      Rating  \n",
       "0          E  \n",
       "1        NaN  \n",
       "2          E  \n",
       "3          E  \n",
       "4        NaN  \n",
       "...      ...  \n",
       "16710    NaN  \n",
       "16711    NaN  \n",
       "16712    NaN  \n",
       "16713    NaN  \n",
       "16714    NaN  \n",
       "\n",
       "[16715 rows x 11 columns]"
      ]
     },
     "metadata": {},
     "output_type": "display_data"
    }
   ],
   "source": [
    "from IPython.display import display\n",
    "import matplotlib.pyplot as plt \n",
    "import pandas as pd\n",
    "import numpy as np\n",
    "data = pd.read_csv('/datasets/games.csv')\n",
    "display(data)"
   ]
  },
  {
   "cell_type": "markdown",
   "metadata": {},
   "source": [
    "## Подготовка данных"
   ]
  },
  {
   "cell_type": "markdown",
   "metadata": {},
   "source": [
    "###  Замена названия столбцов (приведение к нижнему регистру)"
   ]
  },
  {
   "cell_type": "markdown",
   "metadata": {},
   "source": [
    "Приведем названия столбцов к нижнему регистру:"
   ]
  },
  {
   "cell_type": "code",
   "execution_count": 2,
   "metadata": {},
   "outputs": [],
   "source": [
    "data.columns = map(str.lower, data.columns)"
   ]
  },
  {
   "cell_type": "code",
   "execution_count": 3,
   "metadata": {},
   "outputs": [
    {
     "data": {
      "text/html": [
       "<div>\n",
       "<style scoped>\n",
       "    .dataframe tbody tr th:only-of-type {\n",
       "        vertical-align: middle;\n",
       "    }\n",
       "\n",
       "    .dataframe tbody tr th {\n",
       "        vertical-align: top;\n",
       "    }\n",
       "\n",
       "    .dataframe thead th {\n",
       "        text-align: right;\n",
       "    }\n",
       "</style>\n",
       "<table border=\"1\" class=\"dataframe\">\n",
       "  <thead>\n",
       "    <tr style=\"text-align: right;\">\n",
       "      <th></th>\n",
       "      <th>name</th>\n",
       "      <th>platform</th>\n",
       "      <th>year_of_release</th>\n",
       "      <th>genre</th>\n",
       "      <th>na_sales</th>\n",
       "      <th>eu_sales</th>\n",
       "      <th>jp_sales</th>\n",
       "      <th>other_sales</th>\n",
       "      <th>critic_score</th>\n",
       "      <th>user_score</th>\n",
       "      <th>rating</th>\n",
       "    </tr>\n",
       "  </thead>\n",
       "  <tbody>\n",
       "    <tr>\n",
       "      <td>0</td>\n",
       "      <td>Wii Sports</td>\n",
       "      <td>Wii</td>\n",
       "      <td>2006.0</td>\n",
       "      <td>Sports</td>\n",
       "      <td>41.36</td>\n",
       "      <td>28.96</td>\n",
       "      <td>3.77</td>\n",
       "      <td>8.45</td>\n",
       "      <td>76.0</td>\n",
       "      <td>8</td>\n",
       "      <td>E</td>\n",
       "    </tr>\n",
       "    <tr>\n",
       "      <td>1</td>\n",
       "      <td>Super Mario Bros.</td>\n",
       "      <td>NES</td>\n",
       "      <td>1985.0</td>\n",
       "      <td>Platform</td>\n",
       "      <td>29.08</td>\n",
       "      <td>3.58</td>\n",
       "      <td>6.81</td>\n",
       "      <td>0.77</td>\n",
       "      <td>NaN</td>\n",
       "      <td>NaN</td>\n",
       "      <td>NaN</td>\n",
       "    </tr>\n",
       "    <tr>\n",
       "      <td>2</td>\n",
       "      <td>Mario Kart Wii</td>\n",
       "      <td>Wii</td>\n",
       "      <td>2008.0</td>\n",
       "      <td>Racing</td>\n",
       "      <td>15.68</td>\n",
       "      <td>12.76</td>\n",
       "      <td>3.79</td>\n",
       "      <td>3.29</td>\n",
       "      <td>82.0</td>\n",
       "      <td>8.3</td>\n",
       "      <td>E</td>\n",
       "    </tr>\n",
       "    <tr>\n",
       "      <td>3</td>\n",
       "      <td>Wii Sports Resort</td>\n",
       "      <td>Wii</td>\n",
       "      <td>2009.0</td>\n",
       "      <td>Sports</td>\n",
       "      <td>15.61</td>\n",
       "      <td>10.93</td>\n",
       "      <td>3.28</td>\n",
       "      <td>2.95</td>\n",
       "      <td>80.0</td>\n",
       "      <td>8</td>\n",
       "      <td>E</td>\n",
       "    </tr>\n",
       "    <tr>\n",
       "      <td>4</td>\n",
       "      <td>Pokemon Red/Pokemon Blue</td>\n",
       "      <td>GB</td>\n",
       "      <td>1996.0</td>\n",
       "      <td>Role-Playing</td>\n",
       "      <td>11.27</td>\n",
       "      <td>8.89</td>\n",
       "      <td>10.22</td>\n",
       "      <td>1.00</td>\n",
       "      <td>NaN</td>\n",
       "      <td>NaN</td>\n",
       "      <td>NaN</td>\n",
       "    </tr>\n",
       "    <tr>\n",
       "      <td>...</td>\n",
       "      <td>...</td>\n",
       "      <td>...</td>\n",
       "      <td>...</td>\n",
       "      <td>...</td>\n",
       "      <td>...</td>\n",
       "      <td>...</td>\n",
       "      <td>...</td>\n",
       "      <td>...</td>\n",
       "      <td>...</td>\n",
       "      <td>...</td>\n",
       "      <td>...</td>\n",
       "    </tr>\n",
       "    <tr>\n",
       "      <td>16710</td>\n",
       "      <td>Samurai Warriors: Sanada Maru</td>\n",
       "      <td>PS3</td>\n",
       "      <td>2016.0</td>\n",
       "      <td>Action</td>\n",
       "      <td>0.00</td>\n",
       "      <td>0.00</td>\n",
       "      <td>0.01</td>\n",
       "      <td>0.00</td>\n",
       "      <td>NaN</td>\n",
       "      <td>NaN</td>\n",
       "      <td>NaN</td>\n",
       "    </tr>\n",
       "    <tr>\n",
       "      <td>16711</td>\n",
       "      <td>LMA Manager 2007</td>\n",
       "      <td>X360</td>\n",
       "      <td>2006.0</td>\n",
       "      <td>Sports</td>\n",
       "      <td>0.00</td>\n",
       "      <td>0.01</td>\n",
       "      <td>0.00</td>\n",
       "      <td>0.00</td>\n",
       "      <td>NaN</td>\n",
       "      <td>NaN</td>\n",
       "      <td>NaN</td>\n",
       "    </tr>\n",
       "    <tr>\n",
       "      <td>16712</td>\n",
       "      <td>Haitaka no Psychedelica</td>\n",
       "      <td>PSV</td>\n",
       "      <td>2016.0</td>\n",
       "      <td>Adventure</td>\n",
       "      <td>0.00</td>\n",
       "      <td>0.00</td>\n",
       "      <td>0.01</td>\n",
       "      <td>0.00</td>\n",
       "      <td>NaN</td>\n",
       "      <td>NaN</td>\n",
       "      <td>NaN</td>\n",
       "    </tr>\n",
       "    <tr>\n",
       "      <td>16713</td>\n",
       "      <td>Spirits &amp; Spells</td>\n",
       "      <td>GBA</td>\n",
       "      <td>2003.0</td>\n",
       "      <td>Platform</td>\n",
       "      <td>0.01</td>\n",
       "      <td>0.00</td>\n",
       "      <td>0.00</td>\n",
       "      <td>0.00</td>\n",
       "      <td>NaN</td>\n",
       "      <td>NaN</td>\n",
       "      <td>NaN</td>\n",
       "    </tr>\n",
       "    <tr>\n",
       "      <td>16714</td>\n",
       "      <td>Winning Post 8 2016</td>\n",
       "      <td>PSV</td>\n",
       "      <td>2016.0</td>\n",
       "      <td>Simulation</td>\n",
       "      <td>0.00</td>\n",
       "      <td>0.00</td>\n",
       "      <td>0.01</td>\n",
       "      <td>0.00</td>\n",
       "      <td>NaN</td>\n",
       "      <td>NaN</td>\n",
       "      <td>NaN</td>\n",
       "    </tr>\n",
       "  </tbody>\n",
       "</table>\n",
       "<p>16715 rows × 11 columns</p>\n",
       "</div>"
      ],
      "text/plain": [
       "                                name platform  year_of_release         genre  \\\n",
       "0                         Wii Sports      Wii           2006.0        Sports   \n",
       "1                  Super Mario Bros.      NES           1985.0      Platform   \n",
       "2                     Mario Kart Wii      Wii           2008.0        Racing   \n",
       "3                  Wii Sports Resort      Wii           2009.0        Sports   \n",
       "4           Pokemon Red/Pokemon Blue       GB           1996.0  Role-Playing   \n",
       "...                              ...      ...              ...           ...   \n",
       "16710  Samurai Warriors: Sanada Maru      PS3           2016.0        Action   \n",
       "16711               LMA Manager 2007     X360           2006.0        Sports   \n",
       "16712        Haitaka no Psychedelica      PSV           2016.0     Adventure   \n",
       "16713               Spirits & Spells      GBA           2003.0      Platform   \n",
       "16714            Winning Post 8 2016      PSV           2016.0    Simulation   \n",
       "\n",
       "       na_sales  eu_sales  jp_sales  other_sales  critic_score user_score  \\\n",
       "0         41.36     28.96      3.77         8.45          76.0          8   \n",
       "1         29.08      3.58      6.81         0.77           NaN        NaN   \n",
       "2         15.68     12.76      3.79         3.29          82.0        8.3   \n",
       "3         15.61     10.93      3.28         2.95          80.0          8   \n",
       "4         11.27      8.89     10.22         1.00           NaN        NaN   \n",
       "...         ...       ...       ...          ...           ...        ...   \n",
       "16710      0.00      0.00      0.01         0.00           NaN        NaN   \n",
       "16711      0.00      0.01      0.00         0.00           NaN        NaN   \n",
       "16712      0.00      0.00      0.01         0.00           NaN        NaN   \n",
       "16713      0.01      0.00      0.00         0.00           NaN        NaN   \n",
       "16714      0.00      0.00      0.01         0.00           NaN        NaN   \n",
       "\n",
       "      rating  \n",
       "0          E  \n",
       "1        NaN  \n",
       "2          E  \n",
       "3          E  \n",
       "4        NaN  \n",
       "...      ...  \n",
       "16710    NaN  \n",
       "16711    NaN  \n",
       "16712    NaN  \n",
       "16713    NaN  \n",
       "16714    NaN  \n",
       "\n",
       "[16715 rows x 11 columns]"
      ]
     },
     "metadata": {},
     "output_type": "display_data"
    }
   ],
   "source": [
    "display(data)"
   ]
  },
  {
   "cell_type": "markdown",
   "metadata": {},
   "source": [
    "### Преобразование данных в нужные типы"
   ]
  },
  {
   "cell_type": "code",
   "execution_count": 4,
   "metadata": {},
   "outputs": [
    {
     "name": "stdout",
     "output_type": "stream",
     "text": [
      "<class 'pandas.core.frame.DataFrame'>\n",
      "RangeIndex: 16715 entries, 0 to 16714\n",
      "Data columns (total 11 columns):\n",
      "name               16713 non-null object\n",
      "platform           16715 non-null object\n",
      "year_of_release    16446 non-null float64\n",
      "genre              16713 non-null object\n",
      "na_sales           16715 non-null float64\n",
      "eu_sales           16715 non-null float64\n",
      "jp_sales           16715 non-null float64\n",
      "other_sales        16715 non-null float64\n",
      "critic_score       8137 non-null float64\n",
      "user_score         10014 non-null object\n",
      "rating             9949 non-null object\n",
      "dtypes: float64(6), object(5)\n",
      "memory usage: 1.4+ MB\n"
     ]
    }
   ],
   "source": [
    "data.info()"
   ]
  },
  {
   "cell_type": "markdown",
   "metadata": {},
   "source": [
    "В столбце с рейтингом пользователей обнаружено значение `tbd`, что не позволяет перевести оценки в float или int. На текущем этапе опустим это, но в будущем при работе с оценками исключим данные строки для дальнейшего анализа в целом."
   ]
  },
  {
   "cell_type": "markdown",
   "metadata": {},
   "source": [
    "В целом мы видим, что операции со столбцами нужно будет производить только после проведения анализа продаж по регионам, т.к там заполнены все значений. "
   ]
  },
  {
   "cell_type": "markdown",
   "metadata": {},
   "source": [
    "### Обработка пропусков"
   ]
  },
  {
   "cell_type": "code",
   "execution_count": 5,
   "metadata": {},
   "outputs": [
    {
     "name": "stdout",
     "output_type": "stream",
     "text": [
      "name                  2\n",
      "platform              0\n",
      "year_of_release     269\n",
      "genre                 2\n",
      "na_sales              0\n",
      "eu_sales              0\n",
      "jp_sales              0\n",
      "other_sales           0\n",
      "critic_score       8578\n",
      "user_score         6701\n",
      "rating             6766\n",
      "dtype: int64\n"
     ]
    }
   ],
   "source": [
    "print(data.isnull().sum()) "
   ]
  },
  {
   "cell_type": "markdown",
   "metadata": {},
   "source": [
    "В данном датафрейме мы видим пропущенные значения в нескольких столбцах. В глаза бросаются столбцы с оценкой и рейтингом, где почти 30% оценок пропущены. Каким либо значением заполнять не имеет смысла, тк будет размытая картинка при дальнейшем анализе. Возможно, эти пропуски связаны с тем, что данные игры не были представлены на условных сайтах типа metacritic, а так же в виду раннего года выхода игры, когда еще не было нынешних рейтинговых подсчетов. Поэтому финальное задание будет выполнено только по тем играм, в которых есть рейтинг. Так же есть пропущенные значений в годе производства игры, но удаление любых строк повлечет за собой влияние на дальнейший анализ по регионам. \n",
    "Учитывая вышеизложенное датафрейм не будет изменен по части удаления строк/заполнения значений."
   ]
  },
  {
   "cell_type": "markdown",
   "metadata": {},
   "source": [
    "### Суммарные продажи во всех регионах"
   ]
  },
  {
   "cell_type": "markdown",
   "metadata": {},
   "source": [
    "Создадим столбец `world_sales` для расчета продаж во всех регионах"
   ]
  },
  {
   "cell_type": "code",
   "execution_count": 6,
   "metadata": {},
   "outputs": [],
   "source": [
    "data['world_sales'] = data['na_sales'] + data['eu_sales'] + data['jp_sales'] + data['other_sales']"
   ]
  },
  {
   "cell_type": "code",
   "execution_count": 7,
   "metadata": {},
   "outputs": [
    {
     "data": {
      "text/html": [
       "<div>\n",
       "<style scoped>\n",
       "    .dataframe tbody tr th:only-of-type {\n",
       "        vertical-align: middle;\n",
       "    }\n",
       "\n",
       "    .dataframe tbody tr th {\n",
       "        vertical-align: top;\n",
       "    }\n",
       "\n",
       "    .dataframe thead th {\n",
       "        text-align: right;\n",
       "    }\n",
       "</style>\n",
       "<table border=\"1\" class=\"dataframe\">\n",
       "  <thead>\n",
       "    <tr style=\"text-align: right;\">\n",
       "      <th></th>\n",
       "      <th>name</th>\n",
       "      <th>platform</th>\n",
       "      <th>year_of_release</th>\n",
       "      <th>genre</th>\n",
       "      <th>na_sales</th>\n",
       "      <th>eu_sales</th>\n",
       "      <th>jp_sales</th>\n",
       "      <th>other_sales</th>\n",
       "      <th>critic_score</th>\n",
       "      <th>user_score</th>\n",
       "      <th>rating</th>\n",
       "      <th>world_sales</th>\n",
       "    </tr>\n",
       "  </thead>\n",
       "  <tbody>\n",
       "    <tr>\n",
       "      <td>0</td>\n",
       "      <td>Wii Sports</td>\n",
       "      <td>Wii</td>\n",
       "      <td>2006.0</td>\n",
       "      <td>Sports</td>\n",
       "      <td>41.36</td>\n",
       "      <td>28.96</td>\n",
       "      <td>3.77</td>\n",
       "      <td>8.45</td>\n",
       "      <td>76.0</td>\n",
       "      <td>8</td>\n",
       "      <td>E</td>\n",
       "      <td>82.54</td>\n",
       "    </tr>\n",
       "    <tr>\n",
       "      <td>1</td>\n",
       "      <td>Super Mario Bros.</td>\n",
       "      <td>NES</td>\n",
       "      <td>1985.0</td>\n",
       "      <td>Platform</td>\n",
       "      <td>29.08</td>\n",
       "      <td>3.58</td>\n",
       "      <td>6.81</td>\n",
       "      <td>0.77</td>\n",
       "      <td>NaN</td>\n",
       "      <td>NaN</td>\n",
       "      <td>NaN</td>\n",
       "      <td>40.24</td>\n",
       "    </tr>\n",
       "    <tr>\n",
       "      <td>2</td>\n",
       "      <td>Mario Kart Wii</td>\n",
       "      <td>Wii</td>\n",
       "      <td>2008.0</td>\n",
       "      <td>Racing</td>\n",
       "      <td>15.68</td>\n",
       "      <td>12.76</td>\n",
       "      <td>3.79</td>\n",
       "      <td>3.29</td>\n",
       "      <td>82.0</td>\n",
       "      <td>8.3</td>\n",
       "      <td>E</td>\n",
       "      <td>35.52</td>\n",
       "    </tr>\n",
       "    <tr>\n",
       "      <td>3</td>\n",
       "      <td>Wii Sports Resort</td>\n",
       "      <td>Wii</td>\n",
       "      <td>2009.0</td>\n",
       "      <td>Sports</td>\n",
       "      <td>15.61</td>\n",
       "      <td>10.93</td>\n",
       "      <td>3.28</td>\n",
       "      <td>2.95</td>\n",
       "      <td>80.0</td>\n",
       "      <td>8</td>\n",
       "      <td>E</td>\n",
       "      <td>32.77</td>\n",
       "    </tr>\n",
       "    <tr>\n",
       "      <td>4</td>\n",
       "      <td>Pokemon Red/Pokemon Blue</td>\n",
       "      <td>GB</td>\n",
       "      <td>1996.0</td>\n",
       "      <td>Role-Playing</td>\n",
       "      <td>11.27</td>\n",
       "      <td>8.89</td>\n",
       "      <td>10.22</td>\n",
       "      <td>1.00</td>\n",
       "      <td>NaN</td>\n",
       "      <td>NaN</td>\n",
       "      <td>NaN</td>\n",
       "      <td>31.38</td>\n",
       "    </tr>\n",
       "    <tr>\n",
       "      <td>...</td>\n",
       "      <td>...</td>\n",
       "      <td>...</td>\n",
       "      <td>...</td>\n",
       "      <td>...</td>\n",
       "      <td>...</td>\n",
       "      <td>...</td>\n",
       "      <td>...</td>\n",
       "      <td>...</td>\n",
       "      <td>...</td>\n",
       "      <td>...</td>\n",
       "      <td>...</td>\n",
       "      <td>...</td>\n",
       "    </tr>\n",
       "    <tr>\n",
       "      <td>16710</td>\n",
       "      <td>Samurai Warriors: Sanada Maru</td>\n",
       "      <td>PS3</td>\n",
       "      <td>2016.0</td>\n",
       "      <td>Action</td>\n",
       "      <td>0.00</td>\n",
       "      <td>0.00</td>\n",
       "      <td>0.01</td>\n",
       "      <td>0.00</td>\n",
       "      <td>NaN</td>\n",
       "      <td>NaN</td>\n",
       "      <td>NaN</td>\n",
       "      <td>0.01</td>\n",
       "    </tr>\n",
       "    <tr>\n",
       "      <td>16711</td>\n",
       "      <td>LMA Manager 2007</td>\n",
       "      <td>X360</td>\n",
       "      <td>2006.0</td>\n",
       "      <td>Sports</td>\n",
       "      <td>0.00</td>\n",
       "      <td>0.01</td>\n",
       "      <td>0.00</td>\n",
       "      <td>0.00</td>\n",
       "      <td>NaN</td>\n",
       "      <td>NaN</td>\n",
       "      <td>NaN</td>\n",
       "      <td>0.01</td>\n",
       "    </tr>\n",
       "    <tr>\n",
       "      <td>16712</td>\n",
       "      <td>Haitaka no Psychedelica</td>\n",
       "      <td>PSV</td>\n",
       "      <td>2016.0</td>\n",
       "      <td>Adventure</td>\n",
       "      <td>0.00</td>\n",
       "      <td>0.00</td>\n",
       "      <td>0.01</td>\n",
       "      <td>0.00</td>\n",
       "      <td>NaN</td>\n",
       "      <td>NaN</td>\n",
       "      <td>NaN</td>\n",
       "      <td>0.01</td>\n",
       "    </tr>\n",
       "    <tr>\n",
       "      <td>16713</td>\n",
       "      <td>Spirits &amp; Spells</td>\n",
       "      <td>GBA</td>\n",
       "      <td>2003.0</td>\n",
       "      <td>Platform</td>\n",
       "      <td>0.01</td>\n",
       "      <td>0.00</td>\n",
       "      <td>0.00</td>\n",
       "      <td>0.00</td>\n",
       "      <td>NaN</td>\n",
       "      <td>NaN</td>\n",
       "      <td>NaN</td>\n",
       "      <td>0.01</td>\n",
       "    </tr>\n",
       "    <tr>\n",
       "      <td>16714</td>\n",
       "      <td>Winning Post 8 2016</td>\n",
       "      <td>PSV</td>\n",
       "      <td>2016.0</td>\n",
       "      <td>Simulation</td>\n",
       "      <td>0.00</td>\n",
       "      <td>0.00</td>\n",
       "      <td>0.01</td>\n",
       "      <td>0.00</td>\n",
       "      <td>NaN</td>\n",
       "      <td>NaN</td>\n",
       "      <td>NaN</td>\n",
       "      <td>0.01</td>\n",
       "    </tr>\n",
       "  </tbody>\n",
       "</table>\n",
       "<p>16715 rows × 12 columns</p>\n",
       "</div>"
      ],
      "text/plain": [
       "                                name platform  year_of_release         genre  \\\n",
       "0                         Wii Sports      Wii           2006.0        Sports   \n",
       "1                  Super Mario Bros.      NES           1985.0      Platform   \n",
       "2                     Mario Kart Wii      Wii           2008.0        Racing   \n",
       "3                  Wii Sports Resort      Wii           2009.0        Sports   \n",
       "4           Pokemon Red/Pokemon Blue       GB           1996.0  Role-Playing   \n",
       "...                              ...      ...              ...           ...   \n",
       "16710  Samurai Warriors: Sanada Maru      PS3           2016.0        Action   \n",
       "16711               LMA Manager 2007     X360           2006.0        Sports   \n",
       "16712        Haitaka no Psychedelica      PSV           2016.0     Adventure   \n",
       "16713               Spirits & Spells      GBA           2003.0      Platform   \n",
       "16714            Winning Post 8 2016      PSV           2016.0    Simulation   \n",
       "\n",
       "       na_sales  eu_sales  jp_sales  other_sales  critic_score user_score  \\\n",
       "0         41.36     28.96      3.77         8.45          76.0          8   \n",
       "1         29.08      3.58      6.81         0.77           NaN        NaN   \n",
       "2         15.68     12.76      3.79         3.29          82.0        8.3   \n",
       "3         15.61     10.93      3.28         2.95          80.0          8   \n",
       "4         11.27      8.89     10.22         1.00           NaN        NaN   \n",
       "...         ...       ...       ...          ...           ...        ...   \n",
       "16710      0.00      0.00      0.01         0.00           NaN        NaN   \n",
       "16711      0.00      0.01      0.00         0.00           NaN        NaN   \n",
       "16712      0.00      0.00      0.01         0.00           NaN        NaN   \n",
       "16713      0.01      0.00      0.00         0.00           NaN        NaN   \n",
       "16714      0.00      0.00      0.01         0.00           NaN        NaN   \n",
       "\n",
       "      rating  world_sales  \n",
       "0          E        82.54  \n",
       "1        NaN        40.24  \n",
       "2          E        35.52  \n",
       "3          E        32.77  \n",
       "4        NaN        31.38  \n",
       "...      ...          ...  \n",
       "16710    NaN         0.01  \n",
       "16711    NaN         0.01  \n",
       "16712    NaN         0.01  \n",
       "16713    NaN         0.01  \n",
       "16714    NaN         0.01  \n",
       "\n",
       "[16715 rows x 12 columns]"
      ]
     },
     "metadata": {},
     "output_type": "display_data"
    }
   ],
   "source": [
    "display(data)"
   ]
  },
  {
   "cell_type": "markdown",
   "metadata": {},
   "source": [
    "## Исследовательский анализ данных"
   ]
  },
  {
   "cell_type": "markdown",
   "metadata": {},
   "source": [
    "### Выпуск игр в разные годы"
   ]
  },
  {
   "cell_type": "code",
   "execution_count": 8,
   "metadata": {},
   "outputs": [
    {
     "data": {
      "image/png": "[encoded data removed]",
      "text/plain": [
       "<Figure size 432x288 with 1 Axes>"
      ]
     },
     "metadata": {
      "needs_background": "light"
     },
     "output_type": "display_data"
    }
   ],
   "source": [
    "data['year_of_release'].hist(bins=100, range=(1980, 2016))\n",
    "plt.title('Распределение релиза игр по годам')\n",
    "plt.show()"
   ]
  },
  {
   "cell_type": "markdown",
   "metadata": {},
   "source": [
    "По данному графику видно, что пик выпуска игр приходился на 2008-2009 гг., когда выпускалось более 1400 игр в год на все платформы. С 2010 по 2016 годы компания делали упор на опредленные \"тайтлы\", а не на количество. Данное снижение количества выпущенных игр можно связать с сокращением издержек на производство нерентабельных игр, и в то же время поддержка приносящих прибыль серий как как FIFA, Battlefield и т.д. "
   ]
  },
  {
   "cell_type": "markdown",
   "metadata": {},
   "source": [
    "### Продажи по платформам"
   ]
  },
  {
   "cell_type": "code",
   "execution_count": 9,
   "metadata": {},
   "outputs": [],
   "source": [
    "world_sales_grouped = data.groupby(['platform'])['world_sales'].sum().reset_index().sort_values(by = 'world_sales')"
   ]
  },
  {
   "cell_type": "code",
   "execution_count": 10,
   "metadata": {},
   "outputs": [
    {
     "data": {
      "text/html": [
       "<div>\n",
       "<style scoped>\n",
       "    .dataframe tbody tr th:only-of-type {\n",
       "        vertical-align: middle;\n",
       "    }\n",
       "\n",
       "    .dataframe tbody tr th {\n",
       "        vertical-align: top;\n",
       "    }\n",
       "\n",
       "    .dataframe thead th {\n",
       "        text-align: right;\n",
       "    }\n",
       "</style>\n",
       "<table border=\"1\" class=\"dataframe\">\n",
       "  <thead>\n",
       "    <tr style=\"text-align: right;\">\n",
       "      <th></th>\n",
       "      <th>platform</th>\n",
       "      <th>world_sales</th>\n",
       "    </tr>\n",
       "  </thead>\n",
       "  <tbody>\n",
       "    <tr>\n",
       "      <td>14</td>\n",
       "      <td>PCFX</td>\n",
       "      <td>0.03</td>\n",
       "    </tr>\n",
       "    <tr>\n",
       "      <td>9</td>\n",
       "      <td>GG</td>\n",
       "      <td>0.04</td>\n",
       "    </tr>\n",
       "    <tr>\n",
       "      <td>1</td>\n",
       "      <td>3DO</td>\n",
       "      <td>0.10</td>\n",
       "    </tr>\n",
       "    <tr>\n",
       "      <td>24</td>\n",
       "      <td>TG16</td>\n",
       "      <td>0.16</td>\n",
       "    </tr>\n",
       "    <tr>\n",
       "      <td>25</td>\n",
       "      <td>WS</td>\n",
       "      <td>1.42</td>\n",
       "    </tr>\n",
       "    <tr>\n",
       "      <td>12</td>\n",
       "      <td>NG</td>\n",
       "      <td>1.44</td>\n",
       "    </tr>\n",
       "    <tr>\n",
       "      <td>22</td>\n",
       "      <td>SCD</td>\n",
       "      <td>1.86</td>\n",
       "    </tr>\n",
       "    <tr>\n",
       "      <td>3</td>\n",
       "      <td>DC</td>\n",
       "      <td>15.95</td>\n",
       "    </tr>\n",
       "    <tr>\n",
       "      <td>8</td>\n",
       "      <td>GEN</td>\n",
       "      <td>30.77</td>\n",
       "    </tr>\n",
       "    <tr>\n",
       "      <td>21</td>\n",
       "      <td>SAT</td>\n",
       "      <td>33.59</td>\n",
       "    </tr>\n",
       "    <tr>\n",
       "      <td>20</td>\n",
       "      <td>PSV</td>\n",
       "      <td>54.07</td>\n",
       "    </tr>\n",
       "    <tr>\n",
       "      <td>27</td>\n",
       "      <td>WiiU</td>\n",
       "      <td>82.19</td>\n",
       "    </tr>\n",
       "    <tr>\n",
       "      <td>0</td>\n",
       "      <td>2600</td>\n",
       "      <td>96.98</td>\n",
       "    </tr>\n",
       "    <tr>\n",
       "      <td>30</td>\n",
       "      <td>XOne</td>\n",
       "      <td>159.32</td>\n",
       "    </tr>\n",
       "    <tr>\n",
       "      <td>7</td>\n",
       "      <td>GC</td>\n",
       "      <td>198.93</td>\n",
       "    </tr>\n",
       "    <tr>\n",
       "      <td>23</td>\n",
       "      <td>SNES</td>\n",
       "      <td>200.04</td>\n",
       "    </tr>\n",
       "    <tr>\n",
       "      <td>10</td>\n",
       "      <td>N64</td>\n",
       "      <td>218.68</td>\n",
       "    </tr>\n",
       "    <tr>\n",
       "      <td>11</td>\n",
       "      <td>NES</td>\n",
       "      <td>251.05</td>\n",
       "    </tr>\n",
       "    <tr>\n",
       "      <td>5</td>\n",
       "      <td>GB</td>\n",
       "      <td>255.46</td>\n",
       "    </tr>\n",
       "    <tr>\n",
       "      <td>29</td>\n",
       "      <td>XB</td>\n",
       "      <td>257.74</td>\n",
       "    </tr>\n",
       "    <tr>\n",
       "      <td>2</td>\n",
       "      <td>3DS</td>\n",
       "      <td>259.00</td>\n",
       "    </tr>\n",
       "    <tr>\n",
       "      <td>13</td>\n",
       "      <td>PC</td>\n",
       "      <td>259.52</td>\n",
       "    </tr>\n",
       "    <tr>\n",
       "      <td>19</td>\n",
       "      <td>PSP</td>\n",
       "      <td>294.05</td>\n",
       "    </tr>\n",
       "    <tr>\n",
       "      <td>18</td>\n",
       "      <td>PS4</td>\n",
       "      <td>314.14</td>\n",
       "    </tr>\n",
       "    <tr>\n",
       "      <td>6</td>\n",
       "      <td>GBA</td>\n",
       "      <td>317.85</td>\n",
       "    </tr>\n",
       "    <tr>\n",
       "      <td>15</td>\n",
       "      <td>PS</td>\n",
       "      <td>730.86</td>\n",
       "    </tr>\n",
       "    <tr>\n",
       "      <td>4</td>\n",
       "      <td>DS</td>\n",
       "      <td>806.12</td>\n",
       "    </tr>\n",
       "    <tr>\n",
       "      <td>26</td>\n",
       "      <td>Wii</td>\n",
       "      <td>907.51</td>\n",
       "    </tr>\n",
       "    <tr>\n",
       "      <td>17</td>\n",
       "      <td>PS3</td>\n",
       "      <td>939.65</td>\n",
       "    </tr>\n",
       "    <tr>\n",
       "      <td>28</td>\n",
       "      <td>X360</td>\n",
       "      <td>971.42</td>\n",
       "    </tr>\n",
       "    <tr>\n",
       "      <td>16</td>\n",
       "      <td>PS2</td>\n",
       "      <td>1255.77</td>\n",
       "    </tr>\n",
       "  </tbody>\n",
       "</table>\n",
       "</div>"
      ],
      "text/plain": [
       "   platform  world_sales\n",
       "14     PCFX         0.03\n",
       "9        GG         0.04\n",
       "1       3DO         0.10\n",
       "24     TG16         0.16\n",
       "25       WS         1.42\n",
       "12       NG         1.44\n",
       "22      SCD         1.86\n",
       "3        DC        15.95\n",
       "8       GEN        30.77\n",
       "21      SAT        33.59\n",
       "20      PSV        54.07\n",
       "27     WiiU        82.19\n",
       "0      2600        96.98\n",
       "30     XOne       159.32\n",
       "7        GC       198.93\n",
       "23     SNES       200.04\n",
       "10      N64       218.68\n",
       "11      NES       251.05\n",
       "5        GB       255.46\n",
       "29       XB       257.74\n",
       "2       3DS       259.00\n",
       "13       PC       259.52\n",
       "19      PSP       294.05\n",
       "18      PS4       314.14\n",
       "6       GBA       317.85\n",
       "15       PS       730.86\n",
       "4        DS       806.12\n",
       "26      Wii       907.51\n",
       "17      PS3       939.65\n",
       "28     X360       971.42\n",
       "16      PS2      1255.77"
      ]
     },
     "metadata": {},
     "output_type": "display_data"
    }
   ],
   "source": [
    "display(world_sales_grouped)"
   ]
  },
  {
   "cell_type": "markdown",
   "metadata": {},
   "source": [
    "Для наглядности возьмем 2 самые популярные по проданным копиями приставки (PS2 и Xbox360) и проведем сравнительный анализ с их предыдущими и последующими поколениями(PS1, PS3 и Xbox,XboxONE). К каждой построим по 2 графика (распределение по годам по кол-ву игр и объему выручки)"
   ]
  },
  {
   "cell_type": "markdown",
   "metadata": {},
   "source": [
    "#### Playstation 1"
   ]
  },
  {
   "cell_type": "code",
   "execution_count": 11,
   "metadata": {},
   "outputs": [],
   "source": [
    "data_ps = data[(data['platform'] == 'PS')]"
   ]
  },
  {
   "cell_type": "code",
   "execution_count": 12,
   "metadata": {},
   "outputs": [
    {
     "data": {
      "image/png": "[encoded data removed]",
      "text/plain": [
       "<Figure size 432x288 with 1 Axes>"
      ]
     },
     "metadata": {
      "needs_background": "light"
     },
     "output_type": "display_data"
    }
   ],
   "source": [
    "data_ps['year_of_release'].hist(bins=100, range=(1994, 2003))\n",
    "plt.title('Распределение релиза игр PS по годам')\n",
    "plt.show()"
   ]
  },
  {
   "cell_type": "code",
   "execution_count": 13,
   "metadata": {},
   "outputs": [
    {
     "data": {
      "text/plain": [
       "Text(0.5, 1.0, 'Распределение выручки от выпущенных игр по годам')"
      ]
     },
     "execution_count": 13,
     "metadata": {},
     "output_type": "execute_result"
    },
    {
     "data": {
      "image/png": "[encoded data removed]",
      "text/plain": [
       "<Figure size 864x432 with 1 Axes>"
      ]
     },
     "metadata": {
      "needs_background": "light"
     },
     "output_type": "display_data"
    }
   ],
   "source": [
    "data_ps.plot(x='year_of_release', y='world_sales', style='o', xlim=(1994, 2003), grid=True,\n",
    "        figsize=(12, 6))\n",
    "plt.title('Распределение выручки от выпущенных игр по годам')"
   ]
  },
  {
   "cell_type": "code",
   "execution_count": 14,
   "metadata": {},
   "outputs": [],
   "source": [
    "data_ps_grouped = data_ps.groupby(['year_of_release'])['world_sales'].sum().reset_index().sort_values(by = 'world_sales')"
   ]
  },
  {
   "cell_type": "code",
   "execution_count": 15,
   "metadata": {},
   "outputs": [
    {
     "name": "stdout",
     "output_type": "stream",
     "text": [
      "Сбор выручки от продаж игр по годам на платформе Playstation 1\n"
     ]
    },
    {
     "data": {
      "text/html": [
       "<div>\n",
       "<style scoped>\n",
       "    .dataframe tbody tr th:only-of-type {\n",
       "        vertical-align: middle;\n",
       "    }\n",
       "\n",
       "    .dataframe tbody tr th {\n",
       "        vertical-align: top;\n",
       "    }\n",
       "\n",
       "    .dataframe thead th {\n",
       "        text-align: right;\n",
       "    }\n",
       "</style>\n",
       "<table border=\"1\" class=\"dataframe\">\n",
       "  <thead>\n",
       "    <tr style=\"text-align: right;\">\n",
       "      <th></th>\n",
       "      <th>year_of_release</th>\n",
       "      <th>world_sales</th>\n",
       "    </tr>\n",
       "  </thead>\n",
       "  <tbody>\n",
       "    <tr>\n",
       "      <td>9</td>\n",
       "      <td>2003.0</td>\n",
       "      <td>2.07</td>\n",
       "    </tr>\n",
       "    <tr>\n",
       "      <td>0</td>\n",
       "      <td>1994.0</td>\n",
       "      <td>6.03</td>\n",
       "    </tr>\n",
       "    <tr>\n",
       "      <td>8</td>\n",
       "      <td>2002.0</td>\n",
       "      <td>6.67</td>\n",
       "    </tr>\n",
       "    <tr>\n",
       "      <td>7</td>\n",
       "      <td>2001.0</td>\n",
       "      <td>35.59</td>\n",
       "    </tr>\n",
       "    <tr>\n",
       "      <td>1</td>\n",
       "      <td>1995.0</td>\n",
       "      <td>35.96</td>\n",
       "    </tr>\n",
       "    <tr>\n",
       "      <td>2</td>\n",
       "      <td>1996.0</td>\n",
       "      <td>94.70</td>\n",
       "    </tr>\n",
       "    <tr>\n",
       "      <td>6</td>\n",
       "      <td>2000.0</td>\n",
       "      <td>96.37</td>\n",
       "    </tr>\n",
       "    <tr>\n",
       "      <td>3</td>\n",
       "      <td>1997.0</td>\n",
       "      <td>136.17</td>\n",
       "    </tr>\n",
       "    <tr>\n",
       "      <td>5</td>\n",
       "      <td>1999.0</td>\n",
       "      <td>144.53</td>\n",
       "    </tr>\n",
       "    <tr>\n",
       "      <td>4</td>\n",
       "      <td>1998.0</td>\n",
       "      <td>169.49</td>\n",
       "    </tr>\n",
       "  </tbody>\n",
       "</table>\n",
       "</div>"
      ],
      "text/plain": [
       "   year_of_release  world_sales\n",
       "9           2003.0         2.07\n",
       "0           1994.0         6.03\n",
       "8           2002.0         6.67\n",
       "7           2001.0        35.59\n",
       "1           1995.0        35.96\n",
       "2           1996.0        94.70\n",
       "6           2000.0        96.37\n",
       "3           1997.0       136.17\n",
       "5           1999.0       144.53\n",
       "4           1998.0       169.49"
      ]
     },
     "metadata": {},
     "output_type": "display_data"
    }
   ],
   "source": [
    "print('Сбор выручки от продаж игр по годам на платформе Playstation 1')\n",
    "display(data_ps_grouped)"
   ]
  },
  {
   "cell_type": "markdown",
   "metadata": {},
   "source": [
    "Из представленных выше графиков мы видим следующее:\n",
    "1. Жизненный цикл платформы PS составил 10 лет.\n",
    "2. Пик релиза игр на PS пришелся на 5-й год жизненного цикла. При этом на втором графике видно что в этом году были выпущены игры с невысоким уровнем продаж. Игр с высоким уровнем продаж выходили на 4 и 6 годы жизни консоли. \n",
    "3. За счет бОльшего выпуска количества игр 1998 год оказался самым успешным по уровню продаж и количеству выпущенных игр."
   ]
  },
  {
   "cell_type": "markdown",
   "metadata": {},
   "source": [
    "#### Playstation 2"
   ]
  },
  {
   "cell_type": "code",
   "execution_count": 16,
   "metadata": {},
   "outputs": [],
   "source": [
    "data_ps2 = data[(data['platform'] == 'PS2')]"
   ]
  },
  {
   "cell_type": "code",
   "execution_count": 17,
   "metadata": {},
   "outputs": [
    {
     "data": {
      "image/png": "[encoded data removed]",
      "text/plain": [
       "<Figure size 432x288 with 1 Axes>"
      ]
     },
     "metadata": {
      "needs_background": "light"
     },
     "output_type": "display_data"
    }
   ],
   "source": [
    "data_ps2['year_of_release'].hist(bins=100, range=(2000, 2011))\n",
    "plt.title('Распределение релиза игр PS2 по годам')\n",
    "plt.show()"
   ]
  },
  {
   "cell_type": "code",
   "execution_count": 18,
   "metadata": {},
   "outputs": [
    {
     "data": {
      "text/plain": [
       "Text(0.5, 1.0, 'Распределение выручки от выпущенных игр по годам')"
      ]
     },
     "execution_count": 18,
     "metadata": {},
     "output_type": "execute_result"
    },
    {
     "data": {
      "image/png": "[encoded data removed]",
      "text/plain": [
       "<Figure size 864x432 with 1 Axes>"
      ]
     },
     "metadata": {
      "needs_background": "light"
     },
     "output_type": "display_data"
    }
   ],
   "source": [
    "data_ps2.plot(x='year_of_release', y='world_sales', style='o', xlim=(2000, 2011), grid=True,\n",
    "        figsize=(12, 6))\n",
    "plt.title('Распределение выручки от выпущенных игр по годам')"
   ]
  },
  {
   "cell_type": "code",
   "execution_count": 19,
   "metadata": {},
   "outputs": [],
   "source": [
    "data_ps2_grouped = data_ps2.groupby(['year_of_release'])['world_sales'].sum().reset_index().sort_values(by = 'world_sales')"
   ]
  },
  {
   "cell_type": "code",
   "execution_count": 20,
   "metadata": {},
   "outputs": [
    {
     "name": "stdout",
     "output_type": "stream",
     "text": [
      "Сбор выручки от продаж игр по годам на платформе Playstation 2\n"
     ]
    },
    {
     "data": {
      "text/html": [
       "<div>\n",
       "<style scoped>\n",
       "    .dataframe tbody tr th:only-of-type {\n",
       "        vertical-align: middle;\n",
       "    }\n",
       "\n",
       "    .dataframe tbody tr th {\n",
       "        vertical-align: top;\n",
       "    }\n",
       "\n",
       "    .dataframe thead th {\n",
       "        text-align: right;\n",
       "    }\n",
       "</style>\n",
       "<table border=\"1\" class=\"dataframe\">\n",
       "  <thead>\n",
       "    <tr style=\"text-align: right;\">\n",
       "      <th></th>\n",
       "      <th>year_of_release</th>\n",
       "      <th>world_sales</th>\n",
       "    </tr>\n",
       "  </thead>\n",
       "  <tbody>\n",
       "    <tr>\n",
       "      <td>11</td>\n",
       "      <td>2011.0</td>\n",
       "      <td>0.45</td>\n",
       "    </tr>\n",
       "    <tr>\n",
       "      <td>10</td>\n",
       "      <td>2010.0</td>\n",
       "      <td>5.64</td>\n",
       "    </tr>\n",
       "    <tr>\n",
       "      <td>9</td>\n",
       "      <td>2009.0</td>\n",
       "      <td>26.40</td>\n",
       "    </tr>\n",
       "    <tr>\n",
       "      <td>0</td>\n",
       "      <td>2000.0</td>\n",
       "      <td>39.17</td>\n",
       "    </tr>\n",
       "    <tr>\n",
       "      <td>8</td>\n",
       "      <td>2008.0</td>\n",
       "      <td>53.90</td>\n",
       "    </tr>\n",
       "    <tr>\n",
       "      <td>7</td>\n",
       "      <td>2007.0</td>\n",
       "      <td>75.99</td>\n",
       "    </tr>\n",
       "    <tr>\n",
       "      <td>6</td>\n",
       "      <td>2006.0</td>\n",
       "      <td>103.42</td>\n",
       "    </tr>\n",
       "    <tr>\n",
       "      <td>5</td>\n",
       "      <td>2005.0</td>\n",
       "      <td>160.66</td>\n",
       "    </tr>\n",
       "    <tr>\n",
       "      <td>1</td>\n",
       "      <td>2001.0</td>\n",
       "      <td>166.43</td>\n",
       "    </tr>\n",
       "    <tr>\n",
       "      <td>3</td>\n",
       "      <td>2003.0</td>\n",
       "      <td>184.31</td>\n",
       "    </tr>\n",
       "    <tr>\n",
       "      <td>2</td>\n",
       "      <td>2002.0</td>\n",
       "      <td>205.38</td>\n",
       "    </tr>\n",
       "    <tr>\n",
       "      <td>4</td>\n",
       "      <td>2004.0</td>\n",
       "      <td>211.81</td>\n",
       "    </tr>\n",
       "  </tbody>\n",
       "</table>\n",
       "</div>"
      ],
      "text/plain": [
       "    year_of_release  world_sales\n",
       "11           2011.0         0.45\n",
       "10           2010.0         5.64\n",
       "9            2009.0        26.40\n",
       "0            2000.0        39.17\n",
       "8            2008.0        53.90\n",
       "7            2007.0        75.99\n",
       "6            2006.0       103.42\n",
       "5            2005.0       160.66\n",
       "1            2001.0       166.43\n",
       "3            2003.0       184.31\n",
       "2            2002.0       205.38\n",
       "4            2004.0       211.81"
      ]
     },
     "metadata": {},
     "output_type": "display_data"
    }
   ],
   "source": [
    "print('Сбор выручки от продаж игр по годам на платформе Playstation 2')\n",
    "display(data_ps2_grouped)"
   ]
  },
  {
   "cell_type": "markdown",
   "metadata": {},
   "source": [
    "Из представленных выше графиков мы видим следующее:\n",
    "1. Жизненный цикл платформы PS2 составил 11 лет.\n",
    "2. Пик релиза игр на PS пришелся на 3-й год жизненного цикла. При этом на втором графике видно что игры с самыми высокими продажами были выпущены на 2-м, 3-м и 5-м годах жизни консоли.  \n",
    "3. 2004 год(5-й жизни консоли) за счет выпуска 1 игры (GTA SA) с супер продажами стал самым успешным в истории PS2."
   ]
  },
  {
   "cell_type": "markdown",
   "metadata": {},
   "source": [
    "#### Playstation 3"
   ]
  },
  {
   "cell_type": "code",
   "execution_count": 21,
   "metadata": {},
   "outputs": [],
   "source": [
    "data_ps3 = data[(data['platform'] == 'PS3')]"
   ]
  },
  {
   "cell_type": "code",
   "execution_count": 22,
   "metadata": {},
   "outputs": [
    {
     "data": {
      "image/png": "[encoded data removed]",
      "text/plain": [
       "<Figure size 432x288 with 1 Axes>"
      ]
     },
     "metadata": {
      "needs_background": "light"
     },
     "output_type": "display_data"
    }
   ],
   "source": [
    "data_ps3['year_of_release'].hist(bins=100, range=(2006, 2016))\n",
    "plt.title('Распределение релиза игр PS3 по годам')\n",
    "plt.show()"
   ]
  },
  {
   "cell_type": "code",
   "execution_count": 23,
   "metadata": {},
   "outputs": [
    {
     "data": {
      "text/plain": [
       "Text(0.5, 1.0, 'Распределение выручки от выпущенных игр по годам')"
      ]
     },
     "execution_count": 23,
     "metadata": {},
     "output_type": "execute_result"
    },
    {
     "data": {
      "image/png": "[encoded data removed]",
      "text/plain": [
       "<Figure size 864x432 with 1 Axes>"
      ]
     },
     "metadata": {
      "needs_background": "light"
     },
     "output_type": "display_data"
    }
   ],
   "source": [
    "data_ps3.plot(x='year_of_release', y='world_sales', style='o', xlim=(2006, 2016), grid=True,\n",
    "        figsize=(12, 6))\n",
    "plt.title('Распределение выручки от выпущенных игр по годам')"
   ]
  },
  {
   "cell_type": "code",
   "execution_count": 24,
   "metadata": {},
   "outputs": [],
   "source": [
    "data_ps3_grouped = data_ps3.groupby(['year_of_release'])['world_sales'].sum().reset_index().sort_values(by = 'world_sales')"
   ]
  },
  {
   "cell_type": "code",
   "execution_count": 25,
   "metadata": {},
   "outputs": [
    {
     "name": "stdout",
     "output_type": "stream",
     "text": [
      "Сбор выручки от продаж игр по годам на платформе Playstation 3\n"
     ]
    },
    {
     "data": {
      "text/html": [
       "<div>\n",
       "<style scoped>\n",
       "    .dataframe tbody tr th:only-of-type {\n",
       "        vertical-align: middle;\n",
       "    }\n",
       "\n",
       "    .dataframe tbody tr th {\n",
       "        vertical-align: top;\n",
       "    }\n",
       "\n",
       "    .dataframe thead th {\n",
       "        text-align: right;\n",
       "    }\n",
       "</style>\n",
       "<table border=\"1\" class=\"dataframe\">\n",
       "  <thead>\n",
       "    <tr style=\"text-align: right;\">\n",
       "      <th></th>\n",
       "      <th>year_of_release</th>\n",
       "      <th>world_sales</th>\n",
       "    </tr>\n",
       "  </thead>\n",
       "  <tbody>\n",
       "    <tr>\n",
       "      <td>10</td>\n",
       "      <td>2016.0</td>\n",
       "      <td>3.60</td>\n",
       "    </tr>\n",
       "    <tr>\n",
       "      <td>9</td>\n",
       "      <td>2015.0</td>\n",
       "      <td>16.82</td>\n",
       "    </tr>\n",
       "    <tr>\n",
       "      <td>0</td>\n",
       "      <td>2006.0</td>\n",
       "      <td>20.96</td>\n",
       "    </tr>\n",
       "    <tr>\n",
       "      <td>8</td>\n",
       "      <td>2014.0</td>\n",
       "      <td>47.76</td>\n",
       "    </tr>\n",
       "    <tr>\n",
       "      <td>1</td>\n",
       "      <td>2007.0</td>\n",
       "      <td>73.19</td>\n",
       "    </tr>\n",
       "    <tr>\n",
       "      <td>6</td>\n",
       "      <td>2012.0</td>\n",
       "      <td>107.36</td>\n",
       "    </tr>\n",
       "    <tr>\n",
       "      <td>7</td>\n",
       "      <td>2013.0</td>\n",
       "      <td>113.25</td>\n",
       "    </tr>\n",
       "    <tr>\n",
       "      <td>2</td>\n",
       "      <td>2008.0</td>\n",
       "      <td>118.52</td>\n",
       "    </tr>\n",
       "    <tr>\n",
       "      <td>3</td>\n",
       "      <td>2009.0</td>\n",
       "      <td>130.93</td>\n",
       "    </tr>\n",
       "    <tr>\n",
       "      <td>4</td>\n",
       "      <td>2010.0</td>\n",
       "      <td>142.17</td>\n",
       "    </tr>\n",
       "    <tr>\n",
       "      <td>5</td>\n",
       "      <td>2011.0</td>\n",
       "      <td>156.78</td>\n",
       "    </tr>\n",
       "  </tbody>\n",
       "</table>\n",
       "</div>"
      ],
      "text/plain": [
       "    year_of_release  world_sales\n",
       "10           2016.0         3.60\n",
       "9            2015.0        16.82\n",
       "0            2006.0        20.96\n",
       "8            2014.0        47.76\n",
       "1            2007.0        73.19\n",
       "6            2012.0       107.36\n",
       "7            2013.0       113.25\n",
       "2            2008.0       118.52\n",
       "3            2009.0       130.93\n",
       "4            2010.0       142.17\n",
       "5            2011.0       156.78"
      ]
     },
     "metadata": {},
     "output_type": "display_data"
    }
   ],
   "source": [
    "print('Сбор выручки от продаж игр по годам на платформе Playstation 3')\n",
    "display(data_ps3_grouped)"
   ]
  },
  {
   "cell_type": "markdown",
   "metadata": {},
   "source": [
    "Из представленных выше графиков мы видим следующее:\n",
    "1. Жизненный цикл платформы PS3 составил 10 лет.\n",
    "2. Пик релиза игр на PS пришелся на 6-й год жизненного цикла. \n",
    "3. 2011 год(6-й жизни консоли) стал самым успешным по части количества проданных копий в истории PS3."
   ]
  },
  {
   "cell_type": "markdown",
   "metadata": {},
   "source": [
    "#### Playstation 4"
   ]
  },
  {
   "cell_type": "code",
   "execution_count": 26,
   "metadata": {},
   "outputs": [],
   "source": [
    "data_PS4 = data[(data['platform'] == 'PS4')]"
   ]
  },
  {
   "cell_type": "code",
   "execution_count": 27,
   "metadata": {},
   "outputs": [
    {
     "data": {
      "image/png": "[encoded data removed]",
      "text/plain": [
       "<Figure size 432x288 with 1 Axes>"
      ]
     },
     "metadata": {
      "needs_background": "light"
     },
     "output_type": "display_data"
    }
   ],
   "source": [
    "data_PS4['year_of_release'].hist(bins=100, range=(2010, 2016))\n",
    "plt.title('Распределение релиза игр PS4 по годам')\n",
    "plt.show()"
   ]
  },
  {
   "cell_type": "code",
   "execution_count": 28,
   "metadata": {},
   "outputs": [
    {
     "data": {
      "text/plain": [
       "Text(0.5, 1.0, 'Распределение выручки от выпущенных игр по годам')"
      ]
     },
     "execution_count": 28,
     "metadata": {},
     "output_type": "execute_result"
    },
    {
     "data": {
      "image/png": "[encoded data removed]",
      "text/plain": [
       "<Figure size 864x432 with 1 Axes>"
      ]
     },
     "metadata": {
      "needs_background": "light"
     },
     "output_type": "display_data"
    }
   ],
   "source": [
    "data_PS4.plot(x='year_of_release', y='world_sales', style='o', xlim=(2010, 2016), grid=True,\n",
    "        figsize=(12, 6))\n",
    "plt.title('Распределение выручки от выпущенных игр по годам')"
   ]
  },
  {
   "cell_type": "code",
   "execution_count": 29,
   "metadata": {},
   "outputs": [],
   "source": [
    "data_PS4_grouped = data_PS4.groupby(['year_of_release'])['world_sales'].sum().reset_index().sort_values(by = 'world_sales')"
   ]
  },
  {
   "cell_type": "code",
   "execution_count": 30,
   "metadata": {},
   "outputs": [
    {
     "name": "stdout",
     "output_type": "stream",
     "text": [
      "Сбор выручки от продаж игр по годам на платформе Playstation 3\n"
     ]
    },
    {
     "data": {
      "text/html": [
       "<div>\n",
       "<style scoped>\n",
       "    .dataframe tbody tr th:only-of-type {\n",
       "        vertical-align: middle;\n",
       "    }\n",
       "\n",
       "    .dataframe tbody tr th {\n",
       "        vertical-align: top;\n",
       "    }\n",
       "\n",
       "    .dataframe thead th {\n",
       "        text-align: right;\n",
       "    }\n",
       "</style>\n",
       "<table border=\"1\" class=\"dataframe\">\n",
       "  <thead>\n",
       "    <tr style=\"text-align: right;\">\n",
       "      <th></th>\n",
       "      <th>year_of_release</th>\n",
       "      <th>world_sales</th>\n",
       "    </tr>\n",
       "  </thead>\n",
       "  <tbody>\n",
       "    <tr>\n",
       "      <td>0</td>\n",
       "      <td>2013.0</td>\n",
       "      <td>25.99</td>\n",
       "    </tr>\n",
       "    <tr>\n",
       "      <td>3</td>\n",
       "      <td>2016.0</td>\n",
       "      <td>69.25</td>\n",
       "    </tr>\n",
       "    <tr>\n",
       "      <td>1</td>\n",
       "      <td>2014.0</td>\n",
       "      <td>100.00</td>\n",
       "    </tr>\n",
       "    <tr>\n",
       "      <td>2</td>\n",
       "      <td>2015.0</td>\n",
       "      <td>118.90</td>\n",
       "    </tr>\n",
       "  </tbody>\n",
       "</table>\n",
       "</div>"
      ],
      "text/plain": [
       "   year_of_release  world_sales\n",
       "0           2013.0        25.99\n",
       "3           2016.0        69.25\n",
       "1           2014.0       100.00\n",
       "2           2015.0       118.90"
      ]
     },
     "metadata": {},
     "output_type": "display_data"
    }
   ],
   "source": [
    "print('Сбор выручки от продаж игр по годам на платформе Playstation 3')\n",
    "display(data_PS4_grouped)"
   ]
  },
  {
   "cell_type": "markdown",
   "metadata": {},
   "source": [
    "В настоящий момент консоль лишь на 4-м году жизни поколения"
   ]
  },
  {
   "cell_type": "markdown",
   "metadata": {},
   "source": [
    "#### Xbox"
   ]
  },
  {
   "cell_type": "code",
   "execution_count": 31,
   "metadata": {},
   "outputs": [],
   "source": [
    "data_XB = data[(data['platform'] == 'XB')]"
   ]
  },
  {
   "cell_type": "code",
   "execution_count": 32,
   "metadata": {},
   "outputs": [
    {
     "data": {
      "image/png": "[encoded data removed]",
      "text/plain": [
       "<Figure size 432x288 with 1 Axes>"
      ]
     },
     "metadata": {
      "needs_background": "light"
     },
     "output_type": "display_data"
    }
   ],
   "source": [
    "data_XB['year_of_release'].hist(bins=100, range=(2001, 2008))\n",
    "plt.title('Распределение релиза игр XB по годам')\n",
    "plt.show()"
   ]
  },
  {
   "cell_type": "code",
   "execution_count": 33,
   "metadata": {},
   "outputs": [
    {
     "data": {
      "text/plain": [
       "Text(0.5, 1.0, 'Распределение выручки от выпущенных игр по годам')"
      ]
     },
     "execution_count": 33,
     "metadata": {},
     "output_type": "execute_result"
    },
    {
     "data": {
      "image/png": "[encoded data removed]",
      "text/plain": [
       "<Figure size 864x432 with 1 Axes>"
      ]
     },
     "metadata": {
      "needs_background": "light"
     },
     "output_type": "display_data"
    }
   ],
   "source": [
    "data_XB.plot(x='year_of_release', y='world_sales', style='o', xlim=(2001, 2008), grid=True,\n",
    "        figsize=(12, 6))\n",
    "plt.title('Распределение выручки от выпущенных игр по годам')"
   ]
  },
  {
   "cell_type": "code",
   "execution_count": 34,
   "metadata": {},
   "outputs": [],
   "source": [
    "data_XB_grouped = data_XB.groupby(['year_of_release'])['world_sales'].sum().reset_index().sort_values(by = 'world_sales')"
   ]
  },
  {
   "cell_type": "code",
   "execution_count": 35,
   "metadata": {},
   "outputs": [
    {
     "name": "stdout",
     "output_type": "stream",
     "text": [
      "Сбор выручки от продаж игр по годам на платформе Xbox\n"
     ]
    },
    {
     "data": {
      "text/html": [
       "<div>\n",
       "<style scoped>\n",
       "    .dataframe tbody tr th:only-of-type {\n",
       "        vertical-align: middle;\n",
       "    }\n",
       "\n",
       "    .dataframe tbody tr th {\n",
       "        vertical-align: top;\n",
       "    }\n",
       "\n",
       "    .dataframe thead th {\n",
       "        text-align: right;\n",
       "    }\n",
       "</style>\n",
       "<table border=\"1\" class=\"dataframe\">\n",
       "  <thead>\n",
       "    <tr style=\"text-align: right;\">\n",
       "      <th></th>\n",
       "      <th>year_of_release</th>\n",
       "      <th>world_sales</th>\n",
       "    </tr>\n",
       "  </thead>\n",
       "  <tbody>\n",
       "    <tr>\n",
       "      <td>8</td>\n",
       "      <td>2008.0</td>\n",
       "      <td>0.18</td>\n",
       "    </tr>\n",
       "    <tr>\n",
       "      <td>7</td>\n",
       "      <td>2007.0</td>\n",
       "      <td>0.55</td>\n",
       "    </tr>\n",
       "    <tr>\n",
       "      <td>0</td>\n",
       "      <td>2000.0</td>\n",
       "      <td>0.99</td>\n",
       "    </tr>\n",
       "    <tr>\n",
       "      <td>6</td>\n",
       "      <td>2006.0</td>\n",
       "      <td>10.04</td>\n",
       "    </tr>\n",
       "    <tr>\n",
       "      <td>1</td>\n",
       "      <td>2001.0</td>\n",
       "      <td>22.26</td>\n",
       "    </tr>\n",
       "    <tr>\n",
       "      <td>2</td>\n",
       "      <td>2002.0</td>\n",
       "      <td>48.01</td>\n",
       "    </tr>\n",
       "    <tr>\n",
       "      <td>5</td>\n",
       "      <td>2005.0</td>\n",
       "      <td>49.08</td>\n",
       "    </tr>\n",
       "    <tr>\n",
       "      <td>3</td>\n",
       "      <td>2003.0</td>\n",
       "      <td>55.04</td>\n",
       "    </tr>\n",
       "    <tr>\n",
       "      <td>4</td>\n",
       "      <td>2004.0</td>\n",
       "      <td>65.42</td>\n",
       "    </tr>\n",
       "  </tbody>\n",
       "</table>\n",
       "</div>"
      ],
      "text/plain": [
       "   year_of_release  world_sales\n",
       "8           2008.0         0.18\n",
       "7           2007.0         0.55\n",
       "0           2000.0         0.99\n",
       "6           2006.0        10.04\n",
       "1           2001.0        22.26\n",
       "2           2002.0        48.01\n",
       "5           2005.0        49.08\n",
       "3           2003.0        55.04\n",
       "4           2004.0        65.42"
      ]
     },
     "metadata": {},
     "output_type": "display_data"
    }
   ],
   "source": [
    "print('Сбор выручки от продаж игр по годам на платформе Xbox')\n",
    "display(data_XB_grouped)"
   ]
  },
  {
   "cell_type": "markdown",
   "metadata": {},
   "source": [
    "Из представленных выше графиков мы видим следующее:\n",
    "1. Жизненный цикл платформы Xbox составил 9 лет.\n",
    "2. Пик релиза игр на Xbox пришелся на 3-5 годы жизненного цикла. \n",
    "3. 2004 год (5-й жизни консоли) стал самым успешным по части количества проданных копий в истории Xbox."
   ]
  },
  {
   "cell_type": "markdown",
   "metadata": {},
   "source": [
    "#### Xbox 360"
   ]
  },
  {
   "cell_type": "code",
   "execution_count": 36,
   "metadata": {},
   "outputs": [],
   "source": [
    "data_X360 = data[(data['platform'] == 'X360')]"
   ]
  },
  {
   "cell_type": "code",
   "execution_count": 37,
   "metadata": {},
   "outputs": [
    {
     "data": {
      "image/png": "[encoded data removed]",
      "text/plain": [
       "<Figure size 432x288 with 1 Axes>"
      ]
     },
     "metadata": {
      "needs_background": "light"
     },
     "output_type": "display_data"
    }
   ],
   "source": [
    "data_X360['year_of_release'].hist(bins=100, range=(2005, 2016))\n",
    "plt.title('Распределение релиза игр X360 по годам')\n",
    "plt.show()"
   ]
  },
  {
   "cell_type": "code",
   "execution_count": 38,
   "metadata": {},
   "outputs": [
    {
     "data": {
      "text/plain": [
       "Text(0.5, 1.0, 'Распределение выручки от выпущенных игр по годам')"
      ]
     },
     "execution_count": 38,
     "metadata": {},
     "output_type": "execute_result"
    },
    {
     "data": {
      "image/png": "[encoded data removed]",
      "text/plain": [
       "<Figure size 864x432 with 1 Axes>"
      ]
     },
     "metadata": {
      "needs_background": "light"
     },
     "output_type": "display_data"
    }
   ],
   "source": [
    "data_X360.plot(x='year_of_release', y='world_sales', style='o', xlim=(2005, 2016), grid=True,\n",
    "        figsize=(12, 6))\n",
    "plt.title('Распределение выручки от выпущенных игр по годам')"
   ]
  },
  {
   "cell_type": "code",
   "execution_count": 39,
   "metadata": {},
   "outputs": [],
   "source": [
    "data_X360_grouped = data_X360.groupby(['year_of_release'])['world_sales'].sum().reset_index().sort_values(by = 'world_sales')"
   ]
  },
  {
   "cell_type": "code",
   "execution_count": 40,
   "metadata": {},
   "outputs": [
    {
     "name": "stdout",
     "output_type": "stream",
     "text": [
      "Сбор выручки от продаж игр по годам на платформе X360\n"
     ]
    },
    {
     "data": {
      "text/html": [
       "<div>\n",
       "<style scoped>\n",
       "    .dataframe tbody tr th:only-of-type {\n",
       "        vertical-align: middle;\n",
       "    }\n",
       "\n",
       "    .dataframe tbody tr th {\n",
       "        vertical-align: top;\n",
       "    }\n",
       "\n",
       "    .dataframe thead th {\n",
       "        text-align: right;\n",
       "    }\n",
       "</style>\n",
       "<table border=\"1\" class=\"dataframe\">\n",
       "  <thead>\n",
       "    <tr style=\"text-align: right;\">\n",
       "      <th></th>\n",
       "      <th>year_of_release</th>\n",
       "      <th>world_sales</th>\n",
       "    </tr>\n",
       "  </thead>\n",
       "  <tbody>\n",
       "    <tr>\n",
       "      <td>11</td>\n",
       "      <td>2016.0</td>\n",
       "      <td>1.52</td>\n",
       "    </tr>\n",
       "    <tr>\n",
       "      <td>0</td>\n",
       "      <td>2005.0</td>\n",
       "      <td>8.25</td>\n",
       "    </tr>\n",
       "    <tr>\n",
       "      <td>10</td>\n",
       "      <td>2015.0</td>\n",
       "      <td>11.96</td>\n",
       "    </tr>\n",
       "    <tr>\n",
       "      <td>9</td>\n",
       "      <td>2014.0</td>\n",
       "      <td>34.74</td>\n",
       "    </tr>\n",
       "    <tr>\n",
       "      <td>1</td>\n",
       "      <td>2006.0</td>\n",
       "      <td>51.62</td>\n",
       "    </tr>\n",
       "    <tr>\n",
       "      <td>8</td>\n",
       "      <td>2013.0</td>\n",
       "      <td>88.58</td>\n",
       "    </tr>\n",
       "    <tr>\n",
       "      <td>2</td>\n",
       "      <td>2007.0</td>\n",
       "      <td>95.41</td>\n",
       "    </tr>\n",
       "    <tr>\n",
       "      <td>7</td>\n",
       "      <td>2012.0</td>\n",
       "      <td>99.74</td>\n",
       "    </tr>\n",
       "    <tr>\n",
       "      <td>4</td>\n",
       "      <td>2009.0</td>\n",
       "      <td>120.29</td>\n",
       "    </tr>\n",
       "    <tr>\n",
       "      <td>3</td>\n",
       "      <td>2008.0</td>\n",
       "      <td>135.26</td>\n",
       "    </tr>\n",
       "    <tr>\n",
       "      <td>6</td>\n",
       "      <td>2011.0</td>\n",
       "      <td>143.84</td>\n",
       "    </tr>\n",
       "    <tr>\n",
       "      <td>5</td>\n",
       "      <td>2010.0</td>\n",
       "      <td>170.03</td>\n",
       "    </tr>\n",
       "  </tbody>\n",
       "</table>\n",
       "</div>"
      ],
      "text/plain": [
       "    year_of_release  world_sales\n",
       "11           2016.0         1.52\n",
       "0            2005.0         8.25\n",
       "10           2015.0        11.96\n",
       "9            2014.0        34.74\n",
       "1            2006.0        51.62\n",
       "8            2013.0        88.58\n",
       "2            2007.0        95.41\n",
       "7            2012.0        99.74\n",
       "4            2009.0       120.29\n",
       "3            2008.0       135.26\n",
       "6            2011.0       143.84\n",
       "5            2010.0       170.03"
      ]
     },
     "metadata": {},
     "output_type": "display_data"
    }
   ],
   "source": [
    "print('Сбор выручки от продаж игр по годам на платформе X360')\n",
    "display(data_X360_grouped)"
   ]
  },
  {
   "cell_type": "markdown",
   "metadata": {},
   "source": [
    "Из представленных выше графиков мы видим следующее:\n",
    "1. Жизненный цикл платформы Xbox составил 12 лет.\n",
    "2. Пик релиза игр на Xbox пришелся на 7-й год жизненного цикла. \n",
    "3. 2010 год (6-й жизни консоли) стал самым успешным по части количества проданных копий в истории Xbox."
   ]
  },
  {
   "cell_type": "markdown",
   "metadata": {},
   "source": [
    "#### Xbox One"
   ]
  },
  {
   "cell_type": "code",
   "execution_count": 41,
   "metadata": {},
   "outputs": [],
   "source": [
    "data_XOne = data[(data['platform'] == 'XOne')]"
   ]
  },
  {
   "cell_type": "code",
   "execution_count": 42,
   "metadata": {},
   "outputs": [
    {
     "data": {
      "image/png": "[encoded data removed]",
      "text/plain": [
       "<Figure size 432x288 with 1 Axes>"
      ]
     },
     "metadata": {
      "needs_background": "light"
     },
     "output_type": "display_data"
    }
   ],
   "source": [
    "data_XOne['year_of_release'].hist(bins=100, range=(2010, 2016))\n",
    "plt.title('Распределение релиза игр XOne по годам')\n",
    "plt.show()"
   ]
  },
  {
   "cell_type": "code",
   "execution_count": 43,
   "metadata": {},
   "outputs": [
    {
     "data": {
      "text/plain": [
       "Text(0.5, 1.0, 'Распределение выручки от выпущенных игр по годам')"
      ]
     },
     "execution_count": 43,
     "metadata": {},
     "output_type": "execute_result"
    },
    {
     "data": {
      "image/png": "[encoded data removed]",
      "text/plain": [
       "<Figure size 864x432 with 1 Axes>"
      ]
     },
     "metadata": {
      "needs_background": "light"
     },
     "output_type": "display_data"
    }
   ],
   "source": [
    "data_XOne.plot(x='year_of_release', y='world_sales', style='o', xlim=(2010, 2016), grid=True,\n",
    "        figsize=(12, 6))\n",
    "plt.title('Распределение выручки от выпущенных игр по годам')"
   ]
  },
  {
   "cell_type": "code",
   "execution_count": 44,
   "metadata": {},
   "outputs": [],
   "source": [
    "data_XOne_grouped = data_XOne.groupby(['year_of_release'])['world_sales'].sum().reset_index().sort_values(by = 'world_sales')"
   ]
  },
  {
   "cell_type": "code",
   "execution_count": 45,
   "metadata": {},
   "outputs": [
    {
     "name": "stdout",
     "output_type": "stream",
     "text": [
      "Сбор выручки от продаж игр по годам на платформе XOne\n"
     ]
    },
    {
     "data": {
      "text/html": [
       "<div>\n",
       "<style scoped>\n",
       "    .dataframe tbody tr th:only-of-type {\n",
       "        vertical-align: middle;\n",
       "    }\n",
       "\n",
       "    .dataframe tbody tr th {\n",
       "        vertical-align: top;\n",
       "    }\n",
       "\n",
       "    .dataframe thead th {\n",
       "        text-align: right;\n",
       "    }\n",
       "</style>\n",
       "<table border=\"1\" class=\"dataframe\">\n",
       "  <thead>\n",
       "    <tr style=\"text-align: right;\">\n",
       "      <th></th>\n",
       "      <th>year_of_release</th>\n",
       "      <th>world_sales</th>\n",
       "    </tr>\n",
       "  </thead>\n",
       "  <tbody>\n",
       "    <tr>\n",
       "      <td>0</td>\n",
       "      <td>2013.0</td>\n",
       "      <td>18.96</td>\n",
       "    </tr>\n",
       "    <tr>\n",
       "      <td>3</td>\n",
       "      <td>2016.0</td>\n",
       "      <td>26.15</td>\n",
       "    </tr>\n",
       "    <tr>\n",
       "      <td>1</td>\n",
       "      <td>2014.0</td>\n",
       "      <td>54.07</td>\n",
       "    </tr>\n",
       "    <tr>\n",
       "      <td>2</td>\n",
       "      <td>2015.0</td>\n",
       "      <td>60.14</td>\n",
       "    </tr>\n",
       "  </tbody>\n",
       "</table>\n",
       "</div>"
      ],
      "text/plain": [
       "   year_of_release  world_sales\n",
       "0           2013.0        18.96\n",
       "3           2016.0        26.15\n",
       "1           2014.0        54.07\n",
       "2           2015.0        60.14"
      ]
     },
     "metadata": {},
     "output_type": "display_data"
    }
   ],
   "source": [
    "print('Сбор выручки от продаж игр по годам на платформе XOne')\n",
    "display(data_XOne_grouped)"
   ]
  },
  {
   "cell_type": "markdown",
   "metadata": {},
   "source": [
    "В настоящий момент консоль лишь на 4-м году жизни поколения"
   ]
  },
  {
   "cell_type": "markdown",
   "metadata": {},
   "source": [
    "Общий вывод по разделу анализа выпуска игр по самым популярным консолям.\n",
    "Были рассмотрены 2 самых крупных компании Sony и Microsoft в лице консолей Playstation трёх поколений и Xbox стольки же поколений.\n",
    "Выводы:\n",
    "1. Жизненный цикл консолей составляет в среднем около 10 лет с момента выпуска первой игры до выпуска последней.\n",
    "2. Пик продаж игр приходится на 5-6 годы жизни поколения консоли. \n",
    "3. Новые консоли выпускаются в среднем на 7-9 год жизни предыдущего поколения"
   ]
  },
  {
   "cell_type": "markdown",
   "metadata": {},
   "source": [
    "### Анализ данных за соответствующий актуальный период"
   ]
  },
  {
   "cell_type": "markdown",
   "metadata": {},
   "source": [
    "По итогам предыдущего анализа был найден средний период жизни консоли - 10 лет. Уберем из датафрейма данные старше этого периода, то есть возьмем датафрейм за период 2007-2016"
   ]
  },
  {
   "cell_type": "markdown",
   "metadata": {},
   "source": [
    "Для начала удалим строки с пустыми значениями в столбце \"год\" и переведем столбик в тип int"
   ]
  },
  {
   "cell_type": "code",
   "execution_count": 46,
   "metadata": {},
   "outputs": [],
   "source": [
    "data_dropped = data.dropna(subset = ['year_of_release']).reset_index(drop\n",
    "= True)"
   ]
  },
  {
   "cell_type": "code",
   "execution_count": 47,
   "metadata": {},
   "outputs": [],
   "source": [
    "data_dropped['year_of_release'] = data_dropped['year_of_release'].apply(np.ceil).astype('int')"
   ]
  },
  {
   "cell_type": "code",
   "execution_count": 48,
   "metadata": {},
   "outputs": [],
   "source": [
    "data_new = data_dropped[(data_dropped['year_of_release'] >= 2010)].reset_index(drop\n",
    "= True)"
   ]
  },
  {
   "cell_type": "code",
   "execution_count": 49,
   "metadata": {},
   "outputs": [
    {
     "data": {
      "text/html": [
       "<div>\n",
       "<style scoped>\n",
       "    .dataframe tbody tr th:only-of-type {\n",
       "        vertical-align: middle;\n",
       "    }\n",
       "\n",
       "    .dataframe tbody tr th {\n",
       "        vertical-align: top;\n",
       "    }\n",
       "\n",
       "    .dataframe thead th {\n",
       "        text-align: right;\n",
       "    }\n",
       "</style>\n",
       "<table border=\"1\" class=\"dataframe\">\n",
       "  <thead>\n",
       "    <tr style=\"text-align: right;\">\n",
       "      <th></th>\n",
       "      <th>name</th>\n",
       "      <th>platform</th>\n",
       "      <th>year_of_release</th>\n",
       "      <th>genre</th>\n",
       "      <th>na_sales</th>\n",
       "      <th>eu_sales</th>\n",
       "      <th>jp_sales</th>\n",
       "      <th>other_sales</th>\n",
       "      <th>critic_score</th>\n",
       "      <th>user_score</th>\n",
       "      <th>rating</th>\n",
       "      <th>world_sales</th>\n",
       "    </tr>\n",
       "  </thead>\n",
       "  <tbody>\n",
       "    <tr>\n",
       "      <td>0</td>\n",
       "      <td>Kinect Adventures!</td>\n",
       "      <td>X360</td>\n",
       "      <td>2010</td>\n",
       "      <td>Misc</td>\n",
       "      <td>15.00</td>\n",
       "      <td>4.89</td>\n",
       "      <td>0.24</td>\n",
       "      <td>1.69</td>\n",
       "      <td>61.0</td>\n",
       "      <td>6.3</td>\n",
       "      <td>E</td>\n",
       "      <td>21.82</td>\n",
       "    </tr>\n",
       "    <tr>\n",
       "      <td>1</td>\n",
       "      <td>Grand Theft Auto V</td>\n",
       "      <td>PS3</td>\n",
       "      <td>2013</td>\n",
       "      <td>Action</td>\n",
       "      <td>7.02</td>\n",
       "      <td>9.09</td>\n",
       "      <td>0.98</td>\n",
       "      <td>3.96</td>\n",
       "      <td>97.0</td>\n",
       "      <td>8.2</td>\n",
       "      <td>M</td>\n",
       "      <td>21.05</td>\n",
       "    </tr>\n",
       "    <tr>\n",
       "      <td>2</td>\n",
       "      <td>Grand Theft Auto V</td>\n",
       "      <td>X360</td>\n",
       "      <td>2013</td>\n",
       "      <td>Action</td>\n",
       "      <td>9.66</td>\n",
       "      <td>5.14</td>\n",
       "      <td>0.06</td>\n",
       "      <td>1.41</td>\n",
       "      <td>97.0</td>\n",
       "      <td>8.1</td>\n",
       "      <td>M</td>\n",
       "      <td>16.27</td>\n",
       "    </tr>\n",
       "    <tr>\n",
       "      <td>3</td>\n",
       "      <td>Pokemon Black/Pokemon White</td>\n",
       "      <td>DS</td>\n",
       "      <td>2010</td>\n",
       "      <td>Role-Playing</td>\n",
       "      <td>5.51</td>\n",
       "      <td>3.17</td>\n",
       "      <td>5.65</td>\n",
       "      <td>0.80</td>\n",
       "      <td>NaN</td>\n",
       "      <td>NaN</td>\n",
       "      <td>NaN</td>\n",
       "      <td>15.13</td>\n",
       "    </tr>\n",
       "    <tr>\n",
       "      <td>4</td>\n",
       "      <td>Call of Duty: Modern Warfare 3</td>\n",
       "      <td>X360</td>\n",
       "      <td>2011</td>\n",
       "      <td>Shooter</td>\n",
       "      <td>9.04</td>\n",
       "      <td>4.24</td>\n",
       "      <td>0.13</td>\n",
       "      <td>1.32</td>\n",
       "      <td>88.0</td>\n",
       "      <td>3.4</td>\n",
       "      <td>M</td>\n",
       "      <td>14.73</td>\n",
       "    </tr>\n",
       "    <tr>\n",
       "      <td>...</td>\n",
       "      <td>...</td>\n",
       "      <td>...</td>\n",
       "      <td>...</td>\n",
       "      <td>...</td>\n",
       "      <td>...</td>\n",
       "      <td>...</td>\n",
       "      <td>...</td>\n",
       "      <td>...</td>\n",
       "      <td>...</td>\n",
       "      <td>...</td>\n",
       "      <td>...</td>\n",
       "      <td>...</td>\n",
       "    </tr>\n",
       "    <tr>\n",
       "      <td>5272</td>\n",
       "      <td>Strawberry Nauts</td>\n",
       "      <td>PSV</td>\n",
       "      <td>2016</td>\n",
       "      <td>Adventure</td>\n",
       "      <td>0.00</td>\n",
       "      <td>0.00</td>\n",
       "      <td>0.01</td>\n",
       "      <td>0.00</td>\n",
       "      <td>NaN</td>\n",
       "      <td>NaN</td>\n",
       "      <td>NaN</td>\n",
       "      <td>0.01</td>\n",
       "    </tr>\n",
       "    <tr>\n",
       "      <td>5273</td>\n",
       "      <td>Aiyoku no Eustia</td>\n",
       "      <td>PSV</td>\n",
       "      <td>2014</td>\n",
       "      <td>Misc</td>\n",
       "      <td>0.00</td>\n",
       "      <td>0.00</td>\n",
       "      <td>0.01</td>\n",
       "      <td>0.00</td>\n",
       "      <td>NaN</td>\n",
       "      <td>NaN</td>\n",
       "      <td>NaN</td>\n",
       "      <td>0.01</td>\n",
       "    </tr>\n",
       "    <tr>\n",
       "      <td>5274</td>\n",
       "      <td>Samurai Warriors: Sanada Maru</td>\n",
       "      <td>PS3</td>\n",
       "      <td>2016</td>\n",
       "      <td>Action</td>\n",
       "      <td>0.00</td>\n",
       "      <td>0.00</td>\n",
       "      <td>0.01</td>\n",
       "      <td>0.00</td>\n",
       "      <td>NaN</td>\n",
       "      <td>NaN</td>\n",
       "      <td>NaN</td>\n",
       "      <td>0.01</td>\n",
       "    </tr>\n",
       "    <tr>\n",
       "      <td>5275</td>\n",
       "      <td>Haitaka no Psychedelica</td>\n",
       "      <td>PSV</td>\n",
       "      <td>2016</td>\n",
       "      <td>Adventure</td>\n",
       "      <td>0.00</td>\n",
       "      <td>0.00</td>\n",
       "      <td>0.01</td>\n",
       "      <td>0.00</td>\n",
       "      <td>NaN</td>\n",
       "      <td>NaN</td>\n",
       "      <td>NaN</td>\n",
       "      <td>0.01</td>\n",
       "    </tr>\n",
       "    <tr>\n",
       "      <td>5276</td>\n",
       "      <td>Winning Post 8 2016</td>\n",
       "      <td>PSV</td>\n",
       "      <td>2016</td>\n",
       "      <td>Simulation</td>\n",
       "      <td>0.00</td>\n",
       "      <td>0.00</td>\n",
       "      <td>0.01</td>\n",
       "      <td>0.00</td>\n",
       "      <td>NaN</td>\n",
       "      <td>NaN</td>\n",
       "      <td>NaN</td>\n",
       "      <td>0.01</td>\n",
       "    </tr>\n",
       "  </tbody>\n",
       "</table>\n",
       "<p>5277 rows × 12 columns</p>\n",
       "</div>"
      ],
      "text/plain": [
       "                                name platform  year_of_release         genre  \\\n",
       "0                 Kinect Adventures!     X360             2010          Misc   \n",
       "1                 Grand Theft Auto V      PS3             2013        Action   \n",
       "2                 Grand Theft Auto V     X360             2013        Action   \n",
       "3        Pokemon Black/Pokemon White       DS             2010  Role-Playing   \n",
       "4     Call of Duty: Modern Warfare 3     X360             2011       Shooter   \n",
       "...                              ...      ...              ...           ...   \n",
       "5272                Strawberry Nauts      PSV             2016     Adventure   \n",
       "5273                Aiyoku no Eustia      PSV             2014          Misc   \n",
       "5274   Samurai Warriors: Sanada Maru      PS3             2016        Action   \n",
       "5275         Haitaka no Psychedelica      PSV             2016     Adventure   \n",
       "5276             Winning Post 8 2016      PSV             2016    Simulation   \n",
       "\n",
       "      na_sales  eu_sales  jp_sales  other_sales  critic_score user_score  \\\n",
       "0        15.00      4.89      0.24         1.69          61.0        6.3   \n",
       "1         7.02      9.09      0.98         3.96          97.0        8.2   \n",
       "2         9.66      5.14      0.06         1.41          97.0        8.1   \n",
       "3         5.51      3.17      5.65         0.80           NaN        NaN   \n",
       "4         9.04      4.24      0.13         1.32          88.0        3.4   \n",
       "...        ...       ...       ...          ...           ...        ...   \n",
       "5272      0.00      0.00      0.01         0.00           NaN        NaN   \n",
       "5273      0.00      0.00      0.01         0.00           NaN        NaN   \n",
       "5274      0.00      0.00      0.01         0.00           NaN        NaN   \n",
       "5275      0.00      0.00      0.01         0.00           NaN        NaN   \n",
       "5276      0.00      0.00      0.01         0.00           NaN        NaN   \n",
       "\n",
       "     rating  world_sales  \n",
       "0         E        21.82  \n",
       "1         M        21.05  \n",
       "2         M        16.27  \n",
       "3       NaN        15.13  \n",
       "4         M        14.73  \n",
       "...     ...          ...  \n",
       "5272    NaN         0.01  \n",
       "5273    NaN         0.01  \n",
       "5274    NaN         0.01  \n",
       "5275    NaN         0.01  \n",
       "5276    NaN         0.01  \n",
       "\n",
       "[5277 rows x 12 columns]"
      ]
     },
     "metadata": {},
     "output_type": "display_data"
    }
   ],
   "source": [
    "display(data_new)"
   ]
  },
  {
   "cell_type": "code",
   "execution_count": 50,
   "metadata": {},
   "outputs": [],
   "source": [
    "data_new_graphic = data_new.groupby(['platform', 'year_of_release'])['world_sales'].sum().reset_index()"
   ]
  },
  {
   "cell_type": "code",
   "execution_count": 51,
   "metadata": {},
   "outputs": [
    {
     "data": {
      "text/plain": [
       "<matplotlib.axes._subplots.AxesSubplot at 0x7f140c89de50>"
      ]
     },
     "execution_count": 51,
     "metadata": {},
     "output_type": "execute_result"
    },
    {
     "data": {
      "image/png": "[encoded data removed]",
      "text/plain": [
       "<Figure size 720x1080 with 1 Axes>"
      ]
     },
     "metadata": {
      "needs_background": "light"
     },
     "output_type": "display_data"
    }
   ],
   "source": [
    "data_new_graphic.pivot_table('world_sales', 'year_of_release', 'platform', aggfunc='mean').plot(figsize=(10,15),\n",
    "          kind='line', marker='o', xticks=data_new_graphic.year_of_release.unique())"
   ]
  },
  {
   "cell_type": "markdown",
   "metadata": {},
   "source": [
    "По данному графику видно, что рост выручки уверенно идет у двух консолей = PS4 и XboxOne"
   ]
  },
  {
   "cell_type": "code",
   "execution_count": 52,
   "metadata": {},
   "outputs": [
    {
     "data": {
      "text/plain": [
       "(0, 20)"
      ]
     },
     "execution_count": 52,
     "metadata": {},
     "output_type": "execute_result"
    },
    {
     "data": {
      "image/png": "[encoded data removed]",
      "text/plain": [
       "<Figure size 432x288 with 1 Axes>"
      ]
     },
     "metadata": {
      "needs_background": "light"
     },
     "output_type": "display_data"
    }
   ],
   "source": [
    "data_new.boxplot(column='world_sales')\n",
    "plt.ylim(0, 20)"
   ]
  },
  {
   "cell_type": "markdown",
   "metadata": {},
   "source": [
    "Медианное значение продаж игр в период с 2010 по 2016 годы находится на уровне 0.13 млн копий, при это отчетливо видны сколько \"выбросов\" присутствует на графике. Иными словами можно сделать вывод, что игры в большинстве своем продаются очень небольшми тиражами, однако имеются такие игры, которые выстреливают сразу на условне 15 миллионов копий и приносят компании основной доход. "
   ]
  },
  {
   "cell_type": "markdown",
   "metadata": {},
   "source": [
    "Учитывая ранее проведенный анализ можно совершенно точно сделать вывод, что PS4 и XboxONE являются наиболее перпективными консолями в 2017 году. В эту пользу указывает и тренд на рост по части производства игр, продаж и цикл жизни консоли, который начался в 2013 году. "
   ]
  },
  {
   "cell_type": "markdown",
   "metadata": {},
   "source": [
    "### Диаграмма рассеяния и корреляция между отзывами и продажами. "
   ]
  },
  {
   "cell_type": "markdown",
   "metadata": {},
   "source": [
    "На данном этапе исследования за основу возьмем самую перспективную консоль на 2016 год - PS4 и ее главного соперника - XboxOne. Насколько мы помним, в начале исследования мы не проводили операции с первоначальным датафреймом. Возьмем его за основу и удалим пропущенные значения, после чего рассмотрим по отдельности период с 2013 года по PS4 и по XboxOne"
   ]
  },
  {
   "cell_type": "code",
   "execution_count": 53,
   "metadata": {},
   "outputs": [],
   "source": [
    "data_new_rating = data_dropped[(data_dropped['year_of_release'] >= 2013)].reset_index(drop\n",
    "= True)"
   ]
  },
  {
   "cell_type": "code",
   "execution_count": 54,
   "metadata": {},
   "outputs": [
    {
     "name": "stdout",
     "output_type": "stream",
     "text": [
      "name                  0\n",
      "platform              0\n",
      "year_of_release       0\n",
      "genre                 0\n",
      "na_sales              0\n",
      "eu_sales              0\n",
      "jp_sales              0\n",
      "other_sales           0\n",
      "critic_score       1242\n",
      "user_score          933\n",
      "rating              977\n",
      "world_sales           0\n",
      "dtype: int64\n"
     ]
    }
   ],
   "source": [
    "print(data_new_rating.isnull().sum()) "
   ]
  },
  {
   "cell_type": "code",
   "execution_count": 55,
   "metadata": {},
   "outputs": [
    {
     "data": {
      "text/plain": [
       "0       97.0\n",
       "1       97.0\n",
       "2        NaN\n",
       "3        NaN\n",
       "4       97.0\n",
       "        ... \n",
       "2228     NaN\n",
       "2229     NaN\n",
       "2230     NaN\n",
       "2231     NaN\n",
       "2232     NaN\n",
       "Name: critic_score, Length: 2233, dtype: float64"
      ]
     },
     "execution_count": 55,
     "metadata": {},
     "output_type": "execute_result"
    }
   ],
   "source": [
    "pd.to_numeric(data_new_rating['critic_score'], errors='coerce')\n"
   ]
  },
  {
   "cell_type": "code",
   "execution_count": 56,
   "metadata": {},
   "outputs": [
    {
     "data": {
      "text/plain": [
       "0       8.2\n",
       "1       8.1\n",
       "2       NaN\n",
       "3       NaN\n",
       "4       8.3\n",
       "       ... \n",
       "2228    NaN\n",
       "2229    NaN\n",
       "2230    NaN\n",
       "2231    NaN\n",
       "2232    NaN\n",
       "Name: user_score, Length: 2233, dtype: float64"
      ]
     },
     "execution_count": 56,
     "metadata": {},
     "output_type": "execute_result"
    }
   ],
   "source": [
    "pd.to_numeric(data_new_rating['user_score'], errors='coerce')"
   ]
  },
  {
   "cell_type": "code",
   "execution_count": 57,
   "metadata": {},
   "outputs": [
    {
     "name": "stdout",
     "output_type": "stream",
     "text": [
      "<class 'pandas.core.frame.DataFrame'>\n",
      "RangeIndex: 2233 entries, 0 to 2232\n",
      "Data columns (total 12 columns):\n",
      "name               2233 non-null object\n",
      "platform           2233 non-null object\n",
      "year_of_release    2233 non-null int64\n",
      "genre              2233 non-null object\n",
      "na_sales           2233 non-null float64\n",
      "eu_sales           2233 non-null float64\n",
      "jp_sales           2233 non-null float64\n",
      "other_sales        2233 non-null float64\n",
      "critic_score       991 non-null float64\n",
      "user_score         1300 non-null object\n",
      "rating             1256 non-null object\n",
      "world_sales        2233 non-null float64\n",
      "dtypes: float64(6), int64(1), object(5)\n",
      "memory usage: 209.5+ KB\n"
     ]
    }
   ],
   "source": [
    "data_new_rating.info()"
   ]
  },
  {
   "cell_type": "code",
   "execution_count": 58,
   "metadata": {},
   "outputs": [],
   "source": [
    "data_new_rating_notbd = data_new_rating[(data_new_rating['user_score'] != 'tbd')].reset_index(drop\n",
    "= True)"
   ]
  },
  {
   "cell_type": "code",
   "execution_count": 59,
   "metadata": {},
   "outputs": [],
   "source": [
    "data_new_rating_notbd['user_score'] = data_new_rating_notbd['user_score'].astype('float')"
   ]
  },
  {
   "cell_type": "code",
   "execution_count": 60,
   "metadata": {},
   "outputs": [],
   "source": [
    "data_new_rating_notbd.dropna(subset = ['user_score'],\n",
    "inplace = True)"
   ]
  },
  {
   "cell_type": "code",
   "execution_count": 61,
   "metadata": {},
   "outputs": [],
   "source": [
    "data_new_rating_notbd.dropna(subset = ['critic_score'],\n",
    "inplace = True)"
   ]
  },
  {
   "cell_type": "code",
   "execution_count": 62,
   "metadata": {},
   "outputs": [
    {
     "data": {
      "text/html": [
       "<div>\n",
       "<style scoped>\n",
       "    .dataframe tbody tr th:only-of-type {\n",
       "        vertical-align: middle;\n",
       "    }\n",
       "\n",
       "    .dataframe tbody tr th {\n",
       "        vertical-align: top;\n",
       "    }\n",
       "\n",
       "    .dataframe thead th {\n",
       "        text-align: right;\n",
       "    }\n",
       "</style>\n",
       "<table border=\"1\" class=\"dataframe\">\n",
       "  <thead>\n",
       "    <tr style=\"text-align: right;\">\n",
       "      <th></th>\n",
       "      <th>name</th>\n",
       "      <th>platform</th>\n",
       "      <th>year_of_release</th>\n",
       "      <th>genre</th>\n",
       "      <th>na_sales</th>\n",
       "      <th>eu_sales</th>\n",
       "      <th>jp_sales</th>\n",
       "      <th>other_sales</th>\n",
       "      <th>critic_score</th>\n",
       "      <th>user_score</th>\n",
       "      <th>rating</th>\n",
       "      <th>world_sales</th>\n",
       "    </tr>\n",
       "  </thead>\n",
       "  <tbody>\n",
       "    <tr>\n",
       "      <td>0</td>\n",
       "      <td>Grand Theft Auto V</td>\n",
       "      <td>PS3</td>\n",
       "      <td>2013</td>\n",
       "      <td>Action</td>\n",
       "      <td>7.02</td>\n",
       "      <td>9.09</td>\n",
       "      <td>0.98</td>\n",
       "      <td>3.96</td>\n",
       "      <td>97.0</td>\n",
       "      <td>8.2</td>\n",
       "      <td>M</td>\n",
       "      <td>21.05</td>\n",
       "    </tr>\n",
       "    <tr>\n",
       "      <td>1</td>\n",
       "      <td>Grand Theft Auto V</td>\n",
       "      <td>X360</td>\n",
       "      <td>2013</td>\n",
       "      <td>Action</td>\n",
       "      <td>9.66</td>\n",
       "      <td>5.14</td>\n",
       "      <td>0.06</td>\n",
       "      <td>1.41</td>\n",
       "      <td>97.0</td>\n",
       "      <td>8.1</td>\n",
       "      <td>M</td>\n",
       "      <td>16.27</td>\n",
       "    </tr>\n",
       "    <tr>\n",
       "      <td>4</td>\n",
       "      <td>Grand Theft Auto V</td>\n",
       "      <td>PS4</td>\n",
       "      <td>2014</td>\n",
       "      <td>Action</td>\n",
       "      <td>3.96</td>\n",
       "      <td>6.31</td>\n",
       "      <td>0.38</td>\n",
       "      <td>1.97</td>\n",
       "      <td>97.0</td>\n",
       "      <td>8.3</td>\n",
       "      <td>M</td>\n",
       "      <td>12.62</td>\n",
       "    </tr>\n",
       "    <tr>\n",
       "      <td>6</td>\n",
       "      <td>Call of Duty: Ghosts</td>\n",
       "      <td>X360</td>\n",
       "      <td>2013</td>\n",
       "      <td>Shooter</td>\n",
       "      <td>6.73</td>\n",
       "      <td>2.56</td>\n",
       "      <td>0.04</td>\n",
       "      <td>0.91</td>\n",
       "      <td>73.0</td>\n",
       "      <td>2.6</td>\n",
       "      <td>M</td>\n",
       "      <td>10.24</td>\n",
       "    </tr>\n",
       "    <tr>\n",
       "      <td>7</td>\n",
       "      <td>Call of Duty: Ghosts</td>\n",
       "      <td>PS3</td>\n",
       "      <td>2013</td>\n",
       "      <td>Shooter</td>\n",
       "      <td>4.10</td>\n",
       "      <td>3.63</td>\n",
       "      <td>0.38</td>\n",
       "      <td>1.25</td>\n",
       "      <td>71.0</td>\n",
       "      <td>2.6</td>\n",
       "      <td>M</td>\n",
       "      <td>9.36</td>\n",
       "    </tr>\n",
       "    <tr>\n",
       "      <td>...</td>\n",
       "      <td>...</td>\n",
       "      <td>...</td>\n",
       "      <td>...</td>\n",
       "      <td>...</td>\n",
       "      <td>...</td>\n",
       "      <td>...</td>\n",
       "      <td>...</td>\n",
       "      <td>...</td>\n",
       "      <td>...</td>\n",
       "      <td>...</td>\n",
       "      <td>...</td>\n",
       "      <td>...</td>\n",
       "    </tr>\n",
       "    <tr>\n",
       "      <td>2089</td>\n",
       "      <td>Saints Row: Gat out of Hell</td>\n",
       "      <td>XOne</td>\n",
       "      <td>2015</td>\n",
       "      <td>Action</td>\n",
       "      <td>0.00</td>\n",
       "      <td>0.01</td>\n",
       "      <td>0.00</td>\n",
       "      <td>0.00</td>\n",
       "      <td>65.0</td>\n",
       "      <td>6.0</td>\n",
       "      <td>M</td>\n",
       "      <td>0.01</td>\n",
       "    </tr>\n",
       "    <tr>\n",
       "      <td>2098</td>\n",
       "      <td>Sébastien Loeb Rally Evo</td>\n",
       "      <td>XOne</td>\n",
       "      <td>2016</td>\n",
       "      <td>Racing</td>\n",
       "      <td>0.00</td>\n",
       "      <td>0.01</td>\n",
       "      <td>0.00</td>\n",
       "      <td>0.00</td>\n",
       "      <td>63.0</td>\n",
       "      <td>8.2</td>\n",
       "      <td>E</td>\n",
       "      <td>0.01</td>\n",
       "    </tr>\n",
       "    <tr>\n",
       "      <td>2105</td>\n",
       "      <td>Fast Racing Neo</td>\n",
       "      <td>WiiU</td>\n",
       "      <td>2016</td>\n",
       "      <td>Action</td>\n",
       "      <td>0.00</td>\n",
       "      <td>0.01</td>\n",
       "      <td>0.00</td>\n",
       "      <td>0.00</td>\n",
       "      <td>81.0</td>\n",
       "      <td>8.5</td>\n",
       "      <td>E</td>\n",
       "      <td>0.01</td>\n",
       "    </tr>\n",
       "    <tr>\n",
       "      <td>2108</td>\n",
       "      <td>Prison Architect</td>\n",
       "      <td>XOne</td>\n",
       "      <td>2016</td>\n",
       "      <td>Action</td>\n",
       "      <td>0.01</td>\n",
       "      <td>0.00</td>\n",
       "      <td>0.00</td>\n",
       "      <td>0.00</td>\n",
       "      <td>74.0</td>\n",
       "      <td>6.7</td>\n",
       "      <td>NaN</td>\n",
       "      <td>0.01</td>\n",
       "    </tr>\n",
       "    <tr>\n",
       "      <td>2118</td>\n",
       "      <td>Metal Gear Solid V: Ground Zeroes</td>\n",
       "      <td>PC</td>\n",
       "      <td>2014</td>\n",
       "      <td>Action</td>\n",
       "      <td>0.00</td>\n",
       "      <td>0.01</td>\n",
       "      <td>0.00</td>\n",
       "      <td>0.00</td>\n",
       "      <td>80.0</td>\n",
       "      <td>7.6</td>\n",
       "      <td>M</td>\n",
       "      <td>0.01</td>\n",
       "    </tr>\n",
       "  </tbody>\n",
       "</table>\n",
       "<p>976 rows × 12 columns</p>\n",
       "</div>"
      ],
      "text/plain": [
       "                                   name platform  year_of_release    genre  \\\n",
       "0                    Grand Theft Auto V      PS3             2013   Action   \n",
       "1                    Grand Theft Auto V     X360             2013   Action   \n",
       "4                    Grand Theft Auto V      PS4             2014   Action   \n",
       "6                  Call of Duty: Ghosts     X360             2013  Shooter   \n",
       "7                  Call of Duty: Ghosts      PS3             2013  Shooter   \n",
       "...                                 ...      ...              ...      ...   \n",
       "2089        Saints Row: Gat out of Hell     XOne             2015   Action   \n",
       "2098           Sébastien Loeb Rally Evo     XOne             2016   Racing   \n",
       "2105                   Fast Racing Neo      WiiU             2016   Action   \n",
       "2108                   Prison Architect     XOne             2016   Action   \n",
       "2118  Metal Gear Solid V: Ground Zeroes       PC             2014   Action   \n",
       "\n",
       "      na_sales  eu_sales  jp_sales  other_sales  critic_score  user_score  \\\n",
       "0         7.02      9.09      0.98         3.96          97.0         8.2   \n",
       "1         9.66      5.14      0.06         1.41          97.0         8.1   \n",
       "4         3.96      6.31      0.38         1.97          97.0         8.3   \n",
       "6         6.73      2.56      0.04         0.91          73.0         2.6   \n",
       "7         4.10      3.63      0.38         1.25          71.0         2.6   \n",
       "...        ...       ...       ...          ...           ...         ...   \n",
       "2089      0.00      0.01      0.00         0.00          65.0         6.0   \n",
       "2098      0.00      0.01      0.00         0.00          63.0         8.2   \n",
       "2105      0.00      0.01      0.00         0.00          81.0         8.5   \n",
       "2108      0.01      0.00      0.00         0.00          74.0         6.7   \n",
       "2118      0.00      0.01      0.00         0.00          80.0         7.6   \n",
       "\n",
       "     rating  world_sales  \n",
       "0         M        21.05  \n",
       "1         M        16.27  \n",
       "4         M        12.62  \n",
       "6         M        10.24  \n",
       "7         M         9.36  \n",
       "...     ...          ...  \n",
       "2089      M         0.01  \n",
       "2098      E         0.01  \n",
       "2105      E         0.01  \n",
       "2108    NaN         0.01  \n",
       "2118      M         0.01  \n",
       "\n",
       "[976 rows x 12 columns]"
      ]
     },
     "metadata": {},
     "output_type": "display_data"
    }
   ],
   "source": [
    "display(data_new_rating_notbd)"
   ]
  },
  {
   "cell_type": "code",
   "execution_count": 63,
   "metadata": {},
   "outputs": [
    {
     "name": "stderr",
     "output_type": "stream",
     "text": [
      "/opt/conda/lib/python3.7/site-packages/ipykernel_launcher.py:2: SettingWithCopyWarning: \n",
      "A value is trying to be set on a copy of a slice from a DataFrame.\n",
      "Try using .loc[row_indexer,col_indexer] = value instead\n",
      "\n",
      "See the caveats in the documentation: http://pandas.pydata.org/pandas-docs/stable/user_guide/indexing.html#returning-a-view-versus-a-copy\n",
      "  \n",
      "/opt/conda/lib/python3.7/site-packages/ipykernel_launcher.py:3: SettingWithCopyWarning: \n",
      "A value is trying to be set on a copy of a slice from a DataFrame.\n",
      "Try using .loc[row_indexer,col_indexer] = value instead\n",
      "\n",
      "See the caveats in the documentation: http://pandas.pydata.org/pandas-docs/stable/user_guide/indexing.html#returning-a-view-versus-a-copy\n",
      "  This is separate from the ipykernel package so we can avoid doing imports until\n",
      "/opt/conda/lib/python3.7/site-packages/ipykernel_launcher.py:4: SettingWithCopyWarning: \n",
      "A value is trying to be set on a copy of a slice from a DataFrame.\n",
      "Try using .loc[row_indexer,col_indexer] = value instead\n",
      "\n",
      "See the caveats in the documentation: http://pandas.pydata.org/pandas-docs/stable/user_guide/indexing.html#returning-a-view-versus-a-copy\n",
      "  after removing the cwd from sys.path.\n",
      "/opt/conda/lib/python3.7/site-packages/ipykernel_launcher.py:5: SettingWithCopyWarning: \n",
      "A value is trying to be set on a copy of a slice from a DataFrame.\n",
      "Try using .loc[row_indexer,col_indexer] = value instead\n",
      "\n",
      "See the caveats in the documentation: http://pandas.pydata.org/pandas-docs/stable/user_guide/indexing.html#returning-a-view-versus-a-copy\n",
      "  \"\"\"\n"
     ]
    }
   ],
   "source": [
    "data_new_rating_drop_corr = data_new_rating_notbd[['platform']]\n",
    "data_new_rating_drop_corr['world_sales'] = data_new_rating_notbd[['world_sales']]\n",
    "data_new_rating_drop_corr['user_score'] = data_new_rating_notbd[['user_score']]\n",
    "data_new_rating_drop_corr['critic_score'] = data_new_rating_notbd[['critic_score']]\n",
    "data_new_rating_drop_corr['genre'] = data_new_rating_notbd[['genre']]"
   ]
  },
  {
   "cell_type": "code",
   "execution_count": 64,
   "metadata": {},
   "outputs": [
    {
     "data": {
      "text/html": [
       "<div>\n",
       "<style scoped>\n",
       "    .dataframe tbody tr th:only-of-type {\n",
       "        vertical-align: middle;\n",
       "    }\n",
       "\n",
       "    .dataframe tbody tr th {\n",
       "        vertical-align: top;\n",
       "    }\n",
       "\n",
       "    .dataframe thead th {\n",
       "        text-align: right;\n",
       "    }\n",
       "</style>\n",
       "<table border=\"1\" class=\"dataframe\">\n",
       "  <thead>\n",
       "    <tr style=\"text-align: right;\">\n",
       "      <th></th>\n",
       "      <th>platform</th>\n",
       "      <th>world_sales</th>\n",
       "      <th>user_score</th>\n",
       "      <th>critic_score</th>\n",
       "      <th>genre</th>\n",
       "    </tr>\n",
       "  </thead>\n",
       "  <tbody>\n",
       "    <tr>\n",
       "      <td>0</td>\n",
       "      <td>PS3</td>\n",
       "      <td>21.05</td>\n",
       "      <td>8.2</td>\n",
       "      <td>97.0</td>\n",
       "      <td>Action</td>\n",
       "    </tr>\n",
       "    <tr>\n",
       "      <td>1</td>\n",
       "      <td>X360</td>\n",
       "      <td>16.27</td>\n",
       "      <td>8.1</td>\n",
       "      <td>97.0</td>\n",
       "      <td>Action</td>\n",
       "    </tr>\n",
       "    <tr>\n",
       "      <td>4</td>\n",
       "      <td>PS4</td>\n",
       "      <td>12.62</td>\n",
       "      <td>8.3</td>\n",
       "      <td>97.0</td>\n",
       "      <td>Action</td>\n",
       "    </tr>\n",
       "    <tr>\n",
       "      <td>6</td>\n",
       "      <td>X360</td>\n",
       "      <td>10.24</td>\n",
       "      <td>2.6</td>\n",
       "      <td>73.0</td>\n",
       "      <td>Shooter</td>\n",
       "    </tr>\n",
       "    <tr>\n",
       "      <td>7</td>\n",
       "      <td>PS3</td>\n",
       "      <td>9.36</td>\n",
       "      <td>2.6</td>\n",
       "      <td>71.0</td>\n",
       "      <td>Shooter</td>\n",
       "    </tr>\n",
       "    <tr>\n",
       "      <td>...</td>\n",
       "      <td>...</td>\n",
       "      <td>...</td>\n",
       "      <td>...</td>\n",
       "      <td>...</td>\n",
       "      <td>...</td>\n",
       "    </tr>\n",
       "    <tr>\n",
       "      <td>2089</td>\n",
       "      <td>XOne</td>\n",
       "      <td>0.01</td>\n",
       "      <td>6.0</td>\n",
       "      <td>65.0</td>\n",
       "      <td>Action</td>\n",
       "    </tr>\n",
       "    <tr>\n",
       "      <td>2098</td>\n",
       "      <td>XOne</td>\n",
       "      <td>0.01</td>\n",
       "      <td>8.2</td>\n",
       "      <td>63.0</td>\n",
       "      <td>Racing</td>\n",
       "    </tr>\n",
       "    <tr>\n",
       "      <td>2105</td>\n",
       "      <td>WiiU</td>\n",
       "      <td>0.01</td>\n",
       "      <td>8.5</td>\n",
       "      <td>81.0</td>\n",
       "      <td>Action</td>\n",
       "    </tr>\n",
       "    <tr>\n",
       "      <td>2108</td>\n",
       "      <td>XOne</td>\n",
       "      <td>0.01</td>\n",
       "      <td>6.7</td>\n",
       "      <td>74.0</td>\n",
       "      <td>Action</td>\n",
       "    </tr>\n",
       "    <tr>\n",
       "      <td>2118</td>\n",
       "      <td>PC</td>\n",
       "      <td>0.01</td>\n",
       "      <td>7.6</td>\n",
       "      <td>80.0</td>\n",
       "      <td>Action</td>\n",
       "    </tr>\n",
       "  </tbody>\n",
       "</table>\n",
       "<p>976 rows × 5 columns</p>\n",
       "</div>"
      ],
      "text/plain": [
       "     platform  world_sales  user_score  critic_score    genre\n",
       "0         PS3        21.05         8.2          97.0   Action\n",
       "1        X360        16.27         8.1          97.0   Action\n",
       "4         PS4        12.62         8.3          97.0   Action\n",
       "6        X360        10.24         2.6          73.0  Shooter\n",
       "7         PS3         9.36         2.6          71.0  Shooter\n",
       "...       ...          ...         ...           ...      ...\n",
       "2089     XOne         0.01         6.0          65.0   Action\n",
       "2098     XOne         0.01         8.2          63.0   Racing\n",
       "2105     WiiU         0.01         8.5          81.0   Action\n",
       "2108     XOne         0.01         6.7          74.0   Action\n",
       "2118       PC         0.01         7.6          80.0   Action\n",
       "\n",
       "[976 rows x 5 columns]"
      ]
     },
     "metadata": {},
     "output_type": "display_data"
    }
   ],
   "source": [
    "display(data_new_rating_drop_corr)"
   ]
  },
  {
   "cell_type": "markdown",
   "metadata": {},
   "source": [
    "#### Playstation 4"
   ]
  },
  {
   "cell_type": "code",
   "execution_count": 65,
   "metadata": {},
   "outputs": [],
   "source": [
    "data_new_rating_drop_PS4 = data_new_rating_drop_corr[(data_new_rating_drop_corr['platform'] == 'PS4')].reset_index(drop\n",
    "= True)"
   ]
  },
  {
   "cell_type": "code",
   "execution_count": 66,
   "metadata": {},
   "outputs": [
    {
     "data": {
      "text/html": [
       "<div>\n",
       "<style scoped>\n",
       "    .dataframe tbody tr th:only-of-type {\n",
       "        vertical-align: middle;\n",
       "    }\n",
       "\n",
       "    .dataframe tbody tr th {\n",
       "        vertical-align: top;\n",
       "    }\n",
       "\n",
       "    .dataframe thead th {\n",
       "        text-align: right;\n",
       "    }\n",
       "</style>\n",
       "<table border=\"1\" class=\"dataframe\">\n",
       "  <thead>\n",
       "    <tr style=\"text-align: right;\">\n",
       "      <th></th>\n",
       "      <th>platform</th>\n",
       "      <th>world_sales</th>\n",
       "      <th>user_score</th>\n",
       "      <th>critic_score</th>\n",
       "      <th>genre</th>\n",
       "    </tr>\n",
       "  </thead>\n",
       "  <tbody>\n",
       "    <tr>\n",
       "      <td>0</td>\n",
       "      <td>PS4</td>\n",
       "      <td>12.62</td>\n",
       "      <td>8.3</td>\n",
       "      <td>97.0</td>\n",
       "      <td>Action</td>\n",
       "    </tr>\n",
       "    <tr>\n",
       "      <td>1</td>\n",
       "      <td>PS4</td>\n",
       "      <td>8.58</td>\n",
       "      <td>4.3</td>\n",
       "      <td>82.0</td>\n",
       "      <td>Sports</td>\n",
       "    </tr>\n",
       "    <tr>\n",
       "      <td>2</td>\n",
       "      <td>PS4</td>\n",
       "      <td>7.66</td>\n",
       "      <td>5.7</td>\n",
       "      <td>83.0</td>\n",
       "      <td>Shooter</td>\n",
       "    </tr>\n",
       "    <tr>\n",
       "      <td>3</td>\n",
       "      <td>PS4</td>\n",
       "      <td>7.60</td>\n",
       "      <td>5.0</td>\n",
       "      <td>85.0</td>\n",
       "      <td>Sports</td>\n",
       "    </tr>\n",
       "    <tr>\n",
       "      <td>4</td>\n",
       "      <td>PS4</td>\n",
       "      <td>7.17</td>\n",
       "      <td>6.5</td>\n",
       "      <td>87.0</td>\n",
       "      <td>Role-Playing</td>\n",
       "    </tr>\n",
       "    <tr>\n",
       "      <td>...</td>\n",
       "      <td>...</td>\n",
       "      <td>...</td>\n",
       "      <td>...</td>\n",
       "      <td>...</td>\n",
       "      <td>...</td>\n",
       "    </tr>\n",
       "    <tr>\n",
       "      <td>244</td>\n",
       "      <td>PS4</td>\n",
       "      <td>0.01</td>\n",
       "      <td>2.3</td>\n",
       "      <td>42.0</td>\n",
       "      <td>Action</td>\n",
       "    </tr>\n",
       "    <tr>\n",
       "      <td>245</td>\n",
       "      <td>PS4</td>\n",
       "      <td>0.01</td>\n",
       "      <td>6.8</td>\n",
       "      <td>70.0</td>\n",
       "      <td>Adventure</td>\n",
       "    </tr>\n",
       "    <tr>\n",
       "      <td>246</td>\n",
       "      <td>PS4</td>\n",
       "      <td>0.01</td>\n",
       "      <td>7.5</td>\n",
       "      <td>69.0</td>\n",
       "      <td>Adventure</td>\n",
       "    </tr>\n",
       "    <tr>\n",
       "      <td>247</td>\n",
       "      <td>PS4</td>\n",
       "      <td>0.01</td>\n",
       "      <td>7.9</td>\n",
       "      <td>61.0</td>\n",
       "      <td>Role-Playing</td>\n",
       "    </tr>\n",
       "    <tr>\n",
       "      <td>248</td>\n",
       "      <td>PS4</td>\n",
       "      <td>0.01</td>\n",
       "      <td>5.5</td>\n",
       "      <td>51.0</td>\n",
       "      <td>Action</td>\n",
       "    </tr>\n",
       "  </tbody>\n",
       "</table>\n",
       "<p>249 rows × 5 columns</p>\n",
       "</div>"
      ],
      "text/plain": [
       "    platform  world_sales  user_score  critic_score         genre\n",
       "0        PS4        12.62         8.3          97.0        Action\n",
       "1        PS4         8.58         4.3          82.0        Sports\n",
       "2        PS4         7.66         5.7          83.0       Shooter\n",
       "3        PS4         7.60         5.0          85.0        Sports\n",
       "4        PS4         7.17         6.5          87.0  Role-Playing\n",
       "..       ...          ...         ...           ...           ...\n",
       "244      PS4         0.01         2.3          42.0        Action\n",
       "245      PS4         0.01         6.8          70.0     Adventure\n",
       "246      PS4         0.01         7.5          69.0     Adventure\n",
       "247      PS4         0.01         7.9          61.0  Role-Playing\n",
       "248      PS4         0.01         5.5          51.0        Action\n",
       "\n",
       "[249 rows x 5 columns]"
      ]
     },
     "metadata": {},
     "output_type": "display_data"
    }
   ],
   "source": [
    "display(data_new_rating_drop_PS4)"
   ]
  },
  {
   "cell_type": "code",
   "execution_count": 67,
   "metadata": {},
   "outputs": [
    {
     "data": {
      "text/html": [
       "<div>\n",
       "<style scoped>\n",
       "    .dataframe tbody tr th:only-of-type {\n",
       "        vertical-align: middle;\n",
       "    }\n",
       "\n",
       "    .dataframe tbody tr th {\n",
       "        vertical-align: top;\n",
       "    }\n",
       "\n",
       "    .dataframe thead th {\n",
       "        text-align: right;\n",
       "    }\n",
       "</style>\n",
       "<table border=\"1\" class=\"dataframe\">\n",
       "  <thead>\n",
       "    <tr style=\"text-align: right;\">\n",
       "      <th></th>\n",
       "      <th>world_sales</th>\n",
       "      <th>user_score</th>\n",
       "      <th>critic_score</th>\n",
       "    </tr>\n",
       "  </thead>\n",
       "  <tbody>\n",
       "    <tr>\n",
       "      <td>world_sales</td>\n",
       "      <td>1.000000</td>\n",
       "      <td>-0.033625</td>\n",
       "      <td>0.405895</td>\n",
       "    </tr>\n",
       "    <tr>\n",
       "      <td>user_score</td>\n",
       "      <td>-0.033625</td>\n",
       "      <td>1.000000</td>\n",
       "      <td>0.557654</td>\n",
       "    </tr>\n",
       "    <tr>\n",
       "      <td>critic_score</td>\n",
       "      <td>0.405895</td>\n",
       "      <td>0.557654</td>\n",
       "      <td>1.000000</td>\n",
       "    </tr>\n",
       "  </tbody>\n",
       "</table>\n",
       "</div>"
      ],
      "text/plain": [
       "              world_sales  user_score  critic_score\n",
       "world_sales      1.000000   -0.033625      0.405895\n",
       "user_score      -0.033625    1.000000      0.557654\n",
       "critic_score     0.405895    0.557654      1.000000"
      ]
     },
     "execution_count": 67,
     "metadata": {},
     "output_type": "execute_result"
    }
   ],
   "source": [
    "data_new_rating_drop_PS4.corr()"
   ]
  },
  {
   "cell_type": "markdown",
   "metadata": {},
   "source": [
    "По данным в указанной выше таблице можно сделать вывод, что рейтинг пользователей никак не влияет на мировые продажи, тогда как оценки критиков оказывают значимое влияние на продажи игр платформы PS4. Кроме того, видна связь между оценками пользователей и критиков. "
   ]
  },
  {
   "cell_type": "markdown",
   "metadata": {},
   "source": [
    "#### Xbox One"
   ]
  },
  {
   "cell_type": "code",
   "execution_count": 68,
   "metadata": {},
   "outputs": [],
   "source": [
    "data_new_rating_drop_xone = data_new_rating_drop_corr[(data_new_rating_drop_corr['platform'] == 'XOne')].reset_index(drop\n",
    "= True)"
   ]
  },
  {
   "cell_type": "code",
   "execution_count": 69,
   "metadata": {},
   "outputs": [
    {
     "data": {
      "text/html": [
       "<div>\n",
       "<style scoped>\n",
       "    .dataframe tbody tr th:only-of-type {\n",
       "        vertical-align: middle;\n",
       "    }\n",
       "\n",
       "    .dataframe tbody tr th {\n",
       "        vertical-align: top;\n",
       "    }\n",
       "\n",
       "    .dataframe thead th {\n",
       "        text-align: right;\n",
       "    }\n",
       "</style>\n",
       "<table border=\"1\" class=\"dataframe\">\n",
       "  <thead>\n",
       "    <tr style=\"text-align: right;\">\n",
       "      <th></th>\n",
       "      <th>platform</th>\n",
       "      <th>world_sales</th>\n",
       "      <th>user_score</th>\n",
       "      <th>critic_score</th>\n",
       "      <th>genre</th>\n",
       "    </tr>\n",
       "  </thead>\n",
       "  <tbody>\n",
       "    <tr>\n",
       "      <td>0</td>\n",
       "      <td>XOne</td>\n",
       "      <td>5.47</td>\n",
       "      <td>7.9</td>\n",
       "      <td>97.0</td>\n",
       "      <td>Action</td>\n",
       "    </tr>\n",
       "    <tr>\n",
       "      <td>1</td>\n",
       "      <td>XOne</td>\n",
       "      <td>5.26</td>\n",
       "      <td>5.4</td>\n",
       "      <td>81.0</td>\n",
       "      <td>Shooter</td>\n",
       "    </tr>\n",
       "    <tr>\n",
       "      <td>2</td>\n",
       "      <td>XOne</td>\n",
       "      <td>4.49</td>\n",
       "      <td>6.4</td>\n",
       "      <td>84.0</td>\n",
       "      <td>Shooter</td>\n",
       "    </tr>\n",
       "    <tr>\n",
       "      <td>3</td>\n",
       "      <td>XOne</td>\n",
       "      <td>4.22</td>\n",
       "      <td>6.2</td>\n",
       "      <td>88.0</td>\n",
       "      <td>Role-Playing</td>\n",
       "    </tr>\n",
       "    <tr>\n",
       "      <td>4</td>\n",
       "      <td>XOne</td>\n",
       "      <td>3.50</td>\n",
       "      <td>4.1</td>\n",
       "      <td>72.0</td>\n",
       "      <td>Action</td>\n",
       "    </tr>\n",
       "    <tr>\n",
       "      <td>...</td>\n",
       "      <td>...</td>\n",
       "      <td>...</td>\n",
       "      <td>...</td>\n",
       "      <td>...</td>\n",
       "      <td>...</td>\n",
       "    </tr>\n",
       "    <tr>\n",
       "      <td>160</td>\n",
       "      <td>XOne</td>\n",
       "      <td>0.01</td>\n",
       "      <td>7.5</td>\n",
       "      <td>66.0</td>\n",
       "      <td>Adventure</td>\n",
       "    </tr>\n",
       "    <tr>\n",
       "      <td>161</td>\n",
       "      <td>XOne</td>\n",
       "      <td>0.01</td>\n",
       "      <td>6.3</td>\n",
       "      <td>53.0</td>\n",
       "      <td>Simulation</td>\n",
       "    </tr>\n",
       "    <tr>\n",
       "      <td>162</td>\n",
       "      <td>XOne</td>\n",
       "      <td>0.01</td>\n",
       "      <td>6.0</td>\n",
       "      <td>65.0</td>\n",
       "      <td>Action</td>\n",
       "    </tr>\n",
       "    <tr>\n",
       "      <td>163</td>\n",
       "      <td>XOne</td>\n",
       "      <td>0.01</td>\n",
       "      <td>8.2</td>\n",
       "      <td>63.0</td>\n",
       "      <td>Racing</td>\n",
       "    </tr>\n",
       "    <tr>\n",
       "      <td>164</td>\n",
       "      <td>XOne</td>\n",
       "      <td>0.01</td>\n",
       "      <td>6.7</td>\n",
       "      <td>74.0</td>\n",
       "      <td>Action</td>\n",
       "    </tr>\n",
       "  </tbody>\n",
       "</table>\n",
       "<p>165 rows × 5 columns</p>\n",
       "</div>"
      ],
      "text/plain": [
       "    platform  world_sales  user_score  critic_score         genre\n",
       "0       XOne         5.47         7.9          97.0        Action\n",
       "1       XOne         5.26         5.4          81.0       Shooter\n",
       "2       XOne         4.49         6.4          84.0       Shooter\n",
       "3       XOne         4.22         6.2          88.0  Role-Playing\n",
       "4       XOne         3.50         4.1          72.0        Action\n",
       "..       ...          ...         ...           ...           ...\n",
       "160     XOne         0.01         7.5          66.0     Adventure\n",
       "161     XOne         0.01         6.3          53.0    Simulation\n",
       "162     XOne         0.01         6.0          65.0        Action\n",
       "163     XOne         0.01         8.2          63.0        Racing\n",
       "164     XOne         0.01         6.7          74.0        Action\n",
       "\n",
       "[165 rows x 5 columns]"
      ]
     },
     "metadata": {},
     "output_type": "display_data"
    }
   ],
   "source": [
    "display(data_new_rating_drop_xone)"
   ]
  },
  {
   "cell_type": "code",
   "execution_count": 70,
   "metadata": {},
   "outputs": [
    {
     "data": {
      "text/html": [
       "<div>\n",
       "<style scoped>\n",
       "    .dataframe tbody tr th:only-of-type {\n",
       "        vertical-align: middle;\n",
       "    }\n",
       "\n",
       "    .dataframe tbody tr th {\n",
       "        vertical-align: top;\n",
       "    }\n",
       "\n",
       "    .dataframe thead th {\n",
       "        text-align: right;\n",
       "    }\n",
       "</style>\n",
       "<table border=\"1\" class=\"dataframe\">\n",
       "  <thead>\n",
       "    <tr style=\"text-align: right;\">\n",
       "      <th></th>\n",
       "      <th>world_sales</th>\n",
       "      <th>user_score</th>\n",
       "      <th>critic_score</th>\n",
       "    </tr>\n",
       "  </thead>\n",
       "  <tbody>\n",
       "    <tr>\n",
       "      <td>world_sales</td>\n",
       "      <td>1.000000</td>\n",
       "      <td>-0.094003</td>\n",
       "      <td>0.410422</td>\n",
       "    </tr>\n",
       "    <tr>\n",
       "      <td>user_score</td>\n",
       "      <td>-0.094003</td>\n",
       "      <td>1.000000</td>\n",
       "      <td>0.472462</td>\n",
       "    </tr>\n",
       "    <tr>\n",
       "      <td>critic_score</td>\n",
       "      <td>0.410422</td>\n",
       "      <td>0.472462</td>\n",
       "      <td>1.000000</td>\n",
       "    </tr>\n",
       "  </tbody>\n",
       "</table>\n",
       "</div>"
      ],
      "text/plain": [
       "              world_sales  user_score  critic_score\n",
       "world_sales      1.000000   -0.094003      0.410422\n",
       "user_score      -0.094003    1.000000      0.472462\n",
       "critic_score     0.410422    0.472462      1.000000"
      ]
     },
     "execution_count": 70,
     "metadata": {},
     "output_type": "execute_result"
    }
   ],
   "source": [
    "data_new_rating_drop_xone.corr()"
   ]
  },
  {
   "cell_type": "markdown",
   "metadata": {},
   "source": [
    "На платформе Xbox One те же самые связи между оценками и продажами, а так корреляцией между оценками. "
   ]
  },
  {
   "cell_type": "markdown",
   "metadata": {},
   "source": [
    "По итогам указанного выше анализа можно сделать вывод, что оценки критиков оказывают гораздо более существенное влияние на продажи, чем оценки пользователей. "
   ]
  },
  {
   "cell_type": "markdown",
   "metadata": {},
   "source": [
    "### Распределение игр по жанрам"
   ]
  },
  {
   "cell_type": "code",
   "execution_count": 71,
   "metadata": {},
   "outputs": [],
   "source": [
    "genre_sales_grouped = data.groupby(['genre'])['world_sales'].sum().reset_index().sort_values(by = 'world_sales')"
   ]
  },
  {
   "cell_type": "code",
   "execution_count": 72,
   "metadata": {},
   "outputs": [
    {
     "data": {
      "text/html": [
       "<div>\n",
       "<style scoped>\n",
       "    .dataframe tbody tr th:only-of-type {\n",
       "        vertical-align: middle;\n",
       "    }\n",
       "\n",
       "    .dataframe tbody tr th {\n",
       "        vertical-align: top;\n",
       "    }\n",
       "\n",
       "    .dataframe thead th {\n",
       "        text-align: right;\n",
       "    }\n",
       "</style>\n",
       "<table border=\"1\" class=\"dataframe\">\n",
       "  <thead>\n",
       "    <tr style=\"text-align: right;\">\n",
       "      <th></th>\n",
       "      <th>genre</th>\n",
       "      <th>world_sales</th>\n",
       "    </tr>\n",
       "  </thead>\n",
       "  <tbody>\n",
       "    <tr>\n",
       "      <td>11</td>\n",
       "      <td>Strategy</td>\n",
       "      <td>174.23</td>\n",
       "    </tr>\n",
       "    <tr>\n",
       "      <td>1</td>\n",
       "      <td>Adventure</td>\n",
       "      <td>237.59</td>\n",
       "    </tr>\n",
       "    <tr>\n",
       "      <td>5</td>\n",
       "      <td>Puzzle</td>\n",
       "      <td>242.57</td>\n",
       "    </tr>\n",
       "    <tr>\n",
       "      <td>9</td>\n",
       "      <td>Simulation</td>\n",
       "      <td>389.97</td>\n",
       "    </tr>\n",
       "    <tr>\n",
       "      <td>2</td>\n",
       "      <td>Fighting</td>\n",
       "      <td>447.53</td>\n",
       "    </tr>\n",
       "    <tr>\n",
       "      <td>6</td>\n",
       "      <td>Racing</td>\n",
       "      <td>728.67</td>\n",
       "    </tr>\n",
       "    <tr>\n",
       "      <td>3</td>\n",
       "      <td>Misc</td>\n",
       "      <td>802.51</td>\n",
       "    </tr>\n",
       "    <tr>\n",
       "      <td>4</td>\n",
       "      <td>Platform</td>\n",
       "      <td>827.77</td>\n",
       "    </tr>\n",
       "    <tr>\n",
       "      <td>7</td>\n",
       "      <td>Role-Playing</td>\n",
       "      <td>934.56</td>\n",
       "    </tr>\n",
       "    <tr>\n",
       "      <td>8</td>\n",
       "      <td>Shooter</td>\n",
       "      <td>1052.45</td>\n",
       "    </tr>\n",
       "    <tr>\n",
       "      <td>10</td>\n",
       "      <td>Sports</td>\n",
       "      <td>1331.27</td>\n",
       "    </tr>\n",
       "    <tr>\n",
       "      <td>0</td>\n",
       "      <td>Action</td>\n",
       "      <td>1744.17</td>\n",
       "    </tr>\n",
       "  </tbody>\n",
       "</table>\n",
       "</div>"
      ],
      "text/plain": [
       "           genre  world_sales\n",
       "11      Strategy       174.23\n",
       "1      Adventure       237.59\n",
       "5         Puzzle       242.57\n",
       "9     Simulation       389.97\n",
       "2       Fighting       447.53\n",
       "6         Racing       728.67\n",
       "3           Misc       802.51\n",
       "4       Platform       827.77\n",
       "7   Role-Playing       934.56\n",
       "8        Shooter      1052.45\n",
       "10        Sports      1331.27\n",
       "0         Action      1744.17"
      ]
     },
     "metadata": {},
     "output_type": "display_data"
    }
   ],
   "source": [
    "display(genre_sales_grouped)"
   ]
  },
  {
   "cell_type": "code",
   "execution_count": 73,
   "metadata": {},
   "outputs": [],
   "source": [
    "genre_sales_grouped_count = data.groupby(['genre'])['world_sales'].count().reset_index().sort_values(by = 'world_sales')"
   ]
  },
  {
   "cell_type": "code",
   "execution_count": 74,
   "metadata": {},
   "outputs": [
    {
     "data": {
      "text/html": [
       "<div>\n",
       "<style scoped>\n",
       "    .dataframe tbody tr th:only-of-type {\n",
       "        vertical-align: middle;\n",
       "    }\n",
       "\n",
       "    .dataframe tbody tr th {\n",
       "        vertical-align: top;\n",
       "    }\n",
       "\n",
       "    .dataframe thead th {\n",
       "        text-align: right;\n",
       "    }\n",
       "</style>\n",
       "<table border=\"1\" class=\"dataframe\">\n",
       "  <thead>\n",
       "    <tr style=\"text-align: right;\">\n",
       "      <th></th>\n",
       "      <th>genre</th>\n",
       "      <th>world_sales</th>\n",
       "    </tr>\n",
       "  </thead>\n",
       "  <tbody>\n",
       "    <tr>\n",
       "      <td>5</td>\n",
       "      <td>Puzzle</td>\n",
       "      <td>580</td>\n",
       "    </tr>\n",
       "    <tr>\n",
       "      <td>11</td>\n",
       "      <td>Strategy</td>\n",
       "      <td>683</td>\n",
       "    </tr>\n",
       "    <tr>\n",
       "      <td>2</td>\n",
       "      <td>Fighting</td>\n",
       "      <td>849</td>\n",
       "    </tr>\n",
       "    <tr>\n",
       "      <td>9</td>\n",
       "      <td>Simulation</td>\n",
       "      <td>873</td>\n",
       "    </tr>\n",
       "    <tr>\n",
       "      <td>4</td>\n",
       "      <td>Platform</td>\n",
       "      <td>888</td>\n",
       "    </tr>\n",
       "    <tr>\n",
       "      <td>6</td>\n",
       "      <td>Racing</td>\n",
       "      <td>1249</td>\n",
       "    </tr>\n",
       "    <tr>\n",
       "      <td>1</td>\n",
       "      <td>Adventure</td>\n",
       "      <td>1303</td>\n",
       "    </tr>\n",
       "    <tr>\n",
       "      <td>8</td>\n",
       "      <td>Shooter</td>\n",
       "      <td>1323</td>\n",
       "    </tr>\n",
       "    <tr>\n",
       "      <td>7</td>\n",
       "      <td>Role-Playing</td>\n",
       "      <td>1498</td>\n",
       "    </tr>\n",
       "    <tr>\n",
       "      <td>3</td>\n",
       "      <td>Misc</td>\n",
       "      <td>1750</td>\n",
       "    </tr>\n",
       "    <tr>\n",
       "      <td>10</td>\n",
       "      <td>Sports</td>\n",
       "      <td>2348</td>\n",
       "    </tr>\n",
       "    <tr>\n",
       "      <td>0</td>\n",
       "      <td>Action</td>\n",
       "      <td>3369</td>\n",
       "    </tr>\n",
       "  </tbody>\n",
       "</table>\n",
       "</div>"
      ],
      "text/plain": [
       "           genre  world_sales\n",
       "5         Puzzle          580\n",
       "11      Strategy          683\n",
       "2       Fighting          849\n",
       "9     Simulation          873\n",
       "4       Platform          888\n",
       "6         Racing         1249\n",
       "1      Adventure         1303\n",
       "8        Shooter         1323\n",
       "7   Role-Playing         1498\n",
       "3           Misc         1750\n",
       "10        Sports         2348\n",
       "0         Action         3369"
      ]
     },
     "metadata": {},
     "output_type": "display_data"
    }
   ],
   "source": [
    "display(genre_sales_grouped_count)"
   ]
  },
  {
   "cell_type": "markdown",
   "metadata": {},
   "source": [
    "По данным таблицам видно, что самым популярным в истории жарном является экшены. Спортивные игры и шутеры на находятся на 2-3 местах. Самыми непопулярными жанрами являюся стратегии, приключения и пазлы. По количеству продаж также лидером является жанр экшн. "
   ]
  },
  {
   "cell_type": "markdown",
   "metadata": {},
   "source": [
    "## Портрет пользователя каждого региона"
   ]
  },
  {
   "cell_type": "markdown",
   "metadata": {},
   "source": [
    "### Cамые популярные платформы (топ-5)"
   ]
  },
  {
   "cell_type": "code",
   "execution_count": 75,
   "metadata": {},
   "outputs": [],
   "source": [
    "data_na = data.groupby(['platform'])['na_sales'].sum().reset_index().sort_values(by = 'na_sales', ascending = False)\n",
    "data_eu = data.groupby(['platform'])['eu_sales'].sum().reset_index().sort_values(by = 'eu_sales', ascending = False)\n",
    "data_jp = data.groupby(['platform'])['jp_sales'].sum().reset_index().sort_values(by = 'jp_sales', ascending = False)"
   ]
  },
  {
   "cell_type": "code",
   "execution_count": 76,
   "metadata": {},
   "outputs": [
    {
     "name": "stdout",
     "output_type": "stream",
     "text": [
      "Топ-5 платформ по продажам игр в Северной Америке\n"
     ]
    },
    {
     "data": {
      "text/html": [
       "<div>\n",
       "<style scoped>\n",
       "    .dataframe tbody tr th:only-of-type {\n",
       "        vertical-align: middle;\n",
       "    }\n",
       "\n",
       "    .dataframe tbody tr th {\n",
       "        vertical-align: top;\n",
       "    }\n",
       "\n",
       "    .dataframe thead th {\n",
       "        text-align: right;\n",
       "    }\n",
       "</style>\n",
       "<table border=\"1\" class=\"dataframe\">\n",
       "  <thead>\n",
       "    <tr style=\"text-align: right;\">\n",
       "      <th></th>\n",
       "      <th>platform</th>\n",
       "      <th>na_sales</th>\n",
       "    </tr>\n",
       "  </thead>\n",
       "  <tbody>\n",
       "    <tr>\n",
       "      <td>28</td>\n",
       "      <td>X360</td>\n",
       "      <td>602.47</td>\n",
       "    </tr>\n",
       "    <tr>\n",
       "      <td>16</td>\n",
       "      <td>PS2</td>\n",
       "      <td>583.84</td>\n",
       "    </tr>\n",
       "    <tr>\n",
       "      <td>26</td>\n",
       "      <td>Wii</td>\n",
       "      <td>496.90</td>\n",
       "    </tr>\n",
       "    <tr>\n",
       "      <td>17</td>\n",
       "      <td>PS3</td>\n",
       "      <td>393.49</td>\n",
       "    </tr>\n",
       "    <tr>\n",
       "      <td>4</td>\n",
       "      <td>DS</td>\n",
       "      <td>382.40</td>\n",
       "    </tr>\n",
       "  </tbody>\n",
       "</table>\n",
       "</div>"
      ],
      "text/plain": [
       "   platform  na_sales\n",
       "28     X360    602.47\n",
       "16      PS2    583.84\n",
       "26      Wii    496.90\n",
       "17      PS3    393.49\n",
       "4        DS    382.40"
      ]
     },
     "execution_count": 76,
     "metadata": {},
     "output_type": "execute_result"
    }
   ],
   "source": [
    "print('Топ-5 платформ по продажам игр в Северной Америке')\n",
    "data_na.head(5)\n",
    "\n"
   ]
  },
  {
   "cell_type": "code",
   "execution_count": 77,
   "metadata": {},
   "outputs": [
    {
     "name": "stdout",
     "output_type": "stream",
     "text": [
      "Топ-5 платформ по продажам игр в Европе\n"
     ]
    },
    {
     "data": {
      "text/html": [
       "<div>\n",
       "<style scoped>\n",
       "    .dataframe tbody tr th:only-of-type {\n",
       "        vertical-align: middle;\n",
       "    }\n",
       "\n",
       "    .dataframe tbody tr th {\n",
       "        vertical-align: top;\n",
       "    }\n",
       "\n",
       "    .dataframe thead th {\n",
       "        text-align: right;\n",
       "    }\n",
       "</style>\n",
       "<table border=\"1\" class=\"dataframe\">\n",
       "  <thead>\n",
       "    <tr style=\"text-align: right;\">\n",
       "      <th></th>\n",
       "      <th>platform</th>\n",
       "      <th>eu_sales</th>\n",
       "    </tr>\n",
       "  </thead>\n",
       "  <tbody>\n",
       "    <tr>\n",
       "      <td>16</td>\n",
       "      <td>PS2</td>\n",
       "      <td>339.29</td>\n",
       "    </tr>\n",
       "    <tr>\n",
       "      <td>17</td>\n",
       "      <td>PS3</td>\n",
       "      <td>330.29</td>\n",
       "    </tr>\n",
       "    <tr>\n",
       "      <td>28</td>\n",
       "      <td>X360</td>\n",
       "      <td>270.76</td>\n",
       "    </tr>\n",
       "    <tr>\n",
       "      <td>26</td>\n",
       "      <td>Wii</td>\n",
       "      <td>262.21</td>\n",
       "    </tr>\n",
       "    <tr>\n",
       "      <td>15</td>\n",
       "      <td>PS</td>\n",
       "      <td>213.61</td>\n",
       "    </tr>\n",
       "  </tbody>\n",
       "</table>\n",
       "</div>"
      ],
      "text/plain": [
       "   platform  eu_sales\n",
       "16      PS2    339.29\n",
       "17      PS3    330.29\n",
       "28     X360    270.76\n",
       "26      Wii    262.21\n",
       "15       PS    213.61"
      ]
     },
     "execution_count": 77,
     "metadata": {},
     "output_type": "execute_result"
    }
   ],
   "source": [
    "print('Топ-5 платформ по продажам игр в Европе')\n",
    "data_eu.head(5)"
   ]
  },
  {
   "cell_type": "code",
   "execution_count": 78,
   "metadata": {},
   "outputs": [
    {
     "name": "stdout",
     "output_type": "stream",
     "text": [
      "Топ-5 платформ по продажам игр в Японии\n"
     ]
    },
    {
     "data": {
      "text/html": [
       "<div>\n",
       "<style scoped>\n",
       "    .dataframe tbody tr th:only-of-type {\n",
       "        vertical-align: middle;\n",
       "    }\n",
       "\n",
       "    .dataframe tbody tr th {\n",
       "        vertical-align: top;\n",
       "    }\n",
       "\n",
       "    .dataframe thead th {\n",
       "        text-align: right;\n",
       "    }\n",
       "</style>\n",
       "<table border=\"1\" class=\"dataframe\">\n",
       "  <thead>\n",
       "    <tr style=\"text-align: right;\">\n",
       "      <th></th>\n",
       "      <th>platform</th>\n",
       "      <th>jp_sales</th>\n",
       "    </tr>\n",
       "  </thead>\n",
       "  <tbody>\n",
       "    <tr>\n",
       "      <td>4</td>\n",
       "      <td>DS</td>\n",
       "      <td>175.57</td>\n",
       "    </tr>\n",
       "    <tr>\n",
       "      <td>15</td>\n",
       "      <td>PS</td>\n",
       "      <td>139.82</td>\n",
       "    </tr>\n",
       "    <tr>\n",
       "      <td>16</td>\n",
       "      <td>PS2</td>\n",
       "      <td>139.20</td>\n",
       "    </tr>\n",
       "    <tr>\n",
       "      <td>23</td>\n",
       "      <td>SNES</td>\n",
       "      <td>116.55</td>\n",
       "    </tr>\n",
       "    <tr>\n",
       "      <td>2</td>\n",
       "      <td>3DS</td>\n",
       "      <td>100.67</td>\n",
       "    </tr>\n",
       "  </tbody>\n",
       "</table>\n",
       "</div>"
      ],
      "text/plain": [
       "   platform  jp_sales\n",
       "4        DS    175.57\n",
       "15       PS    139.82\n",
       "16      PS2    139.20\n",
       "23     SNES    116.55\n",
       "2       3DS    100.67"
      ]
     },
     "execution_count": 78,
     "metadata": {},
     "output_type": "execute_result"
    }
   ],
   "source": [
    "print('Топ-5 платформ по продажам игр в Японии')\n",
    "data_jp.head(5)"
   ]
  },
  {
   "cell_type": "markdown",
   "metadata": {},
   "source": [
    "Выше представлены топ-5 приставок по продажам в регионах. Самой популярной приставкой в Северной Америке является Xbox360, в Европе это Playstation 2, а в Японии Nintendo DS.\n",
    "Примечательно, что объем продаж PS2 в Америке почти на одном уровне с хбокс360 и в 2 раза выше чем в Европе. То же самое с Nintendo DS. Из чего можно сделать вывод, что Североамериканский рынок - основной для всех производителей приставок. "
   ]
  },
  {
   "cell_type": "markdown",
   "metadata": {},
   "source": [
    "### Самые популярные жанры (топ-5)"
   ]
  },
  {
   "cell_type": "code",
   "execution_count": 79,
   "metadata": {},
   "outputs": [],
   "source": [
    "genre_na = data.groupby(['genre'])['na_sales'].sum().reset_index().sort_values(by = 'na_sales', ascending = False)\n",
    "genre_eu = data.groupby(['genre'])['eu_sales'].sum().reset_index().sort_values(by = 'eu_sales', ascending = False)\n",
    "genre_jp = data.groupby(['genre'])['jp_sales'].sum().reset_index().sort_values(by = 'jp_sales', ascending = False)"
   ]
  },
  {
   "cell_type": "code",
   "execution_count": 80,
   "metadata": {},
   "outputs": [
    {
     "name": "stdout",
     "output_type": "stream",
     "text": [
      "Топ-5 жанров по продажам игр в Северной Америке\n"
     ]
    },
    {
     "data": {
      "text/html": [
       "<div>\n",
       "<style scoped>\n",
       "    .dataframe tbody tr th:only-of-type {\n",
       "        vertical-align: middle;\n",
       "    }\n",
       "\n",
       "    .dataframe tbody tr th {\n",
       "        vertical-align: top;\n",
       "    }\n",
       "\n",
       "    .dataframe thead th {\n",
       "        text-align: right;\n",
       "    }\n",
       "</style>\n",
       "<table border=\"1\" class=\"dataframe\">\n",
       "  <thead>\n",
       "    <tr style=\"text-align: right;\">\n",
       "      <th></th>\n",
       "      <th>genre</th>\n",
       "      <th>na_sales</th>\n",
       "    </tr>\n",
       "  </thead>\n",
       "  <tbody>\n",
       "    <tr>\n",
       "      <td>0</td>\n",
       "      <td>Action</td>\n",
       "      <td>879.01</td>\n",
       "    </tr>\n",
       "    <tr>\n",
       "      <td>10</td>\n",
       "      <td>Sports</td>\n",
       "      <td>684.43</td>\n",
       "    </tr>\n",
       "    <tr>\n",
       "      <td>8</td>\n",
       "      <td>Shooter</td>\n",
       "      <td>592.24</td>\n",
       "    </tr>\n",
       "    <tr>\n",
       "      <td>4</td>\n",
       "      <td>Platform</td>\n",
       "      <td>445.50</td>\n",
       "    </tr>\n",
       "    <tr>\n",
       "      <td>3</td>\n",
       "      <td>Misc</td>\n",
       "      <td>407.27</td>\n",
       "    </tr>\n",
       "  </tbody>\n",
       "</table>\n",
       "</div>"
      ],
      "text/plain": [
       "       genre  na_sales\n",
       "0     Action    879.01\n",
       "10    Sports    684.43\n",
       "8    Shooter    592.24\n",
       "4   Platform    445.50\n",
       "3       Misc    407.27"
      ]
     },
     "execution_count": 80,
     "metadata": {},
     "output_type": "execute_result"
    }
   ],
   "source": [
    "print('Топ-5 жанров по продажам игр в Северной Америке')\n",
    "genre_na.head(5)"
   ]
  },
  {
   "cell_type": "code",
   "execution_count": 81,
   "metadata": {},
   "outputs": [
    {
     "name": "stdout",
     "output_type": "stream",
     "text": [
      "Топ-5 жанров по продажам игр в Европе\n"
     ]
    },
    {
     "data": {
      "text/html": [
       "<div>\n",
       "<style scoped>\n",
       "    .dataframe tbody tr th:only-of-type {\n",
       "        vertical-align: middle;\n",
       "    }\n",
       "\n",
       "    .dataframe tbody tr th {\n",
       "        vertical-align: top;\n",
       "    }\n",
       "\n",
       "    .dataframe thead th {\n",
       "        text-align: right;\n",
       "    }\n",
       "</style>\n",
       "<table border=\"1\" class=\"dataframe\">\n",
       "  <thead>\n",
       "    <tr style=\"text-align: right;\">\n",
       "      <th></th>\n",
       "      <th>genre</th>\n",
       "      <th>eu_sales</th>\n",
       "    </tr>\n",
       "  </thead>\n",
       "  <tbody>\n",
       "    <tr>\n",
       "      <td>0</td>\n",
       "      <td>Action</td>\n",
       "      <td>519.13</td>\n",
       "    </tr>\n",
       "    <tr>\n",
       "      <td>10</td>\n",
       "      <td>Sports</td>\n",
       "      <td>376.79</td>\n",
       "    </tr>\n",
       "    <tr>\n",
       "      <td>8</td>\n",
       "      <td>Shooter</td>\n",
       "      <td>317.34</td>\n",
       "    </tr>\n",
       "    <tr>\n",
       "      <td>6</td>\n",
       "      <td>Racing</td>\n",
       "      <td>236.51</td>\n",
       "    </tr>\n",
       "    <tr>\n",
       "      <td>3</td>\n",
       "      <td>Misc</td>\n",
       "      <td>212.74</td>\n",
       "    </tr>\n",
       "  </tbody>\n",
       "</table>\n",
       "</div>"
      ],
      "text/plain": [
       "      genre  eu_sales\n",
       "0    Action    519.13\n",
       "10   Sports    376.79\n",
       "8   Shooter    317.34\n",
       "6    Racing    236.51\n",
       "3      Misc    212.74"
      ]
     },
     "execution_count": 81,
     "metadata": {},
     "output_type": "execute_result"
    }
   ],
   "source": [
    "print('Топ-5 жанров по продажам игр в Европе')\n",
    "genre_eu.head(5)"
   ]
  },
  {
   "cell_type": "code",
   "execution_count": 82,
   "metadata": {},
   "outputs": [
    {
     "name": "stdout",
     "output_type": "stream",
     "text": [
      "Топ-5 жанров по продажам игр в Японии\n"
     ]
    },
    {
     "data": {
      "text/html": [
       "<div>\n",
       "<style scoped>\n",
       "    .dataframe tbody tr th:only-of-type {\n",
       "        vertical-align: middle;\n",
       "    }\n",
       "\n",
       "    .dataframe tbody tr th {\n",
       "        vertical-align: top;\n",
       "    }\n",
       "\n",
       "    .dataframe thead th {\n",
       "        text-align: right;\n",
       "    }\n",
       "</style>\n",
       "<table border=\"1\" class=\"dataframe\">\n",
       "  <thead>\n",
       "    <tr style=\"text-align: right;\">\n",
       "      <th></th>\n",
       "      <th>genre</th>\n",
       "      <th>jp_sales</th>\n",
       "    </tr>\n",
       "  </thead>\n",
       "  <tbody>\n",
       "    <tr>\n",
       "      <td>7</td>\n",
       "      <td>Role-Playing</td>\n",
       "      <td>355.41</td>\n",
       "    </tr>\n",
       "    <tr>\n",
       "      <td>0</td>\n",
       "      <td>Action</td>\n",
       "      <td>161.43</td>\n",
       "    </tr>\n",
       "    <tr>\n",
       "      <td>10</td>\n",
       "      <td>Sports</td>\n",
       "      <td>135.54</td>\n",
       "    </tr>\n",
       "    <tr>\n",
       "      <td>4</td>\n",
       "      <td>Platform</td>\n",
       "      <td>130.83</td>\n",
       "    </tr>\n",
       "    <tr>\n",
       "      <td>3</td>\n",
       "      <td>Misc</td>\n",
       "      <td>108.11</td>\n",
       "    </tr>\n",
       "  </tbody>\n",
       "</table>\n",
       "</div>"
      ],
      "text/plain": [
       "           genre  jp_sales\n",
       "7   Role-Playing    355.41\n",
       "0         Action    161.43\n",
       "10        Sports    135.54\n",
       "4       Platform    130.83\n",
       "3           Misc    108.11"
      ]
     },
     "execution_count": 82,
     "metadata": {},
     "output_type": "execute_result"
    }
   ],
   "source": [
    "print('Топ-5 жанров по продажам игр в Японии')\n",
    "genre_jp.head(5)"
   ]
  },
  {
   "cell_type": "markdown",
   "metadata": {},
   "source": [
    "Из представленной информации мы видим идентичность в игровых предпочтениях в Европе и Америке. В Японии же с большим отрывов популярен жанр РПГ, которого на других рынка нету в топ-5. "
   ]
  },
  {
   "cell_type": "markdown",
   "metadata": {},
   "source": [
    "### Влияние рейтинга игры на продажи"
   ]
  },
  {
   "cell_type": "code",
   "execution_count": 83,
   "metadata": {},
   "outputs": [],
   "source": [
    "rating_na = data.groupby(['rating'])['na_sales'].sum().reset_index().sort_values(by = 'na_sales', ascending = False)\n",
    "rating_eu = data.groupby(['rating'])['eu_sales'].sum().reset_index().sort_values(by = 'eu_sales', ascending = False)\n",
    "rating_jp = data.groupby(['rating'])['jp_sales'].sum().reset_index().sort_values(by = 'jp_sales', ascending = False)"
   ]
  },
  {
   "cell_type": "code",
   "execution_count": 84,
   "metadata": {},
   "outputs": [
    {
     "name": "stdout",
     "output_type": "stream",
     "text": [
      "Распределение продаж игр по рейтингу в Северной Америке\n"
     ]
    },
    {
     "data": {
      "text/html": [
       "<div>\n",
       "<style scoped>\n",
       "    .dataframe tbody tr th:only-of-type {\n",
       "        vertical-align: middle;\n",
       "    }\n",
       "\n",
       "    .dataframe tbody tr th {\n",
       "        vertical-align: top;\n",
       "    }\n",
       "\n",
       "    .dataframe thead th {\n",
       "        text-align: right;\n",
       "    }\n",
       "</style>\n",
       "<table border=\"1\" class=\"dataframe\">\n",
       "  <thead>\n",
       "    <tr style=\"text-align: right;\">\n",
       "      <th></th>\n",
       "      <th>rating</th>\n",
       "      <th>na_sales</th>\n",
       "    </tr>\n",
       "  </thead>\n",
       "  <tbody>\n",
       "    <tr>\n",
       "      <td>1</td>\n",
       "      <td>E</td>\n",
       "      <td>1292.99</td>\n",
       "    </tr>\n",
       "    <tr>\n",
       "      <td>7</td>\n",
       "      <td>T</td>\n",
       "      <td>759.75</td>\n",
       "    </tr>\n",
       "    <tr>\n",
       "      <td>5</td>\n",
       "      <td>M</td>\n",
       "      <td>748.48</td>\n",
       "    </tr>\n",
       "    <tr>\n",
       "      <td>2</td>\n",
       "      <td>E10+</td>\n",
       "      <td>353.32</td>\n",
       "    </tr>\n",
       "    <tr>\n",
       "      <td>4</td>\n",
       "      <td>K-A</td>\n",
       "      <td>2.56</td>\n",
       "    </tr>\n",
       "    <tr>\n",
       "      <td>3</td>\n",
       "      <td>EC</td>\n",
       "      <td>1.53</td>\n",
       "    </tr>\n",
       "    <tr>\n",
       "      <td>0</td>\n",
       "      <td>AO</td>\n",
       "      <td>1.26</td>\n",
       "    </tr>\n",
       "    <tr>\n",
       "      <td>6</td>\n",
       "      <td>RP</td>\n",
       "      <td>0.00</td>\n",
       "    </tr>\n",
       "  </tbody>\n",
       "</table>\n",
       "</div>"
      ],
      "text/plain": [
       "  rating  na_sales\n",
       "1      E   1292.99\n",
       "7      T    759.75\n",
       "5      M    748.48\n",
       "2   E10+    353.32\n",
       "4    K-A      2.56\n",
       "3     EC      1.53\n",
       "0     AO      1.26\n",
       "6     RP      0.00"
      ]
     },
     "metadata": {},
     "output_type": "display_data"
    }
   ],
   "source": [
    "print('Распределение продаж игр по рейтингу в Северной Америке')\n",
    "display(rating_na)"
   ]
  },
  {
   "cell_type": "code",
   "execution_count": 85,
   "metadata": {},
   "outputs": [
    {
     "name": "stdout",
     "output_type": "stream",
     "text": [
      "Распределение продаж игр по рейтингу в Европе\n"
     ]
    },
    {
     "data": {
      "text/html": [
       "<div>\n",
       "<style scoped>\n",
       "    .dataframe tbody tr th:only-of-type {\n",
       "        vertical-align: middle;\n",
       "    }\n",
       "\n",
       "    .dataframe tbody tr th {\n",
       "        vertical-align: top;\n",
       "    }\n",
       "\n",
       "    .dataframe thead th {\n",
       "        text-align: right;\n",
       "    }\n",
       "</style>\n",
       "<table border=\"1\" class=\"dataframe\">\n",
       "  <thead>\n",
       "    <tr style=\"text-align: right;\">\n",
       "      <th></th>\n",
       "      <th>rating</th>\n",
       "      <th>eu_sales</th>\n",
       "    </tr>\n",
       "  </thead>\n",
       "  <tbody>\n",
       "    <tr>\n",
       "      <td>1</td>\n",
       "      <td>E</td>\n",
       "      <td>710.25</td>\n",
       "    </tr>\n",
       "    <tr>\n",
       "      <td>5</td>\n",
       "      <td>M</td>\n",
       "      <td>483.97</td>\n",
       "    </tr>\n",
       "    <tr>\n",
       "      <td>7</td>\n",
       "      <td>T</td>\n",
       "      <td>427.03</td>\n",
       "    </tr>\n",
       "    <tr>\n",
       "      <td>2</td>\n",
       "      <td>E10+</td>\n",
       "      <td>188.52</td>\n",
       "    </tr>\n",
       "    <tr>\n",
       "      <td>0</td>\n",
       "      <td>AO</td>\n",
       "      <td>0.61</td>\n",
       "    </tr>\n",
       "    <tr>\n",
       "      <td>4</td>\n",
       "      <td>K-A</td>\n",
       "      <td>0.27</td>\n",
       "    </tr>\n",
       "    <tr>\n",
       "      <td>3</td>\n",
       "      <td>EC</td>\n",
       "      <td>0.11</td>\n",
       "    </tr>\n",
       "    <tr>\n",
       "      <td>6</td>\n",
       "      <td>RP</td>\n",
       "      <td>0.08</td>\n",
       "    </tr>\n",
       "  </tbody>\n",
       "</table>\n",
       "</div>"
      ],
      "text/plain": [
       "  rating  eu_sales\n",
       "1      E    710.25\n",
       "5      M    483.97\n",
       "7      T    427.03\n",
       "2   E10+    188.52\n",
       "0     AO      0.61\n",
       "4    K-A      0.27\n",
       "3     EC      0.11\n",
       "6     RP      0.08"
      ]
     },
     "metadata": {},
     "output_type": "display_data"
    }
   ],
   "source": [
    "print('Распределение продаж игр по рейтингу в Европе')\n",
    "display(rating_eu)"
   ]
  },
  {
   "cell_type": "code",
   "execution_count": 86,
   "metadata": {},
   "outputs": [
    {
     "name": "stdout",
     "output_type": "stream",
     "text": [
      "Распределение продаж игр по рейтингу в Японии\n"
     ]
    },
    {
     "data": {
      "text/html": [
       "<div>\n",
       "<style scoped>\n",
       "    .dataframe tbody tr th:only-of-type {\n",
       "        vertical-align: middle;\n",
       "    }\n",
       "\n",
       "    .dataframe tbody tr th {\n",
       "        vertical-align: top;\n",
       "    }\n",
       "\n",
       "    .dataframe thead th {\n",
       "        text-align: right;\n",
       "    }\n",
       "</style>\n",
       "<table border=\"1\" class=\"dataframe\">\n",
       "  <thead>\n",
       "    <tr style=\"text-align: right;\">\n",
       "      <th></th>\n",
       "      <th>rating</th>\n",
       "      <th>jp_sales</th>\n",
       "    </tr>\n",
       "  </thead>\n",
       "  <tbody>\n",
       "    <tr>\n",
       "      <td>1</td>\n",
       "      <td>E</td>\n",
       "      <td>198.11</td>\n",
       "    </tr>\n",
       "    <tr>\n",
       "      <td>7</td>\n",
       "      <td>T</td>\n",
       "      <td>151.40</td>\n",
       "    </tr>\n",
       "    <tr>\n",
       "      <td>5</td>\n",
       "      <td>M</td>\n",
       "      <td>64.24</td>\n",
       "    </tr>\n",
       "    <tr>\n",
       "      <td>2</td>\n",
       "      <td>E10+</td>\n",
       "      <td>40.20</td>\n",
       "    </tr>\n",
       "    <tr>\n",
       "      <td>4</td>\n",
       "      <td>K-A</td>\n",
       "      <td>1.46</td>\n",
       "    </tr>\n",
       "    <tr>\n",
       "      <td>0</td>\n",
       "      <td>AO</td>\n",
       "      <td>0.00</td>\n",
       "    </tr>\n",
       "    <tr>\n",
       "      <td>3</td>\n",
       "      <td>EC</td>\n",
       "      <td>0.00</td>\n",
       "    </tr>\n",
       "    <tr>\n",
       "      <td>6</td>\n",
       "      <td>RP</td>\n",
       "      <td>0.00</td>\n",
       "    </tr>\n",
       "  </tbody>\n",
       "</table>\n",
       "</div>"
      ],
      "text/plain": [
       "  rating  jp_sales\n",
       "1      E    198.11\n",
       "7      T    151.40\n",
       "5      M     64.24\n",
       "2   E10+     40.20\n",
       "4    K-A      1.46\n",
       "0     AO      0.00\n",
       "3     EC      0.00\n",
       "6     RP      0.00"
      ]
     },
     "metadata": {},
     "output_type": "display_data"
    }
   ],
   "source": [
    "print('Распределение продаж игр по рейтингу в Японии')\n",
    "display(rating_jp)"
   ]
  },
  {
   "cell_type": "markdown",
   "metadata": {},
   "source": [
    "Самыми популрными играми во всех регионах являются игры \"для всех\""
   ]
  },
  {
   "cell_type": "markdown",
   "metadata": {},
   "source": [
    "## Проверка гипотез"
   ]
  },
  {
   "cell_type": "markdown",
   "metadata": {},
   "source": [
    "### Средние пользовательские рейтинги платформ Xbox One и PC одинаковые"
   ]
  },
  {
   "cell_type": "code",
   "execution_count": 87,
   "metadata": {},
   "outputs": [],
   "source": [
    "data_new_rating_drop_PC = data_new_rating_drop_corr[(data_new_rating_drop_corr['platform'] == 'PC')].reset_index(drop\n",
    "= True)"
   ]
  },
  {
   "cell_type": "code",
   "execution_count": 88,
   "metadata": {},
   "outputs": [
    {
     "name": "stdout",
     "output_type": "stream",
     "text": [
      "p-значение: 0.17882648263401307\n",
      "Не получилось отвергнуть нулевую гипотезу\n"
     ]
    }
   ],
   "source": [
    "from scipy import stats as st\n",
    "alpha = 0.05\n",
    "results = st.ttest_ind(data_new_rating_drop_PC['user_score'], data_new_rating_drop_xone['user_score'], equal_var = False)\n",
    "print('p-значение:', results.pvalue) \n",
    "\n",
    "if results.pvalue < alpha: \n",
    "    print(\"Отвергаем нулевую гипотезу\")\n",
    "else:\n",
    "    print(\"Не получилось отвергнуть нулевую гипотезу\")"
   ]
  },
  {
   "cell_type": "markdown",
   "metadata": {},
   "source": [
    "Таким образом, пользовательские рейтинги в среднем одинаковы на приставках Xbox One и PC/ "
   ]
  },
  {
   "cell_type": "markdown",
   "metadata": {},
   "source": [
    "### Средние пользовательские рейтинги жанров Action и Sports разные"
   ]
  },
  {
   "cell_type": "code",
   "execution_count": 89,
   "metadata": {},
   "outputs": [],
   "source": [
    "data_new_rating_drop_action = data_new_rating_drop_corr[(data_new_rating_drop_corr['genre'] == 'Action')].reset_index(drop\n",
    "= True)"
   ]
  },
  {
   "cell_type": "code",
   "execution_count": 90,
   "metadata": {},
   "outputs": [],
   "source": [
    "data_new_rating_drop_sports = data_new_rating_drop_corr[(data_new_rating_drop_corr['genre'] == 'Sports')].reset_index(drop\n",
    "= True)"
   ]
  },
  {
   "cell_type": "code",
   "execution_count": 91,
   "metadata": {},
   "outputs": [
    {
     "name": "stdout",
     "output_type": "stream",
     "text": [
      "p-значение: 1.0496920005008588e-13\n",
      "Отвергаем нулевую гипотезу\n"
     ]
    }
   ],
   "source": [
    "alpha = 0.05\n",
    "results = st.ttest_ind(data_new_rating_drop_action['user_score'], data_new_rating_drop_sports['user_score'], equal_var = False)\n",
    "print('p-значение:', results.pvalue) \n",
    "\n",
    "if results.pvalue < alpha: \n",
    "    print(\"Отвергаем нулевую гипотезу\")\n",
    "else:\n",
    "    print(\"Не получилось отвергнуть нулевую гипотезу\")"
   ]
  },
  {
   "cell_type": "markdown",
   "metadata": {},
   "source": [
    "Подтвердилать гипотеза, что пользовательские рейтинги жанров Action и Sports разные. "
   ]
  },
  {
   "cell_type": "markdown",
   "metadata": {},
   "source": [
    "## Общий вывод"
   ]
  },
  {
   "cell_type": "markdown",
   "metadata": {},
   "source": [
    "По итогам проведенного исследования можно сделать следующие выводы:\n",
    "1. Жизненный цикл консоли в среднем составляет около 10 лет;\n",
    "2. Пик продаж и производства игр приходится на 4-7 года поколения;\n",
    "3. После выпуска нового поколения консоли предыдущее живет около 3 лет;\n",
    "4. Североамериканский рынок самый крупный из представленных;\n",
    "5. По состоянию на 2016 год самыми перспективными консолями являются Playstation 4 и Xbox One;\n",
    "6. Существенное влияние на продажи оказывают оценки критиков, тогда как оценки пользователей не влияют никак;\n",
    "7. Японский рынок имеет свою специфику и свои предпочтения, тогда как Североамериканский и Европейски почти одинаковые, за исключением размера. "
   ]
  }
 ],
 "metadata": {
  "ExecuteTimeLog": [
   {
    "duration": 809,
    "start_time": "2021-06-15T09:08:35.660Z"
   },
   {
    "duration": 433,
    "start_time": "2021-06-15T09:29:17.438Z"
   },
   {
    "duration": 66,
    "start_time": "2021-06-15T09:32:29.977Z"
   },
   {
    "duration": 15,
    "start_time": "2021-06-15T09:33:14.616Z"
   },
   {
    "duration": 410,
    "start_time": "2021-06-15T09:42:03.935Z"
   },
   {
    "duration": 419,
    "start_time": "2021-06-15T09:42:19.655Z"
   },
   {
    "duration": 68,
    "start_time": "2021-06-15T09:42:35.495Z"
   },
   {
    "duration": 4,
    "start_time": "2021-06-15T10:22:39.082Z"
   },
   {
    "duration": 30,
    "start_time": "2021-06-15T10:22:48.907Z"
   },
   {
    "duration": 7,
    "start_time": "2021-06-15T10:23:59.335Z"
   },
   {
    "duration": 15,
    "start_time": "2021-06-15T10:24:18.982Z"
   },
   {
    "duration": 879,
    "start_time": "2021-06-15T10:25:31.601Z"
   },
   {
    "duration": 9,
    "start_time": "2021-06-15T10:25:38.415Z"
   },
   {
    "duration": 9,
    "start_time": "2021-06-15T10:26:03.236Z"
   },
   {
    "duration": 1491,
    "start_time": "2021-06-15T10:27:36.909Z"
   },
   {
    "duration": 29,
    "start_time": "2021-06-15T10:38:47.456Z"
   },
   {
    "duration": 8,
    "start_time": "2021-06-15T10:38:58.325Z"
   },
   {
    "duration": 8,
    "start_time": "2021-06-15T10:39:25.724Z"
   },
   {
    "duration": 8,
    "start_time": "2021-06-15T10:39:48.303Z"
   },
   {
    "duration": 339,
    "start_time": "2021-06-15T10:41:32.558Z"
   },
   {
    "duration": 827,
    "start_time": "2021-06-15T10:45:19.155Z"
   },
   {
    "duration": 4,
    "start_time": "2021-06-15T10:45:19.985Z"
   },
   {
    "duration": 45,
    "start_time": "2021-06-15T10:45:19.992Z"
   },
   {
    "duration": 19,
    "start_time": "2021-06-15T10:45:20.040Z"
   },
   {
    "duration": 11,
    "start_time": "2021-06-15T10:45:20.061Z"
   },
   {
    "duration": 12,
    "start_time": "2021-06-15T10:47:50.230Z"
   },
   {
    "duration": 32,
    "start_time": "2021-06-15T10:47:57.445Z"
   },
   {
    "duration": 4,
    "start_time": "2021-06-15T10:50:35.968Z"
   },
   {
    "duration": 19,
    "start_time": "2021-06-15T10:51:50.495Z"
   },
   {
    "duration": 8,
    "start_time": "2021-06-15T10:52:26.030Z"
   },
   {
    "duration": 5,
    "start_time": "2021-06-15T10:53:42.025Z"
   },
   {
    "duration": 183,
    "start_time": "2021-06-15T10:54:22.114Z"
   },
   {
    "duration": 8635,
    "start_time": "2021-06-15T10:54:36.712Z"
   },
   {
    "duration": 907,
    "start_time": "2021-06-15T10:55:06.961Z"
   },
   {
    "duration": 4,
    "start_time": "2021-06-15T10:55:07.872Z"
   },
   {
    "duration": 47,
    "start_time": "2021-06-15T10:55:07.880Z"
   },
   {
    "duration": 16,
    "start_time": "2021-06-15T10:55:07.930Z"
   },
   {
    "duration": 12,
    "start_time": "2021-06-15T10:55:07.949Z"
   },
   {
    "duration": 8,
    "start_time": "2021-06-15T10:55:07.964Z"
   },
   {
    "duration": 76,
    "start_time": "2021-06-15T10:55:07.975Z"
   },
   {
    "duration": 7,
    "start_time": "2021-06-15T10:55:08.055Z"
   },
   {
    "duration": 576,
    "start_time": "2021-06-15T10:55:08.065Z"
   },
   {
    "duration": 574,
    "start_time": "2021-06-15T10:55:27.033Z"
   },
   {
    "duration": 611,
    "start_time": "2021-06-15T10:55:54.078Z"
   },
   {
    "duration": 563,
    "start_time": "2021-06-15T10:56:12.950Z"
   },
   {
    "duration": 843,
    "start_time": "2021-06-15T10:56:23.697Z"
   },
   {
    "duration": 841,
    "start_time": "2021-06-15T10:59:41.010Z"
   },
   {
    "duration": 559,
    "start_time": "2021-06-15T11:04:58.509Z"
   },
   {
    "duration": 12,
    "start_time": "2021-06-15T11:13:13.792Z"
   },
   {
    "duration": 14,
    "start_time": "2021-06-15T11:13:24.983Z"
   },
   {
    "duration": 9,
    "start_time": "2021-06-15T11:45:15.736Z"
   },
   {
    "duration": 12,
    "start_time": "2021-06-15T11:45:16.518Z"
   },
   {
    "duration": 10,
    "start_time": "2021-06-15T11:49:02.885Z"
   },
   {
    "duration": 948,
    "start_time": "2021-06-15T11:49:31.028Z"
   },
   {
    "duration": 5,
    "start_time": "2021-06-15T11:49:31.979Z"
   },
   {
    "duration": 61,
    "start_time": "2021-06-15T11:49:31.987Z"
   },
   {
    "duration": 34,
    "start_time": "2021-06-15T11:49:32.052Z"
   },
   {
    "duration": 18,
    "start_time": "2021-06-15T11:49:32.089Z"
   },
   {
    "duration": 15,
    "start_time": "2021-06-15T11:49:32.116Z"
   },
   {
    "duration": 46,
    "start_time": "2021-06-15T11:49:32.134Z"
   },
   {
    "duration": 878,
    "start_time": "2021-06-15T11:49:32.185Z"
   },
   {
    "duration": 15,
    "start_time": "2021-06-15T11:49:33.066Z"
   },
   {
    "duration": 18,
    "start_time": "2021-06-15T11:49:33.084Z"
   },
   {
    "duration": 7,
    "start_time": "2021-06-15T11:49:33.126Z"
   },
   {
    "duration": 520,
    "start_time": "2021-06-15T11:50:10.265Z"
   },
   {
    "duration": 592,
    "start_time": "2021-06-15T11:50:38.025Z"
   },
   {
    "duration": 532,
    "start_time": "2021-06-15T11:50:54.568Z"
   },
   {
    "duration": 750,
    "start_time": "2021-06-15T11:55:52.621Z"
   },
   {
    "duration": 482,
    "start_time": "2021-06-15T11:55:57.318Z"
   },
   {
    "duration": 526,
    "start_time": "2021-06-15T11:56:02.574Z"
   },
   {
    "duration": 363,
    "start_time": "2021-06-15T11:56:40.239Z"
   },
   {
    "duration": 376,
    "start_time": "2021-06-15T11:56:55.585Z"
   },
   {
    "duration": 375,
    "start_time": "2021-06-15T11:57:27.186Z"
   },
   {
    "duration": 670,
    "start_time": "2021-06-15T11:57:36.329Z"
   },
   {
    "duration": 387,
    "start_time": "2021-06-15T11:57:41.744Z"
   },
   {
    "duration": 856,
    "start_time": "2021-06-15T11:58:02.522Z"
   },
   {
    "duration": 814,
    "start_time": "2021-06-15T11:58:15.387Z"
   },
   {
    "duration": 590,
    "start_time": "2021-06-15T11:58:18.003Z"
   },
   {
    "duration": 436,
    "start_time": "2021-06-15T11:58:57.205Z"
   },
   {
    "duration": 11,
    "start_time": "2021-06-15T12:10:32.005Z"
   },
   {
    "duration": 10,
    "start_time": "2021-06-15T12:10:45.860Z"
   },
   {
    "duration": 14,
    "start_time": "2021-06-15T12:19:12.330Z"
   },
   {
    "duration": 12,
    "start_time": "2021-06-15T12:19:19.979Z"
   },
   {
    "duration": 7,
    "start_time": "2021-06-15T12:20:47.402Z"
   },
   {
    "duration": 510,
    "start_time": "2021-06-15T12:20:49.448Z"
   },
   {
    "duration": 576,
    "start_time": "2021-06-15T12:21:00.979Z"
   },
   {
    "duration": 538,
    "start_time": "2021-06-15T12:21:04.932Z"
   },
   {
    "duration": 555,
    "start_time": "2021-06-15T12:21:09.474Z"
   },
   {
    "duration": 597,
    "start_time": "2021-06-15T12:21:32.711Z"
   },
   {
    "duration": 377,
    "start_time": "2021-06-15T12:21:40.211Z"
   },
   {
    "duration": 8,
    "start_time": "2021-06-15T12:21:50.133Z"
   },
   {
    "duration": 12,
    "start_time": "2021-06-15T12:21:50.883Z"
   },
   {
    "duration": 32,
    "start_time": "2021-06-15T12:26:55.459Z"
   },
   {
    "duration": 34,
    "start_time": "2021-06-15T12:27:58.766Z"
   },
   {
    "duration": 10,
    "start_time": "2021-06-15T12:36:31.334Z"
   },
   {
    "duration": 543,
    "start_time": "2021-06-15T12:36:32.771Z"
   },
   {
    "duration": 866,
    "start_time": "2021-06-15T12:36:42.259Z"
   },
   {
    "duration": 747,
    "start_time": "2021-06-15T12:36:54.501Z"
   },
   {
    "duration": 756,
    "start_time": "2021-06-15T12:37:01.286Z"
   },
   {
    "duration": 868,
    "start_time": "2021-06-15T12:37:07.347Z"
   },
   {
    "duration": 393,
    "start_time": "2021-06-15T12:37:19.460Z"
   },
   {
    "duration": 10,
    "start_time": "2021-06-15T12:37:28.917Z"
   },
   {
    "duration": 12,
    "start_time": "2021-06-15T12:37:30.775Z"
   },
   {
    "duration": 7,
    "start_time": "2021-06-15T13:01:21.676Z"
   },
   {
    "duration": 533,
    "start_time": "2021-06-15T13:01:23.239Z"
   },
   {
    "duration": 580,
    "start_time": "2021-06-15T13:01:52.421Z"
   },
   {
    "duration": 626,
    "start_time": "2021-06-15T13:02:01.894Z"
   },
   {
    "duration": 403,
    "start_time": "2021-06-15T13:02:19.618Z"
   },
   {
    "duration": 10,
    "start_time": "2021-06-15T13:02:28.252Z"
   },
   {
    "duration": 11,
    "start_time": "2021-06-15T13:02:30.573Z"
   },
   {
    "duration": 7,
    "start_time": "2021-06-15T13:05:14.473Z"
   },
   {
    "duration": 540,
    "start_time": "2021-06-15T13:05:17.088Z"
   },
   {
    "duration": 548,
    "start_time": "2021-06-15T13:05:27.562Z"
   },
   {
    "duration": 545,
    "start_time": "2021-06-15T13:05:34.304Z"
   },
   {
    "duration": 580,
    "start_time": "2021-06-15T13:06:29.846Z"
   },
   {
    "duration": 658,
    "start_time": "2021-06-15T13:06:43.059Z"
   },
   {
    "duration": 409,
    "start_time": "2021-06-15T13:07:09.184Z"
   },
   {
    "duration": 8,
    "start_time": "2021-06-15T13:07:18.437Z"
   },
   {
    "duration": 12,
    "start_time": "2021-06-15T13:07:19.893Z"
   },
   {
    "duration": 7,
    "start_time": "2021-06-15T13:15:30.925Z"
   },
   {
    "duration": 521,
    "start_time": "2021-06-15T13:15:34.021Z"
   },
   {
    "duration": 548,
    "start_time": "2021-06-15T13:15:43.745Z"
   },
   {
    "duration": 551,
    "start_time": "2021-06-15T13:15:54.990Z"
   },
   {
    "duration": 395,
    "start_time": "2021-06-15T13:16:06.944Z"
   },
   {
    "duration": 561,
    "start_time": "2021-06-15T13:16:13.851Z"
   },
   {
    "duration": 11,
    "start_time": "2021-06-15T13:16:23.729Z"
   },
   {
    "duration": 11,
    "start_time": "2021-06-15T13:16:24.143Z"
   },
   {
    "duration": 6,
    "start_time": "2021-06-15T13:19:42.803Z"
   },
   {
    "duration": 642,
    "start_time": "2021-06-15T13:19:43.916Z"
   },
   {
    "duration": 627,
    "start_time": "2021-06-15T13:19:50.429Z"
   },
   {
    "duration": 647,
    "start_time": "2021-06-15T13:19:55.961Z"
   },
   {
    "duration": 396,
    "start_time": "2021-06-15T13:20:02.855Z"
   },
   {
    "duration": 9,
    "start_time": "2021-06-15T13:20:09.107Z"
   },
   {
    "duration": 14,
    "start_time": "2021-06-15T13:20:09.636Z"
   },
   {
    "duration": 366,
    "start_time": "2021-06-15T13:38:19.469Z"
   },
   {
    "duration": 8,
    "start_time": "2021-06-15T13:39:03.024Z"
   },
   {
    "duration": 365,
    "start_time": "2021-06-15T14:28:08.208Z"
   },
   {
    "duration": 11,
    "start_time": "2021-06-15T14:28:13.584Z"
   },
   {
    "duration": 15,
    "start_time": "2021-06-15T14:28:29.482Z"
   },
   {
    "duration": 375,
    "start_time": "2021-06-15T14:28:52.837Z"
   },
   {
    "duration": 38,
    "start_time": "2021-06-15T14:29:41.064Z"
   },
   {
    "duration": 1030,
    "start_time": "2021-06-15T14:30:35.134Z"
   },
   {
    "duration": 4,
    "start_time": "2021-06-15T14:30:36.167Z"
   },
   {
    "duration": 56,
    "start_time": "2021-06-15T14:30:36.176Z"
   },
   {
    "duration": 33,
    "start_time": "2021-06-15T14:30:36.234Z"
   },
   {
    "duration": 14,
    "start_time": "2021-06-15T14:30:36.270Z"
   },
   {
    "duration": 9,
    "start_time": "2021-06-15T14:30:36.286Z"
   },
   {
    "duration": 48,
    "start_time": "2021-06-15T14:30:36.299Z"
   },
   {
    "duration": 598,
    "start_time": "2021-06-15T14:30:36.350Z"
   },
   {
    "duration": 11,
    "start_time": "2021-06-15T14:30:36.951Z"
   },
   {
    "duration": 30,
    "start_time": "2021-06-15T14:30:36.965Z"
   },
   {
    "duration": 466,
    "start_time": "2021-06-15T14:30:36.998Z"
   },
   {
    "duration": 1183,
    "start_time": "2021-06-15T14:30:36.285Z"
   },
   {
    "duration": 1166,
    "start_time": "2021-06-15T14:30:36.304Z"
   },
   {
    "duration": 1155,
    "start_time": "2021-06-15T14:30:36.316Z"
   },
   {
    "duration": 1145,
    "start_time": "2021-06-15T14:30:36.328Z"
   },
   {
    "duration": 1136,
    "start_time": "2021-06-15T14:30:36.339Z"
   },
   {
    "duration": 1124,
    "start_time": "2021-06-15T14:30:36.352Z"
   },
   {
    "duration": 1059,
    "start_time": "2021-06-15T14:30:36.419Z"
   },
   {
    "duration": 1050,
    "start_time": "2021-06-15T14:30:36.429Z"
   },
   {
    "duration": 1039,
    "start_time": "2021-06-15T14:30:36.442Z"
   },
   {
    "duration": 1029,
    "start_time": "2021-06-15T14:30:36.454Z"
   },
   {
    "duration": 1020,
    "start_time": "2021-06-15T14:30:36.464Z"
   },
   {
    "duration": 1011,
    "start_time": "2021-06-15T14:30:36.475Z"
   },
   {
    "duration": 1002,
    "start_time": "2021-06-15T14:30:36.485Z"
   },
   {
    "duration": 993,
    "start_time": "2021-06-15T14:30:36.496Z"
   },
   {
    "duration": 985,
    "start_time": "2021-06-15T14:30:36.505Z"
   },
   {
    "duration": 954,
    "start_time": "2021-06-15T14:30:36.538Z"
   },
   {
    "duration": 947,
    "start_time": "2021-06-15T14:30:36.546Z"
   },
   {
    "duration": 937,
    "start_time": "2021-06-15T14:30:36.558Z"
   },
   {
    "duration": 928,
    "start_time": "2021-06-15T14:30:36.569Z"
   },
   {
    "duration": 914,
    "start_time": "2021-06-15T14:30:36.584Z"
   },
   {
    "duration": 901,
    "start_time": "2021-06-15T14:30:36.599Z"
   },
   {
    "duration": 889,
    "start_time": "2021-06-15T14:30:36.613Z"
   },
   {
    "duration": 878,
    "start_time": "2021-06-15T14:30:36.625Z"
   },
   {
    "duration": 851,
    "start_time": "2021-06-15T14:30:36.654Z"
   },
   {
    "duration": 843,
    "start_time": "2021-06-15T14:30:36.663Z"
   },
   {
    "duration": 840,
    "start_time": "2021-06-15T14:30:36.667Z"
   },
   {
    "duration": 832,
    "start_time": "2021-06-15T14:30:36.676Z"
   },
   {
    "duration": 842,
    "start_time": "2021-06-15T14:30:36.684Z"
   },
   {
    "duration": 834,
    "start_time": "2021-06-15T14:30:36.693Z"
   },
   {
    "duration": 826,
    "start_time": "2021-06-15T14:30:36.703Z"
   },
   {
    "duration": 819,
    "start_time": "2021-06-15T14:30:36.711Z"
   },
   {
    "duration": 812,
    "start_time": "2021-06-15T14:30:36.720Z"
   },
   {
    "duration": 803,
    "start_time": "2021-06-15T14:30:36.730Z"
   },
   {
    "duration": 795,
    "start_time": "2021-06-15T14:30:36.740Z"
   },
   {
    "duration": 772,
    "start_time": "2021-06-15T14:30:36.764Z"
   },
   {
    "duration": 769,
    "start_time": "2021-06-15T14:30:36.769Z"
   },
   {
    "duration": 765,
    "start_time": "2021-06-15T14:30:36.774Z"
   },
   {
    "duration": 945,
    "start_time": "2021-06-15T14:31:35.370Z"
   },
   {
    "duration": 5,
    "start_time": "2021-06-15T14:31:36.318Z"
   },
   {
    "duration": 31,
    "start_time": "2021-06-15T14:31:36.327Z"
   },
   {
    "duration": 20,
    "start_time": "2021-06-15T14:31:36.362Z"
   },
   {
    "duration": 11,
    "start_time": "2021-06-15T14:31:36.385Z"
   },
   {
    "duration": 7,
    "start_time": "2021-06-15T14:31:36.426Z"
   },
   {
    "duration": 33,
    "start_time": "2021-06-15T14:31:36.435Z"
   },
   {
    "duration": 612,
    "start_time": "2021-06-15T14:31:36.474Z"
   },
   {
    "duration": 13,
    "start_time": "2021-06-15T14:31:37.091Z"
   },
   {
    "duration": 12,
    "start_time": "2021-06-15T14:31:37.125Z"
   },
   {
    "duration": 9,
    "start_time": "2021-06-15T14:31:37.140Z"
   },
   {
    "duration": 690,
    "start_time": "2021-06-15T14:31:37.152Z"
   },
   {
    "duration": 517,
    "start_time": "2021-06-15T14:31:37.845Z"
   },
   {
    "duration": 9,
    "start_time": "2021-06-15T14:31:38.365Z"
   },
   {
    "duration": 14,
    "start_time": "2021-06-15T14:31:38.376Z"
   },
   {
    "duration": 34,
    "start_time": "2021-06-15T14:31:38.393Z"
   },
   {
    "duration": 562,
    "start_time": "2021-06-15T14:31:38.430Z"
   },
   {
    "duration": 415,
    "start_time": "2021-06-15T14:31:38.995Z"
   },
   {
    "duration": 17,
    "start_time": "2021-06-15T14:31:39.413Z"
   },
   {
    "duration": 25,
    "start_time": "2021-06-15T14:31:39.433Z"
   },
   {
    "duration": 17,
    "start_time": "2021-06-15T14:31:39.460Z"
   },
   {
    "duration": 552,
    "start_time": "2021-06-15T14:31:39.479Z"
   },
   {
    "duration": 410,
    "start_time": "2021-06-15T14:31:40.037Z"
   },
   {
    "duration": 9,
    "start_time": "2021-06-15T14:31:40.450Z"
   },
   {
    "duration": 21,
    "start_time": "2021-06-15T14:31:40.461Z"
   },
   {
    "duration": 13,
    "start_time": "2021-06-15T14:31:40.485Z"
   },
   {
    "duration": 582,
    "start_time": "2021-06-15T14:31:40.501Z"
   },
   {
    "duration": 430,
    "start_time": "2021-06-15T14:31:41.085Z"
   },
   {
    "duration": 16,
    "start_time": "2021-06-15T14:31:41.517Z"
   },
   {
    "duration": 18,
    "start_time": "2021-06-15T14:31:41.536Z"
   },
   {
    "duration": 13,
    "start_time": "2021-06-15T14:31:41.556Z"
   },
   {
    "duration": 656,
    "start_time": "2021-06-15T14:31:41.572Z"
   },
   {
    "duration": 428,
    "start_time": "2021-06-15T14:31:42.230Z"
   },
   {
    "duration": 10,
    "start_time": "2021-06-15T14:31:42.660Z"
   },
   {
    "duration": 15,
    "start_time": "2021-06-15T14:31:42.672Z"
   },
   {
    "duration": 130,
    "start_time": "2021-06-15T14:31:42.690Z"
   },
   {
    "duration": 1201,
    "start_time": "2021-06-15T14:31:41.621Z"
   },
   {
    "duration": 1193,
    "start_time": "2021-06-15T14:31:41.631Z"
   },
   {
    "duration": 1185,
    "start_time": "2021-06-15T14:31:41.640Z"
   },
   {
    "duration": 1173,
    "start_time": "2021-06-15T14:31:41.653Z"
   },
   {
    "duration": 1165,
    "start_time": "2021-06-15T14:31:41.662Z"
   },
   {
    "duration": 1154,
    "start_time": "2021-06-15T14:31:41.674Z"
   },
   {
    "duration": 1146,
    "start_time": "2021-06-15T14:31:41.684Z"
   },
   {
    "duration": 1135,
    "start_time": "2021-06-15T14:31:41.696Z"
   },
   {
    "duration": 1092,
    "start_time": "2021-06-15T14:31:41.740Z"
   },
   {
    "duration": 1070,
    "start_time": "2021-06-15T14:31:41.763Z"
   },
   {
    "duration": 1054,
    "start_time": "2021-06-15T14:31:41.780Z"
   },
   {
    "duration": 1037,
    "start_time": "2021-06-15T14:31:41.798Z"
   },
   {
    "duration": 1022,
    "start_time": "2021-06-15T14:31:41.815Z"
   },
   {
    "duration": 7,
    "start_time": "2021-06-15T14:32:39.328Z"
   },
   {
    "duration": 542,
    "start_time": "2021-06-15T14:32:40.732Z"
   },
   {
    "duration": 403,
    "start_time": "2021-06-15T14:32:41.277Z"
   },
   {
    "duration": 8,
    "start_time": "2021-06-15T14:32:41.683Z"
   },
   {
    "duration": 12,
    "start_time": "2021-06-15T14:32:42.245Z"
   },
   {
    "duration": 6,
    "start_time": "2021-06-15T14:32:43.666Z"
   },
   {
    "duration": 530,
    "start_time": "2021-06-15T14:32:44.123Z"
   },
   {
    "duration": 438,
    "start_time": "2021-06-15T14:32:44.656Z"
   },
   {
    "duration": 10,
    "start_time": "2021-06-15T14:32:45.515Z"
   },
   {
    "duration": 11,
    "start_time": "2021-06-15T14:32:45.989Z"
   },
   {
    "duration": 38,
    "start_time": "2021-06-15T14:32:51.418Z"
   },
   {
    "duration": 469,
    "start_time": "2021-06-15T14:33:31.469Z"
   },
   {
    "duration": 17,
    "start_time": "2021-06-15T14:34:07.665Z"
   },
   {
    "duration": 13,
    "start_time": "2021-06-15T14:34:19.249Z"
   },
   {
    "duration": 6,
    "start_time": "2021-06-15T14:34:31.247Z"
   },
   {
    "duration": 329,
    "start_time": "2021-06-15T14:34:44.118Z"
   },
   {
    "duration": 6,
    "start_time": "2021-06-15T14:35:26.268Z"
   },
   {
    "duration": 32,
    "start_time": "2021-06-15T14:35:40.048Z"
   },
   {
    "duration": 8,
    "start_time": "2021-06-15T14:35:55.677Z"
   },
   {
    "duration": 32,
    "start_time": "2021-06-15T14:35:56.532Z"
   },
   {
    "duration": 19,
    "start_time": "2021-06-15T14:40:19.204Z"
   },
   {
    "duration": 13,
    "start_time": "2021-06-15T14:40:30.466Z"
   },
   {
    "duration": 11,
    "start_time": "2021-06-15T14:40:50.968Z"
   },
   {
    "duration": 11,
    "start_time": "2021-06-15T14:40:52.546Z"
   },
   {
    "duration": 19,
    "start_time": "2021-06-15T14:49:12.430Z"
   },
   {
    "duration": 7,
    "start_time": "2021-06-15T14:50:13.441Z"
   },
   {
    "duration": 10,
    "start_time": "2021-06-15T14:53:11.714Z"
   },
   {
    "duration": 158,
    "start_time": "2021-06-15T14:54:08.580Z"
   },
   {
    "duration": 363,
    "start_time": "2021-06-15T14:54:23.497Z"
   },
   {
    "duration": 348,
    "start_time": "2021-06-15T14:54:52.056Z"
   },
   {
    "duration": 464,
    "start_time": "2021-06-15T14:55:00.695Z"
   },
   {
    "duration": 608,
    "start_time": "2021-06-15T14:55:55.817Z"
   },
   {
    "duration": 558,
    "start_time": "2021-06-15T14:56:01.397Z"
   },
   {
    "duration": 7,
    "start_time": "2021-06-15T14:58:27.696Z"
   },
   {
    "duration": 31,
    "start_time": "2021-06-15T14:58:28.565Z"
   },
   {
    "duration": 11,
    "start_time": "2021-06-15T14:58:30.088Z"
   },
   {
    "duration": 400,
    "start_time": "2021-06-15T14:58:31.250Z"
   },
   {
    "duration": 8,
    "start_time": "2021-06-15T14:58:51.586Z"
   },
   {
    "duration": 31,
    "start_time": "2021-06-15T14:58:52.151Z"
   },
   {
    "duration": 11,
    "start_time": "2021-06-15T14:58:53.066Z"
   },
   {
    "duration": 389,
    "start_time": "2021-06-15T14:58:53.666Z"
   },
   {
    "duration": 243,
    "start_time": "2021-06-15T15:02:25.085Z"
   },
   {
    "duration": 214,
    "start_time": "2021-06-15T15:02:32.961Z"
   },
   {
    "duration": 244,
    "start_time": "2021-06-15T15:02:39.553Z"
   },
   {
    "duration": 9,
    "start_time": "2021-06-15T15:03:07.762Z"
   },
   {
    "duration": 32,
    "start_time": "2021-06-15T15:03:08.274Z"
   },
   {
    "duration": 12,
    "start_time": "2021-06-15T15:03:09.029Z"
   },
   {
    "duration": 433,
    "start_time": "2021-06-15T15:03:10.829Z"
   },
   {
    "duration": 3053,
    "start_time": "2021-06-15T15:04:38.186Z"
   },
   {
    "duration": 639,
    "start_time": "2021-06-15T15:04:54.447Z"
   },
   {
    "duration": 234,
    "start_time": "2021-06-15T15:05:26.629Z"
   },
   {
    "duration": 240,
    "start_time": "2021-06-15T15:05:43.388Z"
   },
   {
    "duration": 315,
    "start_time": "2021-06-15T15:06:10.361Z"
   },
   {
    "duration": 223,
    "start_time": "2021-06-15T15:06:24.622Z"
   },
   {
    "duration": 232,
    "start_time": "2021-06-15T15:06:30.796Z"
   },
   {
    "duration": 220,
    "start_time": "2021-06-15T15:08:32.430Z"
   },
   {
    "duration": 239,
    "start_time": "2021-06-15T15:08:38.734Z"
   },
   {
    "duration": 950,
    "start_time": "2021-06-16T08:43:04.692Z"
   },
   {
    "duration": 4,
    "start_time": "2021-06-16T08:43:05.644Z"
   },
   {
    "duration": 29,
    "start_time": "2021-06-16T08:43:05.651Z"
   },
   {
    "duration": 43,
    "start_time": "2021-06-16T08:43:05.683Z"
   },
   {
    "duration": 10,
    "start_time": "2021-06-16T08:43:05.728Z"
   },
   {
    "duration": 15,
    "start_time": "2021-06-16T08:43:05.740Z"
   },
   {
    "duration": 32,
    "start_time": "2021-06-16T08:43:05.757Z"
   },
   {
    "duration": 569,
    "start_time": "2021-06-16T08:43:05.793Z"
   },
   {
    "duration": 11,
    "start_time": "2021-06-16T08:43:06.365Z"
   },
   {
    "duration": 12,
    "start_time": "2021-06-16T08:43:06.378Z"
   },
   {
    "duration": 31,
    "start_time": "2021-06-16T08:43:06.393Z"
   },
   {
    "duration": 536,
    "start_time": "2021-06-16T08:43:06.427Z"
   },
   {
    "duration": 471,
    "start_time": "2021-06-16T08:43:06.966Z"
   },
   {
    "duration": 9,
    "start_time": "2021-06-16T08:43:07.440Z"
   },
   {
    "duration": 21,
    "start_time": "2021-06-16T08:43:07.452Z"
   },
   {
    "duration": 9,
    "start_time": "2021-06-16T08:43:07.477Z"
   },
   {
    "duration": 545,
    "start_time": "2021-06-16T08:43:07.488Z"
   },
   {
    "duration": 475,
    "start_time": "2021-06-16T08:43:08.036Z"
   },
   {
    "duration": 12,
    "start_time": "2021-06-16T08:43:08.514Z"
   },
   {
    "duration": 14,
    "start_time": "2021-06-16T08:43:08.529Z"
   },
   {
    "duration": 9,
    "start_time": "2021-06-16T08:43:08.546Z"
   },
   {
    "duration": 537,
    "start_time": "2021-06-16T08:43:08.557Z"
   },
   {
    "duration": 411,
    "start_time": "2021-06-16T08:43:09.101Z"
   },
   {
    "duration": 9,
    "start_time": "2021-06-16T08:43:09.516Z"
   },
   {
    "duration": 23,
    "start_time": "2021-06-16T08:43:09.528Z"
   },
   {
    "duration": 18,
    "start_time": "2021-06-16T08:43:09.554Z"
   },
   {
    "duration": 544,
    "start_time": "2021-06-16T08:43:09.575Z"
   },
   {
    "duration": 423,
    "start_time": "2021-06-16T08:43:10.125Z"
   },
   {
    "duration": 9,
    "start_time": "2021-06-16T08:43:10.551Z"
   },
   {
    "duration": 21,
    "start_time": "2021-06-16T08:43:10.564Z"
   },
   {
    "duration": 11,
    "start_time": "2021-06-16T08:43:10.587Z"
   },
   {
    "duration": 645,
    "start_time": "2021-06-16T08:43:10.601Z"
   },
   {
    "duration": 412,
    "start_time": "2021-06-16T08:43:11.249Z"
   },
   {
    "duration": 10,
    "start_time": "2021-06-16T08:43:11.663Z"
   },
   {
    "duration": 32,
    "start_time": "2021-06-16T08:43:11.675Z"
   },
   {
    "duration": 23,
    "start_time": "2021-06-16T08:43:11.709Z"
   },
   {
    "duration": 547,
    "start_time": "2021-06-16T08:43:11.735Z"
   },
   {
    "duration": 417,
    "start_time": "2021-06-16T08:43:12.285Z"
   },
   {
    "duration": 9,
    "start_time": "2021-06-16T08:43:12.705Z"
   },
   {
    "duration": 12,
    "start_time": "2021-06-16T08:43:12.725Z"
   },
   {
    "duration": 16,
    "start_time": "2021-06-16T08:43:12.739Z"
   },
   {
    "duration": 537,
    "start_time": "2021-06-16T08:43:12.757Z"
   },
   {
    "duration": 423,
    "start_time": "2021-06-16T08:43:13.296Z"
   },
   {
    "duration": 9,
    "start_time": "2021-06-16T08:43:13.724Z"
   },
   {
    "duration": 23,
    "start_time": "2021-06-16T08:43:13.735Z"
   },
   {
    "duration": 14,
    "start_time": "2021-06-16T08:43:13.761Z"
   },
   {
    "duration": 12,
    "start_time": "2021-06-16T08:43:13.778Z"
   },
   {
    "duration": 32,
    "start_time": "2021-06-16T08:43:13.792Z"
   },
   {
    "duration": 40,
    "start_time": "2021-06-16T08:43:13.827Z"
   },
   {
    "duration": 18,
    "start_time": "2021-06-16T08:43:13.870Z"
   },
   {
    "duration": 646,
    "start_time": "2021-06-16T08:43:13.891Z"
   },
   {
    "duration": 246,
    "start_time": "2021-06-16T08:43:14.540Z"
   },
   {
    "duration": 17,
    "start_time": "2021-06-16T08:45:30.354Z"
   },
   {
    "duration": 16,
    "start_time": "2021-06-16T08:45:59.166Z"
   },
   {
    "duration": 7,
    "start_time": "2021-06-16T09:40:00.246Z"
   },
   {
    "duration": 10,
    "start_time": "2021-06-16T09:40:13.323Z"
   },
   {
    "duration": 7,
    "start_time": "2021-06-16T09:40:31.898Z"
   },
   {
    "duration": 9,
    "start_time": "2021-06-16T09:42:40.151Z"
   },
   {
    "duration": 29,
    "start_time": "2021-06-16T09:42:58.932Z"
   },
   {
    "duration": 5,
    "start_time": "2021-06-16T09:44:09.061Z"
   },
   {
    "duration": 468,
    "start_time": "2021-06-16T09:44:27.036Z"
   },
   {
    "duration": 8,
    "start_time": "2021-06-16T09:46:30.700Z"
   },
   {
    "duration": 7,
    "start_time": "2021-06-16T09:47:44.959Z"
   },
   {
    "duration": 6,
    "start_time": "2021-06-16T09:50:39.192Z"
   },
   {
    "duration": 265,
    "start_time": "2021-06-16T09:50:58.845Z"
   },
   {
    "duration": 6,
    "start_time": "2021-06-16T09:51:25.409Z"
   },
   {
    "duration": 928,
    "start_time": "2021-06-16T09:51:45.086Z"
   },
   {
    "duration": 5,
    "start_time": "2021-06-16T09:51:46.024Z"
   },
   {
    "duration": 38,
    "start_time": "2021-06-16T09:51:46.033Z"
   },
   {
    "duration": 27,
    "start_time": "2021-06-16T09:51:46.073Z"
   },
   {
    "duration": 22,
    "start_time": "2021-06-16T09:51:46.103Z"
   },
   {
    "duration": 16,
    "start_time": "2021-06-16T09:51:46.127Z"
   },
   {
    "duration": 33,
    "start_time": "2021-06-16T09:51:46.145Z"
   },
   {
    "duration": 561,
    "start_time": "2021-06-16T09:51:46.181Z"
   },
   {
    "duration": 11,
    "start_time": "2021-06-16T09:51:46.744Z"
   },
   {
    "duration": 20,
    "start_time": "2021-06-16T09:51:46.757Z"
   },
   {
    "duration": 11,
    "start_time": "2021-06-16T09:51:46.779Z"
   },
   {
    "duration": 537,
    "start_time": "2021-06-16T09:51:46.793Z"
   },
   {
    "duration": 474,
    "start_time": "2021-06-16T09:51:47.332Z"
   },
   {
    "duration": 17,
    "start_time": "2021-06-16T09:51:47.809Z"
   },
   {
    "duration": 27,
    "start_time": "2021-06-16T09:51:47.828Z"
   },
   {
    "duration": 25,
    "start_time": "2021-06-16T09:51:47.857Z"
   },
   {
    "duration": 528,
    "start_time": "2021-06-16T09:51:47.885Z"
   },
   {
    "duration": 455,
    "start_time": "2021-06-16T09:51:48.416Z"
   },
   {
    "duration": 9,
    "start_time": "2021-06-16T09:51:48.873Z"
   },
   {
    "duration": 21,
    "start_time": "2021-06-16T09:51:48.884Z"
   },
   {
    "duration": 17,
    "start_time": "2021-06-16T09:51:48.925Z"
   },
   {
    "duration": 531,
    "start_time": "2021-06-16T09:51:48.944Z"
   },
   {
    "duration": 404,
    "start_time": "2021-06-16T09:51:49.481Z"
   },
   {
    "duration": 8,
    "start_time": "2021-06-16T09:51:49.888Z"
   },
   {
    "duration": 42,
    "start_time": "2021-06-16T09:51:49.898Z"
   },
   {
    "duration": 27,
    "start_time": "2021-06-16T09:51:49.942Z"
   },
   {
    "duration": 549,
    "start_time": "2021-06-16T09:51:49.971Z"
   },
   {
    "duration": 426,
    "start_time": "2021-06-16T09:51:50.524Z"
   },
   {
    "duration": 9,
    "start_time": "2021-06-16T09:51:50.952Z"
   },
   {
    "duration": 26,
    "start_time": "2021-06-16T09:51:50.963Z"
   },
   {
    "duration": 19,
    "start_time": "2021-06-16T09:51:50.992Z"
   },
   {
    "duration": 624,
    "start_time": "2021-06-16T09:51:51.014Z"
   },
   {
    "duration": 422,
    "start_time": "2021-06-16T09:51:51.640Z"
   },
   {
    "duration": 10,
    "start_time": "2021-06-16T09:51:52.064Z"
   },
   {
    "duration": 21,
    "start_time": "2021-06-16T09:51:52.076Z"
   },
   {
    "duration": 27,
    "start_time": "2021-06-16T09:51:52.099Z"
   },
   {
    "duration": 562,
    "start_time": "2021-06-16T09:51:52.128Z"
   },
   {
    "duration": 399,
    "start_time": "2021-06-16T09:51:52.693Z"
   },
   {
    "duration": 10,
    "start_time": "2021-06-16T09:51:53.094Z"
   },
   {
    "duration": 24,
    "start_time": "2021-06-16T09:51:53.106Z"
   },
   {
    "duration": 12,
    "start_time": "2021-06-16T09:51:53.132Z"
   },
   {
    "duration": 536,
    "start_time": "2021-06-16T09:51:53.146Z"
   },
   {
    "duration": 415,
    "start_time": "2021-06-16T09:51:53.685Z"
   },
   {
    "duration": 9,
    "start_time": "2021-06-16T09:51:54.103Z"
   },
   {
    "duration": 18,
    "start_time": "2021-06-16T09:51:54.114Z"
   },
   {
    "duration": 24,
    "start_time": "2021-06-16T09:51:54.135Z"
   },
   {
    "duration": 6,
    "start_time": "2021-06-16T09:51:54.161Z"
   },
   {
    "duration": 20,
    "start_time": "2021-06-16T09:51:54.169Z"
   },
   {
    "duration": 46,
    "start_time": "2021-06-16T09:51:54.191Z"
   },
   {
    "duration": 19,
    "start_time": "2021-06-16T09:51:54.240Z"
   },
   {
    "duration": 633,
    "start_time": "2021-06-16T09:51:54.261Z"
   },
   {
    "duration": 258,
    "start_time": "2021-06-16T09:51:54.897Z"
   },
   {
    "duration": 7,
    "start_time": "2021-06-16T09:51:55.157Z"
   },
   {
    "duration": 13,
    "start_time": "2021-06-16T09:51:55.166Z"
   },
   {
    "duration": 19,
    "start_time": "2021-06-16T09:51:55.181Z"
   },
   {
    "duration": 52,
    "start_time": "2021-06-16T09:51:55.202Z"
   },
   {
    "duration": 7,
    "start_time": "2021-06-16T09:51:55.257Z"
   },
   {
    "duration": 12,
    "start_time": "2021-06-16T09:51:55.266Z"
   },
   {
    "duration": 20,
    "start_time": "2021-06-16T09:51:55.281Z"
   },
   {
    "duration": 23,
    "start_time": "2021-06-16T09:51:55.303Z"
   },
   {
    "duration": 6,
    "start_time": "2021-06-16T09:51:55.328Z"
   },
   {
    "duration": 510,
    "start_time": "2021-06-16T09:51:55.336Z"
   },
   {
    "duration": 8,
    "start_time": "2021-06-16T09:52:23.185Z"
   },
   {
    "duration": 10,
    "start_time": "2021-06-16T09:53:17.761Z"
   },
   {
    "duration": 358,
    "start_time": "2021-06-16T09:54:47.257Z"
   },
   {
    "duration": 316,
    "start_time": "2021-06-16T09:54:55.367Z"
   },
   {
    "duration": 7,
    "start_time": "2021-06-16T09:55:05.057Z"
   },
   {
    "duration": 7,
    "start_time": "2021-06-16T09:55:39.349Z"
   },
   {
    "duration": 8,
    "start_time": "2021-06-16T09:57:58.207Z"
   },
   {
    "duration": 923,
    "start_time": "2021-06-16T09:59:46.004Z"
   },
   {
    "duration": 4,
    "start_time": "2021-06-16T09:59:46.929Z"
   },
   {
    "duration": 36,
    "start_time": "2021-06-16T09:59:46.936Z"
   },
   {
    "duration": 20,
    "start_time": "2021-06-16T09:59:46.975Z"
   },
   {
    "duration": 26,
    "start_time": "2021-06-16T09:59:46.998Z"
   },
   {
    "duration": 11,
    "start_time": "2021-06-16T09:59:47.027Z"
   },
   {
    "duration": 31,
    "start_time": "2021-06-16T09:59:47.041Z"
   },
   {
    "duration": 580,
    "start_time": "2021-06-16T09:59:47.076Z"
   },
   {
    "duration": 12,
    "start_time": "2021-06-16T09:59:47.659Z"
   },
   {
    "duration": 23,
    "start_time": "2021-06-16T09:59:47.673Z"
   },
   {
    "duration": 25,
    "start_time": "2021-06-16T09:59:47.699Z"
   },
   {
    "duration": 543,
    "start_time": "2021-06-16T09:59:47.726Z"
   },
   {
    "duration": 496,
    "start_time": "2021-06-16T09:59:48.271Z"
   },
   {
    "duration": 11,
    "start_time": "2021-06-16T09:59:48.770Z"
   },
   {
    "duration": 40,
    "start_time": "2021-06-16T09:59:48.784Z"
   },
   {
    "duration": 9,
    "start_time": "2021-06-16T09:59:48.826Z"
   },
   {
    "duration": 561,
    "start_time": "2021-06-16T09:59:48.837Z"
   },
   {
    "duration": 406,
    "start_time": "2021-06-16T09:59:49.401Z"
   },
   {
    "duration": 17,
    "start_time": "2021-06-16T09:59:49.809Z"
   },
   {
    "duration": 14,
    "start_time": "2021-06-16T09:59:49.828Z"
   },
   {
    "duration": 6,
    "start_time": "2021-06-16T09:59:49.845Z"
   },
   {
    "duration": 535,
    "start_time": "2021-06-16T09:59:49.854Z"
   },
   {
    "duration": 403,
    "start_time": "2021-06-16T09:59:50.394Z"
   },
   {
    "duration": 9,
    "start_time": "2021-06-16T09:59:50.799Z"
   },
   {
    "duration": 22,
    "start_time": "2021-06-16T09:59:50.810Z"
   },
   {
    "duration": 13,
    "start_time": "2021-06-16T09:59:50.834Z"
   },
   {
    "duration": 583,
    "start_time": "2021-06-16T09:59:50.849Z"
   },
   {
    "duration": 419,
    "start_time": "2021-06-16T09:59:51.435Z"
   },
   {
    "duration": 9,
    "start_time": "2021-06-16T09:59:51.856Z"
   },
   {
    "duration": 19,
    "start_time": "2021-06-16T09:59:51.867Z"
   },
   {
    "duration": 14,
    "start_time": "2021-06-16T09:59:51.888Z"
   },
   {
    "duration": 644,
    "start_time": "2021-06-16T09:59:51.904Z"
   },
   {
    "duration": 410,
    "start_time": "2021-06-16T09:59:52.550Z"
   },
   {
    "duration": 9,
    "start_time": "2021-06-16T09:59:52.962Z"
   },
   {
    "duration": 19,
    "start_time": "2021-06-16T09:59:52.973Z"
   },
   {
    "duration": 7,
    "start_time": "2021-06-16T09:59:52.994Z"
   },
   {
    "duration": 565,
    "start_time": "2021-06-16T09:59:53.025Z"
   },
   {
    "duration": 412,
    "start_time": "2021-06-16T09:59:53.592Z"
   },
   {
    "duration": 9,
    "start_time": "2021-06-16T09:59:54.006Z"
   },
   {
    "duration": 12,
    "start_time": "2021-06-16T09:59:54.024Z"
   },
   {
    "duration": 8,
    "start_time": "2021-06-16T09:59:54.038Z"
   },
   {
    "duration": 550,
    "start_time": "2021-06-16T09:59:54.048Z"
   },
   {
    "duration": 415,
    "start_time": "2021-06-16T09:59:54.600Z"
   },
   {
    "duration": 9,
    "start_time": "2021-06-16T09:59:55.024Z"
   },
   {
    "duration": 31,
    "start_time": "2021-06-16T09:59:55.035Z"
   },
   {
    "duration": 25,
    "start_time": "2021-06-16T09:59:55.068Z"
   },
   {
    "duration": 6,
    "start_time": "2021-06-16T09:59:55.096Z"
   },
   {
    "duration": 16,
    "start_time": "2021-06-16T09:59:55.104Z"
   },
   {
    "duration": 37,
    "start_time": "2021-06-16T09:59:55.122Z"
   },
   {
    "duration": 15,
    "start_time": "2021-06-16T09:59:55.161Z"
   },
   {
    "duration": 651,
    "start_time": "2021-06-16T09:59:55.179Z"
   },
   {
    "duration": 249,
    "start_time": "2021-06-16T09:59:55.832Z"
   },
   {
    "duration": 8,
    "start_time": "2021-06-16T09:59:56.083Z"
   },
   {
    "duration": 10,
    "start_time": "2021-06-16T09:59:56.093Z"
   },
   {
    "duration": 10,
    "start_time": "2021-06-16T09:59:56.125Z"
   },
   {
    "duration": 13,
    "start_time": "2021-06-16T09:59:56.138Z"
   },
   {
    "duration": 39,
    "start_time": "2021-06-16T09:59:56.154Z"
   },
   {
    "duration": 366,
    "start_time": "2021-06-16T10:01:07.755Z"
   },
   {
    "duration": 7,
    "start_time": "2021-06-16T10:01:20.769Z"
   },
   {
    "duration": 32,
    "start_time": "2021-06-16T10:01:30.554Z"
   },
   {
    "duration": 17,
    "start_time": "2021-06-16T10:02:09.758Z"
   },
   {
    "duration": 7202,
    "start_time": "2021-06-16T10:28:00.037Z"
   },
   {
    "duration": 9,
    "start_time": "2021-06-16T10:28:19.675Z"
   },
   {
    "duration": 8,
    "start_time": "2021-06-16T10:28:34.894Z"
   },
   {
    "duration": 10,
    "start_time": "2021-06-16T10:28:46.289Z"
   },
   {
    "duration": 7,
    "start_time": "2021-06-16T10:30:03.371Z"
   },
   {
    "duration": 9,
    "start_time": "2021-06-16T10:30:04.350Z"
   },
   {
    "duration": 6,
    "start_time": "2021-06-16T10:30:26.042Z"
   },
   {
    "duration": 3376,
    "start_time": "2021-06-16T10:30:26.663Z"
   },
   {
    "duration": 269,
    "start_time": "2021-06-16T10:30:54.829Z"
   },
   {
    "duration": 5,
    "start_time": "2021-06-16T10:30:55.676Z"
   },
   {
    "duration": 4,
    "start_time": "2021-06-16T10:31:13.415Z"
   },
   {
    "duration": 3231,
    "start_time": "2021-06-16T10:31:14.703Z"
   },
   {
    "duration": 953,
    "start_time": "2021-06-16T10:31:31.940Z"
   },
   {
    "duration": 3,
    "start_time": "2021-06-16T10:31:32.896Z"
   },
   {
    "duration": 40,
    "start_time": "2021-06-16T10:31:32.902Z"
   },
   {
    "duration": 17,
    "start_time": "2021-06-16T10:31:32.945Z"
   },
   {
    "duration": 9,
    "start_time": "2021-06-16T10:31:32.965Z"
   },
   {
    "duration": 9,
    "start_time": "2021-06-16T10:31:32.977Z"
   },
   {
    "duration": 62,
    "start_time": "2021-06-16T10:31:32.988Z"
   },
   {
    "duration": 604,
    "start_time": "2021-06-16T10:31:33.055Z"
   },
   {
    "duration": 11,
    "start_time": "2021-06-16T10:31:33.664Z"
   },
   {
    "duration": 11,
    "start_time": "2021-06-16T10:31:33.678Z"
   },
   {
    "duration": 34,
    "start_time": "2021-06-16T10:31:33.692Z"
   },
   {
    "duration": 531,
    "start_time": "2021-06-16T10:31:33.728Z"
   },
   {
    "duration": 474,
    "start_time": "2021-06-16T10:31:34.262Z"
   },
   {
    "duration": 9,
    "start_time": "2021-06-16T10:31:34.738Z"
   },
   {
    "duration": 16,
    "start_time": "2021-06-16T10:31:34.749Z"
   },
   {
    "duration": 12,
    "start_time": "2021-06-16T10:31:34.767Z"
   },
   {
    "duration": 556,
    "start_time": "2021-06-16T10:31:34.781Z"
   },
   {
    "duration": 398,
    "start_time": "2021-06-16T10:31:35.339Z"
   },
   {
    "duration": 9,
    "start_time": "2021-06-16T10:31:35.739Z"
   },
   {
    "duration": 18,
    "start_time": "2021-06-16T10:31:35.751Z"
   },
   {
    "duration": 7,
    "start_time": "2021-06-16T10:31:35.771Z"
   },
   {
    "duration": 554,
    "start_time": "2021-06-16T10:31:35.780Z"
   },
   {
    "duration": 405,
    "start_time": "2021-06-16T10:31:36.340Z"
   },
   {
    "duration": 9,
    "start_time": "2021-06-16T10:31:36.748Z"
   },
   {
    "duration": 16,
    "start_time": "2021-06-16T10:31:36.760Z"
   },
   {
    "duration": 6,
    "start_time": "2021-06-16T10:31:36.779Z"
   },
   {
    "duration": 588,
    "start_time": "2021-06-16T10:31:36.787Z"
   },
   {
    "duration": 420,
    "start_time": "2021-06-16T10:31:37.377Z"
   },
   {
    "duration": 8,
    "start_time": "2021-06-16T10:31:37.799Z"
   },
   {
    "duration": 16,
    "start_time": "2021-06-16T10:31:37.823Z"
   },
   {
    "duration": 7,
    "start_time": "2021-06-16T10:31:37.842Z"
   },
   {
    "duration": 639,
    "start_time": "2021-06-16T10:31:37.851Z"
   },
   {
    "duration": 409,
    "start_time": "2021-06-16T10:31:38.492Z"
   },
   {
    "duration": 24,
    "start_time": "2021-06-16T10:31:38.904Z"
   },
   {
    "duration": 17,
    "start_time": "2021-06-16T10:31:38.930Z"
   },
   {
    "duration": 10,
    "start_time": "2021-06-16T10:31:38.950Z"
   },
   {
    "duration": 565,
    "start_time": "2021-06-16T10:31:38.962Z"
   },
   {
    "duration": 387,
    "start_time": "2021-06-16T10:31:39.530Z"
   },
   {
    "duration": 10,
    "start_time": "2021-06-16T10:31:39.919Z"
   },
   {
    "duration": 14,
    "start_time": "2021-06-16T10:31:39.931Z"
   },
   {
    "duration": 7,
    "start_time": "2021-06-16T10:31:39.947Z"
   },
   {
    "duration": 560,
    "start_time": "2021-06-16T10:31:39.956Z"
   },
   {
    "duration": 411,
    "start_time": "2021-06-16T10:31:40.523Z"
   },
   {
    "duration": 9,
    "start_time": "2021-06-16T10:31:40.936Z"
   },
   {
    "duration": 14,
    "start_time": "2021-06-16T10:31:40.948Z"
   },
   {
    "duration": 12,
    "start_time": "2021-06-16T10:31:40.964Z"
   },
   {
    "duration": 5,
    "start_time": "2021-06-16T10:31:40.979Z"
   },
   {
    "duration": 42,
    "start_time": "2021-06-16T10:31:40.986Z"
   },
   {
    "duration": 31,
    "start_time": "2021-06-16T10:31:41.030Z"
   },
   {
    "duration": 19,
    "start_time": "2021-06-16T10:31:41.064Z"
   },
   {
    "duration": 659,
    "start_time": "2021-06-16T10:31:41.085Z"
   },
   {
    "duration": 254,
    "start_time": "2021-06-16T10:31:41.747Z"
   },
   {
    "duration": 21,
    "start_time": "2021-06-16T10:31:42.004Z"
   },
   {
    "duration": 11,
    "start_time": "2021-06-16T10:31:42.028Z"
   },
   {
    "duration": 16,
    "start_time": "2021-06-16T10:31:42.042Z"
   },
   {
    "duration": 13,
    "start_time": "2021-06-16T10:31:42.061Z"
   },
   {
    "duration": 54,
    "start_time": "2021-06-16T10:31:42.077Z"
   },
   {
    "duration": 10,
    "start_time": "2021-06-16T10:31:42.134Z"
   },
   {
    "duration": 10,
    "start_time": "2021-06-16T10:31:42.147Z"
   },
   {
    "duration": 8,
    "start_time": "2021-06-16T10:31:42.160Z"
   },
   {
    "duration": 78,
    "start_time": "2021-06-16T10:31:42.171Z"
   },
   {
    "duration": 19,
    "start_time": "2021-06-16T10:31:42.252Z"
   },
   {
    "duration": 11,
    "start_time": "2021-06-16T10:32:55.290Z"
   },
   {
    "duration": 19,
    "start_time": "2021-06-16T10:32:56.170Z"
   },
   {
    "duration": 10,
    "start_time": "2021-06-16T10:33:17.643Z"
   },
   {
    "duration": 9,
    "start_time": "2021-06-16T10:34:10.874Z"
   },
   {
    "duration": 8,
    "start_time": "2021-06-16T10:34:35.795Z"
   },
   {
    "duration": 8,
    "start_time": "2021-06-16T10:34:37.044Z"
   },
   {
    "duration": 14,
    "start_time": "2021-06-16T10:35:04.320Z"
   },
   {
    "duration": 32,
    "start_time": "2021-06-16T10:35:05.437Z"
   },
   {
    "duration": 14,
    "start_time": "2021-06-16T10:36:06.187Z"
   },
   {
    "duration": 30,
    "start_time": "2021-06-16T10:36:06.737Z"
   },
   {
    "duration": 10,
    "start_time": "2021-06-16T10:36:25.020Z"
   },
   {
    "duration": 18,
    "start_time": "2021-06-16T10:36:25.891Z"
   },
   {
    "duration": 11,
    "start_time": "2021-06-16T10:36:28.807Z"
   },
   {
    "duration": 11,
    "start_time": "2021-06-16T10:37:07.185Z"
   },
   {
    "duration": 372,
    "start_time": "2021-06-16T10:42:21.833Z"
   },
   {
    "duration": 6,
    "start_time": "2021-06-16T10:44:01.053Z"
   },
   {
    "duration": 5,
    "start_time": "2021-06-16T10:44:11.767Z"
   },
   {
    "duration": 9,
    "start_time": "2021-06-16T10:45:25.368Z"
   },
   {
    "duration": 8,
    "start_time": "2021-06-16T10:45:39.345Z"
   },
   {
    "duration": 31,
    "start_time": "2021-06-16T10:45:45.511Z"
   },
   {
    "duration": 10,
    "start_time": "2021-06-16T10:46:01.050Z"
   },
   {
    "duration": 16,
    "start_time": "2021-06-16T10:46:02.603Z"
   },
   {
    "duration": 8,
    "start_time": "2021-06-16T10:46:07.161Z"
   },
   {
    "duration": 6,
    "start_time": "2021-06-16T10:46:13.170Z"
   },
   {
    "duration": 30,
    "start_time": "2021-06-16T10:46:14.845Z"
   },
   {
    "duration": 16,
    "start_time": "2021-06-16T10:46:16.300Z"
   },
   {
    "duration": 6,
    "start_time": "2021-06-16T10:55:41.940Z"
   },
   {
    "duration": 42,
    "start_time": "2021-06-16T10:55:42.502Z"
   },
   {
    "duration": 5,
    "start_time": "2021-06-16T10:56:18.436Z"
   },
   {
    "duration": 16,
    "start_time": "2021-06-16T10:56:18.959Z"
   },
   {
    "duration": 10,
    "start_time": "2021-06-16T10:56:22.951Z"
   },
   {
    "duration": 14,
    "start_time": "2021-06-16T10:57:07.381Z"
   },
   {
    "duration": 19,
    "start_time": "2021-06-16T10:57:08.403Z"
   },
   {
    "duration": 9,
    "start_time": "2021-06-16T10:57:09.865Z"
   },
   {
    "duration": 6,
    "start_time": "2021-06-16T10:57:11.265Z"
   },
   {
    "duration": 17,
    "start_time": "2021-06-16T10:57:14.611Z"
   },
   {
    "duration": 11,
    "start_time": "2021-06-16T10:57:17.476Z"
   },
   {
    "duration": 6,
    "start_time": "2021-06-16T11:00:37.807Z"
   },
   {
    "duration": 18,
    "start_time": "2021-06-16T11:00:47.736Z"
   },
   {
    "duration": 12,
    "start_time": "2021-06-16T11:01:05.255Z"
   },
   {
    "duration": 10,
    "start_time": "2021-06-16T11:06:57.999Z"
   },
   {
    "duration": 11,
    "start_time": "2021-06-16T11:07:08.079Z"
   },
   {
    "duration": 10,
    "start_time": "2021-06-16T11:11:13.640Z"
   },
   {
    "duration": 10,
    "start_time": "2021-06-16T11:11:37.672Z"
   },
   {
    "duration": 9,
    "start_time": "2021-06-16T11:22:46.546Z"
   },
   {
    "duration": 13,
    "start_time": "2021-06-16T11:22:53.036Z"
   },
   {
    "duration": 9,
    "start_time": "2021-06-16T11:24:04.955Z"
   },
   {
    "duration": 13,
    "start_time": "2021-06-16T11:24:05.328Z"
   },
   {
    "duration": 13,
    "start_time": "2021-06-16T11:24:20.700Z"
   },
   {
    "duration": 21,
    "start_time": "2021-06-16T11:24:25.260Z"
   },
   {
    "duration": 14,
    "start_time": "2021-06-16T11:25:33.956Z"
   },
   {
    "duration": 20,
    "start_time": "2021-06-16T11:26:30.645Z"
   },
   {
    "duration": 15,
    "start_time": "2021-06-16T11:27:36.004Z"
   },
   {
    "duration": 11,
    "start_time": "2021-06-16T11:27:57.765Z"
   },
   {
    "duration": 16,
    "start_time": "2021-06-16T11:28:03.997Z"
   },
   {
    "duration": 11,
    "start_time": "2021-06-16T11:28:04.488Z"
   },
   {
    "duration": 11,
    "start_time": "2021-06-16T11:28:04.924Z"
   },
   {
    "duration": 19,
    "start_time": "2021-06-16T11:33:34.079Z"
   },
   {
    "duration": 16,
    "start_time": "2021-06-16T11:33:48.347Z"
   },
   {
    "duration": 12,
    "start_time": "2021-06-16T11:34:28.906Z"
   },
   {
    "duration": 11,
    "start_time": "2021-06-16T11:34:29.425Z"
   },
   {
    "duration": 7,
    "start_time": "2021-06-16T11:37:54.722Z"
   },
   {
    "duration": 21,
    "start_time": "2021-06-16T11:40:50.004Z"
   },
   {
    "duration": 11,
    "start_time": "2021-06-16T11:40:50.439Z"
   },
   {
    "duration": 11,
    "start_time": "2021-06-16T11:40:51.475Z"
   },
   {
    "duration": 12,
    "start_time": "2021-06-16T11:40:52.190Z"
   },
   {
    "duration": 11,
    "start_time": "2021-06-16T11:41:41.103Z"
   },
   {
    "duration": 11,
    "start_time": "2021-06-16T11:42:08.023Z"
   },
   {
    "duration": 11,
    "start_time": "2021-06-16T11:42:41.774Z"
   },
   {
    "duration": 11,
    "start_time": "2021-06-16T11:42:42.402Z"
   },
   {
    "duration": 11,
    "start_time": "2021-06-16T11:42:43.043Z"
   },
   {
    "duration": 7,
    "start_time": "2021-06-16T11:54:38.076Z"
   },
   {
    "duration": 6,
    "start_time": "2021-06-16T11:55:54.281Z"
   },
   {
    "duration": 346,
    "start_time": "2021-06-16T11:57:01.299Z"
   },
   {
    "duration": 576,
    "start_time": "2021-06-16T11:57:32.969Z"
   },
   {
    "duration": 6707,
    "start_time": "2021-06-16T12:00:49.992Z"
   },
   {
    "duration": 16,
    "start_time": "2021-06-16T12:02:21.549Z"
   },
   {
    "duration": 20,
    "start_time": "2021-06-16T12:02:22.653Z"
   },
   {
    "duration": 7,
    "start_time": "2021-06-16T12:02:29.202Z"
   },
   {
    "duration": 6,
    "start_time": "2021-06-16T12:03:09.038Z"
   },
   {
    "duration": 8,
    "start_time": "2021-06-16T12:04:07.640Z"
   },
   {
    "duration": 1041,
    "start_time": "2021-06-16T12:05:53.588Z"
   },
   {
    "duration": 3,
    "start_time": "2021-06-16T12:05:54.632Z"
   },
   {
    "duration": 43,
    "start_time": "2021-06-16T12:05:54.638Z"
   },
   {
    "duration": 20,
    "start_time": "2021-06-16T12:05:54.684Z"
   },
   {
    "duration": 26,
    "start_time": "2021-06-16T12:05:54.706Z"
   },
   {
    "duration": 18,
    "start_time": "2021-06-16T12:05:54.734Z"
   },
   {
    "duration": 34,
    "start_time": "2021-06-16T12:05:54.754Z"
   },
   {
    "duration": 587,
    "start_time": "2021-06-16T12:05:54.792Z"
   },
   {
    "duration": 11,
    "start_time": "2021-06-16T12:05:55.382Z"
   },
   {
    "duration": 31,
    "start_time": "2021-06-16T12:05:55.395Z"
   },
   {
    "duration": 16,
    "start_time": "2021-06-16T12:05:55.428Z"
   },
   {
    "duration": 530,
    "start_time": "2021-06-16T12:05:55.447Z"
   },
   {
    "duration": 473,
    "start_time": "2021-06-16T12:05:55.980Z"
   },
   {
    "duration": 9,
    "start_time": "2021-06-16T12:05:56.456Z"
   },
   {
    "duration": 20,
    "start_time": "2021-06-16T12:05:56.467Z"
   },
   {
    "duration": 9,
    "start_time": "2021-06-16T12:05:56.489Z"
   },
   {
    "duration": 521,
    "start_time": "2021-06-16T12:05:56.523Z"
   },
   {
    "duration": 397,
    "start_time": "2021-06-16T12:05:57.046Z"
   },
   {
    "duration": 9,
    "start_time": "2021-06-16T12:05:57.446Z"
   },
   {
    "duration": 18,
    "start_time": "2021-06-16T12:05:57.457Z"
   },
   {
    "duration": 9,
    "start_time": "2021-06-16T12:05:57.477Z"
   },
   {
    "duration": 565,
    "start_time": "2021-06-16T12:05:57.489Z"
   },
   {
    "duration": 408,
    "start_time": "2021-06-16T12:05:58.059Z"
   },
   {
    "duration": 9,
    "start_time": "2021-06-16T12:05:58.471Z"
   },
   {
    "duration": 19,
    "start_time": "2021-06-16T12:05:58.482Z"
   },
   {
    "duration": 25,
    "start_time": "2021-06-16T12:05:58.503Z"
   },
   {
    "duration": 569,
    "start_time": "2021-06-16T12:05:58.530Z"
   },
   {
    "duration": 428,
    "start_time": "2021-06-16T12:05:59.102Z"
   },
   {
    "duration": 9,
    "start_time": "2021-06-16T12:05:59.532Z"
   },
   {
    "duration": 15,
    "start_time": "2021-06-16T12:05:59.543Z"
   },
   {
    "duration": 22,
    "start_time": "2021-06-16T12:05:59.561Z"
   },
   {
    "duration": 789,
    "start_time": "2021-06-16T12:05:59.586Z"
   },
   {
    "duration": 410,
    "start_time": "2021-06-16T12:06:00.377Z"
   },
   {
    "duration": 9,
    "start_time": "2021-06-16T12:06:00.790Z"
   },
   {
    "duration": 29,
    "start_time": "2021-06-16T12:06:00.801Z"
   },
   {
    "duration": 10,
    "start_time": "2021-06-16T12:06:00.833Z"
   },
   {
    "duration": 612,
    "start_time": "2021-06-16T12:06:00.845Z"
   },
   {
    "duration": 410,
    "start_time": "2021-06-16T12:06:01.460Z"
   },
   {
    "duration": 8,
    "start_time": "2021-06-16T12:06:01.873Z"
   },
   {
    "duration": 39,
    "start_time": "2021-06-16T12:06:01.883Z"
   },
   {
    "duration": 23,
    "start_time": "2021-06-16T12:06:01.924Z"
   },
   {
    "duration": 542,
    "start_time": "2021-06-16T12:06:01.949Z"
   },
   {
    "duration": 588,
    "start_time": "2021-06-16T12:06:02.494Z"
   },
   {
    "duration": 12,
    "start_time": "2021-06-16T12:06:03.085Z"
   },
   {
    "duration": 30,
    "start_time": "2021-06-16T12:06:03.100Z"
   },
   {
    "duration": 22,
    "start_time": "2021-06-16T12:06:03.133Z"
   },
   {
    "duration": 12,
    "start_time": "2021-06-16T12:06:03.158Z"
   },
   {
    "duration": 32,
    "start_time": "2021-06-16T12:06:03.174Z"
   },
   {
    "duration": 34,
    "start_time": "2021-06-16T12:06:03.210Z"
   },
   {
    "duration": 16,
    "start_time": "2021-06-16T12:06:03.247Z"
   },
   {
    "duration": 638,
    "start_time": "2021-06-16T12:06:03.265Z"
   },
   {
    "duration": 256,
    "start_time": "2021-06-16T12:06:03.905Z"
   },
   {
    "duration": 7,
    "start_time": "2021-06-16T12:06:04.163Z"
   },
   {
    "duration": 9,
    "start_time": "2021-06-16T12:06:04.172Z"
   },
   {
    "duration": 9,
    "start_time": "2021-06-16T12:06:04.183Z"
   },
   {
    "duration": 8,
    "start_time": "2021-06-16T12:06:04.225Z"
   },
   {
    "duration": 13,
    "start_time": "2021-06-16T12:06:04.235Z"
   },
   {
    "duration": 6,
    "start_time": "2021-06-16T12:06:04.251Z"
   },
   {
    "duration": 7,
    "start_time": "2021-06-16T12:06:04.260Z"
   },
   {
    "duration": 55,
    "start_time": "2021-06-16T12:06:04.270Z"
   },
   {
    "duration": 12,
    "start_time": "2021-06-16T12:06:04.327Z"
   },
   {
    "duration": 32,
    "start_time": "2021-06-16T12:06:04.341Z"
   },
   {
    "duration": 49,
    "start_time": "2021-06-16T12:06:04.375Z"
   },
   {
    "duration": 23,
    "start_time": "2021-06-16T12:06:04.427Z"
   },
   {
    "duration": 7,
    "start_time": "2021-06-16T12:06:04.453Z"
   },
   {
    "duration": 20,
    "start_time": "2021-06-16T12:06:04.463Z"
   },
   {
    "duration": 52,
    "start_time": "2021-06-16T12:06:04.486Z"
   },
   {
    "duration": 5,
    "start_time": "2021-06-16T12:06:04.546Z"
   },
   {
    "duration": 25,
    "start_time": "2021-06-16T12:06:04.554Z"
   },
   {
    "duration": 22,
    "start_time": "2021-06-16T12:06:04.581Z"
   },
   {
    "duration": 10,
    "start_time": "2021-06-16T12:06:04.624Z"
   },
   {
    "duration": 16,
    "start_time": "2021-06-16T12:06:04.636Z"
   },
   {
    "duration": 13,
    "start_time": "2021-06-16T12:06:04.654Z"
   },
   {
    "duration": 15,
    "start_time": "2021-06-16T12:06:04.669Z"
   },
   {
    "duration": 50,
    "start_time": "2021-06-16T12:06:04.687Z"
   },
   {
    "duration": 10,
    "start_time": "2021-06-16T12:06:04.739Z"
   },
   {
    "duration": 19,
    "start_time": "2021-06-16T12:06:04.752Z"
   },
   {
    "duration": 18,
    "start_time": "2021-06-16T12:06:04.774Z"
   },
   {
    "duration": 53,
    "start_time": "2021-06-16T12:06:04.795Z"
   },
   {
    "duration": 10,
    "start_time": "2021-06-16T12:06:04.850Z"
   },
   {
    "duration": 21,
    "start_time": "2021-06-16T12:06:04.863Z"
   },
   {
    "duration": 17,
    "start_time": "2021-06-16T12:06:04.887Z"
   },
   {
    "duration": 19,
    "start_time": "2021-06-16T12:06:04.925Z"
   },
   {
    "duration": 11,
    "start_time": "2021-06-16T12:06:04.946Z"
   },
   {
    "duration": 18,
    "start_time": "2021-06-16T12:06:04.960Z"
   },
   {
    "duration": 44,
    "start_time": "2021-06-16T12:06:04.980Z"
   },
   {
    "duration": 5,
    "start_time": "2021-06-16T12:06:05.027Z"
   },
   {
    "duration": 567,
    "start_time": "2021-06-16T12:06:05.034Z"
   },
   {
    "duration": 5,
    "start_time": "2021-06-16T12:06:05.604Z"
   },
   {
    "duration": 18,
    "start_time": "2021-06-16T12:06:05.611Z"
   },
   {
    "duration": 10,
    "start_time": "2021-06-16T12:06:05.631Z"
   },
   {
    "duration": 932,
    "start_time": "2021-06-16T12:10:19.615Z"
   },
   {
    "duration": 3,
    "start_time": "2021-06-16T12:10:20.550Z"
   },
   {
    "duration": 35,
    "start_time": "2021-06-16T12:10:20.556Z"
   },
   {
    "duration": 34,
    "start_time": "2021-06-16T12:10:20.594Z"
   },
   {
    "duration": 10,
    "start_time": "2021-06-16T12:10:20.630Z"
   },
   {
    "duration": 11,
    "start_time": "2021-06-16T12:10:20.643Z"
   },
   {
    "duration": 39,
    "start_time": "2021-06-16T12:10:20.656Z"
   },
   {
    "duration": 583,
    "start_time": "2021-06-16T12:10:20.698Z"
   },
   {
    "duration": 12,
    "start_time": "2021-06-16T12:10:21.284Z"
   },
   {
    "duration": 33,
    "start_time": "2021-06-16T12:10:21.298Z"
   },
   {
    "duration": 19,
    "start_time": "2021-06-16T12:10:21.333Z"
   },
   {
    "duration": 543,
    "start_time": "2021-06-16T12:10:21.355Z"
   },
   {
    "duration": 487,
    "start_time": "2021-06-16T12:10:21.901Z"
   },
   {
    "duration": 10,
    "start_time": "2021-06-16T12:10:22.390Z"
   },
   {
    "duration": 29,
    "start_time": "2021-06-16T12:10:22.403Z"
   },
   {
    "duration": 23,
    "start_time": "2021-06-16T12:10:22.434Z"
   },
   {
    "duration": 564,
    "start_time": "2021-06-16T12:10:22.460Z"
   },
   {
    "duration": 406,
    "start_time": "2021-06-16T12:10:23.026Z"
   },
   {
    "duration": 11,
    "start_time": "2021-06-16T12:10:23.435Z"
   },
   {
    "duration": 30,
    "start_time": "2021-06-16T12:10:23.448Z"
   },
   {
    "duration": 27,
    "start_time": "2021-06-16T12:10:23.481Z"
   },
   {
    "duration": 524,
    "start_time": "2021-06-16T12:10:23.510Z"
   },
   {
    "duration": 401,
    "start_time": "2021-06-16T12:10:24.041Z"
   },
   {
    "duration": 9,
    "start_time": "2021-06-16T12:10:24.445Z"
   },
   {
    "duration": 25,
    "start_time": "2021-06-16T12:10:24.456Z"
   },
   {
    "duration": 14,
    "start_time": "2021-06-16T12:10:24.483Z"
   },
   {
    "duration": 547,
    "start_time": "2021-06-16T12:10:24.499Z"
   },
   {
    "duration": 490,
    "start_time": "2021-06-16T12:10:25.049Z"
   },
   {
    "duration": 14,
    "start_time": "2021-06-16T12:10:25.542Z"
   },
   {
    "duration": 23,
    "start_time": "2021-06-16T12:10:25.559Z"
   },
   {
    "duration": 20,
    "start_time": "2021-06-16T12:10:25.585Z"
   },
   {
    "duration": 655,
    "start_time": "2021-06-16T12:10:25.608Z"
   },
   {
    "duration": 418,
    "start_time": "2021-06-16T12:10:26.266Z"
   },
   {
    "duration": 9,
    "start_time": "2021-06-16T12:10:26.686Z"
   },
   {
    "duration": 29,
    "start_time": "2021-06-16T12:10:26.697Z"
   },
   {
    "duration": 6,
    "start_time": "2021-06-16T12:10:26.729Z"
   },
   {
    "duration": 589,
    "start_time": "2021-06-16T12:10:26.737Z"
   },
   {
    "duration": 420,
    "start_time": "2021-06-16T12:10:27.329Z"
   },
   {
    "duration": 9,
    "start_time": "2021-06-16T12:10:27.751Z"
   },
   {
    "duration": 20,
    "start_time": "2021-06-16T12:10:27.763Z"
   },
   {
    "duration": 40,
    "start_time": "2021-06-16T12:10:27.786Z"
   },
   {
    "duration": 572,
    "start_time": "2021-06-16T12:10:27.828Z"
   },
   {
    "duration": 433,
    "start_time": "2021-06-16T12:10:28.402Z"
   },
   {
    "duration": 10,
    "start_time": "2021-06-16T12:10:28.838Z"
   },
   {
    "duration": 23,
    "start_time": "2021-06-16T12:10:28.851Z"
   },
   {
    "duration": 24,
    "start_time": "2021-06-16T12:10:28.877Z"
   },
   {
    "duration": 22,
    "start_time": "2021-06-16T12:10:28.905Z"
   },
   {
    "duration": 12,
    "start_time": "2021-06-16T12:10:28.929Z"
   },
   {
    "duration": 39,
    "start_time": "2021-06-16T12:10:28.944Z"
   },
   {
    "duration": 38,
    "start_time": "2021-06-16T12:10:28.986Z"
   },
   {
    "duration": 669,
    "start_time": "2021-06-16T12:10:29.026Z"
   },
   {
    "duration": 249,
    "start_time": "2021-06-16T12:10:29.698Z"
   },
   {
    "duration": 7,
    "start_time": "2021-06-16T12:10:29.949Z"
   },
   {
    "duration": 14,
    "start_time": "2021-06-16T12:10:29.958Z"
   },
   {
    "duration": 12,
    "start_time": "2021-06-16T12:10:29.974Z"
   },
   {
    "duration": 35,
    "start_time": "2021-06-16T12:10:29.989Z"
   },
   {
    "duration": 14,
    "start_time": "2021-06-16T12:10:30.027Z"
   },
   {
    "duration": 15,
    "start_time": "2021-06-16T12:10:30.043Z"
   },
   {
    "duration": 14,
    "start_time": "2021-06-16T12:10:30.061Z"
   },
   {
    "duration": 27,
    "start_time": "2021-06-16T12:10:30.077Z"
   },
   {
    "duration": 13,
    "start_time": "2021-06-16T12:10:30.106Z"
   },
   {
    "duration": 45,
    "start_time": "2021-06-16T12:10:30.122Z"
   },
   {
    "duration": 19,
    "start_time": "2021-06-16T12:10:30.169Z"
   },
   {
    "duration": 29,
    "start_time": "2021-06-16T12:10:30.190Z"
   },
   {
    "duration": 14,
    "start_time": "2021-06-16T12:10:30.222Z"
   },
   {
    "duration": 33,
    "start_time": "2021-06-16T12:10:30.238Z"
   },
   {
    "duration": 30,
    "start_time": "2021-06-16T12:10:30.273Z"
   },
   {
    "duration": 17,
    "start_time": "2021-06-16T12:10:30.311Z"
   },
   {
    "duration": 39,
    "start_time": "2021-06-16T12:10:30.331Z"
   },
   {
    "duration": 26,
    "start_time": "2021-06-16T12:10:30.373Z"
   },
   {
    "duration": 31,
    "start_time": "2021-06-16T12:10:30.402Z"
   },
   {
    "duration": 28,
    "start_time": "2021-06-16T12:10:30.436Z"
   },
   {
    "duration": 36,
    "start_time": "2021-06-16T12:10:30.466Z"
   },
   {
    "duration": 30,
    "start_time": "2021-06-16T12:10:30.504Z"
   },
   {
    "duration": 47,
    "start_time": "2021-06-16T12:10:30.536Z"
   },
   {
    "duration": 31,
    "start_time": "2021-06-16T12:10:30.586Z"
   },
   {
    "duration": 50,
    "start_time": "2021-06-16T12:10:30.620Z"
   },
   {
    "duration": 29,
    "start_time": "2021-06-16T12:10:30.672Z"
   },
   {
    "duration": 45,
    "start_time": "2021-06-16T12:10:30.703Z"
   },
   {
    "duration": 20,
    "start_time": "2021-06-16T12:10:30.750Z"
   },
   {
    "duration": 23,
    "start_time": "2021-06-16T12:10:30.772Z"
   },
   {
    "duration": 24,
    "start_time": "2021-06-16T12:10:30.798Z"
   },
   {
    "duration": 68,
    "start_time": "2021-06-16T12:10:30.825Z"
   },
   {
    "duration": 11,
    "start_time": "2021-06-16T12:10:30.896Z"
   },
   {
    "duration": 26,
    "start_time": "2021-06-16T12:10:30.910Z"
   },
   {
    "duration": 44,
    "start_time": "2021-06-16T12:10:30.939Z"
   },
   {
    "duration": 16,
    "start_time": "2021-06-16T12:10:30.986Z"
   },
   {
    "duration": 732,
    "start_time": "2021-06-16T12:10:31.006Z"
   },
   {
    "duration": 7,
    "start_time": "2021-06-16T12:10:31.741Z"
   },
   {
    "duration": 11,
    "start_time": "2021-06-16T12:10:31.751Z"
   },
   {
    "duration": 10,
    "start_time": "2021-06-16T12:10:31.764Z"
   },
   {
    "duration": 1030,
    "start_time": "2022-02-16T09:31:17.347Z"
   },
   {
    "duration": 5,
    "start_time": "2022-02-16T09:31:18.381Z"
   },
   {
    "duration": 29,
    "start_time": "2022-02-16T09:31:18.390Z"
   },
   {
    "duration": 58,
    "start_time": "2022-02-16T09:31:18.423Z"
   },
   {
    "duration": 14,
    "start_time": "2022-02-16T09:31:18.484Z"
   },
   {
    "duration": 9,
    "start_time": "2022-02-16T09:31:18.500Z"
   },
   {
    "duration": 68,
    "start_time": "2022-02-16T09:31:18.511Z"
   },
   {
    "duration": 631,
    "start_time": "2022-02-16T09:31:18.582Z"
   },
   {
    "duration": 16,
    "start_time": "2022-02-16T09:31:19.216Z"
   },
   {
    "duration": 12,
    "start_time": "2022-02-16T09:31:19.235Z"
   },
   {
    "duration": 27,
    "start_time": "2022-02-16T09:31:19.249Z"
   },
   {
    "duration": 545,
    "start_time": "2022-02-16T09:31:19.279Z"
   },
   {
    "duration": 489,
    "start_time": "2022-02-16T09:31:19.827Z"
   },
   {
    "duration": 10,
    "start_time": "2022-02-16T09:31:20.319Z"
   },
   {
    "duration": 39,
    "start_time": "2022-02-16T09:31:20.332Z"
   },
   {
    "duration": 7,
    "start_time": "2022-02-16T09:31:20.373Z"
   },
   {
    "duration": 561,
    "start_time": "2022-02-16T09:31:20.382Z"
   },
   {
    "duration": 426,
    "start_time": "2022-02-16T09:31:20.946Z"
   },
   {
    "duration": 11,
    "start_time": "2022-02-16T09:31:21.375Z"
   },
   {
    "duration": 16,
    "start_time": "2022-02-16T09:31:21.389Z"
   },
   {
    "duration": 9,
    "start_time": "2022-02-16T09:31:21.408Z"
   },
   {
    "duration": 542,
    "start_time": "2022-02-16T09:31:21.419Z"
   },
   {
    "duration": 400,
    "start_time": "2022-02-16T09:31:21.972Z"
   },
   {
    "duration": 9,
    "start_time": "2022-02-16T09:31:22.375Z"
   },
   {
    "duration": 17,
    "start_time": "2022-02-16T09:31:22.387Z"
   },
   {
    "duration": 7,
    "start_time": "2022-02-16T09:31:22.406Z"
   },
   {
    "duration": 581,
    "start_time": "2022-02-16T09:31:22.416Z"
   },
   {
    "duration": 422,
    "start_time": "2022-02-16T09:31:22.999Z"
   },
   {
    "duration": 9,
    "start_time": "2022-02-16T09:31:23.423Z"
   },
   {
    "duration": 17,
    "start_time": "2022-02-16T09:31:23.434Z"
   },
   {
    "duration": 9,
    "start_time": "2022-02-16T09:31:23.469Z"
   },
   {
    "duration": 646,
    "start_time": "2022-02-16T09:31:23.481Z"
   },
   {
    "duration": 413,
    "start_time": "2022-02-16T09:31:24.129Z"
   },
   {
    "duration": 9,
    "start_time": "2022-02-16T09:31:24.545Z"
   },
   {
    "duration": 39,
    "start_time": "2022-02-16T09:31:24.557Z"
   },
   {
    "duration": 11,
    "start_time": "2022-02-16T09:31:24.599Z"
   },
   {
    "duration": 557,
    "start_time": "2022-02-16T09:31:24.612Z"
   },
   {
    "duration": 418,
    "start_time": "2022-02-16T09:31:25.172Z"
   },
   {
    "duration": 8,
    "start_time": "2022-02-16T09:31:25.593Z"
   },
   {
    "duration": 15,
    "start_time": "2022-02-16T09:31:25.604Z"
   },
   {
    "duration": 7,
    "start_time": "2022-02-16T09:31:25.622Z"
   },
   {
    "duration": 586,
    "start_time": "2022-02-16T09:31:25.631Z"
   },
   {
    "duration": 439,
    "start_time": "2022-02-16T09:31:26.219Z"
   },
   {
    "duration": 13,
    "start_time": "2022-02-16T09:31:26.661Z"
   },
   {
    "duration": 20,
    "start_time": "2022-02-16T09:31:26.677Z"
   },
   {
    "duration": 18,
    "start_time": "2022-02-16T09:31:26.700Z"
   },
   {
    "duration": 6,
    "start_time": "2022-02-16T09:31:26.720Z"
   },
   {
    "duration": 9,
    "start_time": "2022-02-16T09:31:26.728Z"
   },
   {
    "duration": 54,
    "start_time": "2022-02-16T09:31:26.739Z"
   },
   {
    "duration": 10,
    "start_time": "2022-02-16T09:31:26.795Z"
   },
   {
    "duration": 774,
    "start_time": "2022-02-16T09:31:26.807Z"
   },
   {
    "duration": 244,
    "start_time": "2022-02-16T09:31:27.584Z"
   },
   {
    "duration": 7,
    "start_time": "2022-02-16T09:31:27.830Z"
   },
   {
    "duration": 9,
    "start_time": "2022-02-16T09:31:27.839Z"
   },
   {
    "duration": 8,
    "start_time": "2022-02-16T09:31:27.870Z"
   },
   {
    "duration": 14,
    "start_time": "2022-02-16T09:31:27.880Z"
   },
   {
    "duration": 20,
    "start_time": "2022-02-16T09:31:27.897Z"
   },
   {
    "duration": 6,
    "start_time": "2022-02-16T09:31:27.920Z"
   },
   {
    "duration": 9,
    "start_time": "2022-02-16T09:31:27.928Z"
   },
   {
    "duration": 38,
    "start_time": "2022-02-16T09:31:27.939Z"
   },
   {
    "duration": 9,
    "start_time": "2022-02-16T09:31:27.980Z"
   },
   {
    "duration": 38,
    "start_time": "2022-02-16T09:31:27.991Z"
   },
   {
    "duration": 44,
    "start_time": "2022-02-16T09:31:28.031Z"
   },
   {
    "duration": 21,
    "start_time": "2022-02-16T09:31:28.077Z"
   },
   {
    "duration": 10,
    "start_time": "2022-02-16T09:31:28.101Z"
   },
   {
    "duration": 18,
    "start_time": "2022-02-16T09:31:28.113Z"
   },
   {
    "duration": 42,
    "start_time": "2022-02-16T09:31:28.133Z"
   },
   {
    "duration": 6,
    "start_time": "2022-02-16T09:31:28.183Z"
   },
   {
    "duration": 20,
    "start_time": "2022-02-16T09:31:28.191Z"
   },
   {
    "duration": 10,
    "start_time": "2022-02-16T09:31:28.214Z"
   },
   {
    "duration": 50,
    "start_time": "2022-02-16T09:31:28.226Z"
   },
   {
    "duration": 13,
    "start_time": "2022-02-16T09:31:28.278Z"
   },
   {
    "duration": 9,
    "start_time": "2022-02-16T09:31:28.293Z"
   },
   {
    "duration": 11,
    "start_time": "2022-02-16T09:31:28.305Z"
   },
   {
    "duration": 51,
    "start_time": "2022-02-16T09:31:28.318Z"
   },
   {
    "duration": 11,
    "start_time": "2022-02-16T09:31:28.372Z"
   },
   {
    "duration": 16,
    "start_time": "2022-02-16T09:31:28.385Z"
   },
   {
    "duration": 15,
    "start_time": "2022-02-16T09:31:28.404Z"
   },
   {
    "duration": 53,
    "start_time": "2022-02-16T09:31:28.422Z"
   },
   {
    "duration": 12,
    "start_time": "2022-02-16T09:31:28.477Z"
   },
   {
    "duration": 11,
    "start_time": "2022-02-16T09:31:28.491Z"
   },
   {
    "duration": 11,
    "start_time": "2022-02-16T09:31:28.504Z"
   },
   {
    "duration": 67,
    "start_time": "2022-02-16T09:31:28.517Z"
   },
   {
    "duration": 11,
    "start_time": "2022-02-16T09:31:28.586Z"
   },
   {
    "duration": 16,
    "start_time": "2022-02-16T09:31:28.599Z"
   },
   {
    "duration": 11,
    "start_time": "2022-02-16T09:31:28.618Z"
   },
   {
    "duration": 5,
    "start_time": "2022-02-16T09:31:28.670Z"
   },
   {
    "duration": 518,
    "start_time": "2022-02-16T09:31:28.677Z"
   },
   {
    "duration": 6,
    "start_time": "2022-02-16T09:31:29.197Z"
   },
   {
    "duration": 9,
    "start_time": "2022-02-16T09:31:29.205Z"
   },
   {
    "duration": 9,
    "start_time": "2022-02-16T09:31:29.216Z"
   }
  ],
  "kernelspec": {
   "display_name": "Python 3",
   "language": "python",
   "name": "python3"
  },
  "language_info": {
   "codemirror_mode": {
    "name": "ipython",
    "version": 3
   },
   "file_extension": ".py",
   "mimetype": "text/x-python",
   "name": "python",
   "nbconvert_exporter": "python",
   "pygments_lexer": "ipython3",
   "version": "3.7.8"
  },
  "toc": {
   "base_numbering": 1,
   "nav_menu": {},
   "number_sections": true,
   "sideBar": true,
   "skip_h1_title": true,
   "title_cell": "Table of Contents",
   "title_sidebar": "Contents",
   "toc_cell": false,
   "toc_position": {},
   "toc_section_display": true,
   "toc_window_display": true
  }
 },
 "nbformat": 4,
 "nbformat_minor": 2
}
